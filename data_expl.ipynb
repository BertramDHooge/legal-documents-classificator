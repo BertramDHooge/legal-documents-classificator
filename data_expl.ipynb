{
 "cells": [
  {
   "cell_type": "code",
   "execution_count": 5,
   "metadata": {},
   "outputs": [],
   "source": [
    "import os\n",
    "import pandas as pd"
   ]
  },
  {
   "cell_type": "code",
   "execution_count": 6,
   "metadata": {},
   "outputs": [
    {
     "data": {
      "text/html": [
       "<div>\n",
       "<style scoped>\n",
       "    .dataframe tbody tr th:only-of-type {\n",
       "        vertical-align: middle;\n",
       "    }\n",
       "\n",
       "    .dataframe tbody tr th {\n",
       "        vertical-align: top;\n",
       "    }\n",
       "\n",
       "    .dataframe thead th {\n",
       "        text-align: right;\n",
       "    }\n",
       "</style>\n",
       "<table border=\"1\" class=\"dataframe\">\n",
       "  <thead>\n",
       "    <tr style=\"text-align: right;\">\n",
       "      <th></th>\n",
       "      <th>File</th>\n",
       "      <th>Translation</th>\n",
       "    </tr>\n",
       "  </thead>\n",
       "  <tbody>\n",
       "    <tr>\n",
       "      <th>0</th>\n",
       "      <td>2018014264.txt</td>\n",
       "      <td>Publication: 2020-04-07NUMAC: 2018014264Federa...</td>\n",
       "    </tr>\n",
       "    <tr>\n",
       "      <th>1</th>\n",
       "      <td>2019041722.txt</td>\n",
       "      <td>Publication: 2020-04-07NUMAC: 2018014264Federa...</td>\n",
       "    </tr>\n",
       "    <tr>\n",
       "      <th>2</th>\n",
       "      <td>2020010044.txt</td>\n",
       "      <td>Publication: 2020-01-16NUMAC: 2020010044444Fed...</td>\n",
       "    </tr>\n",
       "    <tr>\n",
       "      <th>3</th>\n",
       "      <td>2020010053.txt</td>\n",
       "      <td>Publication: 2020-01-14Numac: 2020010053brusse...</td>\n",
       "    </tr>\n",
       "    <tr>\n",
       "      <th>4</th>\n",
       "      <td>2020010193.txt</td>\n",
       "      <td>Publication: 2020-01-14Numac: 2020010053brusse...</td>\n",
       "    </tr>\n",
       "    <tr>\n",
       "      <th>5</th>\n",
       "      <td>2020010214.txt</td>\n",
       "      <td>Publication: 2020-01-24numac: 2020010214minist...</td>\n",
       "    </tr>\n",
       "    <tr>\n",
       "      <th>6</th>\n",
       "      <td>2020010369.txt</td>\n",
       "      <td>Publication: 2020-01-24numac: 2020010214minist...</td>\n",
       "    </tr>\n",
       "    <tr>\n",
       "      <th>7</th>\n",
       "      <td>2020010391.txt</td>\n",
       "      <td>Publication: 2020-01-24numac: 2020010214minist...</td>\n",
       "    </tr>\n",
       "    <tr>\n",
       "      <th>8</th>\n",
       "      <td>2020010392.txt</td>\n",
       "      <td>Publication: 2020-01-24numac: 2020010214minist...</td>\n",
       "    </tr>\n",
       "    <tr>\n",
       "      <th>9</th>\n",
       "      <td>2020010396.txt</td>\n",
       "      <td>Publication: 2020-01-24numac: 2020010214minist...</td>\n",
       "    </tr>\n",
       "    <tr>\n",
       "      <th>10</th>\n",
       "      <td>2020010397.txt</td>\n",
       "      <td>Publication: 2020-01-24numac: 2020010214minist...</td>\n",
       "    </tr>\n",
       "    <tr>\n",
       "      <th>11</th>\n",
       "      <td>2020010401.txt</td>\n",
       "      <td>Publication: 2020-01-24numac: 2020010214minist...</td>\n",
       "    </tr>\n",
       "    <tr>\n",
       "      <th>12</th>\n",
       "      <td>2020010402.txt</td>\n",
       "      <td>Publication: 2020-01-24numac: 2020010214minist...</td>\n",
       "    </tr>\n",
       "    <tr>\n",
       "      <th>13</th>\n",
       "      <td>2020010404.txt</td>\n",
       "      <td>Publication: 2020-06-15Numac: 2020010404Federa...</td>\n",
       "    </tr>\n",
       "    <tr>\n",
       "      <th>14</th>\n",
       "      <td>2020010406.txt</td>\n",
       "      <td>Publication: 2020-06-15Numac: 2020010404Federa...</td>\n",
       "    </tr>\n",
       "    <tr>\n",
       "      <th>15</th>\n",
       "      <td>2020010408.txt</td>\n",
       "      <td>Publication: 2020-06-15Numac: 2020010404Federa...</td>\n",
       "    </tr>\n",
       "    <tr>\n",
       "      <th>16</th>\n",
       "      <td>2020010410.txt</td>\n",
       "      <td>Publication: 2020-06-29Numac: 2020010410 Flemi...</td>\n",
       "    </tr>\n",
       "    <tr>\n",
       "      <th>17</th>\n",
       "      <td>2020010447.txt</td>\n",
       "      <td>Publication: 2020-06-29Numac: 2020010410 Flemi...</td>\n",
       "    </tr>\n",
       "    <tr>\n",
       "      <th>18</th>\n",
       "      <td>2020010460.txt</td>\n",
       "      <td>Publication: 2020-06-29Numac: 2020010410 Flemi...</td>\n",
       "    </tr>\n",
       "    <tr>\n",
       "      <th>19</th>\n",
       "      <td>2020015023.txt</td>\n",
       "      <td>Publication: 2020-06-29Numac: 2020010410 Flemi...</td>\n",
       "    </tr>\n",
       "  </tbody>\n",
       "</table>\n",
       "</div>"
      ],
      "text/plain": [
       "              File                                        Translation\n",
       "0   2018014264.txt  Publication: 2020-04-07NUMAC: 2018014264Federa...\n",
       "1   2019041722.txt  Publication: 2020-04-07NUMAC: 2018014264Federa...\n",
       "2   2020010044.txt  Publication: 2020-01-16NUMAC: 2020010044444Fed...\n",
       "3   2020010053.txt  Publication: 2020-01-14Numac: 2020010053brusse...\n",
       "4   2020010193.txt  Publication: 2020-01-14Numac: 2020010053brusse...\n",
       "5   2020010214.txt  Publication: 2020-01-24numac: 2020010214minist...\n",
       "6   2020010369.txt  Publication: 2020-01-24numac: 2020010214minist...\n",
       "7   2020010391.txt  Publication: 2020-01-24numac: 2020010214minist...\n",
       "8   2020010392.txt  Publication: 2020-01-24numac: 2020010214minist...\n",
       "9   2020010396.txt  Publication: 2020-01-24numac: 2020010214minist...\n",
       "10  2020010397.txt  Publication: 2020-01-24numac: 2020010214minist...\n",
       "11  2020010401.txt  Publication: 2020-01-24numac: 2020010214minist...\n",
       "12  2020010402.txt  Publication: 2020-01-24numac: 2020010214minist...\n",
       "13  2020010404.txt  Publication: 2020-06-15Numac: 2020010404Federa...\n",
       "14  2020010406.txt  Publication: 2020-06-15Numac: 2020010404Federa...\n",
       "15  2020010408.txt  Publication: 2020-06-15Numac: 2020010404Federa...\n",
       "16  2020010410.txt  Publication: 2020-06-29Numac: 2020010410 Flemi...\n",
       "17  2020010447.txt  Publication: 2020-06-29Numac: 2020010410 Flemi...\n",
       "18  2020010460.txt  Publication: 2020-06-29Numac: 2020010410 Flemi...\n",
       "19  2020015023.txt  Publication: 2020-06-29Numac: 2020010410 Flemi..."
      ]
     },
     "execution_count": 6,
     "metadata": {},
     "output_type": "execute_result"
    }
   ],
   "source": [
    "df = pd.read_csv('data/translated.csv')\n",
    "df.head(20)"
   ]
  },
  {
   "cell_type": "code",
   "execution_count": 11,
   "metadata": {},
   "outputs": [
    {
     "data": {
      "text/plain": [
       "(768, 2)"
      ]
     },
     "execution_count": 11,
     "metadata": {},
     "output_type": "execute_result"
    }
   ],
   "source": [
    "df.shape"
   ]
  },
  {
   "cell_type": "code",
   "execution_count": null,
   "metadata": {},
   "outputs": [],
   "source": [
    "directory = \"translations/\"\n",
    "\n",
    "for index, row in df.iterrows():\n",
    "    translation = row['Translation']\n",
    "    name = row['File']\n",
    "\n",
    "    with open(directory + name, 'w') as f:\n",
    "        f.write(translation)\n",
    "        print(name)\n",
    "    "
   ]
  }
 ],
 "metadata": {
  "interpreter": {
   "hash": "573c5f8e4a9de4a29cc2c43f44bd7d1acbfa6c8b3e00d78238142f0788ca6380"
  },
  "kernelspec": {
   "display_name": "Python 3.9.7 ('base')",
   "language": "python",
   "name": "python3"
  },
  "language_info": {
   "codemirror_mode": {
    "name": "ipython",
    "version": 3
   },
   "file_extension": ".py",
   "mimetype": "text/x-python",
   "name": "python",
   "nbconvert_exporter": "python",
   "pygments_lexer": "ipython3",
   "version": "3.9.7"
  },
  "orig_nbformat": 4
 },
 "nbformat": 4,
 "nbformat_minor": 2
}
