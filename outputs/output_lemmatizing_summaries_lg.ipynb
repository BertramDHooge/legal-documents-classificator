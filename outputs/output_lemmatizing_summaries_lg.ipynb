Topic 0: 
gemeenschappelijk gemeenschapscommissie college verenigd vlaams riziv toe_kennen tussentijds extra nieuw 

Topic 1: 
toegevoegde waarde gemeenschappelijkegemeenschapscommissie kamer bekrachtig belasting wij verdelen aan_nemen hetgeen 

Topic 2: 
fiscaliteit definitief overheidsdienst voorzitter gewestelijk brussel brussels directiecomitã algemeen besluit 

Topic 3: 
besluit regering maatregel wijziging ministerieel koninklijk coronavirus vlaams kader beperken 

Topic 4: 
zaken minister buitenlandse ministerie demissionair omzendbrief binnenlandse federaal personeel_lid sociale 

Topic 5: 
belgiã tussen situatie overeenkomst context akkoord verlengen grensar_beider autoriteit grensarbeider 

Topic 6: 
europese richtlijn belgisch verzorging geneeskundig unie verzekering verplichten koninklijk eu 

Topic 7: 
wetboek brussels inkomstenbelasting inzake belgisch belasting tekst staatsblad aanslagjaar duits 

Topic 8: 
brussels buitenlands gemeenschap hoofdstedelijk gewest paritair vlaamse zaken franse subcomitã 

Topic 9: 
gemeenschap franse procent kader bijzonder macht gezondhe_idscrisis decreet regering inzake 

