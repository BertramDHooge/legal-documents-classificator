{
 "cells": [
  {
   "cell_type": "code",
   "execution_count": 1,
   "metadata": {},
   "outputs": [
    {
     "name": "stderr",
     "output_type": "stream",
     "text": [
      "[nltk_data] Downloading package stopwords to\n",
      "[nltk_data]     C:\\Users\\Irina\\AppData\\Roaming\\nltk_data...\n",
      "[nltk_data]   Package stopwords is already up-to-date!\n",
      "[nltk_data] Downloading package punkt to\n",
      "[nltk_data]     C:\\Users\\Irina\\AppData\\Roaming\\nltk_data...\n",
      "[nltk_data]   Package punkt is already up-to-date!\n",
      "[nltk_data] Downloading package wordnet to\n",
      "[nltk_data]     C:\\Users\\Irina\\AppData\\Roaming\\nltk_data...\n",
      "[nltk_data]   Package wordnet is already up-to-date!\n",
      "[nltk_data] Downloading package omw-1.4 to\n",
      "[nltk_data]     C:\\Users\\Irina\\AppData\\Roaming\\nltk_data...\n",
      "[nltk_data]   Package omw-1.4 is already up-to-date!\n",
      "[nltk_data] Downloading package words to\n",
      "[nltk_data]     C:\\Users\\Irina\\AppData\\Roaming\\nltk_data...\n",
      "[nltk_data]   Package words is already up-to-date!\n"
     ]
    }
   ],
   "source": [
    "# data visualisation and manipulation\n",
    "import numpy as np\n",
    "import pandas as pd\n",
    "import matplotlib.pyplot as plt\n",
    "from matplotlib import style\n",
    "import seaborn as sns\n",
    "#configure\n",
    "# sets matplotlib to inline and displays graphs below the corressponding cell.\n",
    "%matplotlib inline  \n",
    "style.use('fivethirtyeight')\n",
    "sns.set(style='whitegrid',color_codes=True)\n",
    "\n",
    "#import nltk\n",
    "import nltk\n",
    "nltk.download(\"stopwords\")\n",
    "nltk.download('punkt')\n",
    "nltk.download('wordnet')\n",
    "nltk.download('omw-1.4')\n",
    "nltk.download('words')\n",
    "from nltk.corpus import stopwords\n",
    "from nltk.tokenize import word_tokenize,sent_tokenize\n",
    "\n",
    "#preprocessing\n",
    "from nltk.corpus import stopwords  #stopwords\n",
    "from nltk import word_tokenize,sent_tokenize # tokenizing\n",
    "from nltk.stem import PorterStemmer,LancasterStemmer  # using the Porter Stemmer and Lancaster Stemmer and others\n",
    "from nltk.stem.snowball import SnowballStemmer\n",
    "from nltk.stem import WordNetLemmatizer  # lammatizer from WordNet\n",
    "\n",
    "# for named entity recognition (NER)\n",
    "from nltk import ne_chunk\n",
    "\n",
    "# vectorizers for creating the document-term-matrix (DTM)\n",
    "from sklearn.feature_extraction.text import TfidfVectorizer,CountVectorizer\n",
    "\n",
    "#stop-words\n",
    "stop_words_nl=set(nltk.corpus.stopwords.words('dutch'))\n",
    "stop_words_en=set(nltk.corpus.stopwords.words('english'))\n"
   ]
  },
  {
   "cell_type": "code",
   "execution_count": 13,
   "metadata": {},
   "outputs": [
    {
     "name": "stdout",
     "output_type": "stream",
     "text": [
      "768\n",
      "De Wet tot wijziging van de Overeenkomst tussen het Koninkrijk België en de Staat Malta tot het vermijden van dubbele belasting en tot het voorkomen van het ontgaan van belasting, zoals gewijzigd door de Aanvullende Overeenkomst ondertekend te Brussel op 23 juni 1993, zal volkomengevolg hebben.\n"
     ]
    }
   ],
   "source": [
    "import os\n",
    "import re\n",
    "\n",
    "texts = []\n",
    "\n",
    "for file in os.listdir(\"Summarization/summaries_txt\"):\n",
    "        if re.match(r\"\\d*\\.txt\", file):\n",
    "            with open(f\"Summarization/summaries_txt/{file}\", 'r', encoding=\"latin-1\") as text:\n",
    "                texts.append(text.read())\n",
    "\n",
    "print(len(texts))\n",
    "print(texts[0])\n"
   ]
  },
  {
   "cell_type": "code",
   "execution_count": 48,
   "metadata": {},
   "outputs": [],
   "source": [
    "import spacy\n",
    "import nl_core_news_lg\n",
    "\n",
    "nlp = nl_core_news_lg.load()\n",
    "# en_words = set(nltk.corpus.words.words())\n",
    "# overly_abundant = [\"article\", \"art\", \"publication\"]\n",
    "# months = [\"january\", \"february\", \"march\", \"april\", \"may\", \"june\", \"july\", \"august\", \"september\", \"november\", \"december\"]\n",
    "\n",
    "def lemmatizer(texts):\n",
    "    texts = [text.replace(\"\\n\", \" \").strip() for text in texts]\n",
    "    texts = [text.replace(\";\", \" \").strip() for text in texts]\n",
    "    texts = [text.replace(\",\", \" \").strip() for text in texts]\n",
    "    texts = [text.replace(\".\", \" \").strip() for text in texts]\n",
    "    docs = nlp.pipe(texts)\n",
    "    cleaned_lemmas = [[t.lemma_ for t in doc if t.lemma_ not in stop_words_nl \n",
    "                        #and t.lemma_ in en_words\n",
    "                        and t.lemma_ not in stop_words_en\n",
    "                        #and t.lemma_.lower() not in overly_abundant\n",
    "                        #and t.lemma_.lower() not in months\n",
    "                        and not re.match(r\".*\\d.*\", t.lemma_)] for doc in docs]\n",
    "\n",
    "    return cleaned_lemmas"
   ]
  },
  {
   "cell_type": "code",
   "execution_count": 49,
   "metadata": {
    "scrolled": true
   },
   "outputs": [
    {
     "name": "stdout",
     "output_type": "stream",
     "text": [
      "Batch 1 of 38\n",
      "Batch 2 of 38\n",
      "Batch 3 of 38\n",
      "Batch 4 of 38\n",
      "Batch 5 of 38\n",
      "Batch 6 of 38\n",
      "Batch 7 of 38\n",
      "Batch 8 of 38\n",
      "Batch 9 of 38\n",
      "Batch 10 of 38\n",
      "Batch 11 of 38\n",
      "Batch 12 of 38\n",
      "Batch 13 of 38\n",
      "Batch 14 of 38\n",
      "Batch 15 of 38\n",
      "Batch 16 of 38\n",
      "Batch 17 of 38\n",
      "Batch 18 of 38\n",
      "Batch 19 of 38\n",
      "Batch 20 of 38\n",
      "Batch 21 of 38\n",
      "Batch 22 of 38\n",
      "Batch 23 of 38\n",
      "Batch 24 of 38\n",
      "Batch 25 of 38\n",
      "Batch 26 of 38\n",
      "Batch 27 of 38\n",
      "Batch 28 of 38\n",
      "Batch 29 of 38\n",
      "Batch 30 of 38\n",
      "Batch 31 of 38\n",
      "Batch 32 of 38\n",
      "Batch 33 of 38\n",
      "Batch 34 of 38\n",
      "Batch 35 of 38\n",
      "Batch 36 of 38\n",
      "Batch 37 of 38\n",
      "Batch 38 of 38\n",
      "38\n",
      "['wet', 'wijziging', 'overeenkomst', 'tussen', 'Koninkrijk', 'België', 'staat', 'Malta', 'vermijden', 'dubbel', 'belasting', 'voorkomen', 'ontgaan', 'belasting', ' ', 'zoals', 'wijzigen', 'Aanv_ullend', 'overeenkomst', 'ondertekenen', 'Brussel', 'juni', ' ', 'zullen', 'volkomengevolg']\n"
     ]
    }
   ],
   "source": [
    "cleaned = []\n",
    "parts = int(len(texts)/20)\n",
    "for part in range(parts):\n",
    "    print(f\"Batch {part + 1} of {parts}\")\n",
    "    cleaned.append(lemmatizer(texts[20*part:20*(part+1)]))\n",
    "#lemmatizer(texts)\n",
    "print(len(cleaned))\n",
    "print(cleaned[0][0])"
   ]
  },
  {
   "cell_type": "code",
   "execution_count": 36,
   "metadata": {},
   "outputs": [
    {
     "name": "stdout",
     "output_type": "stream",
     "text": [
      "20\n"
     ]
    }
   ],
   "source": [
    "\n",
    "print(len(cleaned[0]))"
   ]
  },
  {
   "cell_type": "code",
   "execution_count": 50,
   "metadata": {},
   "outputs": [],
   "source": [
    "vect = TfidfVectorizer(stop_words=stop_words_nl,max_features=1000)"
   ]
  },
  {
   "cell_type": "code",
   "execution_count": 51,
   "metadata": {},
   "outputs": [
    {
     "name": "stdout",
     "output_type": "stream",
     "text": [
      "760\n"
     ]
    }
   ],
   "source": [
    "cleaned_joined = []\n",
    "    \n",
    "[[cleaned_joined.append(\" \".join(words)) for words in batch] for batch in cleaned]\n",
    "print(len(cleaned_joined))"
   ]
  },
  {
   "cell_type": "code",
   "execution_count": 32,
   "metadata": {},
   "outputs": [
    {
     "data": {
      "text/plain": [
       "760"
      ]
     },
     "execution_count": 32,
     "metadata": {},
     "output_type": "execute_result"
    }
   ],
   "source": [
    "len(cleaned_joined)"
   ]
  },
  {
   "cell_type": "code",
   "execution_count": 52,
   "metadata": {},
   "outputs": [
    {
     "data": {
      "text/plain": [
       "['aan_bieden',\n",
       " 'aan_brengen',\n",
       " 'aan_kondigen',\n",
       " 'aan_nemen',\n",
       " 'aan_pakken',\n",
       " 'aan_stellen',\n",
       " 'aan_trekken',\n",
       " 'aan_vangen',\n",
       " 'aan_vullen',\n",
       " 'aandeel',\n",
       " 'aangelegenheid',\n",
       " 'aangift_eformulier',\n",
       " 'aangifte',\n",
       " 'aangiftefo_rmulier',\n",
       " 'aankoop',\n",
       " 'aanleiding',\n",
       " 'aanmerking',\n",
       " 'aanpassing',\n",
       " 'aanslagjaar',\n",
       " 'aantal',\n",
       " 'aanvraag',\n",
       " 'aanvulling',\n",
       " 'aanzienlijk',\n",
       " 'aard',\n",
       " 'abgeordnetenkammer',\n",
       " 'accijnzen',\n",
       " 'actie',\n",
       " 'actief',\n",
       " 'activiteit',\n",
       " 'adjunct',\n",
       " 'administratie',\n",
       " 'administratief',\n",
       " 'advies',\n",
       " 'af',\n",
       " 'af_leggen',\n",
       " 'af_lopen',\n",
       " 'af_nomen',\n",
       " 'af_sluiten',\n",
       " 'afdeling',\n",
       " 'afgegeven',\n",
       " 'afgekondigde',\n",
       " 'afgevaardigden',\n",
       " 'afgifte',\n",
       " 'afhankelijk',\n",
       " 'afkondiging',\n",
       " 'afnemer',\n",
       " 'aftrek',\n",
       " 'afwezigheid',\n",
       " 'afwijking',\n",
       " 'afzondering',\n",
       " 'airport',\n",
       " 'akkoord',\n",
       " 'akt',\n",
       " 'akte',\n",
       " 'algemeen',\n",
       " 'algemeneadministratie',\n",
       " 'alleen',\n",
       " 'ambassadeur',\n",
       " 'ambt',\n",
       " 'ambtenaar',\n",
       " 'ambtenarenzaken',\n",
       " 'analyse',\n",
       " 'ander',\n",
       " 'annuleren',\n",
       " 'april',\n",
       " 'arbeid_plaats',\n",
       " 'arbeidsongeschikt',\n",
       " 'arbeidsongeschiktheid',\n",
       " 'arbeidsovereenkomst',\n",
       " 'armoedebestrijding',\n",
       " 'artikel',\n",
       " 'arts',\n",
       " 'attest',\n",
       " 'aufgrund',\n",
       " 'augustus',\n",
       " 'automatisch',\n",
       " 'autoriteit',\n",
       " 'back',\n",
       " 'basis',\n",
       " 'basisonderwijs',\n",
       " 'bediende',\n",
       " 'bedoelen',\n",
       " 'bedr_ijfsruimt',\n",
       " 'bedrag',\n",
       " 'bedragen',\n",
       " 'bedrijfsvoorheffing',\n",
       " 'begroting',\n",
       " 'begrotings_jaar',\n",
       " 'begrotingsjaar',\n",
       " 'behandeling',\n",
       " 'beheer',\n",
       " 'beheerswetens_chapep',\n",
       " 'bekend_maken',\n",
       " 'bekendgemaken',\n",
       " 'bekrachtig',\n",
       " 'bekrachtigen',\n",
       " 'bekrachtiging',\n",
       " 'bel_astingvermindering',\n",
       " 'belas_tinggebied',\n",
       " 'belas_tingvermindering',\n",
       " 'belasten',\n",
       " 'belasting',\n",
       " 'belastingplichtig',\n",
       " 'belg',\n",
       " 'belgisch',\n",
       " 'belgiã',\n",
       " 'belgië',\n",
       " 'benoemen',\n",
       " 'beoefenen',\n",
       " 'bepalen',\n",
       " 'bepaling',\n",
       " 'bepalingeninzake',\n",
       " 'beperken',\n",
       " 'beperking',\n",
       " 'beraadslaging',\n",
       " 'bereiken',\n",
       " 'bericht',\n",
       " 'beroep',\n",
       " 'bescheinigung',\n",
       " 'beschermen',\n",
       " 'bescherming',\n",
       " 'beschermingsmaatregelen',\n",
       " 'beschikbaar',\n",
       " 'beschikking',\n",
       " 'besluit',\n",
       " 'besluiten',\n",
       " 'besmetting',\n",
       " 'bestaan',\n",
       " 'bestrijding',\n",
       " 'bestuur',\n",
       " 'bestuurlijk',\n",
       " 'betaling',\n",
       " 'betreffen',\n",
       " 'betrekken',\n",
       " 'betrekking',\n",
       " 'bevoegd',\n",
       " 'bevoegdheid',\n",
       " 'bevolking',\n",
       " 'bevordering',\n",
       " 'bezoldiging',\n",
       " 'bieden',\n",
       " 'bij_komen',\n",
       " 'bijgevoegen',\n",
       " 'bijlage',\n",
       " 'bijstand',\n",
       " 'bijzonder',\n",
       " 'bijzonderemacht',\n",
       " 'binnen',\n",
       " 'binnenlandse',\n",
       " 'bl',\n",
       " 'blijken',\n",
       " 'blijven',\n",
       " 'boetetarief',\n",
       " 'brandweer',\n",
       " 'brengen',\n",
       " 'brief',\n",
       " 'bruijn',\n",
       " 'brussel',\n",
       " 'brussels',\n",
       " 'btw',\n",
       " 'buitengewoon',\n",
       " 'buitenland',\n",
       " 'buitenlands',\n",
       " 'buitenlandse',\n",
       " 'categorie',\n",
       " 'centra',\n",
       " 'centraal',\n",
       " 'centrum',\n",
       " 'certificaat',\n",
       " 'cijfer',\n",
       " 'civiel',\n",
       " 'codex',\n",
       " 'collectief',\n",
       " 'college',\n",
       " 'commissaris',\n",
       " 'commissie',\n",
       " 'confronteren',\n",
       " 'conjunctureel',\n",
       " 'constructie',\n",
       " 'contactonderzoek',\n",
       " 'context',\n",
       " 'corona',\n",
       " 'coronacr_isis',\n",
       " 'coronacrisis',\n",
       " 'coronapan_demie',\n",
       " 'coronavirus',\n",
       " 'coã',\n",
       " 'cri_sisuitkering',\n",
       " 'crisis',\n",
       " 'cultureel',\n",
       " 'cultuur',\n",
       " 'daarmee',\n",
       " 'daartoe',\n",
       " 'dag',\n",
       " 'dalen',\n",
       " 'daling',\n",
       " 'data_bank',\n",
       " 'datum',\n",
       " 'december',\n",
       " 'decreet',\n",
       " 'deel',\n",
       " 'deelen',\n",
       " 'defensie',\n",
       " 'definitief',\n",
       " 'dekken',\n",
       " 'delegeren',\n",
       " 'demis_sionair',\n",
       " 'demissionair',\n",
       " 'demissionaire',\n",
       " 'demissione',\n",
       " 'dienst',\n",
       " 'diensten',\n",
       " 'diensthoofd',\n",
       " 'digitaal',\n",
       " 'directeur',\n",
       " 'directiecomitã',\n",
       " 'directrice',\n",
       " 'divers',\n",
       " 'door_voeren',\n",
       " 'drie',\n",
       " 'dringend',\n",
       " 'duits',\n",
       " 'duitsland',\n",
       " 'duitstalige',\n",
       " 'dwingen',\n",
       " 'echtgenot',\n",
       " 'economie',\n",
       " 'economisch',\n",
       " 'editie',\n",
       " 'eenmalig',\n",
       " 'eerd',\n",
       " 'eerst',\n",
       " 'einde',\n",
       " 'elektriciteit',\n",
       " 'elektronisch',\n",
       " 'energie',\n",
       " 'epidemie',\n",
       " 'epidemisch',\n",
       " 'erkennen',\n",
       " 'erkenning',\n",
       " 'ervan',\n",
       " 'essentiã',\n",
       " 'eu',\n",
       " 'euro',\n",
       " 'europees',\n",
       " 'europese',\n",
       " 'evaluatie',\n",
       " 'extern',\n",
       " 'extra',\n",
       " 'fase',\n",
       " 'februari',\n",
       " 'federaal',\n",
       " 'federale',\n",
       " 'fficiã',\n",
       " 'financieel',\n",
       " 'financiering',\n",
       " 'financiã',\n",
       " 'financiën',\n",
       " 'fiscaal',\n",
       " 'fiscale',\n",
       " 'fiscaliteit',\n",
       " 'fod',\n",
       " 'fonds',\n",
       " 'forfaitair',\n",
       " 'frankrijk',\n",
       " 'frans',\n",
       " 'frans_talig',\n",
       " 'franse',\n",
       " 'fraude',\n",
       " 'gaan',\n",
       " 'gas',\n",
       " 'gebeuren',\n",
       " 'gebied',\n",
       " 'gebrek',\n",
       " 'gebruik',\n",
       " 'gedeeltelijk',\n",
       " 'gedrang',\n",
       " 'gedurende',\n",
       " 'geerts',\n",
       " 'gegeven',\n",
       " 'gegevensbeschermingsautoriteit',\n",
       " 'geld',\n",
       " 'gelden',\n",
       " 'geleidelijk',\n",
       " 'gelet',\n",
       " 'gemeenschap',\n",
       " 'gemeenschappelijk',\n",
       " 'gemeenschappelijkegemeenschapscommissie',\n",
       " 'gemeenschapscommissie',\n",
       " 'gemeente',\n",
       " 'gemiddeld',\n",
       " 'geneeskunde',\n",
       " 'geneeskundig',\n",
       " 'geneesmiddel',\n",
       " 'generaal',\n",
       " 'getuigschrift',\n",
       " 'gevaar',\n",
       " 'geval',\n",
       " 'geven',\n",
       " 'gevolg',\n",
       " 'gewest',\n",
       " 'gewestelijk',\n",
       " 'gewesten',\n",
       " 'gewoon',\n",
       " 'gezin',\n",
       " 'gezinsbijslag',\n",
       " 'gezondhe_idscrisis',\n",
       " 'gezondheid',\n",
       " 'gezondheidscrisi',\n",
       " 'gezondheidscrisis',\n",
       " 'gezondheidsdiensten',\n",
       " 'gezondheidsfonds',\n",
       " 'gezondheidsraad',\n",
       " 'gift',\n",
       " 'goed',\n",
       " 'goed_keuren',\n",
       " 'golf',\n",
       " 'graad',\n",
       " 'grensar_beider',\n",
       " 'grensarbeider',\n",
       " 'grensoverschrijden',\n",
       " 'griffierecht',\n",
       " 'grond_gebied',\n",
       " 'grond_wet',\n",
       " 'groot',\n",
       " 'gunst',\n",
       " 'handel',\n",
       " 'handhaving',\n",
       " 'handicap',\n",
       " 'he_tbedrag',\n",
       " 'hero_pbouw',\n",
       " 'hetcoronavirus',\n",
       " 'hetgeen',\n",
       " 'hetkoninklijk',\n",
       " 'hetzelfde',\n",
       " 'hetzelfdebes_luit',\n",
       " 'hierna',\n",
       " 'hoedanigheid',\n",
       " 'hoge',\n",
       " 'hoofd',\n",
       " 'hoofdstad',\n",
       " 'hoofdstedelijk',\n",
       " 'hoog',\n",
       " 'hoog_risicogebied',\n",
       " 'hore_casector',\n",
       " 'horeca',\n",
       " 'houd_en',\n",
       " 'houden',\n",
       " 'houdende',\n",
       " 'houdenden',\n",
       " 'houdnen',\n",
       " 'huidig',\n",
       " 'hulp',\n",
       " 'huurder',\n",
       " 'hypotheek',\n",
       " 'ii',\n",
       " 'iii',\n",
       " 'impact',\n",
       " 'in_dienen',\n",
       " 'in_schreven',\n",
       " 'in_stellen',\n",
       " 'in_voegen',\n",
       " 'in_voeren',\n",
       " 'in_vullen',\n",
       " 'inbegrip',\n",
       " 'ind_excijfer',\n",
       " 'indexeringscoã',\n",
       " 'ingevolge',\n",
       " 'inkomen',\n",
       " 'inkomensverlie',\n",
       " 'inkomst',\n",
       " 'inkomstenbelasting',\n",
       " 'inkoop',\n",
       " 'inlichting',\n",
       " 'inlichtingendienst',\n",
       " 'innovatie',\n",
       " 'inri_chten',\n",
       " 'inrichting',\n",
       " 'inschakelingsondernem_ing',\n",
       " 'inspecteur',\n",
       " 'inspectie',\n",
       " 'instandhouding',\n",
       " 'instelling',\n",
       " 'instemming',\n",
       " 'integratie',\n",
       " 'inter',\n",
       " 'interest',\n",
       " 'internationaal',\n",
       " 'invaliditeitsverzekering',\n",
       " 'inverkeerstelling',\n",
       " 'investering',\n",
       " 'investeringsaftrek',\n",
       " 'investeringsmaatschappij',\n",
       " 'invoeging',\n",
       " 'invoer',\n",
       " 'invoering',\n",
       " 'invordering',\n",
       " 'inwerkingtreding',\n",
       " 'inwoners',\n",
       " 'inzake',\n",
       " 'inzonderheid',\n",
       " 'iriscare',\n",
       " 'jaar',\n",
       " 'jaarlijks',\n",
       " 'jachte_xamen',\n",
       " 'januari',\n",
       " 'jeugd',\n",
       " 'joost',\n",
       " 'juli',\n",
       " 'juni',\n",
       " 'justitie',\n",
       " 'kader',\n",
       " 'kader_regeling',\n",
       " 'kamer',\n",
       " 'kandidaat',\n",
       " 'kankerpatiã',\n",
       " 'kans',\n",
       " 'kb',\n",
       " 'keer',\n",
       " 'kennis',\n",
       " 'kilo',\n",
       " 'kilom_etervergoeding',\n",
       " 'kind',\n",
       " 'kind_opvang',\n",
       " 'klein',\n",
       " 'kmo',\n",
       " 'koen',\n",
       " 'komen',\n",
       " 'kommissariaat',\n",
       " 'koning',\n",
       " 'koningin',\n",
       " 'koninkl_ijkbesluit',\n",
       " 'koninklijk',\n",
       " 'koninklijkbesluit',\n",
       " 'koninkrijk',\n",
       " 'koophandel',\n",
       " 'kort',\n",
       " 'kost',\n",
       " 'koster',\n",
       " 'kracht',\n",
       " 'krediet',\n",
       " 'krijgen',\n",
       " 'krijtlijn',\n",
       " 'kwartaalaangevers',\n",
       " 'kwetsbaar',\n",
       " 'laat',\n",
       " 'laboratoria',\n",
       " 'laboratoriumonderzoeak',\n",
       " 'lanceren',\n",
       " 'land',\n",
       " 'landbouw',\n",
       " 'landelijk',\n",
       " 'lang',\n",
       " 'last',\n",
       " 'laten',\n",
       " 'le',\n",
       " 'leefmilieu',\n",
       " 'leegstand',\n",
       " 'leerling',\n",
       " 'legt',\n",
       " 'leiden',\n",
       " 'lening',\n",
       " 'leven',\n",
       " 'leverancier',\n",
       " 'leveren',\n",
       " 'levering',\n",
       " 'lid',\n",
       " 'lijst',\n",
       " 'lockd_own',\n",
       " 'lockdown',\n",
       " 'logie',\n",
       " 'logies',\n",
       " 'logistiek',\n",
       " 'lokaal',\n",
       " 'lopen',\n",
       " 'luiden',\n",
       " 'luxemburg',\n",
       " 'luxemburgs',\n",
       " 'maand',\n",
       " 'maanda_angever',\n",
       " 'maart',\n",
       " 'maatregel',\n",
       " 'maatschappelijk',\n",
       " 'macht',\n",
       " 'maken',\n",
       " 'markten',\n",
       " 'materiaal',\n",
       " 'materiã',\n",
       " 'medisch',\n",
       " 'medische',\n",
       " 'medium',\n",
       " 'mee_delen',\n",
       " 'meewerken',\n",
       " 'mei',\n",
       " 'melden',\n",
       " 'meldingsplichtig',\n",
       " 'mevrouw',\n",
       " 'middel',\n",
       " 'middelgroot',\n",
       " 'milieufiscaliteit',\n",
       " 'militair',\n",
       " 'minister',\n",
       " 'minister_president',\n",
       " 'ministerie',\n",
       " 'ministerieel',\n",
       " 'minnelijk',\n",
       " 'mkb',\n",
       " 'mobiliteit',\n",
       " 'model',\n",
       " 'moeten',\n",
       " 'mogelijk',\n",
       " 'mogen',\n",
       " 'motie',\n",
       " 'nader',\n",
       " 'naleving',\n",
       " 'naties',\n",
       " 'nationaal',\n",
       " 'nederland',\n",
       " 'nederlands',\n",
       " 'nemen',\n",
       " 'nieuw',\n",
       " 'nodig',\n",
       " 'noemen',\n",
       " 'nood_situatie',\n",
       " 'noodakkoord',\n",
       " 'noodfondsen',\n",
       " 'noodsituatiebetreffen',\n",
       " 'noodzaak',\n",
       " 'noodzakelijk',\n",
       " 'november',\n",
       " 'nrs',\n",
       " 'nt',\n",
       " 'nummer',\n",
       " 'office',\n",
       " 'ofwel',\n",
       " 'oktober',\n",
       " 'omvatten',\n",
       " 'omwille',\n",
       " 'omzendbrief',\n",
       " 'omzet',\n",
       " 'omzetting',\n",
       " 'onderbreking',\n",
       " 'ondergaan',\n",
       " 'onderling',\n",
       " 'ondernemerschap',\n",
       " 'onderneming',\n",
       " 'ondernemingen',\n",
       " 'ondersteuning',\n",
       " 'ondertekenen',\n",
       " 'onderwerpen',\n",
       " 'onderwijs',\n",
       " 'onderwijswetenschap',\n",
       " 'onderzoek',\n",
       " 'online',\n",
       " 'onrechtstreeks',\n",
       " 'onroerend',\n",
       " 'ontspanningstoestellen',\n",
       " 'ontw_erpbesluit',\n",
       " 'ontwerp',\n",
       " 'ontwikkeling',\n",
       " 'oog',\n",
       " 'op_heffen',\n",
       " 'op_leggen',\n",
       " 'op_richten',\n",
       " 'op_stellen',\n",
       " 'op_volgen',\n",
       " 'opdracht',\n",
       " 'openbaar',\n",
       " 'openbare',\n",
       " 'operationeel',\n",
       " 'opheffing',\n",
       " 'oprichting',\n",
       " 'oproep',\n",
       " 'opschorting',\n",
       " 'opsporen',\n",
       " 'opvang',\n",
       " 'ordonnantie',\n",
       " 'organisatie',\n",
       " 'over_gaan',\n",
       " 'overbruggingsrecht',\n",
       " 'overdracht',\n",
       " 'overeen_komen',\n",
       " 'overeenkomst',\n",
       " 'overeenkomstig',\n",
       " 'overhandigen',\n",
       " 'overheid',\n",
       " 'overheidsdienst',\n",
       " 'overleg',\n",
       " 'overlegcomitã',\n",
       " 'overmacht',\n",
       " 'overtreding',\n",
       " 'pandemie',\n",
       " 'paragraaf',\n",
       " 'paragraph',\n",
       " 'paritair',\n",
       " 'parlement',\n",
       " 'partner',\n",
       " 'pensioen',\n",
       " 'per',\n",
       " 'periode',\n",
       " 'persconferentie',\n",
       " 'personeel',\n",
       " 'personeel_lid',\n",
       " 'personen',\n",
       " 'personen_belasting',\n",
       " 'persoon',\n",
       " 'persoonsgegeven',\n",
       " 'peteghem',\n",
       " 'peter',\n",
       " 'plaats',\n",
       " 'politie',\n",
       " 'premie',\n",
       " 'preventief',\n",
       " 'primair',\n",
       " 'procedure',\n",
       " 'procent',\n",
       " 'proef',\n",
       " 'programma',\n",
       " 'programma_wet',\n",
       " 'project',\n",
       " 'promotie',\n",
       " 'protocol',\n",
       " 'provisioneel',\n",
       " 'provisioneelkrediet',\n",
       " 'publiceren',\n",
       " 'publiek',\n",
       " 'quarantaine',\n",
       " 'raad',\n",
       " 'rangschikken',\n",
       " 'rdinatie',\n",
       " 'rdineren',\n",
       " 'reageren',\n",
       " 'recht',\n",
       " 'recht_zaak',\n",
       " 'reden',\n",
       " 'regel',\n",
       " 'regelen',\n",
       " 'regelgeving',\n",
       " 'regeling',\n",
       " 'regering',\n",
       " 'registratie',\n",
       " 'reglementering',\n",
       " 'regularisatie',\n",
       " 'rekening',\n",
       " 'renteloos',\n",
       " 'rentevoet',\n",
       " 'restaurant',\n",
       " 'restrictie',\n",
       " 'richtlijn',\n",
       " 'rij_opleiding',\n",
       " 'ring',\n",
       " 'riziv',\n",
       " 'robert',\n",
       " 'rol',\n",
       " 'rubriek',\n",
       " 'ruimtelijk',\n",
       " 'samen',\n",
       " 'samen_stellen',\n",
       " 'samen_werkingsakkoord',\n",
       " 'schellevis',\n",
       " 'school',\n",
       " 'school_jaar',\n",
       " 'schorsing',\n",
       " 'schrijven',\n",
       " 'schuldvordering',\n",
       " 'sciensano',\n",
       " 'sector',\n",
       " 'secundair',\n",
       " 'selec_tiecommissie',\n",
       " 'september',\n",
       " 'sinds',\n",
       " 'situatie',\n",
       " 'slachtoffer',\n",
       " 'sluiten',\n",
       " 'sluiting',\n",
       " 'snel',\n",
       " 'sociaal',\n",
       " 'sociale',\n",
       " 'sommig',\n",
       " 'spoedig',\n",
       " 'sport',\n",
       " 'staat',\n",
       " 'staat_ssteunmaatregel',\n",
       " 'staatsblad',\n",
       " 'staatssecretaris',\n",
       " 'staatssteun',\n",
       " 'stapsgewijze',\n",
       " 'startende',\n",
       " 'state',\n",
       " 'staten',\n",
       " 'statuut',\n",
       " 'stellen',\n",
       " 'stemmen',\n",
       " 'sterk',\n",
       " 'steuerrechtelijk',\n",
       " 'steun',\n",
       " 'steunen',\n",
       " 'steunmaatregel',\n",
       " 'steunmaatregelen',\n",
       " 'steunportfolio',\n",
       " 'steven',\n",
       " 'stijgen',\n",
       " 'stijging',\n",
       " 'stimuleren',\n",
       " 'stopzetting',\n",
       " 'strafuitvoering',\n",
       " 'strekken',\n",
       " 'strijd',\n",
       " 'studentenarbeid',\n",
       " 'stuk',\n",
       " 'sturen',\n",
       " 'subcomitã',\n",
       " 'subsidie',\n",
       " 'subsidieren',\n",
       " 'subsidiã',\n",
       " 'subsidiëren',\n",
       " 'subsidiëring',\n",
       " 'successierecht',\n",
       " 'systeem',\n",
       " 'systeemvaart',\n",
       " 'taak',\n",
       " 'taal_gebied',\n",
       " 'taal_rol',\n",
       " 'tabel',\n",
       " 'tak',\n",
       " 'tarief',\n",
       " 'technisch',\n",
       " 'tegemoetkoming',\n",
       " 'tegemoetkomingen',\n",
       " 'tekst',\n",
       " 'teneinde',\n",
       " 'tenlasteneming',\n",
       " 'termijn',\n",
       " 'territoriaal',\n",
       " 'terrorisme',\n",
       " 'testing',\n",
       " 'tewerkstelling',\n",
       " 'thui_suit',\n",
       " 'thuis',\n",
       " 'tijd',\n",
       " 'tijdelijk',\n",
       " 'tijdens',\n",
       " 'titel',\n",
       " 'toe',\n",
       " 'toe_kennen',\n",
       " 'toegang',\n",
       " 'toegeken',\n",
       " 'toegevoegde',\n",
       " 'toekenning',\n",
       " 'toelage',\n",
       " 'toelating',\n",
       " 'toepassing',\n",
       " 'toerisme',\n",
       " 'toeristisch',\n",
       " 'toestand',\n",
       " 'toewijzing',\n",
       " 'toezicht',\n",
       " 'treden',\n",
       " 'treffen',\n",
       " 'tuin_bouw',\n",
       " 'tussen',\n",
       " 'tussen_komen',\n",
       " 'tussenkomst',\n",
       " 'tussentijds',\n",
       " 'twee',\n",
       " 'tweede',\n",
       " 'tweedelid',\n",
       " 'type',\n",
       " 'uit_breiden',\n",
       " 'uit_brengen',\n",
       " 'uit_gaan',\n",
       " 'uit_geven',\n",
       " 'uit_oefenen',\n",
       " 'uit_reiken',\n",
       " 'uit_spreken',\n",
       " 'uit_vaardigen',\n",
       " 'uit_voeren',\n",
       " 'uitbraak',\n",
       " 'uitbreiding',\n",
       " 'uiterlijk',\n",
       " 'uiterst',\n",
       " 'uitgave',\n",
       " 'uitgavenbegroting',\n",
       " 'uitgifte',\n",
       " 'uitkering',\n",
       " 'uitoefening',\n",
       " 'uitslag',\n",
       " 'uittreksel',\n",
       " 'uitvoerbaar',\n",
       " 'uitvoering',\n",
       " 'uitwisseling',\n",
       " 'uitzendarbeid',\n",
       " 'uitzendkracht',\n",
       " 'uitzondering',\n",
       " 'uitzonderlijk',\n",
       " 'unie',\n",
       " 'universeel',\n",
       " 'universitair',\n",
       " 'uur',\n",
       " 'vacature',\n",
       " 'vaccinatie',\n",
       " 'vakbond',\n",
       " 'vallen',\n",
       " 'vanaf',\n",
       " 'vanbesluit',\n",
       " 'vandaag',\n",
       " 'vande',\n",
       " 'vanwege',\n",
       " 'variant',\n",
       " 'vast',\n",
       " 'vast_leggen',\n",
       " 'vast_staan',\n",
       " 'vast_stellen',\n",
       " 'vastlegging',\n",
       " 'vastleggingskrediet',\n",
       " 'vaststelling',\n",
       " 'veiligheid',\n",
       " 'veiligheidsdienst',\n",
       " 'veiligheidsdiensten',\n",
       " 'veiligheidsraad',\n",
       " 'vennootschap',\n",
       " 'vennootschappen',\n",
       " 'vennootschaps_belasting',\n",
       " 'vennootschapsbelasting',\n",
       " 'ver',\n",
       " 'verantwoordelijk',\n",
       " 'verband',\n",
       " 'verbinden',\n",
       " 'verbod',\n",
       " 'verdelen',\n",
       " 'verenigd',\n",
       " 'verenigde',\n",
       " 'verenigen',\n",
       " 'vereniging',\n",
       " 'vergadering',\n",
       " 'vergelijkbaar',\n",
       " 'vergoeding',\n",
       " 'vergoedingsbasis',\n",
       " 'verhogen',\n",
       " 'verhoging',\n",
       " 'verkeer',\n",
       " 'verkeersbelasting',\n",
       " 'verkiezing',\n",
       " 'verklaren',\n",
       " 'verkoop',\n",
       " 'verkrijgen',\n",
       " 'verlenen',\n",
       " 'verlengen',\n",
       " 'verlenging',\n",
       " 'verlof',\n",
       " 'verminderen',\n",
       " 'vermindren',\n",
       " 'veroorzaken',\n",
       " 'verpleegkundig',\n",
       " 'verplichten',\n",
       " 'verplichting',\n",
       " 'verrichten',\n",
       " 'verschillend',\n",
       " 'verslag',\n",
       " 'versoepelen',\n",
       " 'versoepeling',\n",
       " 'verspreiden',\n",
       " 'verspreiding',\n",
       " 'verspreien',\n",
       " 'verstande',\n",
       " 'versterken',\n",
       " 'versterking',\n",
       " 'verstrekking',\n",
       " 'vertaling',\n",
       " 'vertegenwoordiger',\n",
       " 'vertragen',\n",
       " 'vervangen',\n",
       " 'vervoer',\n",
       " 'verwaarlozing',\n",
       " 'verwerking',\n",
       " 'verwerving',\n",
       " 'verzekeren',\n",
       " 'verzekering',\n",
       " 'verzekeringsonderneming',\n",
       " 'verzending',\n",
       " 'verzorging',\n",
       " 'vestigen',\n",
       " 'vestiging',\n",
       " 'via',\n",
       " 'vier',\n",
       " 'vijf',\n",
       " 'vijfhonderdduizend',\n",
       " 'virus',\n",
       " 'vitaal',\n",
       " 'vlaams',\n",
       " 'vlaamse',\n",
       " 'vlak',\n",
       " 'vleugel',\n",
       " 'voedingsmiddelen',\n",
       " 'voertuig',\n",
       " 'voldoen',\n",
       " 'voldoening',\n",
       " 'volgen',\n",
       " 'volgens',\n",
       " 'volgt',\n",
       " 'volksgezondheid',\n",
       " 'volksvertegenwoordiger',\n",
       " 'volkswetenschap',\n",
       " 'volledig',\n",
       " 'volmachtbesluit',\n",
       " 'volwassen',\n",
       " 'voogdij',\n",
       " 'voor_leggen',\n",
       " 'voor_ontwerp',\n",
       " 'voor_stellen',\n",
       " 'voordeel',\n",
       " 'voorheffing',\n",
       " 'voorkomen',\n",
       " 'voorkoming',\n",
       " 'voorlopig',\n",
       " 'voornoemd',\n",
       " 'voorschot',\n",
       " 'voorstel',\n",
       " 'voorwaarde',\n",
       " 'voorzien',\n",
       " 'voorzitter',\n",
       " 'vorig',\n",
       " 'vorm',\n",
       " 'vries',\n",
       " 'vrij',\n",
       " 'vrijstelling',\n",
       " 'vrijwilliger',\n",
       " 'vzw',\n",
       " 'waals',\n",
       " 'waalse',\n",
       " 'waarbij',\n",
       " 'waarborgen',\n",
       " 'waarde',\n",
       " 'waardoor',\n",
       " 'waarin',\n",
       " 'waarop',\n",
       " 'waarvan',\n",
       " 'waterdistributie',\n",
       " 'weg',\n",
       " 'wegens',\n",
       " 'weinig',\n",
       " 'welzijn',\n",
       " 'wereld',\n",
       " 'wereldgezondheidsorganisatie',\n",
       " 'wereldwijde',\n",
       " 'werk',\n",
       " 'werken',\n",
       " 'werkgelegenheid',\n",
       " 'werkgever',\n",
       " 'werking',\n",
       " 'werkingsmiddelen',\n",
       " 'werkl_oosheidsreglementering',\n",
       " 'werkloosheid',\n",
       " 'werknemer',\n",
       " 'werkwijze',\n",
       " 'wet',\n",
       " 'wetboek',\n",
       " 'wetgeving',\n",
       " 'wetsvoorstel',\n",
       " 'wettelijk',\n",
       " 'wettig',\n",
       " 'wettigniet',\n",
       " 'who',\n",
       " 'wib',\n",
       " 'wij',\n",
       " 'wijd',\n",
       " 'wijze',\n",
       " 'wijzigen',\n",
       " 'wijziging',\n",
       " 'willen',\n",
       " 'winst_oogmerk',\n",
       " 'winterper_iode',\n",
       " 'witwassen',\n",
       " 'woning',\n",
       " 'woord',\n",
       " 'xx',\n",
       " 'zaak',\n",
       " 'zaken',\n",
       " 'zekerheid',\n",
       " 'zelfstandig',\n",
       " 'zelfstandigen',\n",
       " 'zes',\n",
       " 'zetel',\n",
       " 'zetten',\n",
       " 'ziek',\n",
       " 'ziekenhuis',\n",
       " 'ziekenvervoer',\n",
       " 'ziekte',\n",
       " 'zien',\n",
       " 'zin',\n",
       " 'zoals',\n",
       " 'zoek',\n",
       " 'zorg',\n",
       " 'zorg_sector',\n",
       " 'zoveel',\n",
       " 'zowel',\n",
       " 'zullen',\n",
       " 'zwaar',\n",
       " 'zwaarst',\n",
       " 'één']"
      ]
     },
     "execution_count": 52,
     "metadata": {},
     "output_type": "execute_result"
    }
   ],
   "source": [
    "vectorised = vect.fit_transform(cleaned_joined)\n",
    "vect.get_feature_names()"
   ]
  },
  {
   "cell_type": "code",
   "execution_count": 53,
   "metadata": {},
   "outputs": [
    {
     "name": "stdout",
     "output_type": "stream",
     "text": [
      "['besluit', 'regering', 'maatregel', 'wijziging', 'kader', 'ministerie', 'artikel', 'coronavirus', 'zaken', 'minister']\n"
     ]
    }
   ],
   "source": [
    "idf=vect.idf_\n",
    "dd=dict(zip(vect.get_feature_names(), idf))\n",
    "l=sorted(dd, key=(dd).get)\n",
    "# print(l)\n",
    "print(l[0:10])"
   ]
  },
  {
   "cell_type": "markdown",
   "metadata": {},
   "source": [
    "## LDA"
   ]
  },
  {
   "cell_type": "code",
   "execution_count": 54,
   "metadata": {},
   "outputs": [],
   "source": [
    "from sklearn.decomposition import LatentDirichletAllocation\n",
    "lda_model=LatentDirichletAllocation(n_components=10,learning_method='online',random_state=42,max_iter=1) \n",
    "\n",
    "lda_top=lda_model.fit_transform(vectorised)"
   ]
  },
  {
   "cell_type": "code",
   "execution_count": 55,
   "metadata": {
    "scrolled": false
   },
   "outputs": [
    {
     "name": "stdout",
     "output_type": "stream",
     "text": [
      "Topic 0: \n",
      "procent belgisch tegemoetkoming ambassadeur woord vertegenwoordiger op_heffen commissie school_jaar franse \n",
      "\n",
      "Topic 1: \n",
      "grond_wet belgiã kamer tussen volksvertegenwoordiger akkoord situatie context aan_nemen strijd \n",
      "\n",
      "Topic 2: \n",
      "zelfstandig sociaal gunst invoering activiteit maatregel zelfstandigen overbruggingsrecht inzake promotie \n",
      "\n",
      "Topic 3: \n",
      "vlaams besluit onderwijs minister regering nationaal aantal koninklijk treffen beperken \n",
      "\n",
      "Topic 4: \n",
      "besluit wijziging ministerieel maatregel regering coronavirus koninklijk artikel kader ministerie \n",
      "\n",
      "Topic 5: \n",
      "maatregel brussels aantal gezondheidscrisis stellen kader huurder zaken beperken in_voeren \n",
      "\n",
      "Topic 6: \n",
      "regeling gemeenschappelijkegemeenschapscommissie opschorting wet vleugel ingevolge mei arbeidsongeschiktheid procedure verkiezing \n",
      "\n",
      "Topic 7: \n",
      "minister belasting zaken financiã waarde wetboek toegevoegde ministerie volksgezondheid justitie \n",
      "\n",
      "Topic 8: \n",
      "brussels regering hoofdstedelijk gewest waals definitief besluit gemeenschap kader raad \n",
      "\n",
      "Topic 9: \n",
      "vlaams gemeenschappelijk gemeenschapscommissie gemeenschap regering tijdelijk decreet college duitstalige gevolg \n",
      "\n"
     ]
    }
   ],
   "source": [
    "# most important words for each topic\n",
    "vocab = vect.get_feature_names()\n",
    "\n",
    "for i, comp in enumerate(lda_model.components_):\n",
    "    vocab_comp = zip(vocab, comp)\n",
    "    sorted_words = sorted(vocab_comp, key= lambda x:x[1], reverse=True)[:10]\n",
    "    print(\"Topic \"+str(i)+\": \")\n",
    "    for t in sorted_words:\n",
    "        print(t[0],end=\" \")\n",
    "    print(\"\\n\")"
   ]
  },
  {
   "cell_type": "markdown",
   "metadata": {},
   "source": [
    "## BERTopic"
   ]
  },
  {
   "cell_type": "code",
   "execution_count": 56,
   "metadata": {},
   "outputs": [
    {
     "name": "stderr",
     "output_type": "stream",
     "text": [
      "Downloading: 100%|██████████| 968/968 [00:00<00:00, 161kB/s]\n",
      "Downloading: 100%|██████████| 190/190 [00:00<00:00, 38.0kB/s]\n",
      "Downloading: 100%|██████████| 3.79k/3.79k [00:00<00:00, 947kB/s]\n",
      "Downloading: 100%|██████████| 645/645 [00:00<00:00, 108kB/s]\n",
      "Downloading: 100%|██████████| 122/122 [00:00<00:00, 24.4kB/s]\n",
      "Downloading: 100%|██████████| 229/229 [00:00<00:00, 32.7kB/s]\n",
      "Downloading: 100%|██████████| 471M/471M [01:25<00:00, 5.48MB/s] \n",
      "Downloading: 100%|██████████| 53.0/53.0 [00:00<00:00, 10.6kB/s]\n",
      "Downloading: 100%|██████████| 5.07M/5.07M [00:00<00:00, 5.26MB/s]\n",
      "Downloading: 100%|██████████| 239/239 [00:00<00:00, 39.8kB/s]\n",
      "Downloading: 100%|██████████| 9.08M/9.08M [00:01<00:00, 5.27MB/s]\n",
      "Downloading: 100%|██████████| 480/480 [00:00<00:00, 68.6kB/s]\n",
      "Downloading: 100%|██████████| 14.8M/14.8M [00:02<00:00, 5.45MB/s]\n"
     ]
    }
   ],
   "source": [
    "from bertopic import BERTopic\n",
    "\n",
    "topic_model = BERTopic(language=\"dutch\", calculate_probabilities=True)\n",
    "topics, probs = topic_model.fit_transform(cleaned_joined)"
   ]
  },
  {
   "cell_type": "code",
   "execution_count": 57,
   "metadata": {},
   "outputs": [
    {
     "data": {
      "text/html": [
       "<div>\n",
       "<style scoped>\n",
       "    .dataframe tbody tr th:only-of-type {\n",
       "        vertical-align: middle;\n",
       "    }\n",
       "\n",
       "    .dataframe tbody tr th {\n",
       "        vertical-align: top;\n",
       "    }\n",
       "\n",
       "    .dataframe thead th {\n",
       "        text-align: right;\n",
       "    }\n",
       "</style>\n",
       "<table border=\"1\" class=\"dataframe\">\n",
       "  <thead>\n",
       "    <tr style=\"text-align: right;\">\n",
       "      <th></th>\n",
       "      <th>Topic</th>\n",
       "      <th>Count</th>\n",
       "      <th>Name</th>\n",
       "    </tr>\n",
       "  </thead>\n",
       "  <tbody>\n",
       "    <tr>\n",
       "      <th>0</th>\n",
       "      <td>-1</td>\n",
       "      <td>156</td>\n",
       "      <td>-1_definitief_aufgrund_artikel_financiã</td>\n",
       "    </tr>\n",
       "    <tr>\n",
       "      <th>1</th>\n",
       "      <td>0</td>\n",
       "      <td>148</td>\n",
       "      <td>0_coronavirus_ministerieel_maatregel_verspreiding</td>\n",
       "    </tr>\n",
       "    <tr>\n",
       "      <th>2</th>\n",
       "      <td>1</td>\n",
       "      <td>56</td>\n",
       "      <td>1_brussels_hoofdstedelijk_brussel_gewestelijk</td>\n",
       "    </tr>\n",
       "    <tr>\n",
       "      <th>3</th>\n",
       "      <td>2</td>\n",
       "      <td>49</td>\n",
       "      <td>2_franse_gemeenschap_kader_gezondhe_idscrisis</td>\n",
       "    </tr>\n",
       "    <tr>\n",
       "      <th>4</th>\n",
       "      <td>3</td>\n",
       "      <td>35</td>\n",
       "      <td>3_grond_wet_volksvertegenwoordiger_wet_kamer</td>\n",
       "    </tr>\n",
       "  </tbody>\n",
       "</table>\n",
       "</div>"
      ],
      "text/plain": [
       "   Topic  Count                                               Name\n",
       "0     -1    156            -1_definitief_aufgrund_artikel_financiã\n",
       "1      0    148  0_coronavirus_ministerieel_maatregel_verspreiding\n",
       "2      1     56      1_brussels_hoofdstedelijk_brussel_gewestelijk\n",
       "3      2     49      2_franse_gemeenschap_kader_gezondhe_idscrisis\n",
       "4      3     35       3_grond_wet_volksvertegenwoordiger_wet_kamer"
      ]
     },
     "execution_count": 57,
     "metadata": {},
     "output_type": "execute_result"
    }
   ],
   "source": [
    "freq = topic_model.get_topic_info(); freq.head(5)"
   ]
  },
  {
   "cell_type": "code",
   "execution_count": 68,
   "metadata": {},
   "outputs": [
    {
     "data": {
      "text/plain": [
       "[('waals', 0.17340796890446997),\n",
       " ('regering', 0.08778724665772046),\n",
       " ('waalse', 0.06920941104668597),\n",
       " ('decreet', 0.0578820190640589),\n",
       " ('bijzonder', 0.05216838715052308),\n",
       " ('macht', 0.05158371046397992),\n",
       " ('gewest', 0.04208492026763185),\n",
       " ('toekenning', 0.039684177372790036),\n",
       " ('besluit', 0.03755048680736918),\n",
       " ('twee', 0.0371823878731185)]"
      ]
     },
     "execution_count": 68,
     "metadata": {},
     "output_type": "execute_result"
    }
   ],
   "source": [
    "topic_model.get_topic(5) "
   ]
  },
  {
   "cell_type": "code",
   "execution_count": 59,
   "metadata": {},
   "outputs": [
    {
     "data": {
      "application/vnd.plotly.v1+json": {
       "config": {
        "plotlyServerURL": "https://plot.ly"
       },
       "data": [
        {
         "customdata": [
          [
           1,
           "brussels | hoofdstedelijk | brussel | gewestelijk | gewest",
           56
          ],
          [
           2,
           "franse | gemeenschap | kader | gezondhe_idscrisis | macht",
           49
          ],
          [
           3,
           "grond_wet | volksvertegenwoordiger | wet | kamer | artikel",
           35
          ],
          [
           4,
           "vertaling | duits | waarde | toegevoegde | koninklijk",
           34
          ],
          [
           5,
           "waals | regering | waalse | decreet | bijzonder",
           32
          ],
          [
           6,
           "koninklijk | werkloosheid | tijdelijk | besluit | uitkering",
           30
          ],
          [
           7,
           "definitief | situatie | context | akkoord | belgiã",
           28
          ],
          [
           8,
           "vlaams | opvang | handicap | gezin | gevolg",
           25
          ],
          [
           9,
           "aanslagjaar | belasting | aangift_eformulier | model | vast_leggen",
           24
          ],
          [
           10,
           "onderwijs | onderwijswetenschap | vlaams | secundair | promotie",
           21
          ],
          [
           11,
           "europese | regeling | unie | belgisch | in_dienen",
           20
          ],
          [
           12,
           "verzekering | geneeskundig | verzorging | verplichten | kost",
           19
          ],
          [
           13,
           "wetboek | inkomstenbelasting | belasting | abgeordnetenkammer | steuerrechtelijk",
           17
          ],
          [
           14,
           "begrotingsjaar | uitgavenbegroting | december | algemeen | programma",
           15
          ],
          [
           15,
           "werk | sociale | ambt | openbaar | zaken",
           14
          ],
          [
           16,
           "gemeenschappelijkegemeenschapscommissie | gemeenschappelijk | gemeenschapscommissie | college | verenigd",
           13
          ],
          [
           17,
           "buitenlands | voorlopig | zaken | gezondheidsdiensten | minister",
           12
          ],
          [
           18,
           "vlaams | ondersteuning | regering | economie | vanwege",
           12
          ]
         ],
         "hovertemplate": "<b>Topic %{customdata[0]}</b><br>Words: %{customdata[1]}<br>Size: %{customdata[2]}",
         "legendgroup": "",
         "marker": {
          "color": "#B0BEC5",
          "line": {
           "color": "DarkSlateGrey",
           "width": 2
          },
          "size": [
           56,
           49,
           35,
           34,
           32,
           30,
           28,
           25,
           24,
           21,
           20,
           19,
           17,
           15,
           14,
           13,
           12,
           12
          ],
          "sizemode": "area",
          "sizeref": 0.035,
          "symbol": "circle"
         },
         "mode": "markers",
         "name": "",
         "orientation": "v",
         "showlegend": false,
         "type": "scatter",
         "x": [
          2.011730194091797,
          3.7411069869995117,
          7.912935733795166,
          7.381257057189941,
          1.6306493282318115,
          4.612720012664795,
          6.919823169708252,
          -11.90912914276123,
          7.869546413421631,
          4.400430679321289,
          7.284017086029053,
          6.7610321044921875,
          7.668502330780029,
          1.2746585607528687,
          7.348496913909912,
          -11.764810562133789,
          7.463032245635986,
          1.5242456197738647
         ],
         "xaxis": "x",
         "y": [
          10.969963073730469,
          10.860594749450684,
          16.46260643005371,
          16.55376434326172,
          11.049018859863281,
          11.164321899414062,
          15.652811050415039,
          2.172435760498047,
          17.076217651367188,
          11.024154663085938,
          15.599205017089844,
          15.30859375,
          16.282726287841797,
          10.950772285461426,
          14.834667205810547,
          2.316765785217285,
          14.648160934448242,
          10.523214340209961
         ],
         "yaxis": "y"
        }
       ],
       "layout": {
        "annotations": [
         {
          "showarrow": false,
          "text": "D1",
          "x": -13.695498514175416,
          "y": 10.742110347747802,
          "yshift": 10
         },
         {
          "showarrow": false,
          "text": "D2",
          "x": -2.297811210155487,
          "xshift": 10,
          "y": 19.637650299072266
         }
        ],
        "height": 650,
        "hoverlabel": {
         "bgcolor": "white",
         "font": {
          "family": "Rockwell",
          "size": 16
         }
        },
        "legend": {
         "itemsizing": "constant",
         "tracegroupgap": 0
        },
        "margin": {
         "t": 60
        },
        "shapes": [
         {
          "line": {
           "color": "#CFD8DC",
           "width": 2
          },
          "type": "line",
          "x0": -2.297811210155487,
          "x1": -2.297811210155487,
          "y0": 1.8465703964233398,
          "y1": 19.637650299072266
         },
         {
          "line": {
           "color": "#9E9E9E",
           "width": 2
          },
          "type": "line",
          "x0": -13.695498514175416,
          "x1": 9.099876093864442,
          "y0": 10.742110347747802,
          "y1": 10.742110347747802
         }
        ],
        "sliders": [
         {
          "active": 0,
          "pad": {
           "t": 50
          },
          "steps": [
           {
            "args": [
             {
              "marker.color": [
               [
                "red",
                "#B0BEC5",
                "#B0BEC5",
                "#B0BEC5",
                "#B0BEC5",
                "#B0BEC5",
                "#B0BEC5",
                "#B0BEC5",
                "#B0BEC5",
                "#B0BEC5",
                "#B0BEC5",
                "#B0BEC5",
                "#B0BEC5",
                "#B0BEC5",
                "#B0BEC5",
                "#B0BEC5",
                "#B0BEC5",
                "#B0BEC5"
               ]
              ]
             }
            ],
            "label": "Topic 1",
            "method": "update"
           },
           {
            "args": [
             {
              "marker.color": [
               [
                "#B0BEC5",
                "red",
                "#B0BEC5",
                "#B0BEC5",
                "#B0BEC5",
                "#B0BEC5",
                "#B0BEC5",
                "#B0BEC5",
                "#B0BEC5",
                "#B0BEC5",
                "#B0BEC5",
                "#B0BEC5",
                "#B0BEC5",
                "#B0BEC5",
                "#B0BEC5",
                "#B0BEC5",
                "#B0BEC5",
                "#B0BEC5"
               ]
              ]
             }
            ],
            "label": "Topic 2",
            "method": "update"
           },
           {
            "args": [
             {
              "marker.color": [
               [
                "#B0BEC5",
                "#B0BEC5",
                "red",
                "#B0BEC5",
                "#B0BEC5",
                "#B0BEC5",
                "#B0BEC5",
                "#B0BEC5",
                "#B0BEC5",
                "#B0BEC5",
                "#B0BEC5",
                "#B0BEC5",
                "#B0BEC5",
                "#B0BEC5",
                "#B0BEC5",
                "#B0BEC5",
                "#B0BEC5",
                "#B0BEC5"
               ]
              ]
             }
            ],
            "label": "Topic 3",
            "method": "update"
           },
           {
            "args": [
             {
              "marker.color": [
               [
                "#B0BEC5",
                "#B0BEC5",
                "#B0BEC5",
                "red",
                "#B0BEC5",
                "#B0BEC5",
                "#B0BEC5",
                "#B0BEC5",
                "#B0BEC5",
                "#B0BEC5",
                "#B0BEC5",
                "#B0BEC5",
                "#B0BEC5",
                "#B0BEC5",
                "#B0BEC5",
                "#B0BEC5",
                "#B0BEC5",
                "#B0BEC5"
               ]
              ]
             }
            ],
            "label": "Topic 4",
            "method": "update"
           },
           {
            "args": [
             {
              "marker.color": [
               [
                "#B0BEC5",
                "#B0BEC5",
                "#B0BEC5",
                "#B0BEC5",
                "red",
                "#B0BEC5",
                "#B0BEC5",
                "#B0BEC5",
                "#B0BEC5",
                "#B0BEC5",
                "#B0BEC5",
                "#B0BEC5",
                "#B0BEC5",
                "#B0BEC5",
                "#B0BEC5",
                "#B0BEC5",
                "#B0BEC5",
                "#B0BEC5"
               ]
              ]
             }
            ],
            "label": "Topic 5",
            "method": "update"
           },
           {
            "args": [
             {
              "marker.color": [
               [
                "#B0BEC5",
                "#B0BEC5",
                "#B0BEC5",
                "#B0BEC5",
                "#B0BEC5",
                "red",
                "#B0BEC5",
                "#B0BEC5",
                "#B0BEC5",
                "#B0BEC5",
                "#B0BEC5",
                "#B0BEC5",
                "#B0BEC5",
                "#B0BEC5",
                "#B0BEC5",
                "#B0BEC5",
                "#B0BEC5",
                "#B0BEC5"
               ]
              ]
             }
            ],
            "label": "Topic 6",
            "method": "update"
           },
           {
            "args": [
             {
              "marker.color": [
               [
                "#B0BEC5",
                "#B0BEC5",
                "#B0BEC5",
                "#B0BEC5",
                "#B0BEC5",
                "#B0BEC5",
                "red",
                "#B0BEC5",
                "#B0BEC5",
                "#B0BEC5",
                "#B0BEC5",
                "#B0BEC5",
                "#B0BEC5",
                "#B0BEC5",
                "#B0BEC5",
                "#B0BEC5",
                "#B0BEC5",
                "#B0BEC5"
               ]
              ]
             }
            ],
            "label": "Topic 7",
            "method": "update"
           },
           {
            "args": [
             {
              "marker.color": [
               [
                "#B0BEC5",
                "#B0BEC5",
                "#B0BEC5",
                "#B0BEC5",
                "#B0BEC5",
                "#B0BEC5",
                "#B0BEC5",
                "red",
                "#B0BEC5",
                "#B0BEC5",
                "#B0BEC5",
                "#B0BEC5",
                "#B0BEC5",
                "#B0BEC5",
                "#B0BEC5",
                "#B0BEC5",
                "#B0BEC5",
                "#B0BEC5"
               ]
              ]
             }
            ],
            "label": "Topic 8",
            "method": "update"
           },
           {
            "args": [
             {
              "marker.color": [
               [
                "#B0BEC5",
                "#B0BEC5",
                "#B0BEC5",
                "#B0BEC5",
                "#B0BEC5",
                "#B0BEC5",
                "#B0BEC5",
                "#B0BEC5",
                "red",
                "#B0BEC5",
                "#B0BEC5",
                "#B0BEC5",
                "#B0BEC5",
                "#B0BEC5",
                "#B0BEC5",
                "#B0BEC5",
                "#B0BEC5",
                "#B0BEC5"
               ]
              ]
             }
            ],
            "label": "Topic 9",
            "method": "update"
           },
           {
            "args": [
             {
              "marker.color": [
               [
                "#B0BEC5",
                "#B0BEC5",
                "#B0BEC5",
                "#B0BEC5",
                "#B0BEC5",
                "#B0BEC5",
                "#B0BEC5",
                "#B0BEC5",
                "#B0BEC5",
                "red",
                "#B0BEC5",
                "#B0BEC5",
                "#B0BEC5",
                "#B0BEC5",
                "#B0BEC5",
                "#B0BEC5",
                "#B0BEC5",
                "#B0BEC5"
               ]
              ]
             }
            ],
            "label": "Topic 10",
            "method": "update"
           },
           {
            "args": [
             {
              "marker.color": [
               [
                "#B0BEC5",
                "#B0BEC5",
                "#B0BEC5",
                "#B0BEC5",
                "#B0BEC5",
                "#B0BEC5",
                "#B0BEC5",
                "#B0BEC5",
                "#B0BEC5",
                "#B0BEC5",
                "red",
                "#B0BEC5",
                "#B0BEC5",
                "#B0BEC5",
                "#B0BEC5",
                "#B0BEC5",
                "#B0BEC5",
                "#B0BEC5"
               ]
              ]
             }
            ],
            "label": "Topic 11",
            "method": "update"
           },
           {
            "args": [
             {
              "marker.color": [
               [
                "#B0BEC5",
                "#B0BEC5",
                "#B0BEC5",
                "#B0BEC5",
                "#B0BEC5",
                "#B0BEC5",
                "#B0BEC5",
                "#B0BEC5",
                "#B0BEC5",
                "#B0BEC5",
                "#B0BEC5",
                "red",
                "#B0BEC5",
                "#B0BEC5",
                "#B0BEC5",
                "#B0BEC5",
                "#B0BEC5",
                "#B0BEC5"
               ]
              ]
             }
            ],
            "label": "Topic 12",
            "method": "update"
           },
           {
            "args": [
             {
              "marker.color": [
               [
                "#B0BEC5",
                "#B0BEC5",
                "#B0BEC5",
                "#B0BEC5",
                "#B0BEC5",
                "#B0BEC5",
                "#B0BEC5",
                "#B0BEC5",
                "#B0BEC5",
                "#B0BEC5",
                "#B0BEC5",
                "#B0BEC5",
                "red",
                "#B0BEC5",
                "#B0BEC5",
                "#B0BEC5",
                "#B0BEC5",
                "#B0BEC5"
               ]
              ]
             }
            ],
            "label": "Topic 13",
            "method": "update"
           },
           {
            "args": [
             {
              "marker.color": [
               [
                "#B0BEC5",
                "#B0BEC5",
                "#B0BEC5",
                "#B0BEC5",
                "#B0BEC5",
                "#B0BEC5",
                "#B0BEC5",
                "#B0BEC5",
                "#B0BEC5",
                "#B0BEC5",
                "#B0BEC5",
                "#B0BEC5",
                "#B0BEC5",
                "red",
                "#B0BEC5",
                "#B0BEC5",
                "#B0BEC5",
                "#B0BEC5"
               ]
              ]
             }
            ],
            "label": "Topic 14",
            "method": "update"
           },
           {
            "args": [
             {
              "marker.color": [
               [
                "#B0BEC5",
                "#B0BEC5",
                "#B0BEC5",
                "#B0BEC5",
                "#B0BEC5",
                "#B0BEC5",
                "#B0BEC5",
                "#B0BEC5",
                "#B0BEC5",
                "#B0BEC5",
                "#B0BEC5",
                "#B0BEC5",
                "#B0BEC5",
                "#B0BEC5",
                "red",
                "#B0BEC5",
                "#B0BEC5",
                "#B0BEC5"
               ]
              ]
             }
            ],
            "label": "Topic 15",
            "method": "update"
           },
           {
            "args": [
             {
              "marker.color": [
               [
                "#B0BEC5",
                "#B0BEC5",
                "#B0BEC5",
                "#B0BEC5",
                "#B0BEC5",
                "#B0BEC5",
                "#B0BEC5",
                "#B0BEC5",
                "#B0BEC5",
                "#B0BEC5",
                "#B0BEC5",
                "#B0BEC5",
                "#B0BEC5",
                "#B0BEC5",
                "#B0BEC5",
                "red",
                "#B0BEC5",
                "#B0BEC5"
               ]
              ]
             }
            ],
            "label": "Topic 16",
            "method": "update"
           },
           {
            "args": [
             {
              "marker.color": [
               [
                "#B0BEC5",
                "#B0BEC5",
                "#B0BEC5",
                "#B0BEC5",
                "#B0BEC5",
                "#B0BEC5",
                "#B0BEC5",
                "#B0BEC5",
                "#B0BEC5",
                "#B0BEC5",
                "#B0BEC5",
                "#B0BEC5",
                "#B0BEC5",
                "#B0BEC5",
                "#B0BEC5",
                "#B0BEC5",
                "red",
                "#B0BEC5"
               ]
              ]
             }
            ],
            "label": "Topic 17",
            "method": "update"
           },
           {
            "args": [
             {
              "marker.color": [
               [
                "#B0BEC5",
                "#B0BEC5",
                "#B0BEC5",
                "#B0BEC5",
                "#B0BEC5",
                "#B0BEC5",
                "#B0BEC5",
                "#B0BEC5",
                "#B0BEC5",
                "#B0BEC5",
                "#B0BEC5",
                "#B0BEC5",
                "#B0BEC5",
                "#B0BEC5",
                "#B0BEC5",
                "#B0BEC5",
                "#B0BEC5",
                "red"
               ]
              ]
             }
            ],
            "label": "Topic 18",
            "method": "update"
           }
          ]
         }
        ],
        "template": {
         "data": {
          "bar": [
           {
            "error_x": {
             "color": "rgb(36,36,36)"
            },
            "error_y": {
             "color": "rgb(36,36,36)"
            },
            "marker": {
             "line": {
              "color": "white",
              "width": 0.5
             },
             "pattern": {
              "fillmode": "overlay",
              "size": 10,
              "solidity": 0.2
             }
            },
            "type": "bar"
           }
          ],
          "barpolar": [
           {
            "marker": {
             "line": {
              "color": "white",
              "width": 0.5
             },
             "pattern": {
              "fillmode": "overlay",
              "size": 10,
              "solidity": 0.2
             }
            },
            "type": "barpolar"
           }
          ],
          "carpet": [
           {
            "aaxis": {
             "endlinecolor": "rgb(36,36,36)",
             "gridcolor": "white",
             "linecolor": "white",
             "minorgridcolor": "white",
             "startlinecolor": "rgb(36,36,36)"
            },
            "baxis": {
             "endlinecolor": "rgb(36,36,36)",
             "gridcolor": "white",
             "linecolor": "white",
             "minorgridcolor": "white",
             "startlinecolor": "rgb(36,36,36)"
            },
            "type": "carpet"
           }
          ],
          "choropleth": [
           {
            "colorbar": {
             "outlinewidth": 1,
             "tickcolor": "rgb(36,36,36)",
             "ticks": "outside"
            },
            "type": "choropleth"
           }
          ],
          "contour": [
           {
            "colorbar": {
             "outlinewidth": 1,
             "tickcolor": "rgb(36,36,36)",
             "ticks": "outside"
            },
            "colorscale": [
             [
              0,
              "#440154"
             ],
             [
              0.1111111111111111,
              "#482878"
             ],
             [
              0.2222222222222222,
              "#3e4989"
             ],
             [
              0.3333333333333333,
              "#31688e"
             ],
             [
              0.4444444444444444,
              "#26828e"
             ],
             [
              0.5555555555555556,
              "#1f9e89"
             ],
             [
              0.6666666666666666,
              "#35b779"
             ],
             [
              0.7777777777777778,
              "#6ece58"
             ],
             [
              0.8888888888888888,
              "#b5de2b"
             ],
             [
              1,
              "#fde725"
             ]
            ],
            "type": "contour"
           }
          ],
          "contourcarpet": [
           {
            "colorbar": {
             "outlinewidth": 1,
             "tickcolor": "rgb(36,36,36)",
             "ticks": "outside"
            },
            "type": "contourcarpet"
           }
          ],
          "heatmap": [
           {
            "colorbar": {
             "outlinewidth": 1,
             "tickcolor": "rgb(36,36,36)",
             "ticks": "outside"
            },
            "colorscale": [
             [
              0,
              "#440154"
             ],
             [
              0.1111111111111111,
              "#482878"
             ],
             [
              0.2222222222222222,
              "#3e4989"
             ],
             [
              0.3333333333333333,
              "#31688e"
             ],
             [
              0.4444444444444444,
              "#26828e"
             ],
             [
              0.5555555555555556,
              "#1f9e89"
             ],
             [
              0.6666666666666666,
              "#35b779"
             ],
             [
              0.7777777777777778,
              "#6ece58"
             ],
             [
              0.8888888888888888,
              "#b5de2b"
             ],
             [
              1,
              "#fde725"
             ]
            ],
            "type": "heatmap"
           }
          ],
          "heatmapgl": [
           {
            "colorbar": {
             "outlinewidth": 1,
             "tickcolor": "rgb(36,36,36)",
             "ticks": "outside"
            },
            "colorscale": [
             [
              0,
              "#440154"
             ],
             [
              0.1111111111111111,
              "#482878"
             ],
             [
              0.2222222222222222,
              "#3e4989"
             ],
             [
              0.3333333333333333,
              "#31688e"
             ],
             [
              0.4444444444444444,
              "#26828e"
             ],
             [
              0.5555555555555556,
              "#1f9e89"
             ],
             [
              0.6666666666666666,
              "#35b779"
             ],
             [
              0.7777777777777778,
              "#6ece58"
             ],
             [
              0.8888888888888888,
              "#b5de2b"
             ],
             [
              1,
              "#fde725"
             ]
            ],
            "type": "heatmapgl"
           }
          ],
          "histogram": [
           {
            "marker": {
             "line": {
              "color": "white",
              "width": 0.6
             }
            },
            "type": "histogram"
           }
          ],
          "histogram2d": [
           {
            "colorbar": {
             "outlinewidth": 1,
             "tickcolor": "rgb(36,36,36)",
             "ticks": "outside"
            },
            "colorscale": [
             [
              0,
              "#440154"
             ],
             [
              0.1111111111111111,
              "#482878"
             ],
             [
              0.2222222222222222,
              "#3e4989"
             ],
             [
              0.3333333333333333,
              "#31688e"
             ],
             [
              0.4444444444444444,
              "#26828e"
             ],
             [
              0.5555555555555556,
              "#1f9e89"
             ],
             [
              0.6666666666666666,
              "#35b779"
             ],
             [
              0.7777777777777778,
              "#6ece58"
             ],
             [
              0.8888888888888888,
              "#b5de2b"
             ],
             [
              1,
              "#fde725"
             ]
            ],
            "type": "histogram2d"
           }
          ],
          "histogram2dcontour": [
           {
            "colorbar": {
             "outlinewidth": 1,
             "tickcolor": "rgb(36,36,36)",
             "ticks": "outside"
            },
            "colorscale": [
             [
              0,
              "#440154"
             ],
             [
              0.1111111111111111,
              "#482878"
             ],
             [
              0.2222222222222222,
              "#3e4989"
             ],
             [
              0.3333333333333333,
              "#31688e"
             ],
             [
              0.4444444444444444,
              "#26828e"
             ],
             [
              0.5555555555555556,
              "#1f9e89"
             ],
             [
              0.6666666666666666,
              "#35b779"
             ],
             [
              0.7777777777777778,
              "#6ece58"
             ],
             [
              0.8888888888888888,
              "#b5de2b"
             ],
             [
              1,
              "#fde725"
             ]
            ],
            "type": "histogram2dcontour"
           }
          ],
          "mesh3d": [
           {
            "colorbar": {
             "outlinewidth": 1,
             "tickcolor": "rgb(36,36,36)",
             "ticks": "outside"
            },
            "type": "mesh3d"
           }
          ],
          "parcoords": [
           {
            "line": {
             "colorbar": {
              "outlinewidth": 1,
              "tickcolor": "rgb(36,36,36)",
              "ticks": "outside"
             }
            },
            "type": "parcoords"
           }
          ],
          "pie": [
           {
            "automargin": true,
            "type": "pie"
           }
          ],
          "scatter": [
           {
            "fillpattern": {
             "fillmode": "overlay",
             "size": 10,
             "solidity": 0.2
            },
            "type": "scatter"
           }
          ],
          "scatter3d": [
           {
            "line": {
             "colorbar": {
              "outlinewidth": 1,
              "tickcolor": "rgb(36,36,36)",
              "ticks": "outside"
             }
            },
            "marker": {
             "colorbar": {
              "outlinewidth": 1,
              "tickcolor": "rgb(36,36,36)",
              "ticks": "outside"
             }
            },
            "type": "scatter3d"
           }
          ],
          "scattercarpet": [
           {
            "marker": {
             "colorbar": {
              "outlinewidth": 1,
              "tickcolor": "rgb(36,36,36)",
              "ticks": "outside"
             }
            },
            "type": "scattercarpet"
           }
          ],
          "scattergeo": [
           {
            "marker": {
             "colorbar": {
              "outlinewidth": 1,
              "tickcolor": "rgb(36,36,36)",
              "ticks": "outside"
             }
            },
            "type": "scattergeo"
           }
          ],
          "scattergl": [
           {
            "marker": {
             "colorbar": {
              "outlinewidth": 1,
              "tickcolor": "rgb(36,36,36)",
              "ticks": "outside"
             }
            },
            "type": "scattergl"
           }
          ],
          "scattermapbox": [
           {
            "marker": {
             "colorbar": {
              "outlinewidth": 1,
              "tickcolor": "rgb(36,36,36)",
              "ticks": "outside"
             }
            },
            "type": "scattermapbox"
           }
          ],
          "scatterpolar": [
           {
            "marker": {
             "colorbar": {
              "outlinewidth": 1,
              "tickcolor": "rgb(36,36,36)",
              "ticks": "outside"
             }
            },
            "type": "scatterpolar"
           }
          ],
          "scatterpolargl": [
           {
            "marker": {
             "colorbar": {
              "outlinewidth": 1,
              "tickcolor": "rgb(36,36,36)",
              "ticks": "outside"
             }
            },
            "type": "scatterpolargl"
           }
          ],
          "scatterternary": [
           {
            "marker": {
             "colorbar": {
              "outlinewidth": 1,
              "tickcolor": "rgb(36,36,36)",
              "ticks": "outside"
             }
            },
            "type": "scatterternary"
           }
          ],
          "surface": [
           {
            "colorbar": {
             "outlinewidth": 1,
             "tickcolor": "rgb(36,36,36)",
             "ticks": "outside"
            },
            "colorscale": [
             [
              0,
              "#440154"
             ],
             [
              0.1111111111111111,
              "#482878"
             ],
             [
              0.2222222222222222,
              "#3e4989"
             ],
             [
              0.3333333333333333,
              "#31688e"
             ],
             [
              0.4444444444444444,
              "#26828e"
             ],
             [
              0.5555555555555556,
              "#1f9e89"
             ],
             [
              0.6666666666666666,
              "#35b779"
             ],
             [
              0.7777777777777778,
              "#6ece58"
             ],
             [
              0.8888888888888888,
              "#b5de2b"
             ],
             [
              1,
              "#fde725"
             ]
            ],
            "type": "surface"
           }
          ],
          "table": [
           {
            "cells": {
             "fill": {
              "color": "rgb(237,237,237)"
             },
             "line": {
              "color": "white"
             }
            },
            "header": {
             "fill": {
              "color": "rgb(217,217,217)"
             },
             "line": {
              "color": "white"
             }
            },
            "type": "table"
           }
          ]
         },
         "layout": {
          "annotationdefaults": {
           "arrowhead": 0,
           "arrowwidth": 1
          },
          "autotypenumbers": "strict",
          "coloraxis": {
           "colorbar": {
            "outlinewidth": 1,
            "tickcolor": "rgb(36,36,36)",
            "ticks": "outside"
           }
          },
          "colorscale": {
           "diverging": [
            [
             0,
             "rgb(103,0,31)"
            ],
            [
             0.1,
             "rgb(178,24,43)"
            ],
            [
             0.2,
             "rgb(214,96,77)"
            ],
            [
             0.3,
             "rgb(244,165,130)"
            ],
            [
             0.4,
             "rgb(253,219,199)"
            ],
            [
             0.5,
             "rgb(247,247,247)"
            ],
            [
             0.6,
             "rgb(209,229,240)"
            ],
            [
             0.7,
             "rgb(146,197,222)"
            ],
            [
             0.8,
             "rgb(67,147,195)"
            ],
            [
             0.9,
             "rgb(33,102,172)"
            ],
            [
             1,
             "rgb(5,48,97)"
            ]
           ],
           "sequential": [
            [
             0,
             "#440154"
            ],
            [
             0.1111111111111111,
             "#482878"
            ],
            [
             0.2222222222222222,
             "#3e4989"
            ],
            [
             0.3333333333333333,
             "#31688e"
            ],
            [
             0.4444444444444444,
             "#26828e"
            ],
            [
             0.5555555555555556,
             "#1f9e89"
            ],
            [
             0.6666666666666666,
             "#35b779"
            ],
            [
             0.7777777777777778,
             "#6ece58"
            ],
            [
             0.8888888888888888,
             "#b5de2b"
            ],
            [
             1,
             "#fde725"
            ]
           ],
           "sequentialminus": [
            [
             0,
             "#440154"
            ],
            [
             0.1111111111111111,
             "#482878"
            ],
            [
             0.2222222222222222,
             "#3e4989"
            ],
            [
             0.3333333333333333,
             "#31688e"
            ],
            [
             0.4444444444444444,
             "#26828e"
            ],
            [
             0.5555555555555556,
             "#1f9e89"
            ],
            [
             0.6666666666666666,
             "#35b779"
            ],
            [
             0.7777777777777778,
             "#6ece58"
            ],
            [
             0.8888888888888888,
             "#b5de2b"
            ],
            [
             1,
             "#fde725"
            ]
           ]
          },
          "colorway": [
           "#1F77B4",
           "#FF7F0E",
           "#2CA02C",
           "#D62728",
           "#9467BD",
           "#8C564B",
           "#E377C2",
           "#7F7F7F",
           "#BCBD22",
           "#17BECF"
          ],
          "font": {
           "color": "rgb(36,36,36)"
          },
          "geo": {
           "bgcolor": "white",
           "lakecolor": "white",
           "landcolor": "white",
           "showlakes": true,
           "showland": true,
           "subunitcolor": "white"
          },
          "hoverlabel": {
           "align": "left"
          },
          "hovermode": "closest",
          "mapbox": {
           "style": "light"
          },
          "paper_bgcolor": "white",
          "plot_bgcolor": "white",
          "polar": {
           "angularaxis": {
            "gridcolor": "rgb(232,232,232)",
            "linecolor": "rgb(36,36,36)",
            "showgrid": false,
            "showline": true,
            "ticks": "outside"
           },
           "bgcolor": "white",
           "radialaxis": {
            "gridcolor": "rgb(232,232,232)",
            "linecolor": "rgb(36,36,36)",
            "showgrid": false,
            "showline": true,
            "ticks": "outside"
           }
          },
          "scene": {
           "xaxis": {
            "backgroundcolor": "white",
            "gridcolor": "rgb(232,232,232)",
            "gridwidth": 2,
            "linecolor": "rgb(36,36,36)",
            "showbackground": true,
            "showgrid": false,
            "showline": true,
            "ticks": "outside",
            "zeroline": false,
            "zerolinecolor": "rgb(36,36,36)"
           },
           "yaxis": {
            "backgroundcolor": "white",
            "gridcolor": "rgb(232,232,232)",
            "gridwidth": 2,
            "linecolor": "rgb(36,36,36)",
            "showbackground": true,
            "showgrid": false,
            "showline": true,
            "ticks": "outside",
            "zeroline": false,
            "zerolinecolor": "rgb(36,36,36)"
           },
           "zaxis": {
            "backgroundcolor": "white",
            "gridcolor": "rgb(232,232,232)",
            "gridwidth": 2,
            "linecolor": "rgb(36,36,36)",
            "showbackground": true,
            "showgrid": false,
            "showline": true,
            "ticks": "outside",
            "zeroline": false,
            "zerolinecolor": "rgb(36,36,36)"
           }
          },
          "shapedefaults": {
           "fillcolor": "black",
           "line": {
            "width": 0
           },
           "opacity": 0.3
          },
          "ternary": {
           "aaxis": {
            "gridcolor": "rgb(232,232,232)",
            "linecolor": "rgb(36,36,36)",
            "showgrid": false,
            "showline": true,
            "ticks": "outside"
           },
           "baxis": {
            "gridcolor": "rgb(232,232,232)",
            "linecolor": "rgb(36,36,36)",
            "showgrid": false,
            "showline": true,
            "ticks": "outside"
           },
           "bgcolor": "white",
           "caxis": {
            "gridcolor": "rgb(232,232,232)",
            "linecolor": "rgb(36,36,36)",
            "showgrid": false,
            "showline": true,
            "ticks": "outside"
           }
          },
          "title": {
           "x": 0.05
          },
          "xaxis": {
           "automargin": true,
           "gridcolor": "rgb(232,232,232)",
           "linecolor": "rgb(36,36,36)",
           "showgrid": false,
           "showline": true,
           "ticks": "outside",
           "title": {
            "standoff": 15
           },
           "zeroline": false,
           "zerolinecolor": "rgb(36,36,36)"
          },
          "yaxis": {
           "automargin": true,
           "gridcolor": "rgb(232,232,232)",
           "linecolor": "rgb(36,36,36)",
           "showgrid": false,
           "showline": true,
           "ticks": "outside",
           "title": {
            "standoff": 15
           },
           "zeroline": false,
           "zerolinecolor": "rgb(36,36,36)"
          }
         }
        },
        "title": {
         "font": {
          "color": "Black",
          "size": 22
         },
         "text": "<b>Intertopic Distance Map",
         "x": 0.5,
         "xanchor": "center",
         "y": 0.95,
         "yanchor": "top"
        },
        "width": 650,
        "xaxis": {
         "anchor": "y",
         "domain": [
          0,
          1
         ],
         "range": [
          -13.695498514175416,
          9.099876093864442
         ],
         "title": {
          "text": ""
         },
         "visible": false
        },
        "yaxis": {
         "anchor": "x",
         "domain": [
          0,
          1
         ],
         "range": [
          1.8465703964233398,
          19.637650299072266
         ],
         "title": {
          "text": ""
         },
         "visible": false
        }
       }
      }
     },
     "metadata": {},
     "output_type": "display_data"
    }
   ],
   "source": [
    "topic_model.visualize_topics()"
   ]
  },
  {
   "cell_type": "code",
   "execution_count": 60,
   "metadata": {},
   "outputs": [
    {
     "data": {
      "application/vnd.plotly.v1+json": {
       "config": {
        "plotlyServerURL": "https://plot.ly"
       },
       "data": [
        {
         "marker": {
          "color": "#C8D2D7",
          "line": {
           "color": "#6E8484",
           "width": 1
          }
         },
         "orientation": "h",
         "type": "bar",
         "x": [
          0.2646668560590749,
          0.025875510428052063,
          0.023855203412874195,
          0.0360665261021783,
          0.02595557683074426,
          0.05470265161200656,
          0.035712251336076986,
          0.024617782044282065,
          0.05395002150796994,
          0.029090057998327756,
          0.04040488236118753,
          0.027773589957735722,
          0.04887266134761582,
          0.02562990685732699,
          0.03389404787069543,
          0.04678149254663934,
          0.03243774750911133,
          0.03355514374966471,
          0.06252261783821977
         ],
         "y": [
          "<b>Topic 0</b>: coronavirus_ministerieel...",
          "<b>Topic 1</b>: brussels_hoofdstedelijk_...",
          "<b>Topic 2</b>: franse_gemeenschap_kader...",
          "<b>Topic 3</b>: grond_wet_volksvertegenw...",
          "<b>Topic 4</b>: vertaling_duits_waarde_t...",
          "<b>Topic 5</b>: waals_regering_waalse_de...",
          "<b>Topic 6</b>: koninklijk_werkloosheid_...",
          "<b>Topic 7</b>: definitief_situatie_cont...",
          "<b>Topic 8</b>: vlaams_opvang_handicap_g...",
          "<b>Topic 9</b>: aanslagjaar_belasting_aa...",
          "<b>Topic 10</b>: onderwijs_onderwijswete...",
          "<b>Topic 11</b>: europese_regeling_unie_...",
          "<b>Topic 12</b>: verzekering_geneeskundi...",
          "<b>Topic 13</b>: wetboek_inkomstenbelast...",
          "<b>Topic 14</b>: begrotingsjaar_uitgaven...",
          "<b>Topic 15</b>: werk_sociale_ambt_openb...",
          "<b>Topic 16</b>: gemeenschappelijkegemee...",
          "<b>Topic 17</b>: buitenlands_voorlopig_z...",
          "<b>Topic 18</b>: vlaams_ondersteuning_re..."
         ]
        }
       ],
       "layout": {
        "height": 600,
        "hoverlabel": {
         "bgcolor": "white",
         "font": {
          "family": "Rockwell",
          "size": 16
         }
        },
        "template": {
         "data": {
          "bar": [
           {
            "error_x": {
             "color": "rgb(36,36,36)"
            },
            "error_y": {
             "color": "rgb(36,36,36)"
            },
            "marker": {
             "line": {
              "color": "white",
              "width": 0.5
             },
             "pattern": {
              "fillmode": "overlay",
              "size": 10,
              "solidity": 0.2
             }
            },
            "type": "bar"
           }
          ],
          "barpolar": [
           {
            "marker": {
             "line": {
              "color": "white",
              "width": 0.5
             },
             "pattern": {
              "fillmode": "overlay",
              "size": 10,
              "solidity": 0.2
             }
            },
            "type": "barpolar"
           }
          ],
          "carpet": [
           {
            "aaxis": {
             "endlinecolor": "rgb(36,36,36)",
             "gridcolor": "white",
             "linecolor": "white",
             "minorgridcolor": "white",
             "startlinecolor": "rgb(36,36,36)"
            },
            "baxis": {
             "endlinecolor": "rgb(36,36,36)",
             "gridcolor": "white",
             "linecolor": "white",
             "minorgridcolor": "white",
             "startlinecolor": "rgb(36,36,36)"
            },
            "type": "carpet"
           }
          ],
          "choropleth": [
           {
            "colorbar": {
             "outlinewidth": 1,
             "tickcolor": "rgb(36,36,36)",
             "ticks": "outside"
            },
            "type": "choropleth"
           }
          ],
          "contour": [
           {
            "colorbar": {
             "outlinewidth": 1,
             "tickcolor": "rgb(36,36,36)",
             "ticks": "outside"
            },
            "colorscale": [
             [
              0,
              "#440154"
             ],
             [
              0.1111111111111111,
              "#482878"
             ],
             [
              0.2222222222222222,
              "#3e4989"
             ],
             [
              0.3333333333333333,
              "#31688e"
             ],
             [
              0.4444444444444444,
              "#26828e"
             ],
             [
              0.5555555555555556,
              "#1f9e89"
             ],
             [
              0.6666666666666666,
              "#35b779"
             ],
             [
              0.7777777777777778,
              "#6ece58"
             ],
             [
              0.8888888888888888,
              "#b5de2b"
             ],
             [
              1,
              "#fde725"
             ]
            ],
            "type": "contour"
           }
          ],
          "contourcarpet": [
           {
            "colorbar": {
             "outlinewidth": 1,
             "tickcolor": "rgb(36,36,36)",
             "ticks": "outside"
            },
            "type": "contourcarpet"
           }
          ],
          "heatmap": [
           {
            "colorbar": {
             "outlinewidth": 1,
             "tickcolor": "rgb(36,36,36)",
             "ticks": "outside"
            },
            "colorscale": [
             [
              0,
              "#440154"
             ],
             [
              0.1111111111111111,
              "#482878"
             ],
             [
              0.2222222222222222,
              "#3e4989"
             ],
             [
              0.3333333333333333,
              "#31688e"
             ],
             [
              0.4444444444444444,
              "#26828e"
             ],
             [
              0.5555555555555556,
              "#1f9e89"
             ],
             [
              0.6666666666666666,
              "#35b779"
             ],
             [
              0.7777777777777778,
              "#6ece58"
             ],
             [
              0.8888888888888888,
              "#b5de2b"
             ],
             [
              1,
              "#fde725"
             ]
            ],
            "type": "heatmap"
           }
          ],
          "heatmapgl": [
           {
            "colorbar": {
             "outlinewidth": 1,
             "tickcolor": "rgb(36,36,36)",
             "ticks": "outside"
            },
            "colorscale": [
             [
              0,
              "#440154"
             ],
             [
              0.1111111111111111,
              "#482878"
             ],
             [
              0.2222222222222222,
              "#3e4989"
             ],
             [
              0.3333333333333333,
              "#31688e"
             ],
             [
              0.4444444444444444,
              "#26828e"
             ],
             [
              0.5555555555555556,
              "#1f9e89"
             ],
             [
              0.6666666666666666,
              "#35b779"
             ],
             [
              0.7777777777777778,
              "#6ece58"
             ],
             [
              0.8888888888888888,
              "#b5de2b"
             ],
             [
              1,
              "#fde725"
             ]
            ],
            "type": "heatmapgl"
           }
          ],
          "histogram": [
           {
            "marker": {
             "line": {
              "color": "white",
              "width": 0.6
             }
            },
            "type": "histogram"
           }
          ],
          "histogram2d": [
           {
            "colorbar": {
             "outlinewidth": 1,
             "tickcolor": "rgb(36,36,36)",
             "ticks": "outside"
            },
            "colorscale": [
             [
              0,
              "#440154"
             ],
             [
              0.1111111111111111,
              "#482878"
             ],
             [
              0.2222222222222222,
              "#3e4989"
             ],
             [
              0.3333333333333333,
              "#31688e"
             ],
             [
              0.4444444444444444,
              "#26828e"
             ],
             [
              0.5555555555555556,
              "#1f9e89"
             ],
             [
              0.6666666666666666,
              "#35b779"
             ],
             [
              0.7777777777777778,
              "#6ece58"
             ],
             [
              0.8888888888888888,
              "#b5de2b"
             ],
             [
              1,
              "#fde725"
             ]
            ],
            "type": "histogram2d"
           }
          ],
          "histogram2dcontour": [
           {
            "colorbar": {
             "outlinewidth": 1,
             "tickcolor": "rgb(36,36,36)",
             "ticks": "outside"
            },
            "colorscale": [
             [
              0,
              "#440154"
             ],
             [
              0.1111111111111111,
              "#482878"
             ],
             [
              0.2222222222222222,
              "#3e4989"
             ],
             [
              0.3333333333333333,
              "#31688e"
             ],
             [
              0.4444444444444444,
              "#26828e"
             ],
             [
              0.5555555555555556,
              "#1f9e89"
             ],
             [
              0.6666666666666666,
              "#35b779"
             ],
             [
              0.7777777777777778,
              "#6ece58"
             ],
             [
              0.8888888888888888,
              "#b5de2b"
             ],
             [
              1,
              "#fde725"
             ]
            ],
            "type": "histogram2dcontour"
           }
          ],
          "mesh3d": [
           {
            "colorbar": {
             "outlinewidth": 1,
             "tickcolor": "rgb(36,36,36)",
             "ticks": "outside"
            },
            "type": "mesh3d"
           }
          ],
          "parcoords": [
           {
            "line": {
             "colorbar": {
              "outlinewidth": 1,
              "tickcolor": "rgb(36,36,36)",
              "ticks": "outside"
             }
            },
            "type": "parcoords"
           }
          ],
          "pie": [
           {
            "automargin": true,
            "type": "pie"
           }
          ],
          "scatter": [
           {
            "fillpattern": {
             "fillmode": "overlay",
             "size": 10,
             "solidity": 0.2
            },
            "type": "scatter"
           }
          ],
          "scatter3d": [
           {
            "line": {
             "colorbar": {
              "outlinewidth": 1,
              "tickcolor": "rgb(36,36,36)",
              "ticks": "outside"
             }
            },
            "marker": {
             "colorbar": {
              "outlinewidth": 1,
              "tickcolor": "rgb(36,36,36)",
              "ticks": "outside"
             }
            },
            "type": "scatter3d"
           }
          ],
          "scattercarpet": [
           {
            "marker": {
             "colorbar": {
              "outlinewidth": 1,
              "tickcolor": "rgb(36,36,36)",
              "ticks": "outside"
             }
            },
            "type": "scattercarpet"
           }
          ],
          "scattergeo": [
           {
            "marker": {
             "colorbar": {
              "outlinewidth": 1,
              "tickcolor": "rgb(36,36,36)",
              "ticks": "outside"
             }
            },
            "type": "scattergeo"
           }
          ],
          "scattergl": [
           {
            "marker": {
             "colorbar": {
              "outlinewidth": 1,
              "tickcolor": "rgb(36,36,36)",
              "ticks": "outside"
             }
            },
            "type": "scattergl"
           }
          ],
          "scattermapbox": [
           {
            "marker": {
             "colorbar": {
              "outlinewidth": 1,
              "tickcolor": "rgb(36,36,36)",
              "ticks": "outside"
             }
            },
            "type": "scattermapbox"
           }
          ],
          "scatterpolar": [
           {
            "marker": {
             "colorbar": {
              "outlinewidth": 1,
              "tickcolor": "rgb(36,36,36)",
              "ticks": "outside"
             }
            },
            "type": "scatterpolar"
           }
          ],
          "scatterpolargl": [
           {
            "marker": {
             "colorbar": {
              "outlinewidth": 1,
              "tickcolor": "rgb(36,36,36)",
              "ticks": "outside"
             }
            },
            "type": "scatterpolargl"
           }
          ],
          "scatterternary": [
           {
            "marker": {
             "colorbar": {
              "outlinewidth": 1,
              "tickcolor": "rgb(36,36,36)",
              "ticks": "outside"
             }
            },
            "type": "scatterternary"
           }
          ],
          "surface": [
           {
            "colorbar": {
             "outlinewidth": 1,
             "tickcolor": "rgb(36,36,36)",
             "ticks": "outside"
            },
            "colorscale": [
             [
              0,
              "#440154"
             ],
             [
              0.1111111111111111,
              "#482878"
             ],
             [
              0.2222222222222222,
              "#3e4989"
             ],
             [
              0.3333333333333333,
              "#31688e"
             ],
             [
              0.4444444444444444,
              "#26828e"
             ],
             [
              0.5555555555555556,
              "#1f9e89"
             ],
             [
              0.6666666666666666,
              "#35b779"
             ],
             [
              0.7777777777777778,
              "#6ece58"
             ],
             [
              0.8888888888888888,
              "#b5de2b"
             ],
             [
              1,
              "#fde725"
             ]
            ],
            "type": "surface"
           }
          ],
          "table": [
           {
            "cells": {
             "fill": {
              "color": "rgb(237,237,237)"
             },
             "line": {
              "color": "white"
             }
            },
            "header": {
             "fill": {
              "color": "rgb(217,217,217)"
             },
             "line": {
              "color": "white"
             }
            },
            "type": "table"
           }
          ]
         },
         "layout": {
          "annotationdefaults": {
           "arrowhead": 0,
           "arrowwidth": 1
          },
          "autotypenumbers": "strict",
          "coloraxis": {
           "colorbar": {
            "outlinewidth": 1,
            "tickcolor": "rgb(36,36,36)",
            "ticks": "outside"
           }
          },
          "colorscale": {
           "diverging": [
            [
             0,
             "rgb(103,0,31)"
            ],
            [
             0.1,
             "rgb(178,24,43)"
            ],
            [
             0.2,
             "rgb(214,96,77)"
            ],
            [
             0.3,
             "rgb(244,165,130)"
            ],
            [
             0.4,
             "rgb(253,219,199)"
            ],
            [
             0.5,
             "rgb(247,247,247)"
            ],
            [
             0.6,
             "rgb(209,229,240)"
            ],
            [
             0.7,
             "rgb(146,197,222)"
            ],
            [
             0.8,
             "rgb(67,147,195)"
            ],
            [
             0.9,
             "rgb(33,102,172)"
            ],
            [
             1,
             "rgb(5,48,97)"
            ]
           ],
           "sequential": [
            [
             0,
             "#440154"
            ],
            [
             0.1111111111111111,
             "#482878"
            ],
            [
             0.2222222222222222,
             "#3e4989"
            ],
            [
             0.3333333333333333,
             "#31688e"
            ],
            [
             0.4444444444444444,
             "#26828e"
            ],
            [
             0.5555555555555556,
             "#1f9e89"
            ],
            [
             0.6666666666666666,
             "#35b779"
            ],
            [
             0.7777777777777778,
             "#6ece58"
            ],
            [
             0.8888888888888888,
             "#b5de2b"
            ],
            [
             1,
             "#fde725"
            ]
           ],
           "sequentialminus": [
            [
             0,
             "#440154"
            ],
            [
             0.1111111111111111,
             "#482878"
            ],
            [
             0.2222222222222222,
             "#3e4989"
            ],
            [
             0.3333333333333333,
             "#31688e"
            ],
            [
             0.4444444444444444,
             "#26828e"
            ],
            [
             0.5555555555555556,
             "#1f9e89"
            ],
            [
             0.6666666666666666,
             "#35b779"
            ],
            [
             0.7777777777777778,
             "#6ece58"
            ],
            [
             0.8888888888888888,
             "#b5de2b"
            ],
            [
             1,
             "#fde725"
            ]
           ]
          },
          "colorway": [
           "#1F77B4",
           "#FF7F0E",
           "#2CA02C",
           "#D62728",
           "#9467BD",
           "#8C564B",
           "#E377C2",
           "#7F7F7F",
           "#BCBD22",
           "#17BECF"
          ],
          "font": {
           "color": "rgb(36,36,36)"
          },
          "geo": {
           "bgcolor": "white",
           "lakecolor": "white",
           "landcolor": "white",
           "showlakes": true,
           "showland": true,
           "subunitcolor": "white"
          },
          "hoverlabel": {
           "align": "left"
          },
          "hovermode": "closest",
          "mapbox": {
           "style": "light"
          },
          "paper_bgcolor": "white",
          "plot_bgcolor": "white",
          "polar": {
           "angularaxis": {
            "gridcolor": "rgb(232,232,232)",
            "linecolor": "rgb(36,36,36)",
            "showgrid": false,
            "showline": true,
            "ticks": "outside"
           },
           "bgcolor": "white",
           "radialaxis": {
            "gridcolor": "rgb(232,232,232)",
            "linecolor": "rgb(36,36,36)",
            "showgrid": false,
            "showline": true,
            "ticks": "outside"
           }
          },
          "scene": {
           "xaxis": {
            "backgroundcolor": "white",
            "gridcolor": "rgb(232,232,232)",
            "gridwidth": 2,
            "linecolor": "rgb(36,36,36)",
            "showbackground": true,
            "showgrid": false,
            "showline": true,
            "ticks": "outside",
            "zeroline": false,
            "zerolinecolor": "rgb(36,36,36)"
           },
           "yaxis": {
            "backgroundcolor": "white",
            "gridcolor": "rgb(232,232,232)",
            "gridwidth": 2,
            "linecolor": "rgb(36,36,36)",
            "showbackground": true,
            "showgrid": false,
            "showline": true,
            "ticks": "outside",
            "zeroline": false,
            "zerolinecolor": "rgb(36,36,36)"
           },
           "zaxis": {
            "backgroundcolor": "white",
            "gridcolor": "rgb(232,232,232)",
            "gridwidth": 2,
            "linecolor": "rgb(36,36,36)",
            "showbackground": true,
            "showgrid": false,
            "showline": true,
            "ticks": "outside",
            "zeroline": false,
            "zerolinecolor": "rgb(36,36,36)"
           }
          },
          "shapedefaults": {
           "fillcolor": "black",
           "line": {
            "width": 0
           },
           "opacity": 0.3
          },
          "ternary": {
           "aaxis": {
            "gridcolor": "rgb(232,232,232)",
            "linecolor": "rgb(36,36,36)",
            "showgrid": false,
            "showline": true,
            "ticks": "outside"
           },
           "baxis": {
            "gridcolor": "rgb(232,232,232)",
            "linecolor": "rgb(36,36,36)",
            "showgrid": false,
            "showline": true,
            "ticks": "outside"
           },
           "bgcolor": "white",
           "caxis": {
            "gridcolor": "rgb(232,232,232)",
            "linecolor": "rgb(36,36,36)",
            "showgrid": false,
            "showline": true,
            "ticks": "outside"
           }
          },
          "title": {
           "x": 0.05
          },
          "xaxis": {
           "automargin": true,
           "gridcolor": "rgb(232,232,232)",
           "linecolor": "rgb(36,36,36)",
           "showgrid": false,
           "showline": true,
           "ticks": "outside",
           "title": {
            "standoff": 15
           },
           "zeroline": false,
           "zerolinecolor": "rgb(36,36,36)"
          },
          "yaxis": {
           "automargin": true,
           "gridcolor": "rgb(232,232,232)",
           "linecolor": "rgb(36,36,36)",
           "showgrid": false,
           "showline": true,
           "ticks": "outside",
           "title": {
            "standoff": 15
           },
           "zeroline": false,
           "zerolinecolor": "rgb(36,36,36)"
          }
         }
        },
        "title": {
         "font": {
          "color": "Black",
          "size": 22
         },
         "text": "<b>Topic Probability Distribution",
         "x": 0.5,
         "xanchor": "center",
         "y": 0.95,
         "yanchor": "top"
        },
        "width": 800,
        "xaxis": {
         "title": {
          "text": "Probability"
         }
        }
       }
      }
     },
     "metadata": {},
     "output_type": "display_data"
    }
   ],
   "source": [
    "topic_model.visualize_distribution(probs[200], min_probability=0.0015)"
   ]
  },
  {
   "cell_type": "code",
   "execution_count": 61,
   "metadata": {},
   "outputs": [
    {
     "data": {
      "application/vnd.plotly.v1+json": {
       "config": {
        "plotlyServerURL": "https://plot.ly"
       },
       "data": [
        {
         "hoverinfo": "text",
         "marker": {
          "color": "rgb(61,153,112)"
         },
         "mode": "lines",
         "type": "scatter",
         "x": [
          0,
          0.20644170031997253,
          0.20644170031997253,
          0
         ],
         "xaxis": "x",
         "y": [
          -15,
          -15,
          -25,
          -25
         ],
         "yaxis": "y"
        },
        {
         "hoverinfo": "text",
         "marker": {
          "color": "rgb(61,153,112)"
         },
         "mode": "lines",
         "type": "scatter",
         "x": [
          0,
          0.2316421720838512,
          0.2316421720838512,
          0.20644170031997253
         ],
         "xaxis": "x",
         "y": [
          -5,
          -5,
          -20,
          -20
         ],
         "yaxis": "y"
        },
        {
         "hoverinfo": "text",
         "marker": {
          "color": "rgb(61,153,112)"
         },
         "mode": "lines",
         "type": "scatter",
         "x": [
          0,
          0.19466577514454395,
          0.19466577514454395,
          0
         ],
         "xaxis": "x",
         "y": [
          -35,
          -35,
          -45,
          -45
         ],
         "yaxis": "y"
        },
        {
         "hoverinfo": "text",
         "marker": {
          "color": "rgb(61,153,112)"
         },
         "mode": "lines",
         "type": "scatter",
         "x": [
          0,
          0.2072855022106763,
          0.2072855022106763,
          0
         ],
         "xaxis": "x",
         "y": [
          -55,
          -55,
          -65,
          -65
         ],
         "yaxis": "y"
        },
        {
         "hoverinfo": "text",
         "marker": {
          "color": "rgb(61,153,112)"
         },
         "mode": "lines",
         "type": "scatter",
         "x": [
          0,
          0.19941436735580229,
          0.19941436735580229,
          0
         ],
         "xaxis": "x",
         "y": [
          -75,
          -75,
          -85,
          -85
         ],
         "yaxis": "y"
        },
        {
         "hoverinfo": "text",
         "marker": {
          "color": "rgb(61,153,112)"
         },
         "mode": "lines",
         "type": "scatter",
         "x": [
          0,
          0.17269906004266442,
          0.17269906004266442,
          0
         ],
         "xaxis": "x",
         "y": [
          -105,
          -105,
          -115,
          -115
         ],
         "yaxis": "y"
        },
        {
         "hoverinfo": "text",
         "marker": {
          "color": "rgb(61,153,112)"
         },
         "mode": "lines",
         "type": "scatter",
         "x": [
          0,
          0.21691421201345498,
          0.21691421201345498,
          0.17269906004266442
         ],
         "xaxis": "x",
         "y": [
          -95,
          -95,
          -110,
          -110
         ],
         "yaxis": "y"
        },
        {
         "hoverinfo": "text",
         "marker": {
          "color": "rgb(61,153,112)"
         },
         "mode": "lines",
         "type": "scatter",
         "x": [
          0.19941436735580229,
          0.2647452482364849,
          0.2647452482364849,
          0.21691421201345498
         ],
         "xaxis": "x",
         "y": [
          -80,
          -80,
          -102.5,
          -102.5
         ],
         "yaxis": "y"
        },
        {
         "hoverinfo": "text",
         "marker": {
          "color": "rgb(61,153,112)"
         },
         "mode": "lines",
         "type": "scatter",
         "x": [
          0.2072855022106763,
          0.28058691682629444,
          0.28058691682629444,
          0.2647452482364849
         ],
         "xaxis": "x",
         "y": [
          -60,
          -60,
          -91.25,
          -91.25
         ],
         "yaxis": "y"
        },
        {
         "hoverinfo": "text",
         "marker": {
          "color": "rgb(61,153,112)"
         },
         "mode": "lines",
         "type": "scatter",
         "x": [
          0.19466577514454395,
          0.28751664465138077,
          0.28751664465138077,
          0.28058691682629444
         ],
         "xaxis": "x",
         "y": [
          -40,
          -40,
          -75.625,
          -75.625
         ],
         "yaxis": "y"
        },
        {
         "hoverinfo": "text",
         "marker": {
          "color": "rgb(61,153,112)"
         },
         "mode": "lines",
         "type": "scatter",
         "x": [
          0.2316421720838512,
          0.3680813042047547,
          0.3680813042047547,
          0.28751664465138077
         ],
         "xaxis": "x",
         "y": [
          -12.5,
          -12.5,
          -57.8125,
          -57.8125
         ],
         "yaxis": "y"
        },
        {
         "hoverinfo": "text",
         "marker": {
          "color": "rgb(255,65,54)"
         },
         "mode": "lines",
         "type": "scatter",
         "x": [
          0,
          0.3374751348162546,
          0.3374751348162546,
          0
         ],
         "xaxis": "x",
         "y": [
          -145,
          -145,
          -155,
          -155
         ],
         "yaxis": "y"
        },
        {
         "hoverinfo": "text",
         "marker": {
          "color": "rgb(255,65,54)"
         },
         "mode": "lines",
         "type": "scatter",
         "x": [
          0,
          0.4047469781101005,
          0.4047469781101005,
          0.3374751348162546
         ],
         "xaxis": "x",
         "y": [
          -135,
          -135,
          -150,
          -150
         ],
         "yaxis": "y"
        },
        {
         "hoverinfo": "text",
         "marker": {
          "color": "rgb(255,65,54)"
         },
         "mode": "lines",
         "type": "scatter",
         "x": [
          0,
          0.4382185569814814,
          0.4382185569814814,
          0
         ],
         "xaxis": "x",
         "y": [
          -175,
          -175,
          -185,
          -185
         ],
         "yaxis": "y"
        },
        {
         "hoverinfo": "text",
         "marker": {
          "color": "rgb(255,65,54)"
         },
         "mode": "lines",
         "type": "scatter",
         "x": [
          0,
          0.49821831044930065,
          0.49821831044930065,
          0.4382185569814814
         ],
         "xaxis": "x",
         "y": [
          -165,
          -165,
          -180,
          -180
         ],
         "yaxis": "y"
        },
        {
         "hoverinfo": "text",
         "marker": {
          "color": "rgb(255,65,54)"
         },
         "mode": "lines",
         "type": "scatter",
         "x": [
          0.4047469781101005,
          0.5940487534380456,
          0.5940487534380456,
          0.49821831044930065
         ],
         "xaxis": "x",
         "y": [
          -142.5,
          -142.5,
          -172.5,
          -172.5
         ],
         "yaxis": "y"
        },
        {
         "hoverinfo": "text",
         "marker": {
          "color": "rgb(255,65,54)"
         },
         "mode": "lines",
         "type": "scatter",
         "x": [
          0,
          0.753656959048512,
          0.753656959048512,
          0.5940487534380456
         ],
         "xaxis": "x",
         "y": [
          -125,
          -125,
          -157.5,
          -157.5
         ],
         "yaxis": "y"
        },
        {
         "hoverinfo": "text",
         "marker": {
          "color": "rgb(0,116,217)"
         },
         "mode": "lines",
         "type": "scatter",
         "x": [
          0.3680813042047547,
          1.102693490634292,
          1.102693490634292,
          0.753656959048512
         ],
         "xaxis": "x",
         "y": [
          -35.15625,
          -35.15625,
          -141.25,
          -141.25
         ],
         "yaxis": "y"
        }
       ],
       "layout": {
        "autosize": false,
        "height": 485,
        "hoverlabel": {
         "bgcolor": "white",
         "font": {
          "family": "Rockwell",
          "size": 16
         }
        },
        "hovermode": "closest",
        "plot_bgcolor": "#ECEFF1",
        "showlegend": false,
        "template": {
         "data": {
          "bar": [
           {
            "error_x": {
             "color": "#2a3f5f"
            },
            "error_y": {
             "color": "#2a3f5f"
            },
            "marker": {
             "line": {
              "color": "white",
              "width": 0.5
             },
             "pattern": {
              "fillmode": "overlay",
              "size": 10,
              "solidity": 0.2
             }
            },
            "type": "bar"
           }
          ],
          "barpolar": [
           {
            "marker": {
             "line": {
              "color": "white",
              "width": 0.5
             },
             "pattern": {
              "fillmode": "overlay",
              "size": 10,
              "solidity": 0.2
             }
            },
            "type": "barpolar"
           }
          ],
          "carpet": [
           {
            "aaxis": {
             "endlinecolor": "#2a3f5f",
             "gridcolor": "#C8D4E3",
             "linecolor": "#C8D4E3",
             "minorgridcolor": "#C8D4E3",
             "startlinecolor": "#2a3f5f"
            },
            "baxis": {
             "endlinecolor": "#2a3f5f",
             "gridcolor": "#C8D4E3",
             "linecolor": "#C8D4E3",
             "minorgridcolor": "#C8D4E3",
             "startlinecolor": "#2a3f5f"
            },
            "type": "carpet"
           }
          ],
          "choropleth": [
           {
            "colorbar": {
             "outlinewidth": 0,
             "ticks": ""
            },
            "type": "choropleth"
           }
          ],
          "contour": [
           {
            "colorbar": {
             "outlinewidth": 0,
             "ticks": ""
            },
            "colorscale": [
             [
              0,
              "#0d0887"
             ],
             [
              0.1111111111111111,
              "#46039f"
             ],
             [
              0.2222222222222222,
              "#7201a8"
             ],
             [
              0.3333333333333333,
              "#9c179e"
             ],
             [
              0.4444444444444444,
              "#bd3786"
             ],
             [
              0.5555555555555556,
              "#d8576b"
             ],
             [
              0.6666666666666666,
              "#ed7953"
             ],
             [
              0.7777777777777778,
              "#fb9f3a"
             ],
             [
              0.8888888888888888,
              "#fdca26"
             ],
             [
              1,
              "#f0f921"
             ]
            ],
            "type": "contour"
           }
          ],
          "contourcarpet": [
           {
            "colorbar": {
             "outlinewidth": 0,
             "ticks": ""
            },
            "type": "contourcarpet"
           }
          ],
          "heatmap": [
           {
            "colorbar": {
             "outlinewidth": 0,
             "ticks": ""
            },
            "colorscale": [
             [
              0,
              "#0d0887"
             ],
             [
              0.1111111111111111,
              "#46039f"
             ],
             [
              0.2222222222222222,
              "#7201a8"
             ],
             [
              0.3333333333333333,
              "#9c179e"
             ],
             [
              0.4444444444444444,
              "#bd3786"
             ],
             [
              0.5555555555555556,
              "#d8576b"
             ],
             [
              0.6666666666666666,
              "#ed7953"
             ],
             [
              0.7777777777777778,
              "#fb9f3a"
             ],
             [
              0.8888888888888888,
              "#fdca26"
             ],
             [
              1,
              "#f0f921"
             ]
            ],
            "type": "heatmap"
           }
          ],
          "heatmapgl": [
           {
            "colorbar": {
             "outlinewidth": 0,
             "ticks": ""
            },
            "colorscale": [
             [
              0,
              "#0d0887"
             ],
             [
              0.1111111111111111,
              "#46039f"
             ],
             [
              0.2222222222222222,
              "#7201a8"
             ],
             [
              0.3333333333333333,
              "#9c179e"
             ],
             [
              0.4444444444444444,
              "#bd3786"
             ],
             [
              0.5555555555555556,
              "#d8576b"
             ],
             [
              0.6666666666666666,
              "#ed7953"
             ],
             [
              0.7777777777777778,
              "#fb9f3a"
             ],
             [
              0.8888888888888888,
              "#fdca26"
             ],
             [
              1,
              "#f0f921"
             ]
            ],
            "type": "heatmapgl"
           }
          ],
          "histogram": [
           {
            "marker": {
             "pattern": {
              "fillmode": "overlay",
              "size": 10,
              "solidity": 0.2
             }
            },
            "type": "histogram"
           }
          ],
          "histogram2d": [
           {
            "colorbar": {
             "outlinewidth": 0,
             "ticks": ""
            },
            "colorscale": [
             [
              0,
              "#0d0887"
             ],
             [
              0.1111111111111111,
              "#46039f"
             ],
             [
              0.2222222222222222,
              "#7201a8"
             ],
             [
              0.3333333333333333,
              "#9c179e"
             ],
             [
              0.4444444444444444,
              "#bd3786"
             ],
             [
              0.5555555555555556,
              "#d8576b"
             ],
             [
              0.6666666666666666,
              "#ed7953"
             ],
             [
              0.7777777777777778,
              "#fb9f3a"
             ],
             [
              0.8888888888888888,
              "#fdca26"
             ],
             [
              1,
              "#f0f921"
             ]
            ],
            "type": "histogram2d"
           }
          ],
          "histogram2dcontour": [
           {
            "colorbar": {
             "outlinewidth": 0,
             "ticks": ""
            },
            "colorscale": [
             [
              0,
              "#0d0887"
             ],
             [
              0.1111111111111111,
              "#46039f"
             ],
             [
              0.2222222222222222,
              "#7201a8"
             ],
             [
              0.3333333333333333,
              "#9c179e"
             ],
             [
              0.4444444444444444,
              "#bd3786"
             ],
             [
              0.5555555555555556,
              "#d8576b"
             ],
             [
              0.6666666666666666,
              "#ed7953"
             ],
             [
              0.7777777777777778,
              "#fb9f3a"
             ],
             [
              0.8888888888888888,
              "#fdca26"
             ],
             [
              1,
              "#f0f921"
             ]
            ],
            "type": "histogram2dcontour"
           }
          ],
          "mesh3d": [
           {
            "colorbar": {
             "outlinewidth": 0,
             "ticks": ""
            },
            "type": "mesh3d"
           }
          ],
          "parcoords": [
           {
            "line": {
             "colorbar": {
              "outlinewidth": 0,
              "ticks": ""
             }
            },
            "type": "parcoords"
           }
          ],
          "pie": [
           {
            "automargin": true,
            "type": "pie"
           }
          ],
          "scatter": [
           {
            "fillpattern": {
             "fillmode": "overlay",
             "size": 10,
             "solidity": 0.2
            },
            "type": "scatter"
           }
          ],
          "scatter3d": [
           {
            "line": {
             "colorbar": {
              "outlinewidth": 0,
              "ticks": ""
             }
            },
            "marker": {
             "colorbar": {
              "outlinewidth": 0,
              "ticks": ""
             }
            },
            "type": "scatter3d"
           }
          ],
          "scattercarpet": [
           {
            "marker": {
             "colorbar": {
              "outlinewidth": 0,
              "ticks": ""
             }
            },
            "type": "scattercarpet"
           }
          ],
          "scattergeo": [
           {
            "marker": {
             "colorbar": {
              "outlinewidth": 0,
              "ticks": ""
             }
            },
            "type": "scattergeo"
           }
          ],
          "scattergl": [
           {
            "marker": {
             "colorbar": {
              "outlinewidth": 0,
              "ticks": ""
             }
            },
            "type": "scattergl"
           }
          ],
          "scattermapbox": [
           {
            "marker": {
             "colorbar": {
              "outlinewidth": 0,
              "ticks": ""
             }
            },
            "type": "scattermapbox"
           }
          ],
          "scatterpolar": [
           {
            "marker": {
             "colorbar": {
              "outlinewidth": 0,
              "ticks": ""
             }
            },
            "type": "scatterpolar"
           }
          ],
          "scatterpolargl": [
           {
            "marker": {
             "colorbar": {
              "outlinewidth": 0,
              "ticks": ""
             }
            },
            "type": "scatterpolargl"
           }
          ],
          "scatterternary": [
           {
            "marker": {
             "colorbar": {
              "outlinewidth": 0,
              "ticks": ""
             }
            },
            "type": "scatterternary"
           }
          ],
          "surface": [
           {
            "colorbar": {
             "outlinewidth": 0,
             "ticks": ""
            },
            "colorscale": [
             [
              0,
              "#0d0887"
             ],
             [
              0.1111111111111111,
              "#46039f"
             ],
             [
              0.2222222222222222,
              "#7201a8"
             ],
             [
              0.3333333333333333,
              "#9c179e"
             ],
             [
              0.4444444444444444,
              "#bd3786"
             ],
             [
              0.5555555555555556,
              "#d8576b"
             ],
             [
              0.6666666666666666,
              "#ed7953"
             ],
             [
              0.7777777777777778,
              "#fb9f3a"
             ],
             [
              0.8888888888888888,
              "#fdca26"
             ],
             [
              1,
              "#f0f921"
             ]
            ],
            "type": "surface"
           }
          ],
          "table": [
           {
            "cells": {
             "fill": {
              "color": "#EBF0F8"
             },
             "line": {
              "color": "white"
             }
            },
            "header": {
             "fill": {
              "color": "#C8D4E3"
             },
             "line": {
              "color": "white"
             }
            },
            "type": "table"
           }
          ]
         },
         "layout": {
          "annotationdefaults": {
           "arrowcolor": "#2a3f5f",
           "arrowhead": 0,
           "arrowwidth": 1
          },
          "autotypenumbers": "strict",
          "coloraxis": {
           "colorbar": {
            "outlinewidth": 0,
            "ticks": ""
           }
          },
          "colorscale": {
           "diverging": [
            [
             0,
             "#8e0152"
            ],
            [
             0.1,
             "#c51b7d"
            ],
            [
             0.2,
             "#de77ae"
            ],
            [
             0.3,
             "#f1b6da"
            ],
            [
             0.4,
             "#fde0ef"
            ],
            [
             0.5,
             "#f7f7f7"
            ],
            [
             0.6,
             "#e6f5d0"
            ],
            [
             0.7,
             "#b8e186"
            ],
            [
             0.8,
             "#7fbc41"
            ],
            [
             0.9,
             "#4d9221"
            ],
            [
             1,
             "#276419"
            ]
           ],
           "sequential": [
            [
             0,
             "#0d0887"
            ],
            [
             0.1111111111111111,
             "#46039f"
            ],
            [
             0.2222222222222222,
             "#7201a8"
            ],
            [
             0.3333333333333333,
             "#9c179e"
            ],
            [
             0.4444444444444444,
             "#bd3786"
            ],
            [
             0.5555555555555556,
             "#d8576b"
            ],
            [
             0.6666666666666666,
             "#ed7953"
            ],
            [
             0.7777777777777778,
             "#fb9f3a"
            ],
            [
             0.8888888888888888,
             "#fdca26"
            ],
            [
             1,
             "#f0f921"
            ]
           ],
           "sequentialminus": [
            [
             0,
             "#0d0887"
            ],
            [
             0.1111111111111111,
             "#46039f"
            ],
            [
             0.2222222222222222,
             "#7201a8"
            ],
            [
             0.3333333333333333,
             "#9c179e"
            ],
            [
             0.4444444444444444,
             "#bd3786"
            ],
            [
             0.5555555555555556,
             "#d8576b"
            ],
            [
             0.6666666666666666,
             "#ed7953"
            ],
            [
             0.7777777777777778,
             "#fb9f3a"
            ],
            [
             0.8888888888888888,
             "#fdca26"
            ],
            [
             1,
             "#f0f921"
            ]
           ]
          },
          "colorway": [
           "#636efa",
           "#EF553B",
           "#00cc96",
           "#ab63fa",
           "#FFA15A",
           "#19d3f3",
           "#FF6692",
           "#B6E880",
           "#FF97FF",
           "#FECB52"
          ],
          "font": {
           "color": "#2a3f5f"
          },
          "geo": {
           "bgcolor": "white",
           "lakecolor": "white",
           "landcolor": "white",
           "showlakes": true,
           "showland": true,
           "subunitcolor": "#C8D4E3"
          },
          "hoverlabel": {
           "align": "left"
          },
          "hovermode": "closest",
          "mapbox": {
           "style": "light"
          },
          "paper_bgcolor": "white",
          "plot_bgcolor": "white",
          "polar": {
           "angularaxis": {
            "gridcolor": "#EBF0F8",
            "linecolor": "#EBF0F8",
            "ticks": ""
           },
           "bgcolor": "white",
           "radialaxis": {
            "gridcolor": "#EBF0F8",
            "linecolor": "#EBF0F8",
            "ticks": ""
           }
          },
          "scene": {
           "xaxis": {
            "backgroundcolor": "white",
            "gridcolor": "#DFE8F3",
            "gridwidth": 2,
            "linecolor": "#EBF0F8",
            "showbackground": true,
            "ticks": "",
            "zerolinecolor": "#EBF0F8"
           },
           "yaxis": {
            "backgroundcolor": "white",
            "gridcolor": "#DFE8F3",
            "gridwidth": 2,
            "linecolor": "#EBF0F8",
            "showbackground": true,
            "ticks": "",
            "zerolinecolor": "#EBF0F8"
           },
           "zaxis": {
            "backgroundcolor": "white",
            "gridcolor": "#DFE8F3",
            "gridwidth": 2,
            "linecolor": "#EBF0F8",
            "showbackground": true,
            "ticks": "",
            "zerolinecolor": "#EBF0F8"
           }
          },
          "shapedefaults": {
           "line": {
            "color": "#2a3f5f"
           }
          },
          "ternary": {
           "aaxis": {
            "gridcolor": "#DFE8F3",
            "linecolor": "#A2B1C6",
            "ticks": ""
           },
           "baxis": {
            "gridcolor": "#DFE8F3",
            "linecolor": "#A2B1C6",
            "ticks": ""
           },
           "bgcolor": "white",
           "caxis": {
            "gridcolor": "#DFE8F3",
            "linecolor": "#A2B1C6",
            "ticks": ""
           }
          },
          "title": {
           "x": 0.05
          },
          "xaxis": {
           "automargin": true,
           "gridcolor": "#EBF0F8",
           "linecolor": "#EBF0F8",
           "ticks": "",
           "title": {
            "standoff": 15
           },
           "zerolinecolor": "#EBF0F8",
           "zerolinewidth": 2
          },
          "yaxis": {
           "automargin": true,
           "gridcolor": "#EBF0F8",
           "linecolor": "#EBF0F8",
           "ticks": "",
           "title": {
            "standoff": 15
           },
           "zerolinecolor": "#EBF0F8",
           "zerolinewidth": 2
          }
         }
        },
        "title": {
         "font": {
          "color": "Black",
          "size": 22
         },
         "text": "<b>Hierarchical Clustering",
         "x": 0.5,
         "xanchor": "center",
         "yanchor": "top"
        },
        "width": 1000,
        "xaxis": {
         "mirror": "allticks",
         "rangemode": "tozero",
         "showgrid": false,
         "showline": true,
         "showticklabels": true,
         "ticks": "outside",
         "type": "linear",
         "zeroline": false
        },
        "yaxis": {
         "mirror": "allticks",
         "range": [
          -190,
          0
         ],
         "rangemode": "tozero",
         "showgrid": false,
         "showline": true,
         "showticklabels": true,
         "tickmode": "array",
         "ticks": "outside",
         "ticktext": [
          "8_vlaams_opvang_handicap",
          "15_werk_sociale_ambt",
          "17_buitenlands_voorlopig_za...",
          "2_franse_gemeenschap_kader",
          "7_definitief_situatie_context",
          "4_vertaling_duits_waarde",
          "6_koninklijk_werkloosheid_t...",
          "3_grond_wet_volksvertegenwo...",
          "5_waals_regering_waalse",
          "0_coronavirus_ministerieel_...",
          "1_brussels_hoofdstedelijk_b...",
          "18_vlaams_ondersteuning_reg...",
          "16_gemeenschappelijkegemeen...",
          "13_wetboek_inkomstenbelasti...",
          "9_aanslagjaar_belasting_aan...",
          "14_begrotingsjaar_uitgavenb...",
          "10_onderwijs_onderwijsweten...",
          "11_europese_regeling_unie",
          "12_verzekering_geneeskundig..."
         ],
         "tickvals": [
          -5,
          -15,
          -25,
          -35,
          -45,
          -55,
          -65,
          -75,
          -85,
          -95,
          -105,
          -115,
          -125,
          -135,
          -145,
          -155,
          -165,
          -175,
          -185
         ],
         "type": "linear",
         "zeroline": false
        }
       }
      }
     },
     "metadata": {},
     "output_type": "display_data"
    }
   ],
   "source": [
    "topic_model.visualize_hierarchy(top_n_topics=50)"
   ]
  },
  {
   "cell_type": "code",
   "execution_count": 63,
   "metadata": {},
   "outputs": [
    {
     "data": {
      "application/vnd.plotly.v1+json": {
       "config": {
        "plotlyServerURL": "https://plot.ly"
       },
       "data": [
        {
         "marker": {
          "color": "#D55E00"
         },
         "orientation": "h",
         "type": "bar",
         "x": [
          0.04962348682760414,
          0.05003511799747196,
          0.054314191393390776,
          0.06286128523555388,
          0.07395203013679633
         ],
         "xaxis": "x",
         "y": [
          "besluit  ",
          "verspreiding  ",
          "maatregel  ",
          "ministerieel  ",
          "coronavirus  "
         ],
         "yaxis": "y"
        },
        {
         "marker": {
          "color": "#0072B2"
         },
         "orientation": "h",
         "type": "bar",
         "x": [
          0.05100723919866825,
          0.05472219024692942,
          0.06069295658515971,
          0.11375657064099842,
          0.17743302663236798
         ],
         "xaxis": "x2",
         "y": [
          "gewest  ",
          "gewestelijk  ",
          "brussel  ",
          "hoofdstedelijk  ",
          "brussels  "
         ],
         "yaxis": "y2"
        },
        {
         "marker": {
          "color": "#CC79A7"
         },
         "orientation": "h",
         "type": "bar",
         "x": [
          0.047706624137052296,
          0.04808310322267183,
          0.06886924266948,
          0.16016543718356335,
          0.19333610131711662
         ],
         "xaxis": "x3",
         "y": [
          "macht  ",
          "gezondhe_idscrisis  ",
          "kader  ",
          "gemeenschap  ",
          "franse  "
         ],
         "yaxis": "y3"
        },
        {
         "marker": {
          "color": "#E69F00"
         },
         "orientation": "h",
         "type": "bar",
         "x": [
          0.056236973309892406,
          0.06671282186536338,
          0.07039905054377711,
          0.07100859105636756,
          0.12409723806876596
         ],
         "xaxis": "x4",
         "y": [
          "artikel  ",
          "kamer  ",
          "wet  ",
          "volksvertegenwoordiger  ",
          "grond_wet  "
         ],
         "yaxis": "y4"
        },
        {
         "marker": {
          "color": "#56B4E9"
         },
         "orientation": "h",
         "type": "bar",
         "x": [
          0.07839111910446835,
          0.0853480135071616,
          0.08566924087238113,
          0.09772520117193255,
          0.10189457818037342
         ],
         "xaxis": "x5",
         "y": [
          "koninklijk  ",
          "toegevoegde  ",
          "waarde  ",
          "duits  ",
          "vertaling  "
         ],
         "yaxis": "y5"
        },
        {
         "marker": {
          "color": "#009E73"
         },
         "orientation": "h",
         "type": "bar",
         "x": [
          0.05216838715052308,
          0.0578820190640589,
          0.06920941104668597,
          0.08778724665772046,
          0.17340796890446997
         ],
         "xaxis": "x6",
         "y": [
          "bijzonder  ",
          "decreet  ",
          "waalse  ",
          "regering  ",
          "waals  "
         ],
         "yaxis": "y6"
        },
        {
         "marker": {
          "color": "#F0E442"
         },
         "orientation": "h",
         "type": "bar",
         "x": [
          0.047016162070556804,
          0.04738972303308521,
          0.059793054553672745,
          0.060610443433862966,
          0.07103025540075963
         ],
         "xaxis": "x7",
         "y": [
          "uitkering  ",
          "besluit  ",
          "tijdelijk  ",
          "werkloosheid  ",
          "koninklijk  "
         ],
         "yaxis": "y7"
        }
       ],
       "layout": {
        "annotations": [
         {
          "font": {
           "size": 16
          },
          "showarrow": false,
          "text": "Topic 0",
          "x": 0.0875,
          "xanchor": "center",
          "xref": "paper",
          "y": 1,
          "yanchor": "bottom",
          "yref": "paper"
         },
         {
          "font": {
           "size": 16
          },
          "showarrow": false,
          "text": "Topic 1",
          "x": 0.36250000000000004,
          "xanchor": "center",
          "xref": "paper",
          "y": 1,
          "yanchor": "bottom",
          "yref": "paper"
         },
         {
          "font": {
           "size": 16
          },
          "showarrow": false,
          "text": "Topic 2",
          "x": 0.6375000000000001,
          "xanchor": "center",
          "xref": "paper",
          "y": 1,
          "yanchor": "bottom",
          "yref": "paper"
         },
         {
          "font": {
           "size": 16
          },
          "showarrow": false,
          "text": "Topic 3",
          "x": 0.9125,
          "xanchor": "center",
          "xref": "paper",
          "y": 1,
          "yanchor": "bottom",
          "yref": "paper"
         },
         {
          "font": {
           "size": 16
          },
          "showarrow": false,
          "text": "Topic 4",
          "x": 0.0875,
          "xanchor": "center",
          "xref": "paper",
          "y": 0.4,
          "yanchor": "bottom",
          "yref": "paper"
         },
         {
          "font": {
           "size": 16
          },
          "showarrow": false,
          "text": "Topic 5",
          "x": 0.36250000000000004,
          "xanchor": "center",
          "xref": "paper",
          "y": 0.4,
          "yanchor": "bottom",
          "yref": "paper"
         },
         {
          "font": {
           "size": 16
          },
          "showarrow": false,
          "text": "Topic 6",
          "x": 0.6375000000000001,
          "xanchor": "center",
          "xref": "paper",
          "y": 0.4,
          "yanchor": "bottom",
          "yref": "paper"
         }
        ],
        "height": 500,
        "hoverlabel": {
         "bgcolor": "white",
         "font": {
          "family": "Rockwell",
          "size": 16
         }
        },
        "showlegend": false,
        "template": {
         "data": {
          "bar": [
           {
            "error_x": {
             "color": "#2a3f5f"
            },
            "error_y": {
             "color": "#2a3f5f"
            },
            "marker": {
             "line": {
              "color": "white",
              "width": 0.5
             },
             "pattern": {
              "fillmode": "overlay",
              "size": 10,
              "solidity": 0.2
             }
            },
            "type": "bar"
           }
          ],
          "barpolar": [
           {
            "marker": {
             "line": {
              "color": "white",
              "width": 0.5
             },
             "pattern": {
              "fillmode": "overlay",
              "size": 10,
              "solidity": 0.2
             }
            },
            "type": "barpolar"
           }
          ],
          "carpet": [
           {
            "aaxis": {
             "endlinecolor": "#2a3f5f",
             "gridcolor": "#C8D4E3",
             "linecolor": "#C8D4E3",
             "minorgridcolor": "#C8D4E3",
             "startlinecolor": "#2a3f5f"
            },
            "baxis": {
             "endlinecolor": "#2a3f5f",
             "gridcolor": "#C8D4E3",
             "linecolor": "#C8D4E3",
             "minorgridcolor": "#C8D4E3",
             "startlinecolor": "#2a3f5f"
            },
            "type": "carpet"
           }
          ],
          "choropleth": [
           {
            "colorbar": {
             "outlinewidth": 0,
             "ticks": ""
            },
            "type": "choropleth"
           }
          ],
          "contour": [
           {
            "colorbar": {
             "outlinewidth": 0,
             "ticks": ""
            },
            "colorscale": [
             [
              0,
              "#0d0887"
             ],
             [
              0.1111111111111111,
              "#46039f"
             ],
             [
              0.2222222222222222,
              "#7201a8"
             ],
             [
              0.3333333333333333,
              "#9c179e"
             ],
             [
              0.4444444444444444,
              "#bd3786"
             ],
             [
              0.5555555555555556,
              "#d8576b"
             ],
             [
              0.6666666666666666,
              "#ed7953"
             ],
             [
              0.7777777777777778,
              "#fb9f3a"
             ],
             [
              0.8888888888888888,
              "#fdca26"
             ],
             [
              1,
              "#f0f921"
             ]
            ],
            "type": "contour"
           }
          ],
          "contourcarpet": [
           {
            "colorbar": {
             "outlinewidth": 0,
             "ticks": ""
            },
            "type": "contourcarpet"
           }
          ],
          "heatmap": [
           {
            "colorbar": {
             "outlinewidth": 0,
             "ticks": ""
            },
            "colorscale": [
             [
              0,
              "#0d0887"
             ],
             [
              0.1111111111111111,
              "#46039f"
             ],
             [
              0.2222222222222222,
              "#7201a8"
             ],
             [
              0.3333333333333333,
              "#9c179e"
             ],
             [
              0.4444444444444444,
              "#bd3786"
             ],
             [
              0.5555555555555556,
              "#d8576b"
             ],
             [
              0.6666666666666666,
              "#ed7953"
             ],
             [
              0.7777777777777778,
              "#fb9f3a"
             ],
             [
              0.8888888888888888,
              "#fdca26"
             ],
             [
              1,
              "#f0f921"
             ]
            ],
            "type": "heatmap"
           }
          ],
          "heatmapgl": [
           {
            "colorbar": {
             "outlinewidth": 0,
             "ticks": ""
            },
            "colorscale": [
             [
              0,
              "#0d0887"
             ],
             [
              0.1111111111111111,
              "#46039f"
             ],
             [
              0.2222222222222222,
              "#7201a8"
             ],
             [
              0.3333333333333333,
              "#9c179e"
             ],
             [
              0.4444444444444444,
              "#bd3786"
             ],
             [
              0.5555555555555556,
              "#d8576b"
             ],
             [
              0.6666666666666666,
              "#ed7953"
             ],
             [
              0.7777777777777778,
              "#fb9f3a"
             ],
             [
              0.8888888888888888,
              "#fdca26"
             ],
             [
              1,
              "#f0f921"
             ]
            ],
            "type": "heatmapgl"
           }
          ],
          "histogram": [
           {
            "marker": {
             "pattern": {
              "fillmode": "overlay",
              "size": 10,
              "solidity": 0.2
             }
            },
            "type": "histogram"
           }
          ],
          "histogram2d": [
           {
            "colorbar": {
             "outlinewidth": 0,
             "ticks": ""
            },
            "colorscale": [
             [
              0,
              "#0d0887"
             ],
             [
              0.1111111111111111,
              "#46039f"
             ],
             [
              0.2222222222222222,
              "#7201a8"
             ],
             [
              0.3333333333333333,
              "#9c179e"
             ],
             [
              0.4444444444444444,
              "#bd3786"
             ],
             [
              0.5555555555555556,
              "#d8576b"
             ],
             [
              0.6666666666666666,
              "#ed7953"
             ],
             [
              0.7777777777777778,
              "#fb9f3a"
             ],
             [
              0.8888888888888888,
              "#fdca26"
             ],
             [
              1,
              "#f0f921"
             ]
            ],
            "type": "histogram2d"
           }
          ],
          "histogram2dcontour": [
           {
            "colorbar": {
             "outlinewidth": 0,
             "ticks": ""
            },
            "colorscale": [
             [
              0,
              "#0d0887"
             ],
             [
              0.1111111111111111,
              "#46039f"
             ],
             [
              0.2222222222222222,
              "#7201a8"
             ],
             [
              0.3333333333333333,
              "#9c179e"
             ],
             [
              0.4444444444444444,
              "#bd3786"
             ],
             [
              0.5555555555555556,
              "#d8576b"
             ],
             [
              0.6666666666666666,
              "#ed7953"
             ],
             [
              0.7777777777777778,
              "#fb9f3a"
             ],
             [
              0.8888888888888888,
              "#fdca26"
             ],
             [
              1,
              "#f0f921"
             ]
            ],
            "type": "histogram2dcontour"
           }
          ],
          "mesh3d": [
           {
            "colorbar": {
             "outlinewidth": 0,
             "ticks": ""
            },
            "type": "mesh3d"
           }
          ],
          "parcoords": [
           {
            "line": {
             "colorbar": {
              "outlinewidth": 0,
              "ticks": ""
             }
            },
            "type": "parcoords"
           }
          ],
          "pie": [
           {
            "automargin": true,
            "type": "pie"
           }
          ],
          "scatter": [
           {
            "fillpattern": {
             "fillmode": "overlay",
             "size": 10,
             "solidity": 0.2
            },
            "type": "scatter"
           }
          ],
          "scatter3d": [
           {
            "line": {
             "colorbar": {
              "outlinewidth": 0,
              "ticks": ""
             }
            },
            "marker": {
             "colorbar": {
              "outlinewidth": 0,
              "ticks": ""
             }
            },
            "type": "scatter3d"
           }
          ],
          "scattercarpet": [
           {
            "marker": {
             "colorbar": {
              "outlinewidth": 0,
              "ticks": ""
             }
            },
            "type": "scattercarpet"
           }
          ],
          "scattergeo": [
           {
            "marker": {
             "colorbar": {
              "outlinewidth": 0,
              "ticks": ""
             }
            },
            "type": "scattergeo"
           }
          ],
          "scattergl": [
           {
            "marker": {
             "colorbar": {
              "outlinewidth": 0,
              "ticks": ""
             }
            },
            "type": "scattergl"
           }
          ],
          "scattermapbox": [
           {
            "marker": {
             "colorbar": {
              "outlinewidth": 0,
              "ticks": ""
             }
            },
            "type": "scattermapbox"
           }
          ],
          "scatterpolar": [
           {
            "marker": {
             "colorbar": {
              "outlinewidth": 0,
              "ticks": ""
             }
            },
            "type": "scatterpolar"
           }
          ],
          "scatterpolargl": [
           {
            "marker": {
             "colorbar": {
              "outlinewidth": 0,
              "ticks": ""
             }
            },
            "type": "scatterpolargl"
           }
          ],
          "scatterternary": [
           {
            "marker": {
             "colorbar": {
              "outlinewidth": 0,
              "ticks": ""
             }
            },
            "type": "scatterternary"
           }
          ],
          "surface": [
           {
            "colorbar": {
             "outlinewidth": 0,
             "ticks": ""
            },
            "colorscale": [
             [
              0,
              "#0d0887"
             ],
             [
              0.1111111111111111,
              "#46039f"
             ],
             [
              0.2222222222222222,
              "#7201a8"
             ],
             [
              0.3333333333333333,
              "#9c179e"
             ],
             [
              0.4444444444444444,
              "#bd3786"
             ],
             [
              0.5555555555555556,
              "#d8576b"
             ],
             [
              0.6666666666666666,
              "#ed7953"
             ],
             [
              0.7777777777777778,
              "#fb9f3a"
             ],
             [
              0.8888888888888888,
              "#fdca26"
             ],
             [
              1,
              "#f0f921"
             ]
            ],
            "type": "surface"
           }
          ],
          "table": [
           {
            "cells": {
             "fill": {
              "color": "#EBF0F8"
             },
             "line": {
              "color": "white"
             }
            },
            "header": {
             "fill": {
              "color": "#C8D4E3"
             },
             "line": {
              "color": "white"
             }
            },
            "type": "table"
           }
          ]
         },
         "layout": {
          "annotationdefaults": {
           "arrowcolor": "#2a3f5f",
           "arrowhead": 0,
           "arrowwidth": 1
          },
          "autotypenumbers": "strict",
          "coloraxis": {
           "colorbar": {
            "outlinewidth": 0,
            "ticks": ""
           }
          },
          "colorscale": {
           "diverging": [
            [
             0,
             "#8e0152"
            ],
            [
             0.1,
             "#c51b7d"
            ],
            [
             0.2,
             "#de77ae"
            ],
            [
             0.3,
             "#f1b6da"
            ],
            [
             0.4,
             "#fde0ef"
            ],
            [
             0.5,
             "#f7f7f7"
            ],
            [
             0.6,
             "#e6f5d0"
            ],
            [
             0.7,
             "#b8e186"
            ],
            [
             0.8,
             "#7fbc41"
            ],
            [
             0.9,
             "#4d9221"
            ],
            [
             1,
             "#276419"
            ]
           ],
           "sequential": [
            [
             0,
             "#0d0887"
            ],
            [
             0.1111111111111111,
             "#46039f"
            ],
            [
             0.2222222222222222,
             "#7201a8"
            ],
            [
             0.3333333333333333,
             "#9c179e"
            ],
            [
             0.4444444444444444,
             "#bd3786"
            ],
            [
             0.5555555555555556,
             "#d8576b"
            ],
            [
             0.6666666666666666,
             "#ed7953"
            ],
            [
             0.7777777777777778,
             "#fb9f3a"
            ],
            [
             0.8888888888888888,
             "#fdca26"
            ],
            [
             1,
             "#f0f921"
            ]
           ],
           "sequentialminus": [
            [
             0,
             "#0d0887"
            ],
            [
             0.1111111111111111,
             "#46039f"
            ],
            [
             0.2222222222222222,
             "#7201a8"
            ],
            [
             0.3333333333333333,
             "#9c179e"
            ],
            [
             0.4444444444444444,
             "#bd3786"
            ],
            [
             0.5555555555555556,
             "#d8576b"
            ],
            [
             0.6666666666666666,
             "#ed7953"
            ],
            [
             0.7777777777777778,
             "#fb9f3a"
            ],
            [
             0.8888888888888888,
             "#fdca26"
            ],
            [
             1,
             "#f0f921"
            ]
           ]
          },
          "colorway": [
           "#636efa",
           "#EF553B",
           "#00cc96",
           "#ab63fa",
           "#FFA15A",
           "#19d3f3",
           "#FF6692",
           "#B6E880",
           "#FF97FF",
           "#FECB52"
          ],
          "font": {
           "color": "#2a3f5f"
          },
          "geo": {
           "bgcolor": "white",
           "lakecolor": "white",
           "landcolor": "white",
           "showlakes": true,
           "showland": true,
           "subunitcolor": "#C8D4E3"
          },
          "hoverlabel": {
           "align": "left"
          },
          "hovermode": "closest",
          "mapbox": {
           "style": "light"
          },
          "paper_bgcolor": "white",
          "plot_bgcolor": "white",
          "polar": {
           "angularaxis": {
            "gridcolor": "#EBF0F8",
            "linecolor": "#EBF0F8",
            "ticks": ""
           },
           "bgcolor": "white",
           "radialaxis": {
            "gridcolor": "#EBF0F8",
            "linecolor": "#EBF0F8",
            "ticks": ""
           }
          },
          "scene": {
           "xaxis": {
            "backgroundcolor": "white",
            "gridcolor": "#DFE8F3",
            "gridwidth": 2,
            "linecolor": "#EBF0F8",
            "showbackground": true,
            "ticks": "",
            "zerolinecolor": "#EBF0F8"
           },
           "yaxis": {
            "backgroundcolor": "white",
            "gridcolor": "#DFE8F3",
            "gridwidth": 2,
            "linecolor": "#EBF0F8",
            "showbackground": true,
            "ticks": "",
            "zerolinecolor": "#EBF0F8"
           },
           "zaxis": {
            "backgroundcolor": "white",
            "gridcolor": "#DFE8F3",
            "gridwidth": 2,
            "linecolor": "#EBF0F8",
            "showbackground": true,
            "ticks": "",
            "zerolinecolor": "#EBF0F8"
           }
          },
          "shapedefaults": {
           "line": {
            "color": "#2a3f5f"
           }
          },
          "ternary": {
           "aaxis": {
            "gridcolor": "#DFE8F3",
            "linecolor": "#A2B1C6",
            "ticks": ""
           },
           "baxis": {
            "gridcolor": "#DFE8F3",
            "linecolor": "#A2B1C6",
            "ticks": ""
           },
           "bgcolor": "white",
           "caxis": {
            "gridcolor": "#DFE8F3",
            "linecolor": "#A2B1C6",
            "ticks": ""
           }
          },
          "title": {
           "x": 0.05
          },
          "xaxis": {
           "automargin": true,
           "gridcolor": "#EBF0F8",
           "linecolor": "#EBF0F8",
           "ticks": "",
           "title": {
            "standoff": 15
           },
           "zerolinecolor": "#EBF0F8",
           "zerolinewidth": 2
          },
          "yaxis": {
           "automargin": true,
           "gridcolor": "#EBF0F8",
           "linecolor": "#EBF0F8",
           "ticks": "",
           "title": {
            "standoff": 15
           },
           "zerolinecolor": "#EBF0F8",
           "zerolinewidth": 2
          }
         }
        },
        "title": {
         "font": {
          "color": "Black",
          "size": 22
         },
         "text": "<b>Topic Word Scores",
         "x": 0.5,
         "xanchor": "center",
         "yanchor": "top"
        },
        "width": 1000,
        "xaxis": {
         "anchor": "y",
         "domain": [
          0,
          0.175
         ],
         "showgrid": true
        },
        "xaxis2": {
         "anchor": "y2",
         "domain": [
          0.275,
          0.45
         ],
         "showgrid": true
        },
        "xaxis3": {
         "anchor": "y3",
         "domain": [
          0.55,
          0.7250000000000001
         ],
         "showgrid": true
        },
        "xaxis4": {
         "anchor": "y4",
         "domain": [
          0.825,
          1
         ],
         "showgrid": true
        },
        "xaxis5": {
         "anchor": "y5",
         "domain": [
          0,
          0.175
         ],
         "showgrid": true
        },
        "xaxis6": {
         "anchor": "y6",
         "domain": [
          0.275,
          0.45
         ],
         "showgrid": true
        },
        "xaxis7": {
         "anchor": "y7",
         "domain": [
          0.55,
          0.7250000000000001
         ],
         "showgrid": true
        },
        "xaxis8": {
         "anchor": "y8",
         "domain": [
          0.825,
          1
         ],
         "showgrid": true
        },
        "yaxis": {
         "anchor": "x",
         "domain": [
          0.6000000000000001,
          1
         ],
         "showgrid": true
        },
        "yaxis2": {
         "anchor": "x2",
         "domain": [
          0.6000000000000001,
          1
         ],
         "showgrid": true
        },
        "yaxis3": {
         "anchor": "x3",
         "domain": [
          0.6000000000000001,
          1
         ],
         "showgrid": true
        },
        "yaxis4": {
         "anchor": "x4",
         "domain": [
          0.6000000000000001,
          1
         ],
         "showgrid": true
        },
        "yaxis5": {
         "anchor": "x5",
         "domain": [
          0,
          0.4
         ],
         "showgrid": true
        },
        "yaxis6": {
         "anchor": "x6",
         "domain": [
          0,
          0.4
         ],
         "showgrid": true
        },
        "yaxis7": {
         "anchor": "x7",
         "domain": [
          0,
          0.4
         ],
         "showgrid": true
        },
        "yaxis8": {
         "anchor": "x8",
         "domain": [
          0,
          0.4
         ],
         "showgrid": true
        }
       }
      }
     },
     "metadata": {},
     "output_type": "display_data"
    }
   ],
   "source": [
    "topic_model.visualize_barchart(top_n_topics=7)"
   ]
  }
 ],
 "metadata": {
  "kernelspec": {
   "display_name": "Python 3.9.7 ('base')",
   "language": "python",
   "name": "python3"
  },
  "language_info": {
   "codemirror_mode": {
    "name": "ipython",
    "version": 3
   },
   "file_extension": ".py",
   "mimetype": "text/x-python",
   "name": "python",
   "nbconvert_exporter": "python",
   "pygments_lexer": "ipython3",
   "version": "3.9.7"
  },
  "vscode": {
   "interpreter": {
    "hash": "573c5f8e4a9de4a29cc2c43f44bd7d1acbfa6c8b3e00d78238142f0788ca6380"
   }
  }
 },
 "nbformat": 4,
 "nbformat_minor": 4
}
