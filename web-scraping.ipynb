{
 "cells": [
  {
   "cell_type": "code",
   "execution_count": 2,
   "metadata": {},
   "outputs": [],
   "source": [
    "import bs4\n",
    "import requests\n",
    "from bs4 import BeautifulSoup\n",
    "import pandas as pd\n",
    "import json\n",
    "\n",
    "import re\n",
    "# from tabulate import tabulate\n",
    "import os\n",
    "\n",
    "import selenium\n",
    "from selenium import webdriver\n",
    "from selenium.webdriver.common.by import By"
   ]
  },
  {
   "cell_type": "code",
   "execution_count": 3,
   "metadata": {},
   "outputs": [],
   "source": [
    "df = pd.read_excel('data/dataset.xlsx')"
   ]
  },
  {
   "cell_type": "code",
   "execution_count": 4,
   "metadata": {},
   "outputs": [
    {
     "data": {
      "text/html": [
       "<div>\n",
       "<style scoped>\n",
       "    .dataframe tbody tr th:only-of-type {\n",
       "        vertical-align: middle;\n",
       "    }\n",
       "\n",
       "    .dataframe tbody tr th {\n",
       "        vertical-align: top;\n",
       "    }\n",
       "\n",
       "    .dataframe thead th {\n",
       "        text-align: right;\n",
       "    }\n",
       "</style>\n",
       "<table border=\"1\" class=\"dataframe\">\n",
       "  <thead>\n",
       "    <tr style=\"text-align: right;\">\n",
       "      <th></th>\n",
       "      <th>Date</th>\n",
       "      <th>Title</th>\n",
       "      <th>Numac</th>\n",
       "      <th>Link FR</th>\n",
       "      <th>Link NL</th>\n",
       "    </tr>\n",
       "  </thead>\n",
       "  <tbody>\n",
       "    <tr>\n",
       "      <th>0</th>\n",
       "      <td>2020-01-14</td>\n",
       "      <td>REGION DE BRUXELLES-CAPITALE\\nREGION DE BRUXEL...</td>\n",
       "      <td>2.020010e+09</td>\n",
       "      <td>http://www.ejustice.just.fgov.be/cgi/article.p...</td>\n",
       "      <td>http://www.ejustice.just.fgov.be/cgi/article.p...</td>\n",
       "    </tr>\n",
       "  </tbody>\n",
       "</table>\n",
       "</div>"
      ],
      "text/plain": [
       "        Date                                              Title         Numac  \\\n",
       "0 2020-01-14  REGION DE BRUXELLES-CAPITALE\\nREGION DE BRUXEL...  2.020010e+09   \n",
       "\n",
       "                                             Link FR  \\\n",
       "0  http://www.ejustice.just.fgov.be/cgi/article.p...   \n",
       "\n",
       "                                             Link NL  \n",
       "0  http://www.ejustice.just.fgov.be/cgi/article.p...  "
      ]
     },
     "execution_count": 4,
     "metadata": {},
     "output_type": "execute_result"
    }
   ],
   "source": [
    "df.head(1)"
   ]
  },
  {
   "cell_type": "code",
   "execution_count": 5,
   "metadata": {},
   "outputs": [
    {
     "data": {
      "text/html": [
       "<div>\n",
       "<style scoped>\n",
       "    .dataframe tbody tr th:only-of-type {\n",
       "        vertical-align: middle;\n",
       "    }\n",
       "\n",
       "    .dataframe tbody tr th {\n",
       "        vertical-align: top;\n",
       "    }\n",
       "\n",
       "    .dataframe thead th {\n",
       "        text-align: right;\n",
       "    }\n",
       "</style>\n",
       "<table border=\"1\" class=\"dataframe\">\n",
       "  <thead>\n",
       "    <tr style=\"text-align: right;\">\n",
       "      <th></th>\n",
       "      <th>Date</th>\n",
       "      <th>Title</th>\n",
       "      <th>Numac</th>\n",
       "      <th>Link FR</th>\n",
       "      <th>Link NL</th>\n",
       "    </tr>\n",
       "  </thead>\n",
       "  <tbody>\n",
       "    <tr>\n",
       "      <th>0</th>\n",
       "      <td>2020-01-14</td>\n",
       "      <td>REGION DE BRUXELLES-CAPITALE\\nREGION DE BRUXEL...</td>\n",
       "      <td>2.020010e+09</td>\n",
       "      <td>http://www.ejustice.just.fgov.be/cgi/article.p...</td>\n",
       "      <td>http://www.ejustice.just.fgov.be/cgi/article.p...</td>\n",
       "    </tr>\n",
       "  </tbody>\n",
       "</table>\n",
       "</div>"
      ],
      "text/plain": [
       "        Date                                              Title         Numac  \\\n",
       "0 2020-01-14  REGION DE BRUXELLES-CAPITALE\\nREGION DE BRUXEL...  2.020010e+09   \n",
       "\n",
       "                                             Link FR  \\\n",
       "0  http://www.ejustice.just.fgov.be/cgi/article.p...   \n",
       "\n",
       "                                             Link NL  \n",
       "0  http://www.ejustice.just.fgov.be/cgi/article.p...  "
      ]
     },
     "execution_count": 5,
     "metadata": {},
     "output_type": "execute_result"
    }
   ],
   "source": [
    "## Remove the duplicates\n",
    "\n",
    "df = df.drop_duplicates()\n",
    "df.head(1)"
   ]
  },
  {
   "cell_type": "code",
   "execution_count": 6,
   "metadata": {},
   "outputs": [
    {
     "data": {
      "text/html": [
       "<div>\n",
       "<style scoped>\n",
       "    .dataframe tbody tr th:only-of-type {\n",
       "        vertical-align: middle;\n",
       "    }\n",
       "\n",
       "    .dataframe tbody tr th {\n",
       "        vertical-align: top;\n",
       "    }\n",
       "\n",
       "    .dataframe thead th {\n",
       "        text-align: right;\n",
       "    }\n",
       "</style>\n",
       "<table border=\"1\" class=\"dataframe\">\n",
       "  <thead>\n",
       "    <tr style=\"text-align: right;\">\n",
       "      <th></th>\n",
       "      <th>Date</th>\n",
       "      <th>Title</th>\n",
       "      <th>Numac</th>\n",
       "      <th>Link FR</th>\n",
       "      <th>Link NL</th>\n",
       "      <th>Link Body NL</th>\n",
       "      <th>Content</th>\n",
       "    </tr>\n",
       "  </thead>\n",
       "  <tbody>\n",
       "    <tr>\n",
       "      <th>0</th>\n",
       "      <td>2020-01-14</td>\n",
       "      <td>REGION DE BRUXELLES-CAPITALE\\nREGION DE BRUXEL...</td>\n",
       "      <td>2.020010e+09</td>\n",
       "      <td>http://www.ejustice.just.fgov.be/cgi/article.p...</td>\n",
       "      <td>http://www.ejustice.just.fgov.be/cgi/article.p...</td>\n",
       "      <td>http://www.ejustice.just.fgov.be/cgi/article.p...</td>\n",
       "      <td></td>\n",
       "    </tr>\n",
       "  </tbody>\n",
       "</table>\n",
       "</div>"
      ],
      "text/plain": [
       "        Date                                              Title         Numac  \\\n",
       "0 2020-01-14  REGION DE BRUXELLES-CAPITALE\\nREGION DE BRUXEL...  2.020010e+09   \n",
       "\n",
       "                                             Link FR  \\\n",
       "0  http://www.ejustice.just.fgov.be/cgi/article.p...   \n",
       "\n",
       "                                             Link NL  \\\n",
       "0  http://www.ejustice.just.fgov.be/cgi/article.p...   \n",
       "\n",
       "                                        Link Body NL Content  \n",
       "0  http://www.ejustice.just.fgov.be/cgi/article.p...          "
      ]
     },
     "execution_count": 6,
     "metadata": {},
     "output_type": "execute_result"
    }
   ],
   "source": [
    "df['Link Body NL'] = df['Link NL']\n",
    "df.insert(6,\"Content\", \" \")\n",
    "df.head(1)"
   ]
  },
  {
   "cell_type": "code",
   "execution_count": 7,
   "metadata": {},
   "outputs": [],
   "source": [
    "df = df.reset_index()\n",
    "\n",
    "for i in df['Link Body NL']:\n",
    "    i = i.replace(\"article.pl\", \"article_body.pl\")\n",
    "    df['Link Body NL'] = i\n"
   ]
  },
  {
   "cell_type": "markdown",
   "metadata": {},
   "source": [
    "## Original link\n",
    "http://www.ejustice.just.fgov.be/cgi/article.pl?language=nl&pub_date=2020-01-14&caller=list&numac=2020010053\n",
    "\n",
    "## Required link\n",
    "http://www.ejustice.just.fgov.be/cgi/article_body.pl?language=nl&pub_date=2020-01-14&caller=list&numac=2020010053"
   ]
  },
  {
   "cell_type": "code",
   "execution_count": 8,
   "metadata": {},
   "outputs": [
    {
     "name": "stdout",
     "output_type": "stream",
     "text": [
      "De Minister van de Brusselse Hoofdstedelijke Regering, belast met Financiën en Begroting, Gelet op het Wetboek der Successierechten, artikel 60bis/2, § 1, ingevoegd door de ordonnantie van 12 december 2016 houdende het tweede deel van de fiscale hervorming; Gelet op het besluit van de Brusselse Hoofdstedelijke Regering van 19 januari 2017 tot vaststelling van de modaliteiten van het gunstregime toepasselijk op de successierechten bij overdracht van familiale ondernemingen en familiale vennootschappen, artikel 8; Gelet op de gelijkekansentest uitgevoerd in toepassing van artikel 2 van de ordonnantie van 4 oktober 2018 tot invoering van de gelijkekansentest; Overwegende dat artikel 8 van bovengenoemd besluit stelt dat de Minister van de Brusselse Hoofdstedelijke Regering, belast met Financiën en Begroting, bevoegd is om het formulier dat bedoeld is om na te gaan of de voorwaarden voor het behoud van de het fiscale gunstregime, dat werd bekomen in het kader van de overdracht van een familiale onderneming of een familiale vennootschap, vervuld zijn gebleven tot het einde van de driejarige periode die aanving bij het overlijden van de decujus, zoals bedoeld in artikel 60bis/2, § 1, van het Wetboek der Successierechten; Overwegende dat dit ministerieel besluit geen reglementaire voorschriften bevat in de zin van artikel 3, § 1, eerste lid, van de gecoördineerde wetten van de Raad van State van 12 januari 1973, is het niet onderworpen aan het advies van de Raad van State, afdeling Wetgeving, Besluit : Artikel 1. Het formulier dat bedoeld is om na te gaan of de voorwaarden voor het behoud van de het fiscale gunstregime, dat werd bekomen in het kader van de overdracht van een familiale onderneming, vervuld zijn gebleven tot het einde van de driejarige periode die aanving bij het overlijden van de decujus, zoals bedoeld in artikel 60bis/2, § 1 van het Wetboek der Successierechten, is hernomen in bijlage 1 van dit besluit. Art. 2. Het formulier dat bedoeld is om na te gaan of de voorwaarden voor het behoud van het fiscale gunstregime, dat werd bekomen in het kader van het overdracht van een familiale vennootschap, vervuld zijn gebleven tot het einde van de driejarige periode die aanving bij het overlijden van de decujus, zoals bedoeld in artikel 60bis/2, § 1 van het Wetboek der Successierechten, is hernomen in bijlage 2 bij dit besluit. Art. 3. Dit besluit heeft uitwerking met ingang van 1 januari 2020. Brussel, 8 januari 2020. De Minister van de Brusselse Hoofdstedelijke Regering, belast met Financiën, Begroting, Openbaar ambt en de Promotie van Meertaligheid, S. GATZ\n"
     ]
    }
   ],
   "source": [
    "url = 'http://www.ejustice.just.fgov.be/cgi/article_body.pl?language=nl&pub_date=2020-01-14&caller=list&numac=2020010053'\n",
    "page = requests.get(url)\n",
    "\n",
    "soup = BeautifulSoup(page.content, \"lxml\")\n",
    "tag = soup.body\n",
    "\n",
    "content_list = []\n",
    "\n",
    "for string in tag.stripped_strings:\n",
    "    string = string.replace('\\n',\"\")\n",
    "    content_list.append(string)\n",
    "    trimmed_list = content_list[13:-6]\n",
    "    trimmed_list = ' '.join(trimmed_list)\n",
    "print(trimmed_list)"
   ]
  },
  {
   "cell_type": "code",
   "execution_count": 14,
   "metadata": {},
   "outputs": [
    {
     "name": "stdout",
     "output_type": "stream",
     "text": [
      "0      http://www.ejustice.just.fgov.be/cgi/article_b...\n",
      "1      http://www.ejustice.just.fgov.be/cgi/article_b...\n",
      "2      http://www.ejustice.just.fgov.be/cgi/article_b...\n",
      "3      http://www.ejustice.just.fgov.be/cgi/article_b...\n",
      "4      http://www.ejustice.just.fgov.be/cgi/article_b...\n",
      "                             ...                        \n",
      "782    http://www.ejustice.just.fgov.be/cgi/article_b...\n",
      "783    http://www.ejustice.just.fgov.be/cgi/article_b...\n",
      "784    http://www.ejustice.just.fgov.be/cgi/article_b...\n",
      "785    http://www.ejustice.just.fgov.be/cgi/article_b...\n",
      "786    http://www.ejustice.just.fgov.be/cgi/article_b...\n",
      "Name: Link Body NL, Length: 787, dtype: object\n"
     ]
    },
    {
     "ename": "ValueError",
     "evalue": "The truth value of a Series is ambiguous. Use a.empty, a.bool(), a.item(), a.any() or a.all().",
     "output_type": "error",
     "traceback": [
      "\u001b[1;31m---------------------------------------------------------------------------\u001b[0m",
      "\u001b[1;31mValueError\u001b[0m                                Traceback (most recent call last)",
      "\u001b[1;32m~\\AppData\\Local\\Temp/ipykernel_2728/445108420.py\u001b[0m in \u001b[0;36m<module>\u001b[1;34m\u001b[0m\n\u001b[0;32m      4\u001b[0m     \u001b[0murl\u001b[0m \u001b[1;33m=\u001b[0m \u001b[0mdf\u001b[0m\u001b[1;33m[\u001b[0m\u001b[1;34m'Link Body NL'\u001b[0m\u001b[1;33m]\u001b[0m\u001b[1;33m.\u001b[0m\u001b[0mastype\u001b[0m\u001b[1;33m(\u001b[0m\u001b[0mstr\u001b[0m\u001b[1;33m)\u001b[0m\u001b[1;33m\u001b[0m\u001b[1;33m\u001b[0m\u001b[0m\n\u001b[0;32m      5\u001b[0m     \u001b[0mprint\u001b[0m\u001b[1;33m(\u001b[0m\u001b[0murl\u001b[0m\u001b[1;33m)\u001b[0m\u001b[1;33m\u001b[0m\u001b[1;33m\u001b[0m\u001b[0m\n\u001b[1;32m----> 6\u001b[1;33m     \u001b[0mpage\u001b[0m \u001b[1;33m=\u001b[0m \u001b[0mrequests\u001b[0m\u001b[1;33m.\u001b[0m\u001b[0mget\u001b[0m\u001b[1;33m(\u001b[0m\u001b[0murl\u001b[0m\u001b[1;33m)\u001b[0m\u001b[1;33m\u001b[0m\u001b[1;33m\u001b[0m\u001b[0m\n\u001b[0m\u001b[0;32m      7\u001b[0m \u001b[1;33m\u001b[0m\u001b[0m\n\u001b[0;32m      8\u001b[0m     \u001b[0msoup\u001b[0m \u001b[1;33m=\u001b[0m \u001b[0mBeautifulSoup\u001b[0m\u001b[1;33m(\u001b[0m\u001b[0mpage\u001b[0m\u001b[1;33m.\u001b[0m\u001b[0mcontent\u001b[0m\u001b[1;33m,\u001b[0m \u001b[1;34m\"lxml\"\u001b[0m\u001b[1;33m)\u001b[0m\u001b[1;33m\u001b[0m\u001b[1;33m\u001b[0m\u001b[0m\n",
      "\u001b[1;32mc:\\Users\\Irina\\anaconda3\\lib\\site-packages\\requests\\api.py\u001b[0m in \u001b[0;36mget\u001b[1;34m(url, params, **kwargs)\u001b[0m\n\u001b[0;32m     73\u001b[0m     \"\"\"\n\u001b[0;32m     74\u001b[0m \u001b[1;33m\u001b[0m\u001b[0m\n\u001b[1;32m---> 75\u001b[1;33m     \u001b[1;32mreturn\u001b[0m \u001b[0mrequest\u001b[0m\u001b[1;33m(\u001b[0m\u001b[1;34m'get'\u001b[0m\u001b[1;33m,\u001b[0m \u001b[0murl\u001b[0m\u001b[1;33m,\u001b[0m \u001b[0mparams\u001b[0m\u001b[1;33m=\u001b[0m\u001b[0mparams\u001b[0m\u001b[1;33m,\u001b[0m \u001b[1;33m**\u001b[0m\u001b[0mkwargs\u001b[0m\u001b[1;33m)\u001b[0m\u001b[1;33m\u001b[0m\u001b[1;33m\u001b[0m\u001b[0m\n\u001b[0m\u001b[0;32m     76\u001b[0m \u001b[1;33m\u001b[0m\u001b[0m\n\u001b[0;32m     77\u001b[0m \u001b[1;33m\u001b[0m\u001b[0m\n",
      "\u001b[1;32mc:\\Users\\Irina\\anaconda3\\lib\\site-packages\\requests\\api.py\u001b[0m in \u001b[0;36mrequest\u001b[1;34m(method, url, **kwargs)\u001b[0m\n\u001b[0;32m     59\u001b[0m     \u001b[1;31m# cases, and look like a memory leak in others.\u001b[0m\u001b[1;33m\u001b[0m\u001b[1;33m\u001b[0m\u001b[0m\n\u001b[0;32m     60\u001b[0m     \u001b[1;32mwith\u001b[0m \u001b[0msessions\u001b[0m\u001b[1;33m.\u001b[0m\u001b[0mSession\u001b[0m\u001b[1;33m(\u001b[0m\u001b[1;33m)\u001b[0m \u001b[1;32mas\u001b[0m \u001b[0msession\u001b[0m\u001b[1;33m:\u001b[0m\u001b[1;33m\u001b[0m\u001b[1;33m\u001b[0m\u001b[0m\n\u001b[1;32m---> 61\u001b[1;33m         \u001b[1;32mreturn\u001b[0m \u001b[0msession\u001b[0m\u001b[1;33m.\u001b[0m\u001b[0mrequest\u001b[0m\u001b[1;33m(\u001b[0m\u001b[0mmethod\u001b[0m\u001b[1;33m=\u001b[0m\u001b[0mmethod\u001b[0m\u001b[1;33m,\u001b[0m \u001b[0murl\u001b[0m\u001b[1;33m=\u001b[0m\u001b[0murl\u001b[0m\u001b[1;33m,\u001b[0m \u001b[1;33m**\u001b[0m\u001b[0mkwargs\u001b[0m\u001b[1;33m)\u001b[0m\u001b[1;33m\u001b[0m\u001b[1;33m\u001b[0m\u001b[0m\n\u001b[0m\u001b[0;32m     62\u001b[0m \u001b[1;33m\u001b[0m\u001b[0m\n\u001b[0;32m     63\u001b[0m \u001b[1;33m\u001b[0m\u001b[0m\n",
      "\u001b[1;32mc:\\Users\\Irina\\anaconda3\\lib\\site-packages\\requests\\sessions.py\u001b[0m in \u001b[0;36mrequest\u001b[1;34m(self, method, url, params, data, headers, cookies, files, auth, timeout, allow_redirects, proxies, hooks, stream, verify, cert, json)\u001b[0m\n\u001b[0;32m    526\u001b[0m             \u001b[0mhooks\u001b[0m\u001b[1;33m=\u001b[0m\u001b[0mhooks\u001b[0m\u001b[1;33m,\u001b[0m\u001b[1;33m\u001b[0m\u001b[1;33m\u001b[0m\u001b[0m\n\u001b[0;32m    527\u001b[0m         )\n\u001b[1;32m--> 528\u001b[1;33m         \u001b[0mprep\u001b[0m \u001b[1;33m=\u001b[0m \u001b[0mself\u001b[0m\u001b[1;33m.\u001b[0m\u001b[0mprepare_request\u001b[0m\u001b[1;33m(\u001b[0m\u001b[0mreq\u001b[0m\u001b[1;33m)\u001b[0m\u001b[1;33m\u001b[0m\u001b[1;33m\u001b[0m\u001b[0m\n\u001b[0m\u001b[0;32m    529\u001b[0m \u001b[1;33m\u001b[0m\u001b[0m\n\u001b[0;32m    530\u001b[0m         \u001b[0mproxies\u001b[0m \u001b[1;33m=\u001b[0m \u001b[0mproxies\u001b[0m \u001b[1;32mor\u001b[0m \u001b[1;33m{\u001b[0m\u001b[1;33m}\u001b[0m\u001b[1;33m\u001b[0m\u001b[1;33m\u001b[0m\u001b[0m\n",
      "\u001b[1;32mc:\\Users\\Irina\\anaconda3\\lib\\site-packages\\requests\\sessions.py\u001b[0m in \u001b[0;36mprepare_request\u001b[1;34m(self, request)\u001b[0m\n\u001b[0;32m    451\u001b[0m         \u001b[0mauth\u001b[0m \u001b[1;33m=\u001b[0m \u001b[0mrequest\u001b[0m\u001b[1;33m.\u001b[0m\u001b[0mauth\u001b[0m\u001b[1;33m\u001b[0m\u001b[1;33m\u001b[0m\u001b[0m\n\u001b[0;32m    452\u001b[0m         \u001b[1;32mif\u001b[0m \u001b[0mself\u001b[0m\u001b[1;33m.\u001b[0m\u001b[0mtrust_env\u001b[0m \u001b[1;32mand\u001b[0m \u001b[1;32mnot\u001b[0m \u001b[0mauth\u001b[0m \u001b[1;32mand\u001b[0m \u001b[1;32mnot\u001b[0m \u001b[0mself\u001b[0m\u001b[1;33m.\u001b[0m\u001b[0mauth\u001b[0m\u001b[1;33m:\u001b[0m\u001b[1;33m\u001b[0m\u001b[1;33m\u001b[0m\u001b[0m\n\u001b[1;32m--> 453\u001b[1;33m             \u001b[0mauth\u001b[0m \u001b[1;33m=\u001b[0m \u001b[0mget_netrc_auth\u001b[0m\u001b[1;33m(\u001b[0m\u001b[0mrequest\u001b[0m\u001b[1;33m.\u001b[0m\u001b[0murl\u001b[0m\u001b[1;33m)\u001b[0m\u001b[1;33m\u001b[0m\u001b[1;33m\u001b[0m\u001b[0m\n\u001b[0m\u001b[0;32m    454\u001b[0m \u001b[1;33m\u001b[0m\u001b[0m\n\u001b[0;32m    455\u001b[0m         \u001b[0mp\u001b[0m \u001b[1;33m=\u001b[0m \u001b[0mPreparedRequest\u001b[0m\u001b[1;33m(\u001b[0m\u001b[1;33m)\u001b[0m\u001b[1;33m\u001b[0m\u001b[1;33m\u001b[0m\u001b[0m\n",
      "\u001b[1;32mc:\\Users\\Irina\\anaconda3\\lib\\site-packages\\requests\\utils.py\u001b[0m in \u001b[0;36mget_netrc_auth\u001b[1;34m(url, raise_errors)\u001b[0m\n\u001b[0;32m    204\u001b[0m             \u001b[1;32mreturn\u001b[0m\u001b[1;33m\u001b[0m\u001b[1;33m\u001b[0m\u001b[0m\n\u001b[0;32m    205\u001b[0m \u001b[1;33m\u001b[0m\u001b[0m\n\u001b[1;32m--> 206\u001b[1;33m         \u001b[0mri\u001b[0m \u001b[1;33m=\u001b[0m \u001b[0murlparse\u001b[0m\u001b[1;33m(\u001b[0m\u001b[0murl\u001b[0m\u001b[1;33m)\u001b[0m\u001b[1;33m\u001b[0m\u001b[1;33m\u001b[0m\u001b[0m\n\u001b[0m\u001b[0;32m    207\u001b[0m \u001b[1;33m\u001b[0m\u001b[0m\n\u001b[0;32m    208\u001b[0m         \u001b[1;31m# Strip port numbers from netloc. This weird `if...encode`` dance is\u001b[0m\u001b[1;33m\u001b[0m\u001b[1;33m\u001b[0m\u001b[0m\n",
      "\u001b[1;32mc:\\Users\\Irina\\anaconda3\\lib\\urllib\\parse.py\u001b[0m in \u001b[0;36murlparse\u001b[1;34m(url, scheme, allow_fragments)\u001b[0m\n\u001b[0;32m    390\u001b[0m     \u001b[0mNote\u001b[0m \u001b[0mthat\u001b[0m \u001b[1;33m%\u001b[0m \u001b[0mescapes\u001b[0m \u001b[0mare\u001b[0m \u001b[1;32mnot\u001b[0m \u001b[0mexpanded\u001b[0m\u001b[1;33m.\u001b[0m\u001b[1;33m\u001b[0m\u001b[1;33m\u001b[0m\u001b[0m\n\u001b[0;32m    391\u001b[0m     \"\"\"\n\u001b[1;32m--> 392\u001b[1;33m     \u001b[0murl\u001b[0m\u001b[1;33m,\u001b[0m \u001b[0mscheme\u001b[0m\u001b[1;33m,\u001b[0m \u001b[0m_coerce_result\u001b[0m \u001b[1;33m=\u001b[0m \u001b[0m_coerce_args\u001b[0m\u001b[1;33m(\u001b[0m\u001b[0murl\u001b[0m\u001b[1;33m,\u001b[0m \u001b[0mscheme\u001b[0m\u001b[1;33m)\u001b[0m\u001b[1;33m\u001b[0m\u001b[1;33m\u001b[0m\u001b[0m\n\u001b[0m\u001b[0;32m    393\u001b[0m     \u001b[0msplitresult\u001b[0m \u001b[1;33m=\u001b[0m \u001b[0murlsplit\u001b[0m\u001b[1;33m(\u001b[0m\u001b[0murl\u001b[0m\u001b[1;33m,\u001b[0m \u001b[0mscheme\u001b[0m\u001b[1;33m,\u001b[0m \u001b[0mallow_fragments\u001b[0m\u001b[1;33m)\u001b[0m\u001b[1;33m\u001b[0m\u001b[1;33m\u001b[0m\u001b[0m\n\u001b[0;32m    394\u001b[0m     \u001b[0mscheme\u001b[0m\u001b[1;33m,\u001b[0m \u001b[0mnetloc\u001b[0m\u001b[1;33m,\u001b[0m \u001b[0murl\u001b[0m\u001b[1;33m,\u001b[0m \u001b[0mquery\u001b[0m\u001b[1;33m,\u001b[0m \u001b[0mfragment\u001b[0m \u001b[1;33m=\u001b[0m \u001b[0msplitresult\u001b[0m\u001b[1;33m\u001b[0m\u001b[1;33m\u001b[0m\u001b[0m\n",
      "\u001b[1;32mc:\\Users\\Irina\\anaconda3\\lib\\urllib\\parse.py\u001b[0m in \u001b[0;36m_coerce_args\u001b[1;34m(*args)\u001b[0m\n\u001b[0;32m    126\u001b[0m     \u001b[1;32mif\u001b[0m \u001b[0mstr_input\u001b[0m\u001b[1;33m:\u001b[0m\u001b[1;33m\u001b[0m\u001b[1;33m\u001b[0m\u001b[0m\n\u001b[0;32m    127\u001b[0m         \u001b[1;32mreturn\u001b[0m \u001b[0margs\u001b[0m \u001b[1;33m+\u001b[0m \u001b[1;33m(\u001b[0m\u001b[0m_noop\u001b[0m\u001b[1;33m,\u001b[0m\u001b[1;33m)\u001b[0m\u001b[1;33m\u001b[0m\u001b[1;33m\u001b[0m\u001b[0m\n\u001b[1;32m--> 128\u001b[1;33m     \u001b[1;32mreturn\u001b[0m \u001b[0m_decode_args\u001b[0m\u001b[1;33m(\u001b[0m\u001b[0margs\u001b[0m\u001b[1;33m)\u001b[0m \u001b[1;33m+\u001b[0m \u001b[1;33m(\u001b[0m\u001b[0m_encode_result\u001b[0m\u001b[1;33m,\u001b[0m\u001b[1;33m)\u001b[0m\u001b[1;33m\u001b[0m\u001b[1;33m\u001b[0m\u001b[0m\n\u001b[0m\u001b[0;32m    129\u001b[0m \u001b[1;33m\u001b[0m\u001b[0m\n\u001b[0;32m    130\u001b[0m \u001b[1;31m# Result objects are more helpful than simple tuples\u001b[0m\u001b[1;33m\u001b[0m\u001b[1;33m\u001b[0m\u001b[0m\n",
      "\u001b[1;32mc:\\Users\\Irina\\anaconda3\\lib\\urllib\\parse.py\u001b[0m in \u001b[0;36m_decode_args\u001b[1;34m(args, encoding, errors)\u001b[0m\n\u001b[0;32m    110\u001b[0m def _decode_args(args, encoding=_implicit_encoding,\n\u001b[0;32m    111\u001b[0m                        errors=_implicit_errors):\n\u001b[1;32m--> 112\u001b[1;33m     \u001b[1;32mreturn\u001b[0m \u001b[0mtuple\u001b[0m\u001b[1;33m(\u001b[0m\u001b[0mx\u001b[0m\u001b[1;33m.\u001b[0m\u001b[0mdecode\u001b[0m\u001b[1;33m(\u001b[0m\u001b[0mencoding\u001b[0m\u001b[1;33m,\u001b[0m \u001b[0merrors\u001b[0m\u001b[1;33m)\u001b[0m \u001b[1;32mif\u001b[0m \u001b[0mx\u001b[0m \u001b[1;32melse\u001b[0m \u001b[1;34m''\u001b[0m \u001b[1;32mfor\u001b[0m \u001b[0mx\u001b[0m \u001b[1;32min\u001b[0m \u001b[0margs\u001b[0m\u001b[1;33m)\u001b[0m\u001b[1;33m\u001b[0m\u001b[1;33m\u001b[0m\u001b[0m\n\u001b[0m\u001b[0;32m    113\u001b[0m \u001b[1;33m\u001b[0m\u001b[0m\n\u001b[0;32m    114\u001b[0m \u001b[1;32mdef\u001b[0m \u001b[0m_coerce_args\u001b[0m\u001b[1;33m(\u001b[0m\u001b[1;33m*\u001b[0m\u001b[0margs\u001b[0m\u001b[1;33m)\u001b[0m\u001b[1;33m:\u001b[0m\u001b[1;33m\u001b[0m\u001b[1;33m\u001b[0m\u001b[0m\n",
      "\u001b[1;32mc:\\Users\\Irina\\anaconda3\\lib\\urllib\\parse.py\u001b[0m in \u001b[0;36m<genexpr>\u001b[1;34m(.0)\u001b[0m\n\u001b[0;32m    110\u001b[0m def _decode_args(args, encoding=_implicit_encoding,\n\u001b[0;32m    111\u001b[0m                        errors=_implicit_errors):\n\u001b[1;32m--> 112\u001b[1;33m     \u001b[1;32mreturn\u001b[0m \u001b[0mtuple\u001b[0m\u001b[1;33m(\u001b[0m\u001b[0mx\u001b[0m\u001b[1;33m.\u001b[0m\u001b[0mdecode\u001b[0m\u001b[1;33m(\u001b[0m\u001b[0mencoding\u001b[0m\u001b[1;33m,\u001b[0m \u001b[0merrors\u001b[0m\u001b[1;33m)\u001b[0m \u001b[1;32mif\u001b[0m \u001b[0mx\u001b[0m \u001b[1;32melse\u001b[0m \u001b[1;34m''\u001b[0m \u001b[1;32mfor\u001b[0m \u001b[0mx\u001b[0m \u001b[1;32min\u001b[0m \u001b[0margs\u001b[0m\u001b[1;33m)\u001b[0m\u001b[1;33m\u001b[0m\u001b[1;33m\u001b[0m\u001b[0m\n\u001b[0m\u001b[0;32m    113\u001b[0m \u001b[1;33m\u001b[0m\u001b[0m\n\u001b[0;32m    114\u001b[0m \u001b[1;32mdef\u001b[0m \u001b[0m_coerce_args\u001b[0m\u001b[1;33m(\u001b[0m\u001b[1;33m*\u001b[0m\u001b[0margs\u001b[0m\u001b[1;33m)\u001b[0m\u001b[1;33m:\u001b[0m\u001b[1;33m\u001b[0m\u001b[1;33m\u001b[0m\u001b[0m\n",
      "\u001b[1;32mc:\\Users\\Irina\\anaconda3\\lib\\site-packages\\pandas\\core\\generic.py\u001b[0m in \u001b[0;36m__nonzero__\u001b[1;34m(self)\u001b[0m\n\u001b[0;32m   1535\u001b[0m     \u001b[1;33m@\u001b[0m\u001b[0mfinal\u001b[0m\u001b[1;33m\u001b[0m\u001b[1;33m\u001b[0m\u001b[0m\n\u001b[0;32m   1536\u001b[0m     \u001b[1;32mdef\u001b[0m \u001b[0m__nonzero__\u001b[0m\u001b[1;33m(\u001b[0m\u001b[0mself\u001b[0m\u001b[1;33m)\u001b[0m\u001b[1;33m:\u001b[0m\u001b[1;33m\u001b[0m\u001b[1;33m\u001b[0m\u001b[0m\n\u001b[1;32m-> 1537\u001b[1;33m         raise ValueError(\n\u001b[0m\u001b[0;32m   1538\u001b[0m             \u001b[1;34mf\"The truth value of a {type(self).__name__} is ambiguous. \"\u001b[0m\u001b[1;33m\u001b[0m\u001b[1;33m\u001b[0m\u001b[0m\n\u001b[0;32m   1539\u001b[0m             \u001b[1;34m\"Use a.empty, a.bool(), a.item(), a.any() or a.all().\"\u001b[0m\u001b[1;33m\u001b[0m\u001b[1;33m\u001b[0m\u001b[0m\n",
      "\u001b[1;31mValueError\u001b[0m: The truth value of a Series is ambiguous. Use a.empty, a.bool(), a.item(), a.any() or a.all()."
     ]
    }
   ],
   "source": [
    "# df = df.reset_index()\n",
    "for index, row in df.iterrows():\n",
    "\n",
    "    url = df['Link Body NL'].astype(str)\n",
    "    print(url)\n",
    "    page = requests.get(url)\n",
    "\n",
    "    soup = BeautifulSoup(page.content, \"lxml\")\n",
    "    tag = soup.body\n",
    "\n",
    "    content_list = []\n",
    "\n",
    "    for string in tag.stripped_strings:\n",
    "        string = string.replace('\\n',\"\")\n",
    "        content_list.append(string)\n",
    "        trimmed_list = content_list[13:-6]\n",
    "        df['Content'] = trimmed_list\n"
   ]
  },
  {
   "cell_type": "code",
   "execution_count": null,
   "metadata": {},
   "outputs": [],
   "source": [
    "# df = df.reset_index()\n",
    "for index, row in df.iterrows():\n",
    "\n",
    "    url = df['Link Body NL'].to_string()\n",
    "    driver = webdriver.Firefox()\n",
    "    driver.implicitly_wait(2)\n",
    "    driver.get(url)\n",
    "\n",
    "    soup = BeautifulSoup(driver.page_source)\n",
    "\n",
    "    driver.close()\n",
    "    content_list = []\n",
    "\n",
    "    for string in tag.stripped_strings:\n",
    "        string = string.replace('\\n',\"\")\n",
    "        content_list.append(string)\n",
    "        trimmed_list = content_list[13:-6]\n",
    "        df['Content'] = trimmed_list\n",
    "\n",
    "df.to_csv('fetch_text.csv')"
   ]
  },
  {
   "cell_type": "code",
   "execution_count": 28,
   "metadata": {},
   "outputs": [
    {
     "name": "stdout",
     "output_type": "stream",
     "text": [
      "[]\n",
      "[]\n",
      "[]\n",
      "[]\n",
      "[]\n",
      "[]\n",
      "[]\n",
      "[]\n",
      "[]\n",
      "[]\n",
      "[]\n",
      "[]\n",
      "[]\n",
      "[]\n",
      "[]\n",
      "[]\n",
      "[]\n",
      "[]\n",
      "[]\n",
      "['De Minister van de Brusselse Hoofdstedelijke Regering, belast met Financiën en Begroting,']\n",
      "['De Minister van de Brusselse Hoofdstedelijke Regering, belast met Financiën en Begroting,', 'Gelet op het Wetboek der Successierechten, artikel 60bis/2, § 1, ingevoegd door de ordonnantie van 12 december 2016 houdende het tweede deel van de fiscale hervorming;']\n",
      "['De Minister van de Brusselse Hoofdstedelijke Regering, belast met Financiën en Begroting,', 'Gelet op het Wetboek der Successierechten, artikel 60bis/2, § 1, ingevoegd door de ordonnantie van 12 december 2016 houdende het tweede deel van de fiscale hervorming;', 'Gelet op het besluit van de Brusselse Hoofdstedelijke Regering van 19 januari 2017 tot vaststelling van de modaliteiten van het gunstregime toepasselijk op de successierechten bij overdracht van familiale ondernemingen en familiale vennootschappen, artikel 8;']\n",
      "['De Minister van de Brusselse Hoofdstedelijke Regering, belast met Financiën en Begroting,', 'Gelet op het Wetboek der Successierechten, artikel 60bis/2, § 1, ingevoegd door de ordonnantie van 12 december 2016 houdende het tweede deel van de fiscale hervorming;', 'Gelet op het besluit van de Brusselse Hoofdstedelijke Regering van 19 januari 2017 tot vaststelling van de modaliteiten van het gunstregime toepasselijk op de successierechten bij overdracht van familiale ondernemingen en familiale vennootschappen, artikel 8;', 'Gelet op de gelijkekansentest uitgevoerd in toepassing van artikel 2 van de ordonnantie van 4 oktober 2018 tot invoering van de gelijkekansentest;']\n",
      "['De Minister van de Brusselse Hoofdstedelijke Regering, belast met Financiën en Begroting,', 'Gelet op het Wetboek der Successierechten, artikel 60bis/2, § 1, ingevoegd door de ordonnantie van 12 december 2016 houdende het tweede deel van de fiscale hervorming;', 'Gelet op het besluit van de Brusselse Hoofdstedelijke Regering van 19 januari 2017 tot vaststelling van de modaliteiten van het gunstregime toepasselijk op de successierechten bij overdracht van familiale ondernemingen en familiale vennootschappen, artikel 8;', 'Gelet op de gelijkekansentest uitgevoerd in toepassing van artikel 2 van de ordonnantie van 4 oktober 2018 tot invoering van de gelijkekansentest;', 'Overwegende dat artikel 8 van bovengenoemd besluit stelt dat de Minister van de Brusselse Hoofdstedelijke Regering, belast met Financiën en Begroting, bevoegd is om het formulier dat bedoeld is om na te gaan of de voorwaarden voor het behoud van de het fiscale gunstregime, dat werd bekomen in het kader van de overdracht van een familiale onderneming of een familiale vennootschap, vervuld zijn gebleven tot het einde van de driejarige periode die aanving bij het overlijden van de decujus, zoals bedoeld in artikel 60bis/2, § 1, van het Wetboek der Successierechten;']\n",
      "['De Minister van de Brusselse Hoofdstedelijke Regering, belast met Financiën en Begroting,', 'Gelet op het Wetboek der Successierechten, artikel 60bis/2, § 1, ingevoegd door de ordonnantie van 12 december 2016 houdende het tweede deel van de fiscale hervorming;', 'Gelet op het besluit van de Brusselse Hoofdstedelijke Regering van 19 januari 2017 tot vaststelling van de modaliteiten van het gunstregime toepasselijk op de successierechten bij overdracht van familiale ondernemingen en familiale vennootschappen, artikel 8;', 'Gelet op de gelijkekansentest uitgevoerd in toepassing van artikel 2 van de ordonnantie van 4 oktober 2018 tot invoering van de gelijkekansentest;', 'Overwegende dat artikel 8 van bovengenoemd besluit stelt dat de Minister van de Brusselse Hoofdstedelijke Regering, belast met Financiën en Begroting, bevoegd is om het formulier dat bedoeld is om na te gaan of de voorwaarden voor het behoud van de het fiscale gunstregime, dat werd bekomen in het kader van de overdracht van een familiale onderneming of een familiale vennootschap, vervuld zijn gebleven tot het einde van de driejarige periode die aanving bij het overlijden van de decujus, zoals bedoeld in artikel 60bis/2, § 1, van het Wetboek der Successierechten;', 'Overwegende dat dit ministerieel besluit geen reglementaire voorschriften bevat in de zin van artikel 3, § 1, eerste lid, van de gecoördineerde wetten van de Raad van State van 12 januari 1973, is het niet onderworpen aan het advies van de Raad van State, afdeling Wetgeving,']\n",
      "['De Minister van de Brusselse Hoofdstedelijke Regering, belast met Financiën en Begroting,', 'Gelet op het Wetboek der Successierechten, artikel 60bis/2, § 1, ingevoegd door de ordonnantie van 12 december 2016 houdende het tweede deel van de fiscale hervorming;', 'Gelet op het besluit van de Brusselse Hoofdstedelijke Regering van 19 januari 2017 tot vaststelling van de modaliteiten van het gunstregime toepasselijk op de successierechten bij overdracht van familiale ondernemingen en familiale vennootschappen, artikel 8;', 'Gelet op de gelijkekansentest uitgevoerd in toepassing van artikel 2 van de ordonnantie van 4 oktober 2018 tot invoering van de gelijkekansentest;', 'Overwegende dat artikel 8 van bovengenoemd besluit stelt dat de Minister van de Brusselse Hoofdstedelijke Regering, belast met Financiën en Begroting, bevoegd is om het formulier dat bedoeld is om na te gaan of de voorwaarden voor het behoud van de het fiscale gunstregime, dat werd bekomen in het kader van de overdracht van een familiale onderneming of een familiale vennootschap, vervuld zijn gebleven tot het einde van de driejarige periode die aanving bij het overlijden van de decujus, zoals bedoeld in artikel 60bis/2, § 1, van het Wetboek der Successierechten;', 'Overwegende dat dit ministerieel besluit geen reglementaire voorschriften bevat in de zin van artikel 3, § 1, eerste lid, van de gecoördineerde wetten van de Raad van State van 12 januari 1973, is het niet onderworpen aan het advies van de Raad van State, afdeling Wetgeving,', 'Besluit :']\n",
      "['De Minister van de Brusselse Hoofdstedelijke Regering, belast met Financiën en Begroting,', 'Gelet op het Wetboek der Successierechten, artikel 60bis/2, § 1, ingevoegd door de ordonnantie van 12 december 2016 houdende het tweede deel van de fiscale hervorming;', 'Gelet op het besluit van de Brusselse Hoofdstedelijke Regering van 19 januari 2017 tot vaststelling van de modaliteiten van het gunstregime toepasselijk op de successierechten bij overdracht van familiale ondernemingen en familiale vennootschappen, artikel 8;', 'Gelet op de gelijkekansentest uitgevoerd in toepassing van artikel 2 van de ordonnantie van 4 oktober 2018 tot invoering van de gelijkekansentest;', 'Overwegende dat artikel 8 van bovengenoemd besluit stelt dat de Minister van de Brusselse Hoofdstedelijke Regering, belast met Financiën en Begroting, bevoegd is om het formulier dat bedoeld is om na te gaan of de voorwaarden voor het behoud van de het fiscale gunstregime, dat werd bekomen in het kader van de overdracht van een familiale onderneming of een familiale vennootschap, vervuld zijn gebleven tot het einde van de driejarige periode die aanving bij het overlijden van de decujus, zoals bedoeld in artikel 60bis/2, § 1, van het Wetboek der Successierechten;', 'Overwegende dat dit ministerieel besluit geen reglementaire voorschriften bevat in de zin van artikel 3, § 1, eerste lid, van de gecoördineerde wetten van de Raad van State van 12 januari 1973, is het niet onderworpen aan het advies van de Raad van State, afdeling Wetgeving,', 'Besluit :', 'Artikel 1. Het formulier dat bedoeld is om na te gaan of de voorwaarden voor het behoud van de het fiscale gunstregime, dat werd bekomen in het kader van de overdracht van een familiale onderneming, vervuld zijn gebleven tot het einde van de driejarige periode die aanving bij het overlijden van de decujus, zoals bedoeld in artikel 60bis/2, § 1 van het Wetboek der Successierechten, is hernomen in bijlage 1 van dit besluit.']\n",
      "['De Minister van de Brusselse Hoofdstedelijke Regering, belast met Financiën en Begroting,', 'Gelet op het Wetboek der Successierechten, artikel 60bis/2, § 1, ingevoegd door de ordonnantie van 12 december 2016 houdende het tweede deel van de fiscale hervorming;', 'Gelet op het besluit van de Brusselse Hoofdstedelijke Regering van 19 januari 2017 tot vaststelling van de modaliteiten van het gunstregime toepasselijk op de successierechten bij overdracht van familiale ondernemingen en familiale vennootschappen, artikel 8;', 'Gelet op de gelijkekansentest uitgevoerd in toepassing van artikel 2 van de ordonnantie van 4 oktober 2018 tot invoering van de gelijkekansentest;', 'Overwegende dat artikel 8 van bovengenoemd besluit stelt dat de Minister van de Brusselse Hoofdstedelijke Regering, belast met Financiën en Begroting, bevoegd is om het formulier dat bedoeld is om na te gaan of de voorwaarden voor het behoud van de het fiscale gunstregime, dat werd bekomen in het kader van de overdracht van een familiale onderneming of een familiale vennootschap, vervuld zijn gebleven tot het einde van de driejarige periode die aanving bij het overlijden van de decujus, zoals bedoeld in artikel 60bis/2, § 1, van het Wetboek der Successierechten;', 'Overwegende dat dit ministerieel besluit geen reglementaire voorschriften bevat in de zin van artikel 3, § 1, eerste lid, van de gecoördineerde wetten van de Raad van State van 12 januari 1973, is het niet onderworpen aan het advies van de Raad van State, afdeling Wetgeving,', 'Besluit :', 'Artikel 1. Het formulier dat bedoeld is om na te gaan of de voorwaarden voor het behoud van de het fiscale gunstregime, dat werd bekomen in het kader van de overdracht van een familiale onderneming, vervuld zijn gebleven tot het einde van de driejarige periode die aanving bij het overlijden van de decujus, zoals bedoeld in artikel 60bis/2, § 1 van het Wetboek der Successierechten, is hernomen in bijlage 1 van dit besluit.', 'Art. 2. Het formulier dat bedoeld is om na te gaan of de voorwaarden voor het behoud van het fiscale gunstregime, dat werd bekomen in het kader van het overdracht van een familiale vennootschap, vervuld zijn gebleven tot het einde van de driejarige periode die aanving bij het overlijden van de decujus, zoals bedoeld in artikel 60bis/2, § 1 van het Wetboek der Successierechten, is hernomen in bijlage 2 bij dit besluit.']\n",
      "['De Minister van de Brusselse Hoofdstedelijke Regering, belast met Financiën en Begroting,', 'Gelet op het Wetboek der Successierechten, artikel 60bis/2, § 1, ingevoegd door de ordonnantie van 12 december 2016 houdende het tweede deel van de fiscale hervorming;', 'Gelet op het besluit van de Brusselse Hoofdstedelijke Regering van 19 januari 2017 tot vaststelling van de modaliteiten van het gunstregime toepasselijk op de successierechten bij overdracht van familiale ondernemingen en familiale vennootschappen, artikel 8;', 'Gelet op de gelijkekansentest uitgevoerd in toepassing van artikel 2 van de ordonnantie van 4 oktober 2018 tot invoering van de gelijkekansentest;', 'Overwegende dat artikel 8 van bovengenoemd besluit stelt dat de Minister van de Brusselse Hoofdstedelijke Regering, belast met Financiën en Begroting, bevoegd is om het formulier dat bedoeld is om na te gaan of de voorwaarden voor het behoud van de het fiscale gunstregime, dat werd bekomen in het kader van de overdracht van een familiale onderneming of een familiale vennootschap, vervuld zijn gebleven tot het einde van de driejarige periode die aanving bij het overlijden van de decujus, zoals bedoeld in artikel 60bis/2, § 1, van het Wetboek der Successierechten;', 'Overwegende dat dit ministerieel besluit geen reglementaire voorschriften bevat in de zin van artikel 3, § 1, eerste lid, van de gecoördineerde wetten van de Raad van State van 12 januari 1973, is het niet onderworpen aan het advies van de Raad van State, afdeling Wetgeving,', 'Besluit :', 'Artikel 1. Het formulier dat bedoeld is om na te gaan of de voorwaarden voor het behoud van de het fiscale gunstregime, dat werd bekomen in het kader van de overdracht van een familiale onderneming, vervuld zijn gebleven tot het einde van de driejarige periode die aanving bij het overlijden van de decujus, zoals bedoeld in artikel 60bis/2, § 1 van het Wetboek der Successierechten, is hernomen in bijlage 1 van dit besluit.', 'Art. 2. Het formulier dat bedoeld is om na te gaan of de voorwaarden voor het behoud van het fiscale gunstregime, dat werd bekomen in het kader van het overdracht van een familiale vennootschap, vervuld zijn gebleven tot het einde van de driejarige periode die aanving bij het overlijden van de decujus, zoals bedoeld in artikel 60bis/2, § 1 van het Wetboek der Successierechten, is hernomen in bijlage 2 bij dit besluit.', 'Art. 3. Dit besluit heeft uitwerking met ingang van 1 januari 2020.']\n",
      "['De Minister van de Brusselse Hoofdstedelijke Regering, belast met Financiën en Begroting,', 'Gelet op het Wetboek der Successierechten, artikel 60bis/2, § 1, ingevoegd door de ordonnantie van 12 december 2016 houdende het tweede deel van de fiscale hervorming;', 'Gelet op het besluit van de Brusselse Hoofdstedelijke Regering van 19 januari 2017 tot vaststelling van de modaliteiten van het gunstregime toepasselijk op de successierechten bij overdracht van familiale ondernemingen en familiale vennootschappen, artikel 8;', 'Gelet op de gelijkekansentest uitgevoerd in toepassing van artikel 2 van de ordonnantie van 4 oktober 2018 tot invoering van de gelijkekansentest;', 'Overwegende dat artikel 8 van bovengenoemd besluit stelt dat de Minister van de Brusselse Hoofdstedelijke Regering, belast met Financiën en Begroting, bevoegd is om het formulier dat bedoeld is om na te gaan of de voorwaarden voor het behoud van de het fiscale gunstregime, dat werd bekomen in het kader van de overdracht van een familiale onderneming of een familiale vennootschap, vervuld zijn gebleven tot het einde van de driejarige periode die aanving bij het overlijden van de decujus, zoals bedoeld in artikel 60bis/2, § 1, van het Wetboek der Successierechten;', 'Overwegende dat dit ministerieel besluit geen reglementaire voorschriften bevat in de zin van artikel 3, § 1, eerste lid, van de gecoördineerde wetten van de Raad van State van 12 januari 1973, is het niet onderworpen aan het advies van de Raad van State, afdeling Wetgeving,', 'Besluit :', 'Artikel 1. Het formulier dat bedoeld is om na te gaan of de voorwaarden voor het behoud van de het fiscale gunstregime, dat werd bekomen in het kader van de overdracht van een familiale onderneming, vervuld zijn gebleven tot het einde van de driejarige periode die aanving bij het overlijden van de decujus, zoals bedoeld in artikel 60bis/2, § 1 van het Wetboek der Successierechten, is hernomen in bijlage 1 van dit besluit.', 'Art. 2. Het formulier dat bedoeld is om na te gaan of de voorwaarden voor het behoud van het fiscale gunstregime, dat werd bekomen in het kader van het overdracht van een familiale vennootschap, vervuld zijn gebleven tot het einde van de driejarige periode die aanving bij het overlijden van de decujus, zoals bedoeld in artikel 60bis/2, § 1 van het Wetboek der Successierechten, is hernomen in bijlage 2 bij dit besluit.', 'Art. 3. Dit besluit heeft uitwerking met ingang van 1 januari 2020.', 'Brussel, 8 januari 2020.']\n",
      "['De Minister van de Brusselse Hoofdstedelijke Regering, belast met Financiën en Begroting,', 'Gelet op het Wetboek der Successierechten, artikel 60bis/2, § 1, ingevoegd door de ordonnantie van 12 december 2016 houdende het tweede deel van de fiscale hervorming;', 'Gelet op het besluit van de Brusselse Hoofdstedelijke Regering van 19 januari 2017 tot vaststelling van de modaliteiten van het gunstregime toepasselijk op de successierechten bij overdracht van familiale ondernemingen en familiale vennootschappen, artikel 8;', 'Gelet op de gelijkekansentest uitgevoerd in toepassing van artikel 2 van de ordonnantie van 4 oktober 2018 tot invoering van de gelijkekansentest;', 'Overwegende dat artikel 8 van bovengenoemd besluit stelt dat de Minister van de Brusselse Hoofdstedelijke Regering, belast met Financiën en Begroting, bevoegd is om het formulier dat bedoeld is om na te gaan of de voorwaarden voor het behoud van de het fiscale gunstregime, dat werd bekomen in het kader van de overdracht van een familiale onderneming of een familiale vennootschap, vervuld zijn gebleven tot het einde van de driejarige periode die aanving bij het overlijden van de decujus, zoals bedoeld in artikel 60bis/2, § 1, van het Wetboek der Successierechten;', 'Overwegende dat dit ministerieel besluit geen reglementaire voorschriften bevat in de zin van artikel 3, § 1, eerste lid, van de gecoördineerde wetten van de Raad van State van 12 januari 1973, is het niet onderworpen aan het advies van de Raad van State, afdeling Wetgeving,', 'Besluit :', 'Artikel 1. Het formulier dat bedoeld is om na te gaan of de voorwaarden voor het behoud van de het fiscale gunstregime, dat werd bekomen in het kader van de overdracht van een familiale onderneming, vervuld zijn gebleven tot het einde van de driejarige periode die aanving bij het overlijden van de decujus, zoals bedoeld in artikel 60bis/2, § 1 van het Wetboek der Successierechten, is hernomen in bijlage 1 van dit besluit.', 'Art. 2. Het formulier dat bedoeld is om na te gaan of de voorwaarden voor het behoud van het fiscale gunstregime, dat werd bekomen in het kader van het overdracht van een familiale vennootschap, vervuld zijn gebleven tot het einde van de driejarige periode die aanving bij het overlijden van de decujus, zoals bedoeld in artikel 60bis/2, § 1 van het Wetboek der Successierechten, is hernomen in bijlage 2 bij dit besluit.', 'Art. 3. Dit besluit heeft uitwerking met ingang van 1 januari 2020.', 'Brussel, 8 januari 2020.', 'De Minister van de Brusselse Hoofdstedelijke Regering, belast met Financiën, Begroting, Openbaar ambt en de Promotie van Meertaligheid,']\n",
      "['De Minister van de Brusselse Hoofdstedelijke Regering, belast met Financiën en Begroting,', 'Gelet op het Wetboek der Successierechten, artikel 60bis/2, § 1, ingevoegd door de ordonnantie van 12 december 2016 houdende het tweede deel van de fiscale hervorming;', 'Gelet op het besluit van de Brusselse Hoofdstedelijke Regering van 19 januari 2017 tot vaststelling van de modaliteiten van het gunstregime toepasselijk op de successierechten bij overdracht van familiale ondernemingen en familiale vennootschappen, artikel 8;', 'Gelet op de gelijkekansentest uitgevoerd in toepassing van artikel 2 van de ordonnantie van 4 oktober 2018 tot invoering van de gelijkekansentest;', 'Overwegende dat artikel 8 van bovengenoemd besluit stelt dat de Minister van de Brusselse Hoofdstedelijke Regering, belast met Financiën en Begroting, bevoegd is om het formulier dat bedoeld is om na te gaan of de voorwaarden voor het behoud van de het fiscale gunstregime, dat werd bekomen in het kader van de overdracht van een familiale onderneming of een familiale vennootschap, vervuld zijn gebleven tot het einde van de driejarige periode die aanving bij het overlijden van de decujus, zoals bedoeld in artikel 60bis/2, § 1, van het Wetboek der Successierechten;', 'Overwegende dat dit ministerieel besluit geen reglementaire voorschriften bevat in de zin van artikel 3, § 1, eerste lid, van de gecoördineerde wetten van de Raad van State van 12 januari 1973, is het niet onderworpen aan het advies van de Raad van State, afdeling Wetgeving,', 'Besluit :', 'Artikel 1. Het formulier dat bedoeld is om na te gaan of de voorwaarden voor het behoud van de het fiscale gunstregime, dat werd bekomen in het kader van de overdracht van een familiale onderneming, vervuld zijn gebleven tot het einde van de driejarige periode die aanving bij het overlijden van de decujus, zoals bedoeld in artikel 60bis/2, § 1 van het Wetboek der Successierechten, is hernomen in bijlage 1 van dit besluit.', 'Art. 2. Het formulier dat bedoeld is om na te gaan of de voorwaarden voor het behoud van het fiscale gunstregime, dat werd bekomen in het kader van het overdracht van een familiale vennootschap, vervuld zijn gebleven tot het einde van de driejarige periode die aanving bij het overlijden van de decujus, zoals bedoeld in artikel 60bis/2, § 1 van het Wetboek der Successierechten, is hernomen in bijlage 2 bij dit besluit.', 'Art. 3. Dit besluit heeft uitwerking met ingang van 1 januari 2020.', 'Brussel, 8 januari 2020.', 'De Minister van de Brusselse Hoofdstedelijke Regering, belast met Financiën, Begroting, Openbaar ambt en de Promotie van Meertaligheid,', 'S. GATZ']\n"
     ]
    }
   ],
   "source": [
    "url = \"http://www.ejustice.just.fgov.be/cgi/article_body.pl?language=nl&pub_date=2020-01-14&caller=list&numac=2020010053\"\n",
    "  \n",
    "driver = webdriver.Firefox()\n",
    "driver.implicitly_wait(2)\n",
    "driver.get(url)\n",
    "\n",
    "soup = BeautifulSoup(driver.page_source)\n",
    "tag = soup.body\n",
    "\n",
    "driver.close()\n",
    "\n",
    "content_list = []\n",
    "\n",
    "for string in tag.stripped_strings:\n",
    "    string = string.replace('\\n',\"\")\n",
    "    content_list.append(string)\n",
    "    trimmed_list = content_list[13:-6]\n",
    "    # df['Content'] = trimmed_list\n",
    "    print(trimmed_list)"
   ]
  }
 ],
 "metadata": {
  "interpreter": {
   "hash": "573c5f8e4a9de4a29cc2c43f44bd7d1acbfa6c8b3e00d78238142f0788ca6380"
  },
  "kernelspec": {
   "display_name": "Python 3.9.7 ('base')",
   "language": "python",
   "name": "python3"
  },
  "language_info": {
   "codemirror_mode": {
    "name": "ipython",
    "version": 3
   },
   "file_extension": ".py",
   "mimetype": "text/x-python",
   "name": "python",
   "nbconvert_exporter": "python",
   "pygments_lexer": "ipython3",
   "version": "3.9.7"
  },
  "orig_nbformat": 4
 },
 "nbformat": 4,
 "nbformat_minor": 2
}
