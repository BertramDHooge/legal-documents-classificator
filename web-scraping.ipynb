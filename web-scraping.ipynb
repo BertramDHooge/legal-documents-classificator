{
 "cells": [
  {
   "cell_type": "code",
   "execution_count": 97,
   "metadata": {},
   "outputs": [],
   "source": [
    "import bs4\n",
    "import requests\n",
    "from bs4 import BeautifulSoup\n",
    "import pandas as pd\n",
    "import json\n",
    "\n",
    "import re\n",
    "# from tabulate import tabulate\n",
    "import os\n",
    "\n",
    "import selenium\n",
    "from selenium import webdriver\n",
    "from selenium.webdriver.common.by import By"
   ]
  },
  {
   "cell_type": "code",
   "execution_count": 98,
   "metadata": {},
   "outputs": [],
   "source": [
    "df = pd.read_excel('data/dataset.xlsx')"
   ]
  },
  {
   "cell_type": "code",
   "execution_count": 99,
   "metadata": {},
   "outputs": [
    {
     "data": {
      "text/html": [
       "<div>\n",
       "<style scoped>\n",
       "    .dataframe tbody tr th:only-of-type {\n",
       "        vertical-align: middle;\n",
       "    }\n",
       "\n",
       "    .dataframe tbody tr th {\n",
       "        vertical-align: top;\n",
       "    }\n",
       "\n",
       "    .dataframe thead th {\n",
       "        text-align: right;\n",
       "    }\n",
       "</style>\n",
       "<table border=\"1\" class=\"dataframe\">\n",
       "  <thead>\n",
       "    <tr style=\"text-align: right;\">\n",
       "      <th></th>\n",
       "      <th>Date</th>\n",
       "      <th>Title</th>\n",
       "      <th>Numac</th>\n",
       "      <th>Link FR</th>\n",
       "      <th>Link NL</th>\n",
       "    </tr>\n",
       "  </thead>\n",
       "  <tbody>\n",
       "    <tr>\n",
       "      <th>0</th>\n",
       "      <td>2020-01-14</td>\n",
       "      <td>REGION DE BRUXELLES-CAPITALE\\nREGION DE BRUXEL...</td>\n",
       "      <td>2.020010e+09</td>\n",
       "      <td>http://www.ejustice.just.fgov.be/cgi/article.p...</td>\n",
       "      <td>http://www.ejustice.just.fgov.be/cgi/article.p...</td>\n",
       "    </tr>\n",
       "  </tbody>\n",
       "</table>\n",
       "</div>"
      ],
      "text/plain": [
       "        Date                                              Title         Numac  \\\n",
       "0 2020-01-14  REGION DE BRUXELLES-CAPITALE\\nREGION DE BRUXEL...  2.020010e+09   \n",
       "\n",
       "                                             Link FR  \\\n",
       "0  http://www.ejustice.just.fgov.be/cgi/article.p...   \n",
       "\n",
       "                                             Link NL  \n",
       "0  http://www.ejustice.just.fgov.be/cgi/article.p...  "
      ]
     },
     "execution_count": 99,
     "metadata": {},
     "output_type": "execute_result"
    }
   ],
   "source": [
    "df.head(1)"
   ]
  },
  {
   "cell_type": "code",
   "execution_count": 100,
   "metadata": {},
   "outputs": [
    {
     "data": {
      "text/html": [
       "<div>\n",
       "<style scoped>\n",
       "    .dataframe tbody tr th:only-of-type {\n",
       "        vertical-align: middle;\n",
       "    }\n",
       "\n",
       "    .dataframe tbody tr th {\n",
       "        vertical-align: top;\n",
       "    }\n",
       "\n",
       "    .dataframe thead th {\n",
       "        text-align: right;\n",
       "    }\n",
       "</style>\n",
       "<table border=\"1\" class=\"dataframe\">\n",
       "  <thead>\n",
       "    <tr style=\"text-align: right;\">\n",
       "      <th></th>\n",
       "      <th>Date</th>\n",
       "      <th>Title</th>\n",
       "      <th>Numac</th>\n",
       "      <th>Link FR</th>\n",
       "      <th>Link NL</th>\n",
       "    </tr>\n",
       "  </thead>\n",
       "  <tbody>\n",
       "    <tr>\n",
       "      <th>0</th>\n",
       "      <td>2020-01-14</td>\n",
       "      <td>REGION DE BRUXELLES-CAPITALE\\nREGION DE BRUXEL...</td>\n",
       "      <td>2.020010e+09</td>\n",
       "      <td>http://www.ejustice.just.fgov.be/cgi/article.p...</td>\n",
       "      <td>http://www.ejustice.just.fgov.be/cgi/article.p...</td>\n",
       "    </tr>\n",
       "  </tbody>\n",
       "</table>\n",
       "</div>"
      ],
      "text/plain": [
       "        Date                                              Title         Numac  \\\n",
       "0 2020-01-14  REGION DE BRUXELLES-CAPITALE\\nREGION DE BRUXEL...  2.020010e+09   \n",
       "\n",
       "                                             Link FR  \\\n",
       "0  http://www.ejustice.just.fgov.be/cgi/article.p...   \n",
       "\n",
       "                                             Link NL  \n",
       "0  http://www.ejustice.just.fgov.be/cgi/article.p...  "
      ]
     },
     "execution_count": 100,
     "metadata": {},
     "output_type": "execute_result"
    }
   ],
   "source": [
    "## Remove the duplicates\n",
    "\n",
    "df = df.drop_duplicates()\n",
    "df.head(1)"
   ]
  },
  {
   "cell_type": "code",
   "execution_count": 101,
   "metadata": {},
   "outputs": [
    {
     "data": {
      "text/html": [
       "<div>\n",
       "<style scoped>\n",
       "    .dataframe tbody tr th:only-of-type {\n",
       "        vertical-align: middle;\n",
       "    }\n",
       "\n",
       "    .dataframe tbody tr th {\n",
       "        vertical-align: top;\n",
       "    }\n",
       "\n",
       "    .dataframe thead th {\n",
       "        text-align: right;\n",
       "    }\n",
       "</style>\n",
       "<table border=\"1\" class=\"dataframe\">\n",
       "  <thead>\n",
       "    <tr style=\"text-align: right;\">\n",
       "      <th></th>\n",
       "      <th>Date</th>\n",
       "      <th>Title</th>\n",
       "      <th>Numac</th>\n",
       "      <th>Link FR</th>\n",
       "      <th>Link NL</th>\n",
       "      <th>Link Body NL</th>\n",
       "      <th>Content</th>\n",
       "    </tr>\n",
       "  </thead>\n",
       "  <tbody>\n",
       "    <tr>\n",
       "      <th>0</th>\n",
       "      <td>2020-01-14</td>\n",
       "      <td>REGION DE BRUXELLES-CAPITALE\\nREGION DE BRUXEL...</td>\n",
       "      <td>2.020010e+09</td>\n",
       "      <td>http://www.ejustice.just.fgov.be/cgi/article.p...</td>\n",
       "      <td>http://www.ejustice.just.fgov.be/cgi/article.p...</td>\n",
       "      <td>http://www.ejustice.just.fgov.be/cgi/article.p...</td>\n",
       "      <td></td>\n",
       "    </tr>\n",
       "  </tbody>\n",
       "</table>\n",
       "</div>"
      ],
      "text/plain": [
       "        Date                                              Title         Numac  \\\n",
       "0 2020-01-14  REGION DE BRUXELLES-CAPITALE\\nREGION DE BRUXEL...  2.020010e+09   \n",
       "\n",
       "                                             Link FR  \\\n",
       "0  http://www.ejustice.just.fgov.be/cgi/article.p...   \n",
       "\n",
       "                                             Link NL  \\\n",
       "0  http://www.ejustice.just.fgov.be/cgi/article.p...   \n",
       "\n",
       "                                        Link Body NL Content  \n",
       "0  http://www.ejustice.just.fgov.be/cgi/article.p...          "
      ]
     },
     "execution_count": 101,
     "metadata": {},
     "output_type": "execute_result"
    }
   ],
   "source": [
    "df['Link Body NL'] = df['Link NL']\n",
    "df.insert(6,\"Content\", \" \")\n",
    "df.head(1)"
   ]
  },
  {
   "cell_type": "code",
   "execution_count": 104,
   "metadata": {},
   "outputs": [],
   "source": [
    "df = df.reset_index()\n",
    "\n",
    "for i in df['Link Body NL']:\n",
    "    i = i.replace(\"article.pl\", \"article_body.pl\")\n",
    "    df['Link Body NL'] = i\n"
   ]
  },
  {
   "cell_type": "markdown",
   "metadata": {},
   "source": [
    "## Original link\n",
    "http://www.ejustice.just.fgov.be/cgi/article.pl?language=nl&pub_date=2020-01-14&caller=list&numac=2020010053\n",
    "\n",
    "## Required link\n",
    "http://www.ejustice.just.fgov.be/cgi/article_body.pl?language=nl&pub_date=2020-01-14&caller=list&numac=2020010053"
   ]
  },
  {
   "cell_type": "code",
   "execution_count": 110,
   "metadata": {},
   "outputs": [
    {
     "name": "stdout",
     "output_type": "stream",
     "text": [
      "<html version=\".//IETF//DTD HTML 3.0//EN\">\n",
      "<head><title>Moniteur Belge - Belgisch Staatsblad</title>\n",
      "<script language=\"javascript\">\n",
      "<!--  hide jvscr code for old browsers \n",
      " function NxtHit () { \n",
      "      window.status=\"volgende woord\"; \n",
      "      setTimeout (\"window.status=' '\",6000);} \n",
      " function PrvHit () { \n",
      "      window.status=\"Vorige woord\"; \n",
      "      setTimeout (\"window.status=' '\",6000);} \n",
      " function FirstHit () { \n",
      "      window.status=\"Eerste gevonden woord\"; \n",
      "      setTimeout (\"window.status=' '\",6000);} \n",
      " function LastHit () { \n",
      "      window.status=\"Laatste gevonden woord\"; \n",
      "      setTimeout (\"window.status=' '\",6000);} \n",
      "// end hiding jvsrc code  --></script>\n",
      "<link href=\"/doc/mon.css\" rel=\"stylesheet\" type=\"text/css\"/>\n",
      "<meta content=\"NOINDEX,NOFOLLOW\" name=\"ROBOTS\"/>\n",
      "</head>\n",
      "<body alink=\"#ff00ff\" background=\"/img_mbs/back.jpg\" vlink=\"#ff0000\">\n",
      "<table bgcolor=\"#EAEAEA\" border=\"0\" cellpadding=\"0\" cellspacing=\"0\" class=\"fedmenu\"><tr><td><img alt=\"\" height=\"29\" src=\"/img_mbs/opt.gif\" width=\"1\"/>\n",
      "</td>\n",
      "<td><img alt=\"\" height=\"20\" src=\"/img_mbs/opt.gif\" width=\"10\"/></td><td class=\"fedmenu\"><span class=\"activelang2\"><img alt=\"\" height=\"8\" src=\"/img_mbs/opt.gif\" width=\"2\"/>NL<img alt=\"\" height=\"8\" src=\"/img_mbs/opt.gif\" width=\"2\"/></span>\n",
      "<img alt=\"\" height=\"9\" src=\"/img_mbs/itemsplitter.gif\" width=\"3\"/>\n",
      "<a href=\"article_body.pl?language=fr&amp;pub_date=2020-01-14&amp;caller=list&amp;numac=2020010053\" title=\"Version française\">FR</a>\n",
      "<img alt=\"\" height=\"9\" src=\"/img_mbs/itemsplitter.gif\" width=\"3\"/>\n",
      "<a href=\"\"></a>\n",
      "</td>\n",
      "</tr></table> <form name=\"set_urlpdf\">\n",
      "<input name=\"urlpdf\" type=\"hidden\" value=\"/mopdf/2020/01/14_1.pdf#Page25  \"/>\n",
      "</form>\n",
      "<font color=\"black\"><b>belgiëlex.be   -  Kruispuntbank Wetgeving</b></font><table border=\"1\" cellspacing=\"5\"><tr><td bgcolor=\"white\"> <a href=\"http://reflex.raadvst-consetat.be/reflex/?page=chrono&amp;c=detail_get&amp;d=detail&amp;docid=143338&amp;tab=chrono\" target=\"_blank\"> Raad van State</a> </td></tr></table><b>ELI - Navigatie systeem via een Europese identificatiecode voor wetgeving</b><br/>http://www.ejustice.just.fgov.be/eli/besluit/2020/01/08/2020010053/staatsblad<a name=\"top\"> </a>\n",
      "<a name=\"hit0\"> </a><br/>\n",
      "<table border=\"0\" width=\"100%\"><tr align=\"center\">\n",
      "<td align=\"center\" width=\"20%\"> <a href=\"#end\" target=\"_self\">einde</a></td>\n",
      "<td width=\"1%\"></td>\n",
      "<td align=\"center\" width=\"20%\">\n",
      "<a href=\"#hit1\" onmouseover=\"FirstHit();return true;\" target=\"_self\">eerste woord</a></td>\n",
      "<td align=\"center\" width=\"20%\">\n",
      "<a href=\"#end\" onmouseover=\"LastHit();return true;\" target=\"_self\">laatste woord</a></td>\n",
      "<td width=\"1%\"></td>\n",
      "<td align=\"center\" width=\"38%\">\n",
      "<h3><font color=\"Red\">Publicatie : 2020-01-14<br/>Numac : 2020010053</font></h3></td></tr></table><center><table><tr><td align=\"center\" width=\"100%\">\n",
      "<font>BRUSSELS HOOFDSTEDELIJK GEWEST</font></td></tr></table></center>\n",
      "<h3><center><u> 8 JANUARI 2020. - Ministerieel besluit tot vaststelling van de modellen van formulier bedoeld in artikel 8, § 1 van het besluit van de Brusselse Hoofdstedelijke Regering van 19 januari 2017 tot vaststelling van de modaliteiten van het gunstregime toepasselijk op de successierechten bij overdracht van familiale ondernemingen en familiale vennootschappen </u></center></h3><br/>\n",
      "<br/>De Minister van de Brusselse Hoofdstedelijke Regering, \n",
      "belast met Financiën en Begroting,<br/>Gelet op het Wetboek der Successierechten, artikel 60bis/2, \n",
      "§ 1, ingevoegd door de ordonnantie van 12 december 2016 houdende het tweede deel van de fiscale \n",
      "hervorming;<br/>Gelet op het besluit van de Brusselse Hoofdstedelijke Regering van 19 januari 2017 \n",
      "tot vaststelling van de modaliteiten van het gunstregime toepasselijk op de successierechten bij overdracht \n",
      "van familiale ondernemingen en familiale vennootschappen, artikel 8;<br/>Gelet op de gelijkekansentest \n",
      "uitgevoerd in toepassing van artikel 2 van de ordonnantie van 4 oktober 2018 tot invoering van de gelijkekansentest;<br/>Overwegende \n",
      "dat artikel 8 van bovengenoemd besluit stelt dat de Minister van de Brusselse Hoofdstedelijke Regering, \n",
      "belast met Financiën en Begroting, bevoegd is om het formulier dat bedoeld is om na te gaan of de voorwaarden \n",
      "voor het behoud van de het fiscale gunstregime, dat werd bekomen in het kader van de overdracht van een \n",
      "familiale onderneming of een familiale vennootschap, vervuld zijn gebleven tot het einde van de driejarige \n",
      "periode die aanving bij het overlijden van de decujus, zoals bedoeld in artikel 60bis/2, § 1, \n",
      "van het Wetboek der Successierechten;<br/>Overwegende dat dit ministerieel besluit geen reglementaire \n",
      "voorschriften bevat in de zin van artikel 3, § 1, eerste lid, van de gecoördineerde wetten van \n",
      "de Raad van State van 12 januari 1973, is het niet onderworpen aan het advies van de Raad van State, \n",
      "afdeling Wetgeving,<br/>Besluit :<br/>Artikel 1. Het formulier dat bedoeld is om na te gaan \n",
      "of de voorwaarden voor het behoud van de het fiscale gunstregime, dat werd bekomen in het kader van de \n",
      "overdracht van een familiale onderneming, vervuld zijn gebleven tot het einde van de driejarige periode \n",
      "die aanving bij het overlijden van de decujus, zoals bedoeld in artikel 60bis/2, § 1 van het Wetboek \n",
      "der Successierechten, is hernomen in bijlage 1 van dit besluit.<br/>Art. 2. Het formulier dat bedoeld \n",
      "is om na te gaan of de voorwaarden voor het behoud van het fiscale gunstregime, dat werd bekomen in het \n",
      "kader van het overdracht van een familiale vennootschap, vervuld zijn gebleven tot het einde van de driejarige \n",
      "periode die aanving bij het overlijden van de decujus, zoals bedoeld in artikel 60bis/2, § 1 van \n",
      "het Wetboek der Successierechten, is hernomen in bijlage 2 bij dit besluit.<br/>Art. 3. Dit besluit \n",
      "heeft uitwerking met ingang van 1 januari 2020.<br/>Brussel, 8 januari 2020.<br/>De Minister \n",
      "van de Brusselse Hoofdstedelijke Regering, belast met Financiën, Begroting, Openbaar ambt en de Promotie \n",
      "van Meertaligheid,<br/>S. GATZ<br/><br/><font color=\"red\"> Voor de raadpleging van \n",
      "de tabel, zie beeld </font> <br/><a name=\"end\"> </a><br/><a name=\"hit1\"> </a><br/><table border=\"0\" width=\"100%\"><tr align=\"center\">\n",
      "<td align=\"center\" width=\"20%\"> <a href=\"#top\" target=\"_self\">begin</a></td>\n",
      "<td width=\"1%\"></td>\n",
      "<td align=\"center\" width=\"20%\"> <a href=\"#hit1\" onmouseover=\"FirstHit();return true;\" target=\"_self\">eerste woord</a></td>\n",
      "<td align=\"center\" width=\"20%\"> <a href=\"#hit0\" onmouseover=\"LastHit();return true;\" target=\"_self\">laatste woord</a></td>\n",
      "<td width=\"1%\"></td>\n",
      "<td align=\"center\" width=\"38%\">\n",
      "<h3><font color=\"Red\">Publicatie : 2020-01-14<br/>Numac : 2020010053</font></h3></td></tr>\n",
      "</table><br/>\n",
      "</body></html>\n",
      "\n"
     ]
    }
   ],
   "source": [
    "url = 'http://www.ejustice.just.fgov.be/cgi/article_body.pl?language=nl&pub_date=2020-01-14&caller=list&numac=2020010053'\n",
    "page = requests.get(url)\n",
    "# print(url, r.status_code)\n",
    "\n",
    "soup = BeautifulSoup(page.content, \"lxml\")\n",
    "print(soup)"
   ]
  },
  {
   "cell_type": "code",
   "execution_count": 108,
   "metadata": {},
   "outputs": [
    {
     "ename": "IndentationError",
     "evalue": "unexpected indent (Temp/ipykernel_18408/3537533375.py, line 2)",
     "output_type": "error",
     "traceback": [
      "\u001b[1;36m  File \u001b[1;32m\"C:\\Users\\Irina\\AppData\\Local\\Temp/ipykernel_18408/3537533375.py\"\u001b[1;36m, line \u001b[1;32m2\u001b[0m\n\u001b[1;33m    url = 'http://www.ejustice.just.fgov.be/cgi/article_body.pl?language=nl&pub_date=2020-01-14&caller=list&numac=2020010053'\u001b[0m\n\u001b[1;37m    ^\u001b[0m\n\u001b[1;31mIndentationError\u001b[0m\u001b[1;31m:\u001b[0m unexpected indent\n"
     ]
    }
   ],
   "source": [
    "for i in df['Link Body NL']:\n",
    "    url = i\n",
    "    page = requests.get(url)\n",
    "    print(page.text)\n",
    "    # print(url, r.status_code)\n",
    "\n",
    "    soup = BeautifulSoup(r.content, \"lxml\")\n",
    "\n",
    "    content_nl = ''\n",
    "\n",
    "    \"\"\" \n",
    "    Taking the content in soup and extracting the scripts with needed information.\n",
    "    \"\"\"\n",
    "    \n",
    "\n",
    "    \"\"\"\n",
    "    Creating a Json object and appending in the lists.\n",
    "    \"\"\""
   ]
  },
  {
   "cell_type": "code",
   "execution_count": null,
   "metadata": {},
   "outputs": [],
   "source": []
  }
 ],
 "metadata": {
  "interpreter": {
   "hash": "573c5f8e4a9de4a29cc2c43f44bd7d1acbfa6c8b3e00d78238142f0788ca6380"
  },
  "kernelspec": {
   "display_name": "Python 3.9.7 ('base')",
   "language": "python",
   "name": "python3"
  },
  "language_info": {
   "codemirror_mode": {
    "name": "ipython",
    "version": 3
   },
   "file_extension": ".py",
   "mimetype": "text/x-python",
   "name": "python",
   "nbconvert_exporter": "python",
   "pygments_lexer": "ipython3",
   "version": "3.9.7"
  },
  "orig_nbformat": 4
 },
 "nbformat": 4,
 "nbformat_minor": 2
}
