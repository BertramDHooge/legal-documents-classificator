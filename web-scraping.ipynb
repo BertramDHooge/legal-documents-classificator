{
 "cells": [
  {
   "cell_type": "code",
   "execution_count": 2,
   "metadata": {},
   "outputs": [],
   "source": [
    "import bs4\n",
    "import requests\n",
    "from bs4 import BeautifulSoup\n",
    "import pandas as pd\n",
    "import json\n",
    "\n",
    "import re\n",
    "# from tabulate import tabulate\n",
    "import os\n",
    "\n",
    "import selenium\n",
    "from selenium import webdriver\n",
    "from selenium.webdriver.common.by import By"
   ]
  },
  {
   "cell_type": "code",
   "execution_count": 3,
   "metadata": {},
   "outputs": [],
   "source": [
    "df = pd.read_excel('data/dataset.xlsx')"
   ]
  },
  {
   "cell_type": "code",
   "execution_count": 4,
   "metadata": {},
   "outputs": [
    {
     "data": {
      "text/html": [
       "<div>\n",
       "<style scoped>\n",
       "    .dataframe tbody tr th:only-of-type {\n",
       "        vertical-align: middle;\n",
       "    }\n",
       "\n",
       "    .dataframe tbody tr th {\n",
       "        vertical-align: top;\n",
       "    }\n",
       "\n",
       "    .dataframe thead th {\n",
       "        text-align: right;\n",
       "    }\n",
       "</style>\n",
       "<table border=\"1\" class=\"dataframe\">\n",
       "  <thead>\n",
       "    <tr style=\"text-align: right;\">\n",
       "      <th></th>\n",
       "      <th>Date</th>\n",
       "      <th>Title</th>\n",
       "      <th>Numac</th>\n",
       "      <th>Link FR</th>\n",
       "      <th>Link NL</th>\n",
       "    </tr>\n",
       "  </thead>\n",
       "  <tbody>\n",
       "    <tr>\n",
       "      <th>0</th>\n",
       "      <td>2020-01-14</td>\n",
       "      <td>REGION DE BRUXELLES-CAPITALE\\nREGION DE BRUXEL...</td>\n",
       "      <td>2.020010e+09</td>\n",
       "      <td>http://www.ejustice.just.fgov.be/cgi/article.p...</td>\n",
       "      <td>http://www.ejustice.just.fgov.be/cgi/article.p...</td>\n",
       "    </tr>\n",
       "  </tbody>\n",
       "</table>\n",
       "</div>"
      ],
      "text/plain": [
       "        Date                                              Title         Numac  \\\n",
       "0 2020-01-14  REGION DE BRUXELLES-CAPITALE\\nREGION DE BRUXEL...  2.020010e+09   \n",
       "\n",
       "                                             Link FR  \\\n",
       "0  http://www.ejustice.just.fgov.be/cgi/article.p...   \n",
       "\n",
       "                                             Link NL  \n",
       "0  http://www.ejustice.just.fgov.be/cgi/article.p...  "
      ]
     },
     "execution_count": 4,
     "metadata": {},
     "output_type": "execute_result"
    }
   ],
   "source": [
    "df.head(1)"
   ]
  },
  {
   "cell_type": "code",
   "execution_count": 5,
   "metadata": {},
   "outputs": [
    {
     "data": {
      "text/html": [
       "<div>\n",
       "<style scoped>\n",
       "    .dataframe tbody tr th:only-of-type {\n",
       "        vertical-align: middle;\n",
       "    }\n",
       "\n",
       "    .dataframe tbody tr th {\n",
       "        vertical-align: top;\n",
       "    }\n",
       "\n",
       "    .dataframe thead th {\n",
       "        text-align: right;\n",
       "    }\n",
       "</style>\n",
       "<table border=\"1\" class=\"dataframe\">\n",
       "  <thead>\n",
       "    <tr style=\"text-align: right;\">\n",
       "      <th></th>\n",
       "      <th>Date</th>\n",
       "      <th>Title</th>\n",
       "      <th>Numac</th>\n",
       "      <th>Link FR</th>\n",
       "      <th>Link NL</th>\n",
       "    </tr>\n",
       "  </thead>\n",
       "  <tbody>\n",
       "    <tr>\n",
       "      <th>0</th>\n",
       "      <td>2020-01-14</td>\n",
       "      <td>REGION DE BRUXELLES-CAPITALE\\nREGION DE BRUXEL...</td>\n",
       "      <td>2.020010e+09</td>\n",
       "      <td>http://www.ejustice.just.fgov.be/cgi/article.p...</td>\n",
       "      <td>http://www.ejustice.just.fgov.be/cgi/article.p...</td>\n",
       "    </tr>\n",
       "  </tbody>\n",
       "</table>\n",
       "</div>"
      ],
      "text/plain": [
       "        Date                                              Title         Numac  \\\n",
       "0 2020-01-14  REGION DE BRUXELLES-CAPITALE\\nREGION DE BRUXEL...  2.020010e+09   \n",
       "\n",
       "                                             Link FR  \\\n",
       "0  http://www.ejustice.just.fgov.be/cgi/article.p...   \n",
       "\n",
       "                                             Link NL  \n",
       "0  http://www.ejustice.just.fgov.be/cgi/article.p...  "
      ]
     },
     "execution_count": 5,
     "metadata": {},
     "output_type": "execute_result"
    }
   ],
   "source": [
    "## Remove the duplicates\n",
    "\n",
    "df = df.drop_duplicates()\n",
    "df.head(1)"
   ]
  },
  {
   "cell_type": "code",
   "execution_count": 6,
   "metadata": {},
   "outputs": [
    {
     "data": {
      "text/html": [
       "<div>\n",
       "<style scoped>\n",
       "    .dataframe tbody tr th:only-of-type {\n",
       "        vertical-align: middle;\n",
       "    }\n",
       "\n",
       "    .dataframe tbody tr th {\n",
       "        vertical-align: top;\n",
       "    }\n",
       "\n",
       "    .dataframe thead th {\n",
       "        text-align: right;\n",
       "    }\n",
       "</style>\n",
       "<table border=\"1\" class=\"dataframe\">\n",
       "  <thead>\n",
       "    <tr style=\"text-align: right;\">\n",
       "      <th></th>\n",
       "      <th>Date</th>\n",
       "      <th>Title</th>\n",
       "      <th>Numac</th>\n",
       "      <th>Link FR</th>\n",
       "      <th>Link NL</th>\n",
       "      <th>Link Body NL</th>\n",
       "      <th>Content</th>\n",
       "    </tr>\n",
       "  </thead>\n",
       "  <tbody>\n",
       "    <tr>\n",
       "      <th>0</th>\n",
       "      <td>2020-01-14</td>\n",
       "      <td>REGION DE BRUXELLES-CAPITALE\\nREGION DE BRUXEL...</td>\n",
       "      <td>2.020010e+09</td>\n",
       "      <td>http://www.ejustice.just.fgov.be/cgi/article.p...</td>\n",
       "      <td>http://www.ejustice.just.fgov.be/cgi/article.p...</td>\n",
       "      <td>http://www.ejustice.just.fgov.be/cgi/article.p...</td>\n",
       "      <td></td>\n",
       "    </tr>\n",
       "  </tbody>\n",
       "</table>\n",
       "</div>"
      ],
      "text/plain": [
       "        Date                                              Title         Numac  \\\n",
       "0 2020-01-14  REGION DE BRUXELLES-CAPITALE\\nREGION DE BRUXEL...  2.020010e+09   \n",
       "\n",
       "                                             Link FR  \\\n",
       "0  http://www.ejustice.just.fgov.be/cgi/article.p...   \n",
       "\n",
       "                                             Link NL  \\\n",
       "0  http://www.ejustice.just.fgov.be/cgi/article.p...   \n",
       "\n",
       "                                        Link Body NL Content  \n",
       "0  http://www.ejustice.just.fgov.be/cgi/article.p...          "
      ]
     },
     "execution_count": 6,
     "metadata": {},
     "output_type": "execute_result"
    }
   ],
   "source": [
    "df['Link Body NL'] = df['Link NL']\n",
    "df.insert(6,\"Content\", \" \")\n",
    "df.head(1)"
   ]
  },
  {
   "cell_type": "code",
   "execution_count": 7,
   "metadata": {},
   "outputs": [],
   "source": [
    "df = df.reset_index()\n",
    "\n",
    "for i in df['Link Body NL']:\n",
    "    i = i.replace(\"article.pl\", \"article_body.pl\")\n",
    "    df['Link Body NL'] = i\n"
   ]
  },
  {
   "cell_type": "markdown",
   "metadata": {},
   "source": [
    "## Original link\n",
    "http://www.ejustice.just.fgov.be/cgi/article.pl?language=nl&pub_date=2020-01-14&caller=list&numac=2020010053\n",
    "\n",
    "## Required link\n",
    "http://www.ejustice.just.fgov.be/cgi/article_body.pl?language=nl&pub_date=2020-01-14&caller=list&numac=2020010053"
   ]
  },
  {
   "cell_type": "code",
   "execution_count": 14,
   "metadata": {},
   "outputs": [
    {
     "name": "stdout",
     "output_type": "stream",
     "text": [
      "['NL', 'FR', 'belgiëlex.be \\xa0\\xa0-\\xa0\\xa0Kruispuntbank Wetgeving', 'Raad van State', 'ELI - Navigatie systeem via een Europese identificatiecode voor wetgeving', 'http://www.ejustice.just.fgov.be/eli/besluit/2020/01/08/2020010053/staatsblad', 'einde', 'eerste woord', 'laatste woord', 'Publicatie : 2020-01-14', 'Numac : 2020010053', 'BRUSSELS HOOFDSTEDELIJK GEWEST', '8 JANUARI 2020. - Ministerieel besluit tot vaststelling van de modellen van formulier bedoeld in artikel 8, § 1 van het besluit van de Brusselse Hoofdstedelijke Regering van 19 januari 2017 tot vaststelling van de modaliteiten van het gunstregime toepasselijk op de successierechten bij overdracht van familiale ondernemingen en familiale vennootschappen', 'De Minister van de Brusselse Hoofdstedelijke Regering, \\nbelast met Financiën en Begroting,', 'Gelet op het Wetboek der Successierechten, artikel 60bis/2, \\n§ 1, ingevoegd door de ordonnantie van 12 december 2016 houdende het tweede deel van de fiscale \\nhervorming;', 'Gelet op het besluit van de Brusselse Hoofdstedelijke Regering van 19 januari 2017 \\ntot vaststelling van de modaliteiten van het gunstregime toepasselijk op de successierechten bij overdracht \\nvan familiale ondernemingen en familiale vennootschappen, artikel 8;', 'Gelet op de gelijkekansentest \\nuitgevoerd in toepassing van artikel 2 van de ordonnantie van 4 oktober 2018 tot invoering van de gelijkekansentest;', 'Overwegende \\ndat artikel 8 van bovengenoemd besluit stelt dat de Minister van de Brusselse Hoofdstedelijke Regering, \\nbelast met Financiën en Begroting, bevoegd is om het formulier dat bedoeld is om na te gaan of de voorwaarden \\nvoor het behoud van de het fiscale gunstregime, dat werd bekomen in het kader van de overdracht van een \\nfamiliale onderneming of een familiale vennootschap, vervuld zijn gebleven tot het einde van de driejarige \\nperiode die aanving bij het overlijden van de decujus, zoals bedoeld in artikel 60bis/2, § 1, \\nvan het Wetboek der Successierechten;', 'Overwegende dat dit ministerieel besluit geen reglementaire \\nvoorschriften bevat in de zin van artikel 3, § 1, eerste lid, van de gecoördineerde wetten van \\nde Raad van State van 12 januari 1973, is het niet onderworpen aan het advies van de Raad van State, \\nafdeling Wetgeving,', 'Besluit :', 'Artikel 1. Het formulier dat bedoeld is om na te gaan \\nof de voorwaarden voor het behoud van de het fiscale gunstregime, dat werd bekomen in het kader van de \\noverdracht van een familiale onderneming, vervuld zijn gebleven tot het einde van de driejarige periode \\ndie aanving bij het overlijden van de decujus, zoals bedoeld in artikel 60bis/2, § 1 van het Wetboek \\nder Successierechten, is hernomen in bijlage 1 van dit besluit.', 'Art. 2. Het formulier dat bedoeld \\nis om na te gaan of de voorwaarden voor het behoud van het fiscale gunstregime, dat werd bekomen in het \\nkader van het overdracht van een familiale vennootschap, vervuld zijn gebleven tot het einde van de driejarige \\nperiode die aanving bij het overlijden van de decujus, zoals bedoeld in artikel 60bis/2, § 1 van \\nhet Wetboek der Successierechten, is hernomen in bijlage 2 bij dit besluit.', 'Art. 3. Dit besluit \\nheeft uitwerking met ingang van 1 januari 2020.', 'Brussel, 8 januari 2020.', 'De Minister \\nvan de Brusselse Hoofdstedelijke Regering, belast met Financiën, Begroting, Openbaar ambt en de Promotie \\nvan Meertaligheid,', 'S. GATZ', 'Voor de raadpleging van \\nde tabel, zie beeld', 'begin', 'eerste woord', 'laatste woord', 'Publicatie : 2020-01-14', 'Numac : 2020010053']\n"
     ]
    }
   ],
   "source": [
    "url = 'http://www.ejustice.just.fgov.be/cgi/article_body.pl?language=nl&pub_date=2020-01-14&caller=list&numac=2020010053'\n",
    "page = requests.get(url)\n",
    "\n",
    "soup = BeautifulSoup(page.content, \"lxml\")\n",
    "tag = soup.body\n",
    "\n",
    "content_list = []\n",
    "\n",
    "for string in tag.stripped_strings:\n",
    "    content_list.append(string)\n",
    "print(content_list)"
   ]
  },
  {
   "cell_type": "code",
   "execution_count": 11,
   "metadata": {},
   "outputs": [
    {
     "name": "stdout",
     "output_type": "stream",
     "text": [
      "\n",
      "Moniteur Belge - Belgisch Staatsblad\n",
      "\n",
      "\n",
      "\n",
      "\n",
      "\n",
      "\n",
      "\n",
      "NL\n",
      "\n",
      "FR\n",
      "\n",
      "\n",
      "\n",
      " \n",
      "\n",
      "\n",
      "belgiëlex.be   -  Kruispuntbank Wetgeving  Raad van State ELI - Navigatie systeem via een Europese identificatiecode voor wetgevinghttp://www.ejustice.just.fgov.be/eli/besluit/2020/01/08/2020010053/staatsblad \n",
      " \n",
      "\n",
      " einde\n",
      "\n",
      "\n",
      "eerste woord\n",
      "\n",
      "laatste woord\n",
      "\n",
      "\n",
      "Publicatie : 2020-01-14Numac : 2020010053\n",
      "BRUSSELS HOOFDSTEDELIJK GEWEST\n",
      " 8 JANUARI 2020. - Ministerieel besluit tot vaststelling van de modellen van formulier bedoeld in artikel 8, § 1 van het besluit van de Brusselse Hoofdstedelijke Regering van 19 januari 2017 tot vaststelling van de modaliteiten van het gunstregime toepasselijk op de successierechten bij overdracht van familiale ondernemingen en familiale vennootschappen \n",
      "De Minister van de Brusselse Hoofdstedelijke Regering, \n",
      "belast met Financiën en Begroting,Gelet op het Wetboek der Successierechten, artikel 60bis/2, \n",
      "§ 1, ingevoegd door de ordonnantie van 12 december 2016 houdende het tweede deel van de fiscale \n",
      "hervorming;Gelet op het besluit van de Brusselse Hoofdstedelijke Regering van 19 januari 2017 \n",
      "tot vaststelling van de modaliteiten van het gunstregime toepasselijk op de successierechten bij overdracht \n",
      "van familiale ondernemingen en familiale vennootschappen, artikel 8;Gelet op de gelijkekansentest \n",
      "uitgevoerd in toepassing van artikel 2 van de ordonnantie van 4 oktober 2018 tot invoering van de gelijkekansentest;Overwegende \n",
      "dat artikel 8 van bovengenoemd besluit stelt dat de Minister van de Brusselse Hoofdstedelijke Regering, \n",
      "belast met Financiën en Begroting, bevoegd is om het formulier dat bedoeld is om na te gaan of de voorwaarden \n",
      "voor het behoud van de het fiscale gunstregime, dat werd bekomen in het kader van de overdracht van een \n",
      "familiale onderneming of een familiale vennootschap, vervuld zijn gebleven tot het einde van de driejarige \n",
      "periode die aanving bij het overlijden van de decujus, zoals bedoeld in artikel 60bis/2, § 1, \n",
      "van het Wetboek der Successierechten;Overwegende dat dit ministerieel besluit geen reglementaire \n",
      "voorschriften bevat in de zin van artikel 3, § 1, eerste lid, van de gecoördineerde wetten van \n",
      "de Raad van State van 12 januari 1973, is het niet onderworpen aan het advies van de Raad van State, \n",
      "afdeling Wetgeving,Besluit :Artikel 1. Het formulier dat bedoeld is om na te gaan \n",
      "of de voorwaarden voor het behoud van de het fiscale gunstregime, dat werd bekomen in het kader van de \n",
      "overdracht van een familiale onderneming, vervuld zijn gebleven tot het einde van de driejarige periode \n",
      "die aanving bij het overlijden van de decujus, zoals bedoeld in artikel 60bis/2, § 1 van het Wetboek \n",
      "der Successierechten, is hernomen in bijlage 1 van dit besluit.Art. 2. Het formulier dat bedoeld \n",
      "is om na te gaan of de voorwaarden voor het behoud van het fiscale gunstregime, dat werd bekomen in het \n",
      "kader van het overdracht van een familiale vennootschap, vervuld zijn gebleven tot het einde van de driejarige \n",
      "periode die aanving bij het overlijden van de decujus, zoals bedoeld in artikel 60bis/2, § 1 van \n",
      "het Wetboek der Successierechten, is hernomen in bijlage 2 bij dit besluit.Art. 3. Dit besluit \n",
      "heeft uitwerking met ingang van 1 januari 2020.Brussel, 8 januari 2020.De Minister \n",
      "van de Brusselse Hoofdstedelijke Regering, belast met Financiën, Begroting, Openbaar ambt en de Promotie \n",
      "van Meertaligheid,S. GATZ Voor de raadpleging van \n",
      "de tabel, zie beeld    \n",
      " begin\n",
      "\n",
      " eerste woord\n",
      " laatste woord\n",
      "\n",
      "\n",
      "Publicatie : 2020-01-14Numac : 2020010053\n",
      "\n",
      "\n",
      "\n"
     ]
    }
   ],
   "source": [
    "url = 'http://www.ejustice.just.fgov.be/cgi/article_body.pl?language=nl&pub_date=2020-01-14&caller=list&numac=2020010053'\n",
    "page = requests.get(url)\n",
    "\n",
    "soup = BeautifulSoup(page.content, \"lxml\")\n",
    "\n",
    "text = soup.get_text()"
   ]
  },
  {
   "cell_type": "code",
   "execution_count": null,
   "metadata": {},
   "outputs": [],
   "source": [
    "for i in df['Link Body NL']:\n",
    "    url = i\n",
    "    page = requests.get(url)\n",
    "\n",
    "soup = BeautifulSoup(page.content, \"lxml\")\n",
    "tag = soup.body\n",
    "\n",
    "content_list = []\n",
    "\n",
    "for string in tag.strings:\n",
    "    content_list.append(string)\n",
    "print(content_list)"
   ]
  }
 ],
 "metadata": {
  "interpreter": {
   "hash": "573c5f8e4a9de4a29cc2c43f44bd7d1acbfa6c8b3e00d78238142f0788ca6380"
  },
  "kernelspec": {
   "display_name": "Python 3.9.7 ('base')",
   "language": "python",
   "name": "python3"
  },
  "language_info": {
   "codemirror_mode": {
    "name": "ipython",
    "version": 3
   },
   "file_extension": ".py",
   "mimetype": "text/x-python",
   "name": "python",
   "nbconvert_exporter": "python",
   "pygments_lexer": "ipython3",
   "version": "3.9.7"
  },
  "orig_nbformat": 4
 },
 "nbformat": 4,
 "nbformat_minor": 2
}
