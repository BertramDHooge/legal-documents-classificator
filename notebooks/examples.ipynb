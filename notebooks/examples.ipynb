<<<<<<< HEAD
{
 "cells": [
  {
   "cell_type": "code",
   "execution_count": 3,
   "metadata": {},
   "outputs": [
    {
     "name": "stderr",
     "output_type": "stream",
     "text": [
      "[nltk_data] Downloading package stopwords to\n",
      "[nltk_data]     C:\\Users\\Irina\\AppData\\Roaming\\nltk_data...\n",
      "[nltk_data]   Package stopwords is already up-to-date!\n",
      "[nltk_data] Downloading package punkt to\n",
      "[nltk_data]     C:\\Users\\Irina\\AppData\\Roaming\\nltk_data...\n",
      "[nltk_data]   Package punkt is already up-to-date!\n",
      "[nltk_data] Downloading package wordnet to\n",
      "[nltk_data]     C:\\Users\\Irina\\AppData\\Roaming\\nltk_data...\n",
      "[nltk_data]   Package wordnet is already up-to-date!\n",
      "[nltk_data] Downloading package omw-1.4 to\n",
      "[nltk_data]     C:\\Users\\Irina\\AppData\\Roaming\\nltk_data...\n",
      "[nltk_data]   Package omw-1.4 is already up-to-date!\n",
      "[nltk_data] Downloading package words to\n",
      "[nltk_data]     C:\\Users\\Irina\\AppData\\Roaming\\nltk_data...\n",
      "[nltk_data]   Package words is already up-to-date!\n"
     ]
    }
   ],
   "source": [
    "from model import juridIQ\n",
    "from preprocessing import lemmatization\n",
    "import scraping\n",
    "\n",
    "import os\n",
    "import re\n",
    "import numpy as np\n",
    "import pandas as pd"
   ]
  },
  {
   "cell_type": "code",
   "execution_count": 4,
   "metadata": {},
   "outputs": [
    {
     "data": {
      "text/html": [
       "<div>\n",
       "<style scoped>\n",
       "    .dataframe tbody tr th:only-of-type {\n",
       "        vertical-align: middle;\n",
       "    }\n",
       "\n",
       "    .dataframe tbody tr th {\n",
       "        vertical-align: top;\n",
       "    }\n",
       "\n",
       "    .dataframe thead th {\n",
       "        text-align: right;\n",
       "    }\n",
       "</style>\n",
       "<table border=\"1\" class=\"dataframe\">\n",
       "  <thead>\n",
       "    <tr style=\"text-align: right;\">\n",
       "      <th></th>\n",
       "      <th>Date</th>\n",
       "      <th>Title</th>\n",
       "      <th>Numac</th>\n",
       "      <th>Link FR</th>\n",
       "      <th>Link NL</th>\n",
       "    </tr>\n",
       "  </thead>\n",
       "  <tbody>\n",
       "    <tr>\n",
       "      <th>0</th>\n",
       "      <td>1/14/2020</td>\n",
       "      <td>REGION DE BRUXELLES-CAPITALE\\r\\nREGION DE BRUX...</td>\n",
       "      <td>2020010053</td>\n",
       "      <td>http://www.ejustice.just.fgov.be/cgi/article.p...</td>\n",
       "      <td>http://www.ejustice.just.fgov.be/cgi/article.p...</td>\n",
       "    </tr>\n",
       "    <tr>\n",
       "      <th>1</th>\n",
       "      <td>1/16/2020</td>\n",
       "      <td>SERVICE PUBLIC FEDERAL INTERIEUR\\r\\n10 DECEMBR...</td>\n",
       "      <td>2020010044</td>\n",
       "      <td>http://www.ejustice.just.fgov.be/cgi/article.p...</td>\n",
       "      <td>http://www.ejustice.just.fgov.be/cgi/article.p...</td>\n",
       "    </tr>\n",
       "    <tr>\n",
       "      <th>2</th>\n",
       "      <td>1/16/2020</td>\n",
       "      <td>SERVICE PUBLIC FEDERAL FINANCES\\r\\n7 DECEMBRE ...</td>\n",
       "      <td>2020040052</td>\n",
       "      <td>http://www.ejustice.just.fgov.be/cgi/article.p...</td>\n",
       "      <td>http://www.ejustice.just.fgov.be/cgi/article.p...</td>\n",
       "    </tr>\n",
       "    <tr>\n",
       "      <th>3</th>\n",
       "      <td>1/24/2020</td>\n",
       "      <td>MINISTERE DE LA COMMUNAUTE FRANCAISE\\r\\n20 DEC...</td>\n",
       "      <td>2020010214</td>\n",
       "      <td>http://www.ejustice.just.fgov.be/cgi/article.p...</td>\n",
       "      <td>http://www.ejustice.just.fgov.be/cgi/article.p...</td>\n",
       "    </tr>\n",
       "    <tr>\n",
       "      <th>4</th>\n",
       "      <td>1/28/2020</td>\n",
       "      <td>SERVICE PUBLIC FEDERAL FINANCES\\r\\n20 JANVIER ...</td>\n",
       "      <td>2020040138</td>\n",
       "      <td>http://www.ejustice.just.fgov.be/cgi/article.p...</td>\n",
       "      <td>http://www.ejustice.just.fgov.be/cgi/article.p...</td>\n",
       "    </tr>\n",
       "  </tbody>\n",
       "</table>\n",
       "</div>"
      ],
      "text/plain": [
       "        Date                                              Title       Numac  \\\n",
       "0  1/14/2020  REGION DE BRUXELLES-CAPITALE\\r\\nREGION DE BRUX...  2020010053   \n",
       "1  1/16/2020  SERVICE PUBLIC FEDERAL INTERIEUR\\r\\n10 DECEMBR...  2020010044   \n",
       "2  1/16/2020  SERVICE PUBLIC FEDERAL FINANCES\\r\\n7 DECEMBRE ...  2020040052   \n",
       "3  1/24/2020  MINISTERE DE LA COMMUNAUTE FRANCAISE\\r\\n20 DEC...  2020010214   \n",
       "4  1/28/2020  SERVICE PUBLIC FEDERAL FINANCES\\r\\n20 JANVIER ...  2020040138   \n",
       "\n",
       "                                             Link FR  \\\n",
       "0  http://www.ejustice.just.fgov.be/cgi/article.p...   \n",
       "1  http://www.ejustice.just.fgov.be/cgi/article.p...   \n",
       "2  http://www.ejustice.just.fgov.be/cgi/article.p...   \n",
       "3  http://www.ejustice.just.fgov.be/cgi/article.p...   \n",
       "4  http://www.ejustice.just.fgov.be/cgi/article.p...   \n",
       "\n",
       "                                             Link NL  \n",
       "0  http://www.ejustice.just.fgov.be/cgi/article.p...  \n",
       "1  http://www.ejustice.just.fgov.be/cgi/article.p...  \n",
       "2  http://www.ejustice.just.fgov.be/cgi/article.p...  \n",
       "3  http://www.ejustice.just.fgov.be/cgi/article.p...  \n",
       "4  http://www.ejustice.just.fgov.be/cgi/article.p...  "
      ]
     },
     "execution_count": 4,
     "metadata": {},
     "output_type": "execute_result"
    }
   ],
   "source": [
    "files = pd.read_csv(\"data/KPMG Tax Case - Data Set.csv\")\n",
    "\n",
    "files.dropna(inplace=True)\n",
    "files.drop_duplicates(inplace=True)\n",
    "\n",
    "files[\"Numac\"] = files.Numac.astype(\"int64\").astype(\"object\")\n",
    "\n",
    "files.head()"
   ]
  },
  {
   "cell_type": "code",
   "execution_count": 5,
   "metadata": {},
   "outputs": [
    {
     "data": {
      "text/plain": [
       "(770, 5)"
      ]
     },
     "execution_count": 5,
     "metadata": {},
     "output_type": "execute_result"
    }
   ],
   "source": [
    "files.shape"
   ]
  },
  {
   "cell_type": "code",
   "execution_count": 6,
   "metadata": {},
   "outputs": [
    {
     "data": {
      "text/plain": [
       "(769, 5)"
      ]
     },
     "execution_count": 6,
     "metadata": {},
     "output_type": "execute_result"
    }
   ],
   "source": [
    "saved_numacs = []\n",
    "\n",
    "for file in os.listdir(\"data\"):\n",
    "    if file.endswith(\".txt\"):\n",
    "        saved_numacs.append(file.split(\".\")[0])\n",
    "\n",
    "files = files[files[\"Numac\"].astype(\"string\").isin(saved_numacs)]\n",
    "files.shape"
   ]
  },
  {
   "cell_type": "code",
   "execution_count": 7,
   "metadata": {},
   "outputs": [
    {
     "data": {
      "text/plain": [
       "769"
      ]
     },
     "execution_count": 7,
     "metadata": {},
     "output_type": "execute_result"
    }
   ],
   "source": [
    "texts = []\n",
    "\n",
    "for numac in files.Numac:\n",
    "    with open(f\"Translation/translations_txt/{numac}.txt\") as article:\n",
    "        texts.append(article.read())\n",
    "        \n",
    "len(texts)"
   ]
  },
  {
   "cell_type": "code",
   "execution_count": 8,
   "metadata": {
    "scrolled": true
   },
   "outputs": [
    {
     "name": "stdout",
     "output_type": "stream",
     "text": [
      "v2.4: Batch 1 of 154\n",
      "Batch 1 done!\n",
      "v2.4: Batch 2 of 154\n",
      "Batch 2 done!\n",
      "v2.4: Batch 3 of 154\n",
      "Batch 3 done!\n",
      "v2.4: Batch 4 of 154\n",
      "Batch 4 done!\n",
      "v2.4: Batch 5 of 154\n",
      "Batch 5 done!\n",
      "v2.4: Batch 6 of 154\n",
      "Batch 6 done!\n",
      "v2.4: Batch 7 of 154\n",
      "Batch 7 done!\n",
      "v2.4: Batch 8 of 154\n",
      "Batch 8 done!\n",
      "v2.4: Batch 9 of 154\n",
      "Batch 9 done!\n",
      "v2.4: Batch 10 of 154\n",
      "Batch 10 done!\n",
      "v2.4: Batch 11 of 154\n",
      "Batch 11 done!\n",
      "v2.4: Batch 12 of 154\n",
      "Batch 12 done!\n",
      "v2.4: Batch 13 of 154\n",
      "Batch 13 done!\n",
      "v2.4: Batch 14 of 154\n",
      "Batch 14 done!\n",
      "v2.4: Batch 15 of 154\n",
      "Batch 15 done!\n",
      "v2.4: Batch 16 of 154\n",
      "Batch 16 done!\n",
      "v2.4: Batch 17 of 154\n",
      "Batch 17 done!\n",
      "v2.4: Batch 18 of 154\n",
      "Batch 18 done!\n",
      "v2.4: Batch 19 of 154\n",
      "Batch 19 done!\n",
      "v2.4: Batch 20 of 154\n",
      "Batch 20 done!\n",
      "v2.4: Batch 21 of 154\n",
      "Batch 21 done!\n",
      "v2.4: Batch 22 of 154\n",
      "Batch 22 done!\n",
      "v2.4: Batch 23 of 154\n",
      "Batch 23 done!\n",
      "v2.4: Batch 24 of 154\n",
      "Batch 24 done!\n",
      "v2.4: Batch 25 of 154\n",
      "Batch 25 done!\n",
      "v2.4: Batch 26 of 154\n",
      "Batch 26 done!\n",
      "v2.4: Batch 27 of 154\n",
      "Batch 27 done!\n",
      "v2.4: Batch 28 of 154\n",
      "Batch 28 done!\n",
      "v2.4: Batch 29 of 154\n",
      "Batch 29 done!\n",
      "v2.4: Batch 30 of 154\n",
      "Batch 30 done!\n",
      "v2.4: Batch 31 of 154\n",
      "Batch 31 done!\n",
      "v2.4: Batch 32 of 154\n",
      "Batch 32 done!\n",
      "v2.4: Batch 33 of 154\n",
      "Batch 33 done!\n",
      "v2.4: Batch 34 of 154\n",
      "Batch 34 done!\n",
      "v2.4: Batch 35 of 154\n",
      "Batch 35 done!\n",
      "v2.4: Batch 36 of 154\n",
      "Batch 36 done!\n",
      "v2.4: Batch 37 of 154\n",
      "Batch 37 done!\n",
      "v2.4: Batch 38 of 154\n",
      "Batch 38 done!\n",
      "v2.4: Batch 39 of 154\n",
      "Batch 39 done!\n",
      "v2.4: Batch 40 of 154\n",
      "Batch 40 done!\n",
      "v2.4: Batch 41 of 154\n",
      "Batch 41 done!\n",
      "v2.4: Batch 42 of 154\n",
      "Batch 42 done!\n",
      "v2.4: Batch 43 of 154\n",
      "Batch 43 done!\n",
      "v2.4: Batch 44 of 154\n",
      "Batch 44 done!\n",
      "v2.4: Batch 45 of 154\n",
      "Batch 45 done!\n",
      "v2.4: Batch 46 of 154\n",
      "Batch 46 done!\n",
      "v2.4: Batch 47 of 154\n",
      "Batch 47 done!\n",
      "v2.4: Batch 48 of 154\n",
      "Batch 48 done!\n",
      "v2.4: Batch 49 of 154\n",
      "Batch 49 done!\n",
      "v2.4: Batch 50 of 154\n",
      "Batch 50 done!\n",
      "v2.4: Batch 51 of 154\n",
      "Batch 51 done!\n",
      "v2.4: Batch 52 of 154\n",
      "Batch 52 done!\n",
      "v2.4: Batch 53 of 154\n",
      "Batch 53 done!\n",
      "v2.4: Batch 54 of 154\n",
      "Batch 54 done!\n",
      "v2.4: Batch 55 of 154\n",
      "Batch 55 done!\n",
      "v2.4: Batch 56 of 154\n",
      "Batch 56 done!\n",
      "v2.4: Batch 57 of 154\n",
      "Batch 57 done!\n",
      "v2.4: Batch 58 of 154\n",
      "Batch 58 done!\n",
      "v2.4: Batch 59 of 154\n",
      "Batch 59 done!\n",
      "v2.4: Batch 60 of 154\n",
      "Batch 60 done!\n",
      "v2.4: Batch 61 of 154\n",
      "Batch 61 done!\n",
      "v2.4: Batch 62 of 154\n",
      "Batch 62 done!\n",
      "v2.4: Batch 63 of 154\n",
      "Batch 63 done!\n",
      "v2.4: Batch 64 of 154\n",
      "Batch 64 done!\n",
      "v2.4: Batch 65 of 154\n",
      "Batch 65 done!\n",
      "v2.4: Batch 66 of 154\n",
      "Batch 66 done!\n",
      "v2.4: Batch 67 of 154\n",
      "Batch 67 done!\n",
      "v2.4: Batch 68 of 154\n",
      "Batch 68 done!\n",
      "v2.4: Batch 69 of 154\n",
      "Batch 69 done!\n",
      "v2.4: Batch 70 of 154\n",
      "Batch 70 done!\n",
      "v2.4: Batch 71 of 154\n",
      "Batch 71 done!\n",
      "v2.4: Batch 72 of 154\n",
      "Batch 72 done!\n",
      "v2.4: Batch 73 of 154\n",
      "Batch 73 done!\n",
      "v2.4: Batch 74 of 154\n",
      "Batch 74 done!\n",
      "v2.4: Batch 75 of 154\n",
      "Batch 75 done!\n",
      "v2.4: Batch 76 of 154\n",
      "Batch 76 done!\n",
      "v2.4: Batch 77 of 154\n",
      "Batch 77 done!\n",
      "v2.4: Batch 78 of 154\n",
      "Batch 78 done!\n",
      "v2.4: Batch 79 of 154\n",
      "Batch 79 done!\n",
      "v2.4: Batch 80 of 154\n",
      "Batch 80 done!\n",
      "v2.4: Batch 81 of 154\n",
      "Batch 81 done!\n",
      "v2.4: Batch 82 of 154\n",
      "Batch 82 done!\n",
      "v2.4: Batch 83 of 154\n",
      "Batch 83 done!\n",
      "v2.4: Batch 84 of 154\n",
      "Batch 84 done!\n",
      "v2.4: Batch 85 of 154\n",
      "Batch 85 done!\n",
      "v2.4: Batch 86 of 154\n",
      "Batch 86 done!\n",
      "v2.4: Batch 87 of 154\n",
      "Batch 87 done!\n",
      "v2.4: Batch 88 of 154\n",
      "Batch 88 done!\n",
      "v2.4: Batch 89 of 154\n",
      "Batch 89 done!\n",
      "v2.4: Batch 90 of 154\n",
      "Batch 90 done!\n",
      "v2.4: Batch 91 of 154\n",
      "Batch 91 done!\n",
      "v2.4: Batch 92 of 154\n",
      "Batch 92 done!\n",
      "v2.4: Batch 93 of 154\n",
      "Batch 93 done!\n",
      "v2.4: Batch 94 of 154\n",
      "Batch 94 done!\n",
      "v2.4: Batch 95 of 154\n",
      "Batch 95 done!\n",
      "v2.4: Batch 96 of 154\n",
      "Batch 96 done!\n",
      "v2.4: Batch 97 of 154\n",
      "Batch 97 done!\n",
      "v2.4: Batch 98 of 154\n",
      "Batch 98 done!\n",
      "v2.4: Batch 99 of 154\n",
      "Batch 99 done!\n",
      "v2.4: Batch 100 of 154\n",
      "Batch 100 done!\n",
      "v2.4: Batch 101 of 154\n",
      "Batch 101 done!\n",
      "v2.4: Batch 102 of 154\n",
      "Batch 102 done!\n",
      "v2.4: Batch 103 of 154\n",
      "Batch 103 done!\n",
      "v2.4: Batch 104 of 154\n",
      "Batch 104 done!\n",
      "v2.4: Batch 105 of 154\n",
      "Batch 105 done!\n",
      "v2.4: Batch 106 of 154\n",
      "Batch 106 done!\n",
      "v2.4: Batch 107 of 154\n",
      "Batch 107 done!\n",
      "v2.4: Batch 108 of 154\n",
      "Batch 108 done!\n",
      "v2.4: Batch 109 of 154\n",
      "Batch 109 done!\n",
      "v2.4: Batch 110 of 154\n",
      "Batch 110 done!\n",
      "v2.4: Batch 111 of 154\n",
      "Batch 111 done!\n",
      "v2.4: Batch 112 of 154\n",
      "Batch 112 done!\n",
      "v2.4: Batch 113 of 154\n",
      "Batch 113 done!\n",
      "v2.4: Batch 114 of 154\n",
      "Batch 114 done!\n",
      "v2.4: Batch 115 of 154\n",
      "Batch 115 done!\n",
      "v2.4: Batch 116 of 154\n",
      "Batch 116 done!\n",
      "v2.4: Batch 117 of 154\n",
      "Batch 117 done!\n",
      "v2.4: Batch 118 of 154\n",
      "Batch 118 done!\n",
      "v2.4: Batch 119 of 154\n",
      "Batch 119 done!\n",
      "v2.4: Batch 120 of 154\n",
      "Batch 120 done!\n",
      "v2.4: Batch 121 of 154\n",
      "Batch 121 done!\n",
      "v2.4: Batch 122 of 154\n",
      "Batch 122 done!\n",
      "v2.4: Batch 123 of 154\n",
      "Batch 123 done!\n",
      "v2.4: Batch 124 of 154\n",
      "Batch 124 done!\n",
      "v2.4: Batch 125 of 154\n",
      "Batch 125 done!\n",
      "v2.4: Batch 126 of 154\n",
      "Batch 126 done!\n",
      "v2.4: Batch 127 of 154\n",
      "Batch 127 done!\n",
      "v2.4: Batch 128 of 154\n",
      "Batch 128 done!\n",
      "v2.4: Batch 129 of 154\n",
      "Batch 129 done!\n",
      "v2.4: Batch 130 of 154\n",
      "Batch 130 done!\n",
      "v2.4: Batch 131 of 154\n",
      "Batch 131 done!\n",
      "v2.4: Batch 132 of 154\n",
      "Batch 132 done!\n",
      "v2.4: Batch 133 of 154\n",
      "Batch 133 done!\n",
      "v2.4: Batch 134 of 154\n",
      "Batch 134 done!\n",
      "v2.4: Batch 135 of 154\n",
      "Batch 135 done!\n",
      "v2.4: Batch 136 of 154\n",
      "Batch 136 done!\n",
      "v2.4: Batch 137 of 154\n",
      "Batch 137 done!\n",
      "v2.4: Batch 138 of 154\n",
      "Batch 138 done!\n",
      "v2.4: Batch 139 of 154\n",
      "Batch 139 done!\n",
      "v2.4: Batch 140 of 154\n",
      "Batch 140 done!\n",
      "v2.4: Batch 141 of 154\n",
      "Batch 141 done!\n",
      "v2.4: Batch 142 of 154\n",
      "Batch 142 done!\n",
      "v2.4: Batch 143 of 154\n",
      "Batch 143 done!\n",
      "v2.4: Batch 144 of 154\n",
      "Batch 144 done!\n",
      "v2.4: Batch 145 of 154\n",
      "Batch 145 done!\n",
      "v2.4: Batch 146 of 154\n",
      "Batch 146 done!\n",
      "v2.4: Batch 147 of 154\n",
      "Batch 147 done!\n",
      "v2.4: Batch 148 of 154\n",
      "Batch 148 done!\n",
      "v2.4: Batch 149 of 154\n",
      "Batch 149 done!\n",
      "v2.4: Batch 150 of 154\n",
      "Batch 150 done!\n",
      "v2.4: Batch 151 of 154\n",
      "Batch 151 done!\n",
      "v2.4: Batch 152 of 154\n",
      "Batch 152 done!\n",
      "v2.4: Batch 153 of 154\n",
      "Batch 153 done!\n",
      "v2.4: Batch 154 of 154\n",
      "Batch 154 done!\n"
     ]
    }
   ],
   "source": [
    "texts = lemmatization.lemmatizer(texts, batchsize=5)"
   ]
  },
  {
   "cell_type": "code",
   "execution_count": 9,
   "metadata": {},
   "outputs": [
    {
     "name": "stderr",
     "output_type": "stream",
     "text": [
      "Batches: 100%|██████████| 25/25 [02:53<00:00,  6.93s/it]\n",
      "2022-06-16 12:11:06,259 - BERTopic - Transformed documents to Embeddings\n",
      "2022-06-16 12:11:31,688 - BERTopic - Reduced dimensionality\n",
      "2022-06-16 12:11:32,030 - BERTopic - Clustered reduced embeddings\n",
      "Batches: 100%|██████████| 25/25 [02:59<00:00,  7.16s/it]\n",
      "2022-06-16 12:14:41,047 - BERTopic - Reduced dimensionality\n",
      "2022-06-16 12:14:41,699 - BERTopic - Calculated probabilities with HDBSCAN\n",
      "2022-06-16 12:14:41,700 - BERTopic - Predicted clusters\n"
     ]
    },
    {
     "data": {
      "text/plain": [
       "769"
      ]
     },
     "execution_count": 9,
     "metadata": {},
     "output_type": "execute_result"
    }
   ],
   "source": [
    "juridiq = juridIQ.JuridIQ(\"new\")\n",
    "\n",
    "topics = juridiq.get_topics(texts)\n",
    "len(topics)"
   ]
  },
  {
   "cell_type": "code",
   "execution_count": 10,
   "metadata": {},
   "outputs": [],
   "source": [
    "sep = \", \"\n",
    "\n",
    "topics_as_string = []\n",
    "\n",
    "for topic in topics:\n",
    "    temp = [str(prob) for prob in topic]\n",
    "    topics_as_string.append(f\"[{sep.join(temp)}]\")\n",
    "\n",
    "#topics_as_string = [re.sub(' +', ', ', str(topic)).replace(\".,\", \",\").replace(\".]\", \"]\") for topic in topics]\n",
    "\n",
    "files[\"Topics\"] = topics_as_string"
   ]
  },
  {
   "cell_type": "code",
   "execution_count": 11,
   "metadata": {},
   "outputs": [],
   "source": [
    "import json\n",
    "\n",
    "topics_as_list = [json.loads(topic) for topic in files[\"Topics\"]]"
   ]
  },
  {
   "cell_type": "code",
   "execution_count": 12,
   "metadata": {
    "scrolled": true
   },
   "outputs": [],
   "source": [
    "files.to_csv(\"KPMG_with_topics.csv\")"
   ]
  },
  {
   "cell_type": "code",
   "execution_count": 13,
   "metadata": {},
   "outputs": [],
   "source": [
    "files_from_csv = pd.read_csv(\"KPMG_with_topics.csv\").drop(\"Unnamed: 0\", axis=1)\n",
    "#files_from_csv.Topics.astype(\"Sparse\")"
   ]
  },
  {
   "cell_type": "code",
   "execution_count": 14,
   "metadata": {},
   "outputs": [
    {
     "data": {
      "text/plain": [
       "[0,\n",
       " 6,\n",
       " 13,\n",
       " 27,\n",
       " 58,\n",
       " 59,\n",
       " 60,\n",
       " 61,\n",
       " 62,\n",
       " 63,\n",
       " 68,\n",
       " 69,\n",
       " 70,\n",
       " 83,\n",
       " 91,\n",
       " 107,\n",
       " 210,\n",
       " 212,\n",
       " 214,\n",
       " 220,\n",
       " 233,\n",
       " 234,\n",
       " 235,\n",
       " 237,\n",
       " 243,\n",
       " 244,\n",
       " 245,\n",
       " 251,\n",
       " 252,\n",
       " 253,\n",
       " 254,\n",
       " 318,\n",
       " 333,\n",
       " 365,\n",
       " 370,\n",
       " 372,\n",
       " 736,\n",
       " 758,\n",
       " 759]"
      ]
     },
     "execution_count": 14,
     "metadata": {},
     "output_type": "execute_result"
    }
   ],
   "source": [
    "juridIQ.get_similar(topics_as_list[0], topics_as_list)"
   ]
  },
  {
   "cell_type": "code",
   "execution_count": 15,
   "metadata": {},
   "outputs": [
    {
     "data": {
      "text/plain": [
       "'[0.00710557732696141, 0.009137821985125564, 0.10344827384325443, 0.007282849123493362, 0.008780382752208037, 0.008723985151523343, 0.014149793323139122, 0.004166802408332528, 0.008234227565491772, 0.01645760879115834, 0.008522967578415626, 0.007334588091204913, 0.007602539593080541, 0.009211044887314626, 0.007021233075309006, 0.006822594352665862, 0.005355807069513893, 0.007640513850852203, 0.006427291289727557, 0.007080497837102689, 0.006625377785316956, 0.008843496520665541, 0.006183803963471633, 0.008677067832182453, 0.006316025905909618, 0.007753259363997828, 0.010526070934464803, 0.0054562275523788615, 0.006287826914230617, 0.0049268965875769455, 0.010609186509887946, 0.008399530990562535, 0.004181173240824514, 0.009713189138233026]'"
      ]
     },
     "execution_count": 15,
     "metadata": {},
     "output_type": "execute_result"
    }
   ],
   "source": [
    "files[\"Topics\"][0]"
   ]
  },
  {
   "cell_type": "code",
   "execution_count": 21,
   "metadata": {},
   "outputs": [],
   "source": [
    "juridiq.model.save(\"pretrained\")"
   ]
  }
 ],
 "metadata": {
  "kernelspec": {
   "display_name": "Python 3.9.7 ('base')",
   "language": "python",
   "name": "python3"
  },
  "language_info": {
   "codemirror_mode": {
    "name": "ipython",
    "version": 3
   },
   "file_extension": ".py",
   "mimetype": "text/x-python",
   "name": "python",
   "nbconvert_exporter": "python",
   "pygments_lexer": "ipython3",
   "version": "3.9.7"
  },
  "vscode": {
   "interpreter": {
    "hash": "573c5f8e4a9de4a29cc2c43f44bd7d1acbfa6c8b3e00d78238142f0788ca6380"
   }
  }
 },
 "nbformat": 4,
 "nbformat_minor": 4
}
=======
{
 "cells": [
  {
   "cell_type": "code",
   "execution_count": 1,
   "metadata": {},
   "outputs": [
    {
     "name": "stderr",
     "output_type": "stream",
     "text": [
      "[nltk_data] Downloading package stopwords to\n",
      "[nltk_data]     /home/bertram/nltk_data...\n",
      "[nltk_data]   Package stopwords is already up-to-date!\n",
      "[nltk_data] Downloading package punkt to /home/bertram/nltk_data...\n",
      "[nltk_data]   Package punkt is already up-to-date!\n",
      "[nltk_data] Downloading package wordnet to /home/bertram/nltk_data...\n",
      "[nltk_data]   Package wordnet is already up-to-date!\n",
      "[nltk_data] Downloading package omw-1.4 to /home/bertram/nltk_data...\n",
      "[nltk_data]   Package omw-1.4 is already up-to-date!\n",
      "[nltk_data] Downloading package words to /home/bertram/nltk_data...\n",
      "[nltk_data]   Package words is already up-to-date!\n"
     ]
    }
   ],
   "source": [
    "from model import juridIQ\n",
    "from preprocessing import lemmatization\n",
    "import scraping\n",
    "\n",
    "import os\n",
    "import re\n",
    "import numpy as np\n",
    "import pandas as pd"
   ]
  },
  {
   "cell_type": "code",
   "execution_count": 2,
   "metadata": {},
   "outputs": [
    {
     "data": {
      "text/html": [
       "<div>\n",
       "<style scoped>\n",
       "    .dataframe tbody tr th:only-of-type {\n",
       "        vertical-align: middle;\n",
       "    }\n",
       "\n",
       "    .dataframe tbody tr th {\n",
       "        vertical-align: top;\n",
       "    }\n",
       "\n",
       "    .dataframe thead th {\n",
       "        text-align: right;\n",
       "    }\n",
       "</style>\n",
       "<table border=\"1\" class=\"dataframe\">\n",
       "  <thead>\n",
       "    <tr style=\"text-align: right;\">\n",
       "      <th></th>\n",
       "      <th>Date</th>\n",
       "      <th>Title</th>\n",
       "      <th>Numac</th>\n",
       "      <th>Link FR</th>\n",
       "      <th>Link NL</th>\n",
       "    </tr>\n",
       "  </thead>\n",
       "  <tbody>\n",
       "    <tr>\n",
       "      <th>0</th>\n",
       "      <td>1/14/2020</td>\n",
       "      <td>REGION DE BRUXELLES-CAPITALE\\r\\nREGION DE BRUX...</td>\n",
       "      <td>2020010053</td>\n",
       "      <td>http://www.ejustice.just.fgov.be/cgi/article.p...</td>\n",
       "      <td>http://www.ejustice.just.fgov.be/cgi/article.p...</td>\n",
       "    </tr>\n",
       "    <tr>\n",
       "      <th>1</th>\n",
       "      <td>1/16/2020</td>\n",
       "      <td>SERVICE PUBLIC FEDERAL INTERIEUR\\r\\n10 DECEMBR...</td>\n",
       "      <td>2020010044</td>\n",
       "      <td>http://www.ejustice.just.fgov.be/cgi/article.p...</td>\n",
       "      <td>http://www.ejustice.just.fgov.be/cgi/article.p...</td>\n",
       "    </tr>\n",
       "    <tr>\n",
       "      <th>2</th>\n",
       "      <td>1/16/2020</td>\n",
       "      <td>SERVICE PUBLIC FEDERAL FINANCES\\r\\n7 DECEMBRE ...</td>\n",
       "      <td>2020040052</td>\n",
       "      <td>http://www.ejustice.just.fgov.be/cgi/article.p...</td>\n",
       "      <td>http://www.ejustice.just.fgov.be/cgi/article.p...</td>\n",
       "    </tr>\n",
       "    <tr>\n",
       "      <th>3</th>\n",
       "      <td>1/24/2020</td>\n",
       "      <td>MINISTERE DE LA COMMUNAUTE FRANCAISE\\r\\n20 DEC...</td>\n",
       "      <td>2020010214</td>\n",
       "      <td>http://www.ejustice.just.fgov.be/cgi/article.p...</td>\n",
       "      <td>http://www.ejustice.just.fgov.be/cgi/article.p...</td>\n",
       "    </tr>\n",
       "    <tr>\n",
       "      <th>4</th>\n",
       "      <td>1/28/2020</td>\n",
       "      <td>SERVICE PUBLIC FEDERAL FINANCES\\r\\n20 JANVIER ...</td>\n",
       "      <td>2020040138</td>\n",
       "      <td>http://www.ejustice.just.fgov.be/cgi/article.p...</td>\n",
       "      <td>http://www.ejustice.just.fgov.be/cgi/article.p...</td>\n",
       "    </tr>\n",
       "  </tbody>\n",
       "</table>\n",
       "</div>"
      ],
      "text/plain": [
       "        Date                                              Title       Numac  \\\n",
       "0  1/14/2020  REGION DE BRUXELLES-CAPITALE\\r\\nREGION DE BRUX...  2020010053   \n",
       "1  1/16/2020  SERVICE PUBLIC FEDERAL INTERIEUR\\r\\n10 DECEMBR...  2020010044   \n",
       "2  1/16/2020  SERVICE PUBLIC FEDERAL FINANCES\\r\\n7 DECEMBRE ...  2020040052   \n",
       "3  1/24/2020  MINISTERE DE LA COMMUNAUTE FRANCAISE\\r\\n20 DEC...  2020010214   \n",
       "4  1/28/2020  SERVICE PUBLIC FEDERAL FINANCES\\r\\n20 JANVIER ...  2020040138   \n",
       "\n",
       "                                             Link FR  \\\n",
       "0  http://www.ejustice.just.fgov.be/cgi/article.p...   \n",
       "1  http://www.ejustice.just.fgov.be/cgi/article.p...   \n",
       "2  http://www.ejustice.just.fgov.be/cgi/article.p...   \n",
       "3  http://www.ejustice.just.fgov.be/cgi/article.p...   \n",
       "4  http://www.ejustice.just.fgov.be/cgi/article.p...   \n",
       "\n",
       "                                             Link NL  \n",
       "0  http://www.ejustice.just.fgov.be/cgi/article.p...  \n",
       "1  http://www.ejustice.just.fgov.be/cgi/article.p...  \n",
       "2  http://www.ejustice.just.fgov.be/cgi/article.p...  \n",
       "3  http://www.ejustice.just.fgov.be/cgi/article.p...  \n",
       "4  http://www.ejustice.just.fgov.be/cgi/article.p...  "
      ]
     },
     "execution_count": 2,
     "metadata": {},
     "output_type": "execute_result"
    }
   ],
   "source": [
    "files = pd.read_csv(\"data/KPMG Tax Case - Data Set.csv\")\n",
    "\n",
    "files.dropna(inplace=True)\n",
    "files.drop_duplicates(inplace=True)\n",
    "\n",
    "files[\"Numac\"] = files.Numac.astype(\"int64\").astype(\"object\")\n",
    "\n",
    "files.head()"
   ]
  },
  {
   "cell_type": "code",
   "execution_count": 3,
   "metadata": {},
   "outputs": [
    {
     "data": {
      "text/plain": [
       "(770, 5)"
      ]
     },
     "execution_count": 3,
     "metadata": {},
     "output_type": "execute_result"
    }
   ],
   "source": [
    "files.shape"
   ]
  },
  {
   "cell_type": "code",
   "execution_count": 4,
   "metadata": {},
   "outputs": [
    {
     "data": {
      "text/plain": [
       "(769, 5)"
      ]
     },
     "execution_count": 4,
     "metadata": {},
     "output_type": "execute_result"
    }
   ],
   "source": [
    "saved_numacs = []\n",
    "\n",
    "for file in os.listdir(\"data\"):\n",
    "    if file.endswith(\".txt\"):\n",
    "        saved_numacs.append(file.split(\".\")[0])\n",
    "\n",
    "files = files[files[\"Numac\"].astype(\"string\").isin(saved_numacs)]\n",
    "files.shape"
   ]
  },
  {
   "cell_type": "code",
   "execution_count": 5,
   "metadata": {},
   "outputs": [
    {
     "data": {
      "text/plain": [
       "769"
      ]
     },
     "execution_count": 5,
     "metadata": {},
     "output_type": "execute_result"
    }
   ],
   "source": [
    "texts = []\n",
    "\n",
    "for numac in files.Numac:\n",
    "    with open(f\"Translation/translations_txt/{numac}.txt\") as article:\n",
    "        texts.append(article.read())\n",
    "        \n",
    "len(texts)"
   ]
  },
  {
   "cell_type": "code",
   "execution_count": 6,
   "metadata": {
    "scrolled": true
   },
   "outputs": [],
   "source": [
    "texts = lemmatization.lemmatizer(texts[20:], batchsize=5)"
   ]
  },
  {
   "cell_type": "code",
   "execution_count": 7,
   "metadata": {},
   "outputs": [
    {
     "data": {
      "application/vnd.jupyter.widget-view+json": {
       "model_id": "ba034b20bc7144ae8b1ea5d4562eb594",
       "version_major": 2,
       "version_minor": 0
      },
      "text/plain": [
       "Batches:   0%|          | 0/24 [00:00<?, ?it/s]"
      ]
     },
     "metadata": {},
     "output_type": "display_data"
    },
    {
     "name": "stderr",
     "output_type": "stream",
     "text": [
      "2022-06-16 11:33:15,172 - BERTopic - Transformed documents to Embeddings\n",
      "2022-06-16 11:33:24,013 - BERTopic - Reduced dimensionality\n",
      "2022-06-16 11:33:24,138 - BERTopic - Clustered reduced embeddings\n"
     ]
    },
    {
     "data": {
      "application/vnd.jupyter.widget-view+json": {
       "model_id": "aaf12352da8c4edc8ff5739d11e1e0dc",
       "version_major": 2,
       "version_minor": 0
      },
      "text/plain": [
       "Batches:   0%|          | 0/24 [00:00<?, ?it/s]"
      ]
     },
     "metadata": {},
     "output_type": "display_data"
    },
    {
     "name": "stderr",
     "output_type": "stream",
     "text": [
      "2022-06-16 11:34:42,247 - BERTopic - Reduced dimensionality\n",
      "2022-06-16 11:34:42,441 - BERTopic - Calculated probabilities with HDBSCAN\n",
      "2022-06-16 11:34:42,442 - BERTopic - Predicted clusters\n"
     ]
    },
    {
     "data": {
      "text/plain": [
       "749"
      ]
     },
     "execution_count": 7,
     "metadata": {},
     "output_type": "execute_result"
    }
   ],
   "source": [
    "juridiq = juridIQ.JuridIQ(\"new\")\n",
    "\n",
    "topics = juridiq.get_topics(texts)\n",
    "len(topics)"
   ]
  },
  {
   "cell_type": "code",
   "execution_count": 9,
   "metadata": {},
   "outputs": [],
   "source": [
    "sep = \", \"\n",
    "\n",
    "topics_as_string = []\n",
    "\n",
    "for topic in topics:\n",
    "    temp = [str(prob) for prob in topic]\n",
    "    topics_as_string.append(f\"[{sep.join(temp)}]\")\n",
    "\n",
    "#topics_as_string = [re.sub(' +', ', ', str(topic)).replace(\".,\", \",\").replace(\".]\", \"]\") for topic in topics]\n",
    "\n",
    "files = files.iloc[20:]\n",
    "\n",
    "files[\"Topics\"] = topics_as_string"
   ]
  },
  {
   "cell_type": "code",
   "execution_count": 10,
   "metadata": {},
   "outputs": [],
   "source": [
    "import json\n",
    "\n",
    "topics_as_list = [json.loads(topic) for topic in files[\"Topics\"]]"
   ]
  },
  {
   "cell_type": "code",
   "execution_count": 11,
   "metadata": {
    "scrolled": true
   },
   "outputs": [],
   "source": [
    "files.to_csv(\"KPMG_with_topics.csv\")"
   ]
  },
  {
   "cell_type": "code",
   "execution_count": 12,
   "metadata": {},
   "outputs": [],
   "source": [
    "files_from_csv = pd.read_csv(\"KPMG_with_topics.csv\").drop(\"Unnamed: 0\", axis=1)\n",
    "#files_from_csv.Topics.astype(\"Sparse\")"
   ]
  },
  {
   "cell_type": "code",
   "execution_count": 13,
   "metadata": {},
   "outputs": [
    {
     "data": {
      "text/html": [
       "<div>\n",
       "<style scoped>\n",
       "    .dataframe tbody tr th:only-of-type {\n",
       "        vertical-align: middle;\n",
       "    }\n",
       "\n",
       "    .dataframe tbody tr th {\n",
       "        vertical-align: top;\n",
       "    }\n",
       "\n",
       "    .dataframe thead th {\n",
       "        text-align: right;\n",
       "    }\n",
       "</style>\n",
       "<table border=\"1\" class=\"dataframe\">\n",
       "  <thead>\n",
       "    <tr style=\"text-align: right;\">\n",
       "      <th></th>\n",
       "      <th>Date</th>\n",
       "      <th>Title</th>\n",
       "      <th>Numac</th>\n",
       "      <th>Link FR</th>\n",
       "      <th>Link NL</th>\n",
       "      <th>Topics</th>\n",
       "    </tr>\n",
       "  </thead>\n",
       "  <tbody>\n",
       "    <tr>\n",
       "      <th>0</th>\n",
       "      <td>3/6/2020</td>\n",
       "      <td>SERVICE PUBLIC FEDERAL INTERIEUR\\r\\n11 FEVRIER...</td>\n",
       "      <td>2020040437</td>\n",
       "      <td>http://www.ejustice.just.fgov.be/cgi/article.p...</td>\n",
       "      <td>http://www.ejustice.just.fgov.be/cgi/article.p...</td>\n",
       "      <td>[0.9999998949906659, 2.1300252244975015e-09, 3...</td>\n",
       "    </tr>\n",
       "    <tr>\n",
       "      <th>1</th>\n",
       "      <td>3/6/2020</td>\n",
       "      <td>SERVICE PUBLIC FEDERAL FINANCES\\r\\n17 MARS 201...</td>\n",
       "      <td>2020020270</td>\n",
       "      <td>http://www.ejustice.just.fgov.be/cgi/article.p...</td>\n",
       "      <td>http://www.ejustice.just.fgov.be/cgi/article.p...</td>\n",
       "      <td>[0.24620416751460983, 0.005365887287729386, 0....</td>\n",
       "    </tr>\n",
       "    <tr>\n",
       "      <th>2</th>\n",
       "      <td>3/6/2020</td>\n",
       "      <td>SERVICE PUBLIC FEDERAL FINANCES\\r\\n23 MARS 201...</td>\n",
       "      <td>2020020271</td>\n",
       "      <td>http://www.ejustice.just.fgov.be/cgi/article.p...</td>\n",
       "      <td>http://www.ejustice.just.fgov.be/cgi/article.p...</td>\n",
       "      <td>[0.9999999979317818, 0.0, 0.0, 0.0, 0.0, 0.0, ...</td>\n",
       "    </tr>\n",
       "    <tr>\n",
       "      <th>3</th>\n",
       "      <td>3/10/2020</td>\n",
       "      <td>SERVICE PUBLIC FEDERAL FINANCES\\r\\n11 FEVRIER ...</td>\n",
       "      <td>2020020495</td>\n",
       "      <td>http://www.ejustice.just.fgov.be/cgi/article.p...</td>\n",
       "      <td>http://www.ejustice.just.fgov.be/cgi/article.p...</td>\n",
       "      <td>[0.07527632215927113, 0.006072397949579861, 0....</td>\n",
       "    </tr>\n",
       "    <tr>\n",
       "      <th>4</th>\n",
       "      <td>3/12/2020</td>\n",
       "      <td>SERVICE PUBLIC FEDERAL FINANCES\\r\\n21 FEVRIER ...</td>\n",
       "      <td>2020020502</td>\n",
       "      <td>http://www.ejustice.just.fgov.be/cgi/article.p...</td>\n",
       "      <td>http://www.ejustice.just.fgov.be/cgi/article.p...</td>\n",
       "      <td>[0.07358741920367345, 0.006046967206458651, 0....</td>\n",
       "    </tr>\n",
       "  </tbody>\n",
       "</table>\n",
       "</div>"
      ],
      "text/plain": [
       "        Date                                              Title       Numac  \\\n",
       "0   3/6/2020  SERVICE PUBLIC FEDERAL INTERIEUR\\r\\n11 FEVRIER...  2020040437   \n",
       "1   3/6/2020  SERVICE PUBLIC FEDERAL FINANCES\\r\\n17 MARS 201...  2020020270   \n",
       "2   3/6/2020  SERVICE PUBLIC FEDERAL FINANCES\\r\\n23 MARS 201...  2020020271   \n",
       "3  3/10/2020  SERVICE PUBLIC FEDERAL FINANCES\\r\\n11 FEVRIER ...  2020020495   \n",
       "4  3/12/2020  SERVICE PUBLIC FEDERAL FINANCES\\r\\n21 FEVRIER ...  2020020502   \n",
       "\n",
       "                                             Link FR  \\\n",
       "0  http://www.ejustice.just.fgov.be/cgi/article.p...   \n",
       "1  http://www.ejustice.just.fgov.be/cgi/article.p...   \n",
       "2  http://www.ejustice.just.fgov.be/cgi/article.p...   \n",
       "3  http://www.ejustice.just.fgov.be/cgi/article.p...   \n",
       "4  http://www.ejustice.just.fgov.be/cgi/article.p...   \n",
       "\n",
       "                                             Link NL  \\\n",
       "0  http://www.ejustice.just.fgov.be/cgi/article.p...   \n",
       "1  http://www.ejustice.just.fgov.be/cgi/article.p...   \n",
       "2  http://www.ejustice.just.fgov.be/cgi/article.p...   \n",
       "3  http://www.ejustice.just.fgov.be/cgi/article.p...   \n",
       "4  http://www.ejustice.just.fgov.be/cgi/article.p...   \n",
       "\n",
       "                                              Topics  \n",
       "0  [0.9999998949906659, 2.1300252244975015e-09, 3...  \n",
       "1  [0.24620416751460983, 0.005365887287729386, 0....  \n",
       "2  [0.9999999979317818, 0.0, 0.0, 0.0, 0.0, 0.0, ...  \n",
       "3  [0.07527632215927113, 0.006072397949579861, 0....  \n",
       "4  [0.07358741920367345, 0.006046967206458651, 0....  "
      ]
     },
     "execution_count": 13,
     "metadata": {},
     "output_type": "execute_result"
    }
   ],
   "source": [
    "files_from_csv.head()"
   ]
  },
  {
   "cell_type": "code",
   "execution_count": 16,
   "metadata": {},
   "outputs": [
    {
     "name": "stdout",
     "output_type": "stream",
     "text": [
      "60\n"
     ]
    }
   ],
   "source": [
    "import json\n",
    "\n",
    "topics_as_list = [json.loads(topic) for topic in files_from_csv[\"Topics\"]]\n",
    "\n",
    "indexes = juridIQ.get_similar(topics_as_list[0], topics_as_list)\n",
    "\n",
    "links_nl = []\n",
    "links_fr = []\n",
    "\n",
    "for index in indexes:\n",
    "    links_nl.append(files_from_csv[\"Link NL\"][index])\n",
    "    \n",
    "    links_fr.append(files_from_csv[\"Link FR\"][index])\n",
    "    \n",
    "print(len(links_nl))"
   ]
  },
  {
   "cell_type": "code",
   "execution_count": 17,
   "metadata": {},
   "outputs": [
    {
     "ename": "NameError",
     "evalue": "name 'translated_text' is not defined",
     "output_type": "error",
     "traceback": [
      "\u001b[0;31m---------------------------------------------------------------------------\u001b[0m",
      "\u001b[0;31mNameError\u001b[0m                                 Traceback (most recent call last)",
      "\u001b[0;32m<ipython-input-17-f47ba5470cae>\u001b[0m in \u001b[0;36m<module>\u001b[0;34m\u001b[0m\n\u001b[0;32m----> 1\u001b[0;31m \u001b[0mlemmatization\u001b[0m\u001b[0;34m.\u001b[0m\u001b[0mlemmatizer\u001b[0m\u001b[0;34m(\u001b[0m\u001b[0;34m[\u001b[0m\u001b[0mtranslated_text\u001b[0m\u001b[0;34m]\u001b[0m\u001b[0;34m)\u001b[0m\u001b[0;34m\u001b[0m\u001b[0;34m\u001b[0m\u001b[0m\n\u001b[0m",
      "\u001b[0;31mNameError\u001b[0m: name 'translated_text' is not defined"
     ]
    }
   ],
   "source": [
    "lemmatization.lemmatizer([translated_text])"
   ]
  },
  {
   "cell_type": "code",
   "execution_count": 19,
   "metadata": {},
   "outputs": [],
   "source": [
    "juridiq.save_model()"
   ]
  }
 ],
 "metadata": {
  "kernelspec": {
   "display_name": "Python 3",
   "language": "python",
   "name": "python3"
  },
  "language_info": {
   "codemirror_mode": {
    "name": "ipython",
    "version": 3
   },
   "file_extension": ".py",
   "mimetype": "text/x-python",
   "name": "python",
   "nbconvert_exporter": "python",
   "pygments_lexer": "ipython3",
   "version": "3.8.10"
  }
 },
 "nbformat": 4,
 "nbformat_minor": 4
}
>>>>>>> main
