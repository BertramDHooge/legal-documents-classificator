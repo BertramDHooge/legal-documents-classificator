{
 "cells": [
  {
   "cell_type": "code",
   "execution_count": 8,
   "metadata": {},
   "outputs": [],
   "source": [
    "import transformers\n",
    "import pandas as pd\n",
    "import os\n",
    "import shutil"
   ]
  },
  {
   "cell_type": "code",
   "execution_count": 14,
   "metadata": {},
   "outputs": [],
   "source": [
    "undisputed_best_model = transformers.MBartForConditionalGeneration.from_pretrained(\n",
    "\"ml6team/mbart-large-cc25-cnn-dailymail-nl-finetune\"\n",
    ")\n",
    "\n",
    "tokenizer = transformers.MBartTokenizer.from_pretrained(\"facebook/mbart-large-cc25\")"
   ]
  },
  {
   "cell_type": "code",
   "execution_count": 15,
   "metadata": {},
   "outputs": [],
   "source": [
    "def summarize(filename):\n",
    "    global df\n",
    "    path = 'data/' + filename\n",
    "    with open(path, 'r', encoding=\"utf-8\") as f:\n",
    "        \n",
    "        number_of_characters = 0\n",
    "        remove_n = []\n",
    "\n",
    "        lines = f.readlines()\n",
    "        for line in lines:\n",
    "                number_of_characters = number_of_characters + len(line)\n",
    "                remove_n.append(line.strip())\n",
    "\n",
    "    joined_lines = ''.join(remove_n)\n",
    "\n",
    "    \n",
    "\n",
    "\n",
    "    summarization_pipeline = transformers.pipeline(\n",
    "        task=\"summarization\",\n",
    "        model=undisputed_best_model,\n",
    "        tokenizer=tokenizer,\n",
    "    )\n",
    "    summarization_pipeline.model.config.decoder_start_token_id = tokenizer.lang_code_to_id[\n",
    "        \"nl_XX\"\n",
    "    ]\n",
    "    article = joined_lines  # Dutch\n",
    "    summary = summarization_pipeline(\n",
    "        article,\n",
    "        do_sample=True,\n",
    "        top_p=0.75,\n",
    "        top_k=50,\n",
    "        # num_beams=4,\n",
    "        min_length=50,\n",
    "        early_stopping=True,\n",
    "        truncation=True,\n",
    "    )[0][\"summary_text\"]\n",
    "\n",
    "    \n",
    "    return summary\n"
   ]
  },
  {
   "cell_type": "markdown",
   "metadata": {},
   "source": [
    "# To dataframe (too long to wait)"
   ]
  },
  {
   "cell_type": "code",
   "execution_count": null,
   "metadata": {},
   "outputs": [],
   "source": [
    "# iterate through the folder\n",
    "'''\n",
    "def summarize_all(directory):\n",
    "    # create   df     \n",
    "    data = {'File': [],\n",
    "        'Summary': []}\n",
    "    df = pd.DataFrame(data)\n",
    "\n",
    "    for filename in os.listdir(directory):\n",
    "        if filename.endswith(\".txt\"):\n",
    "            print(filename)\n",
    "            output = summarize(filename)\n",
    "            print(output)\n",
    "            values_to_add = {'File': filename, 'Summary': output}\n",
    "            row_to_add = pd.Series(values_to_add, name=filename)\n",
    "            print(row_to_add)\n",
    "\n",
    "            df = df.append(row_to_add)\n",
    "            print(df.shape)\n",
    "            continue\n",
    "        else:\n",
    "            continue\n",
    "    \n",
    "    return df\n",
    "\n",
    "directory = 'data/'\n",
    "df = summarize_all(directory)\n",
    "'''"
   ]
  },
  {
   "cell_type": "markdown",
   "metadata": {},
   "source": [
    "# To txt files (too many of them)"
   ]
  },
  {
   "cell_type": "code",
   "execution_count": 18,
   "metadata": {},
   "outputs": [],
   "source": [
    "def summarize_all(directory):\n",
    "    \n",
    "\n",
    "    for filename in os.listdir(directory):\n",
    "        if filename.endswith(\".txt\"):\n",
    "            print(filename)\n",
    "            output = summarize(filename)\n",
    "            # print(output)\n",
    "            \n",
    "            dest_dir = \"summaries/\"\n",
    "            #with open(dest_dir + filename, 'w') as f:\n",
    "                #f.write(output)\n",
    "                #print(filename)\n",
    "            file = open(dest_dir + filename, 'w', encoding=\"utf-8\")\n",
    "            print(dest_dir)\n",
    "            file.write(output)\n",
    "            print(filename)\n",
    "            file.close()\n",
    "\n",
    "            move_from = directory + filename\n",
    "            move_to = \"bring_back_later/\" + filename\n",
    "            shutil.move(move_from, move_to)\n",
    "            continue\n",
    "        else:\n",
    "            continue\n"
   ]
  },
  {
   "cell_type": "code",
   "execution_count": null,
   "metadata": {},
   "outputs": [],
   "source": [
    "directory = 'data/'\n",
    "summarize_all(directory)"
   ]
  }
 ],
 "metadata": {
  "interpreter": {
   "hash": "573c5f8e4a9de4a29cc2c43f44bd7d1acbfa6c8b3e00d78238142f0788ca6380"
  },
  "kernelspec": {
   "display_name": "Python 3.9.7 ('base')",
   "language": "python",
   "name": "python3"
  },
  "language_info": {
   "codemirror_mode": {
    "name": "ipython",
    "version": 3
   },
   "file_extension": ".py",
   "mimetype": "text/x-python",
   "name": "python",
   "nbconvert_exporter": "python",
   "pygments_lexer": "ipython3",
   "version": "3.9.7"
  },
  "orig_nbformat": 4
 },
 "nbformat": 4,
 "nbformat_minor": 2
}
