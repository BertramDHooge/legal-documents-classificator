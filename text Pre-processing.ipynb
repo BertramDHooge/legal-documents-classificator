{
 "cells": [
  {
   "cell_type": "code",
   "execution_count": 1,
   "id": "534493ef",
   "metadata": {},
   "outputs": [],
   "source": [
    "import pandas as pd\n",
    "import numpy as np\n",
    "import os\n",
    "import re"
   ]
  },
  {
   "cell_type": "code",
   "execution_count": 2,
   "id": "aa5f2c80",
   "metadata": {},
   "outputs": [],
   "source": [
    "def preprocess(document_path):\n",
    "    with open(document_path, 'r') as file:\n",
    "        document = file.read().split('\\n')\n",
    "    return \" \".join(document).lower()"
   ]
  },
  {
   "cell_type": "code",
   "execution_count": 3,
   "id": "88da2df1",
   "metadata": {},
   "outputs": [
    {
     "data": {
      "text/html": [
       "<div><div id=b8721aab-54bc-4691-8a3f-1b025e728a98 style=\"display:none; background-color:#9D6CFF; color:white; width:200px; height:30px; padding-left:5px; border-radius:4px; flex-direction:row; justify-content:space-around; align-items:center;\" onmouseover=\"this.style.backgroundColor='#BA9BF8'\" onmouseout=\"this.style.backgroundColor='#9D6CFF'\" onclick=\"window.commands?.execute('create-mitosheet-from-dataframe-output');\">See Full Dataframe in Mito</div> <script> if (window.commands?.hasCommand('create-mitosheet-from-dataframe-output')) document.getElementById('b8721aab-54bc-4691-8a3f-1b025e728a98').style.display = 'flex' </script> <table border=\"1\" class=\"dataframe\">\n",
       "  <thead>\n",
       "    <tr style=\"text-align: right;\">\n",
       "      <th></th>\n",
       "      <th>Num</th>\n",
       "      <th>Content</th>\n",
       "    </tr>\n",
       "  </thead>\n",
       "  <tbody>\n",
       "    <tr>\n",
       "      <th>0</th>\n",
       "      <td>2018014264</td>\n",
       "      <td>publicatie numac  federale overheidsdienst buitenlandse zaken buitenlandse handel en ontwikkelingssamenwerking  september  wet houdende instemming met het protocol gedaan te brussel op  januari  tot wijziging van de overeenkomst tussen het koninkrijk belgiأ en de staat malta tot het vermijden van dubbele belasting en tot het voorkomen van het ontgaan van belasting en het protocol ondertekend te brussel op  juni  zoals gewijzigd door de aanvullende overeenkomst ondertekend te brussel op  juni   filip koning der belgenaan allen die nu zijn en hierna wezen zullen onze groetde kamer van volksvertegenwoordigers heeft aangenomen en wij bekrachtigen hetgeen volgt artikel  deze wet regelt een aangelegenheid als bedoeld in artikel  van de grondwetart  het protocol gedaan te brussel op  januari  tot wijziging van de overeenkomst tussen het koninkrijk belgiأ en de staat malta tot het vermijden van dubbele belasting en tot het voorkomen van het ontgaan van belasting en het protocol ondertekend te brussel op  juni  zoals gewijzigd door de aanvullende overeenkomst ondertekend te brussel op  juni  zal volkomen gevolg hebbenkondigen deze wet af bevelen dat zij met 's lands zegel zal worden bekleed en door het belgisch staatsblad zal worden bekendgemaaktgegeven te brussel  september filipvan koningswege de minister van buitenlandse zaken en europese zakend reyndersde minister van financiأnj van overtveldtmet 's lands zegel gezegeld de minister van justitiek geens nota's kamer van volksvertegenwoordigers wwwdekamerbestukkennr integraal verslag  zie decreet van de vlaamse gemeenschap het vlaamse gewest van  belgisch staatsblad van  decreet van de franse gemeenschap van  belgisch staatsblad van  decreet van de duitstalige gemeenschap van  belgisch staatsblad van  decreet van het waalse gewest van  belgisch staatsblad van  ordonnantie van het brusselse hoofdstedelijk gewest van  belgisch staatsblad van  datum inwerkingtreding  art iiprotocol tot wijziging van de overeenkomst tussen het koninkrijk belgiأ en de staat malta tot het vermijden van dubbele belasting en tot het voorkomen van het ontgaan van belasting en het protocol ondertekend te brussel op  juni  zoals gewijzigd door de aanvullende overeenkomst ondertekend te brussel op  juni de regering van het koninkrijk belgieende regering van maltawensende de overeenkomst te wijzigen tussen het koninkrijk belgiأ en de staat malta tot het vermijden van dubbele belasting en tot het voorkomen van het ontgaan van belasting en het protocol ondertekend te brussel op  juni  zoals gewijzigd door de op  juni  te brussel ondertekende aanvullende overeenkomst hierna te noemen \"de overeenkomst\"zijn het volgende overeengekomen artikel ide tekst van artikel  van de overeenkomst wordt opgeheven en vervangen door de volgende tekst \" de bevoegde autoriteiten van de overeenkomstsluitende staten wisselen de inlichtingen uit die naar verwachting relevant zijn voor de uitvoering van de bepalingen van deze overeenkomst of voor de toepassing of de tenuitvoerlegging van de nationale wetgeving met betrekking tot belastingen van elke soort en benaming die worden geheven door of ten behoeve van de overeenkomstsluitende staten voor zover de belastingheffing waarin die nationale wetgeving voorziet niet in strijd is met de overeenkomst de uitwisseling van inlichtingen wordt niet beperkt door de artikelen  en  de door een overeenkomstsluitende staat ingevolge paragraaf  verkregen inlichtingen worden op dezelfde wijze geheim gehouden als inlichtingen die onder de nationale wetgeving van die staat zijn verkregen en worden alleen ter kennis gebracht van personen of autoriteiten daaronder begrepen rechterlijke instanties en administratieve lichamen die betrokken zijn bij de vestiging of invordering van de in paragraaf  bedoelde belastingen bij de tenuitvoerlegging of vervolging ter zake van die belastingen bij de beslissing in beroepszaken die betrekking hebben op die belastingen of bij het toezicht daarop deze personen of autoriteiten gebruiken die inlichtingen slechts voor die doeleinden zij mogen deze inlichtingen kenbaar maken tijdens openbare rechtszittingen of in rechterlijke beslissingen niettegenstaande het voorafgaande mogen de inlichtingen die door een overeenkomstsluitende staat zijn ontvangen voor andere doeleinden worden gebruikt indien ze overeenkomstig de wetgeving van beide staten voor die andere doeleinden mogen worden gebruikt en indien de bevoegde autoriteit van de staat die de inlichtingen verstrekt de toestemming geeft voor dat gebruik in geen geval mogen de bepalingen van de paragrafen  en  aldus worden uitgelegd dat zij een overeenkomstsluitende staat de verplichting opleggen a administratieve maatregelen te nemen die afwijken van de wetgeving en de administratieve praktijk van die of van de andere overeenkomstsluitende staat  inlichtingen te verstrekken die niet verkrijgbaar zijn volgens de wetgeving of in de normale gang van de administratieve werkzaamheden van die of van de andere overeenkomstsluitende staat  inlichtingen te verstrekken die een handels bedrijfs nijverheids of beroepsgeheim of een handelswerkwijze zouden onthullen dan wel inlichtingen waarvan het verstrekken in strijd zou zijn met de openbare orde wanneer op basis van de bepalingen van dit artikel door een overeenkomstsluitende staat om inlichtingen is verzocht gebruikt de andere overeenkomstsluitende staat de middelen waarover hij beschikt om de gevraagde inlichtingen te verkrijgen zelfs al heeft die andere staat die inlichtingen niet nodig voor zijn eigen belastingdoeleinden de verplichting die in de vorige zin is vervat is onderworpen aan de beperkingen waarin paragraaf  van dit artikel voorziet maar die beperkingen mogen in geen geval aldus worden uitgelegd dat ze een overeenkomstsluitende staat toestaan het verstrekken van inlichtingen te weigeren enkel omdat die staat geen binnenlands belang heeft bij die inlichtingen in geen geval mogen de bepalingen van paragraaf  van dit artikel aldus worden uitgelegd dat ze een overeenkomstsluitende staat toestaan om het verstrekken van inlichtingen te weigeren enkel en alleen omdat de inlichtingen in het bezit zijn van een bank een andere financiأle instelling een trust een stichting een gevolmachtigde of een persoon die werkzaam is in de hoedanigheid van een vertegenwoordiger of een vertrouwenspersoon of omdat de inlichtingen betrekking hebben op eigendomsbelangen in een persoon teneinde zulke inlichtingen te verkrijgen heeft de belastingadministratie van de aangezochte overeenkomstsluitende staat de bevoegdheid om te vragen inlichtingen kenbaar te maken en om een onderzoek en verhoren in te stellen niettegenstaande andersluidende bepalingen in de binnenlandse belastingwetgeving van die staat\"artikel iielk van de overeenkomstsluitende staten stelt de andere overeenkomstsluitende staat langs diplomatieke weg in kennis van de voltooiing van de procedures die door zijn wetgeving voor de inwerkingtreding van dit protocol is vereist het protocol zal in werking treden op de datum van de laatste van deze kennisgevingen en de bepalingen ervan zullen van toepassing zijn a met betrekking tot de bij de bron verschuldigde belastingen op inkomsten die zijn toegekend of betaalbaar gesteld op of na  januari van het jaar dat onmiddellijk volgt op het jaar waarin het protocol in werking is getreden  met betrekking tot de andere belastingen die worden geheven van inkomsten van belastbare tijdperken die aanvangen op of na  januari van het jaar dat onmiddellijk volgt op het jaar waarin het protocol in werking is getreden  met betrekking tot alle andere belastingen geheven door of ten behoeve van de overeenkomstsluitende staten op elke andere belasting die verschuldigd is ter zake van belastbare feiten die zich voordoen op of na  januari van het jaar dat onmiddellijk volgt op het jaar waarin het protocol in werking is getredenartikel iiidit protocol dat een integrerend deel van de overeenkomst zal vormen zal van kracht blijven zolang de overeenkomst van kracht blijft en zal van toepassing zijn zolang de overeenkomst zelf van toepassing isten blijke waarvan de ondergetekenden daartoe behoorlijk gevolmachtigd door hun respectieve regeringen dit protocol hebben ondertekendgedaan in tweevoud te brussel op  januari  in de engelse taalprotocol amending the agreement between the kingdom of belgium and the state of malta for the avoidance of double taxation and the prevention of fiscal evasion and the protocol signed at brussels on  june  as amended by the supplementary agreement signed at brussels on  june the government of the kingdom of belgiumandthe government of maltadesiring to amend the agreement between the kingdom of belgium and the state of malta for the avoidance of double taxation and the prevention of fiscal evasion and the protocol signed at brussels on  june  as amended by the supplementary agreement signed at brussels on  june hereinafter referred to as \"the agreement\"have agreed as followsarticle ithe text of article  of the agreement is deleted and replaced by the following the competent authorities of the contracting states shall exchange such information as is foreseeably relevant for carrying out the provisions of this agreement or to the administration or enforcement of the domestic laws concerning taxes of every kind and description imposed by or on behalf of the contracting states insofar as the taxation thereunder is not contrary to the agreement the exchange of information is not restricted by articles  and  any information received under paragraph  by a contracting state shall be treated as secret in the same manner as information obtained under the domestic laws of that state and shall be disclosed only to persons or authorities including courts and administrative bodies concerned with the assessment or collection of the enforcement or prosecution in respect of the determination of appeals in relation to the taxes referred to in paragraph  or the oversight of the above such persons or authorities shall use the information only for such purposes they may disclose the information in public court proceedings or in judicial decisions notwithstanding the foregoing information received by a contracting state may be used for other purposes when such information may be used for such other purposes under the laws of both states and the competent authority of the supplying state authorises such use in no case shall the provisions of paragraphs  and  be construed so as to impose on a contracting state the obligationa to carry out administrative measures at variance with the laws and administrative practice of that or of the other contracting state  to supply information which is not obtainable under the laws or in the normal course of the administration of that or of the other contracting state  to supply information which would disclose any trade business industrial commercial or professional secret or trade process or information the disclosure of which would be contrary to public policy ordre publi if information is requested by a contracting state in accordance with the provisions of this article the other contracting state shall use its information gathering measures to obtain the requested information even though that other state may not need such information for its own tax purposes the obligation contained in the preceding sentence is subject to the limitations of paragraph  of this article but in no case shall such limitations be construed to permit a contracting state to decline to supply information solely because it has no domestic interest in such information in no case shall the provisions of paragraph  of this article be construed to permit a contracting state to decline to supply information solely because the information is held by a bank other financial institution trust foundation nominee or person acting in an agency or a fiduciary capacity or because it relates to ownership interests in a person in order to obtain such information the tax administration of the requested contracting state shall have the power to ask for the disclosure of information and to conduct investigations and hearings notwithstanding any contrary provisions in its domestic tax lawsarticle iieach of the contracting states shall notify the other contracting state through diplomatic channels of the completion of the procedures required by its law for the bringing into force of this protocol the protocol shall enter into force on the date of the later of these notifications and its provisions shall have effecta with respect to taxes due at source on income credited or payable on or after january  of the year next following the year in which the protocol entered into force  with respect to other taxes charged on income of taxable periods beginning on or after january  of the year next following the year in which the protocol entered into force  with respect to any other taxes imposed by or on behalf of the contracting states on any other tax due in respect of taxable events taking place on or after january  of the year next following the year in which the protocol entered into forcearticle iiithis protocol which shall form an integral part of the agreement shall remain in force as long as the agreement remains in force and shall apply as long as the agreement itself is applicablein witness whereof the undersigned duly authorised thereto by their respective governments have signed this protocoldone in duplicate at brussels on this th day of january  in the english language</td>\n",
       "    </tr>\n",
       "  </tbody>\n",
       "</table></div>"
      ],
      "text/plain": [
       "          Num                                            Content\n",
       "0  2018014264  publicatie numac  federale overheidsdienst bui..."
      ]
     },
     "execution_count": 3,
     "metadata": {},
     "output_type": "execute_result"
    }
   ],
   "source": [
    "\n",
    "Data = []\n",
    "for dirname, _, filenames in os.walk('./data/'):\n",
    "    for filename in filenames:\n",
    "        doc_num = filename\n",
    "        cont = preprocess(os.path.join(dirname, filename))\n",
    "\n",
    "        cont = re.sub('_______',' ',cont)\n",
    "        cont = cont.replace(':','').replace('-','').replace('  ',' ').replace('.','')\n",
    "        cont = cont.replace('§','').replace('آ°','').replace('آ','').replace('»',\n",
    "                '').replace('أ¯','').replace('أ¶','ö').replace('‰','é').replace('أ©أ©','éé')\n",
    "        cont = cont.replace(',','').replace(';',' ').replace('c)','').replace('b)','').replace('(','')\n",
    "        cont = cont.replace(\"ذگ\",\"\").replace(\"رڈ\",\"ï\").replace(\"أ³أ³\",\"óó\").replace(\"أں\",\n",
    "               \"ß\").replace(\"أ¼\",\"ü\").replace(\"أœ\",\"Ü\").replace('«','').replace(')','').replace('(','')\n",
    "        cont = re.sub(r'[0-9]',\"\", cont)\n",
    "        cont = re.sub(r'[/]',\"\", cont)\n",
    "        cont = re.sub('[a-z]*@','ABC@', cont)\n",
    "\n",
    "        num = doc_num.replace(\".txt\",\"\")\n",
    "        \n",
    "        Data.append([num ,cont])\n",
    "\n",
    "df = pd.DataFrame (Data, columns = ['Num','Content'])\n",
    "df.head(1)"
   ]
  },
  {
   "cell_type": "code",
   "execution_count": 4,
   "id": "da8a3466",
   "metadata": {},
   "outputs": [
    {
     "name": "stdout",
     "output_type": "stream",
     "text": [
      "<class 'pandas.core.frame.DataFrame'>\n",
      "RangeIndex: 768 entries, 0 to 767\n",
      "Data columns (total 2 columns):\n",
      " #   Column   Non-Null Count  Dtype \n",
      "---  ------   --------------  ----- \n",
      " 0   Num      768 non-null    object\n",
      " 1   Content  768 non-null    object\n",
      "dtypes: object(2)\n",
      "memory usage: 12.1+ KB\n"
     ]
    }
   ],
   "source": [
    "df.info()"
   ]
  },
  {
   "cell_type": "markdown",
   "id": "eb52a12e",
   "metadata": {},
   "source": [
    "### Pre-processing"
   ]
  },
  {
   "cell_type": "code",
   "execution_count": 5,
   "id": "5fc3c37b",
   "metadata": {},
   "outputs": [
    {
     "data": {
      "text/html": [
       "<div><div id=dddd3051-fad1-4cd4-b7cb-1795f5cabda7 style=\"display:none; background-color:#9D6CFF; color:white; width:200px; height:30px; padding-left:5px; border-radius:4px; flex-direction:row; justify-content:space-around; align-items:center;\" onmouseover=\"this.style.backgroundColor='#BA9BF8'\" onmouseout=\"this.style.backgroundColor='#9D6CFF'\" onclick=\"window.commands?.execute('create-mitosheet-from-dataframe-output');\">See Full Dataframe in Mito</div> <script> if (window.commands?.hasCommand('create-mitosheet-from-dataframe-output')) document.getElementById('dddd3051-fad1-4cd4-b7cb-1795f5cabda7').style.display = 'flex' </script> <table border=\"1\" class=\"dataframe\">\n",
       "  <thead>\n",
       "    <tr style=\"text-align: right;\">\n",
       "      <th></th>\n",
       "      <th>Date</th>\n",
       "      <th>Title</th>\n",
       "      <th>Numac</th>\n",
       "      <th>Link NL</th>\n",
       "    </tr>\n",
       "  </thead>\n",
       "  <tbody>\n",
       "    <tr>\n",
       "      <th>0</th>\n",
       "      <td>1/14/2020</td>\n",
       "      <td>REGION DE BRUXELLES-CAPITALE\\nREGION DE BRUXELLES-CAPITALE\\n8 JANVIER 2020. - Arrêté ministériel établissant les modèles de formulaire visé à l'article 8,  §  1er, de l'arrêté du Gouvernement de la Région de Bruxelles-Capitale du 19 janvier 2017 établissant les modalités du régime préférentiel applicable aux droits de succession en cas de transmission des entreprises familiales et des sociétés familiales, p. 997.</td>\n",
       "      <td>2.020010e+09</td>\n",
       "      <td>http://www.ejustice.just.fgov.be/cgi/article.pl?language=nl&amp;pub_date=2020-01-14&amp;caller=list&amp;numac=2020010053</td>\n",
       "    </tr>\n",
       "    <tr>\n",
       "      <th>1</th>\n",
       "      <td>1/16/2020</td>\n",
       "      <td>SERVICE PUBLIC FEDERAL INTERIEUR\\n10 DECEMBRE 2017. - Arrêté royal modifiant l'arrêté royal n°  20 du 20 juillet 1970, fixant les taux de la taxe sur la valeur ajoutée et déterminant la répartition des biens et des services selon ces taux en ce qui concerne certains produits destinés à la protection hygiénique intime et les défibrillateurs externes. - Traduction allemande, p. 1296.</td>\n",
       "      <td>2.020010e+09</td>\n",
       "      <td>http://www.ejustice.just.fgov.be/cgi/article.pl?language=nl&amp;pub_date=2020-01-16&amp;caller=list&amp;numac=2020010044</td>\n",
       "    </tr>\n",
       "  </tbody>\n",
       "</table></div>"
      ],
      "text/plain": [
       "        Date                                              Title         Numac  \\\n",
       "0  1/14/2020  REGION DE BRUXELLES-CAPITALE\\nREGION DE BRUXEL...  2.020010e+09   \n",
       "1  1/16/2020  SERVICE PUBLIC FEDERAL INTERIEUR\\n10 DECEMBRE ...  2.020010e+09   \n",
       "\n",
       "                                             Link NL  \n",
       "0  http://www.ejustice.just.fgov.be/cgi/article.p...  \n",
       "1  http://www.ejustice.just.fgov.be/cgi/article.p...  "
      ]
     },
     "execution_count": 5,
     "metadata": {},
     "output_type": "execute_result"
    }
   ],
   "source": [
    "import pprint\n",
    "\n",
    "df2 = pd.read_csv('./input/KPMG Tax Case - Data Set.csv')\n",
    "df2.head(2)"
   ]
  },
  {
   "cell_type": "code",
   "execution_count": 6,
   "id": "6d245579",
   "metadata": {},
   "outputs": [
    {
     "name": "stdout",
     "output_type": "stream",
     "text": [
      "('Title:REGION DE BRUXELLES-CAPITALE\\n'\n",
      " 'REGION DE BRUXELLES-CAPITALE\\n'\n",
      " '15 JUILLET 2021. - Arrêté du Gouvernement de la Région de Bruxelles-Capitale '\n",
      " 'relatif à une aide aux organisations culturelles et créatives à caractère '\n",
      " 'non lucratif dans le cadre de la crise sanitaire du COVID-19, p. 82965.')\n",
      "('Content:publicatie numac  federale overheidsdienst werkgelegenheid arbeid en '\n",
      " 'sociaal overleg   maart  koninklijk besluit tot verlenging van diverse '\n",
      " 'maatregelen genomen op vlak van tijdelijke werkloosheid in het kader van de '\n",
      " 'strijd tegen de verspreiding van het coronavirus covid naar aanleiding van '\n",
      " 'de oorlog in oekrane en tot wijziging van artikel  van de wet van  december  '\n",
      " 'houdende tijdelijke ondersteuningsmaatregelen ten gevolge van de '\n",
      " 'covidpandemie filip koning der belgen aan allen die nu zijn en hierna wezen '\n",
      " 'zullen onze groetgelet op de grondwet artikel  gelet op de besluitwet van  '\n",
      " 'december  betreffende de maatschappelijke zekerheid der arbeiders artikel    '\n",
      " 'derde lid i vervangen bij de wet van  februari   septies ingevoegd bij wet '\n",
      " 'van  april  en  octies ingevoeg')\n"
     ]
    }
   ],
   "source": [
    "sample = 767\n",
    "pprint.pprint(\"Title:{}\".format(df2['Title'][sample]))\n",
    "pprint.pprint(\"Content:{}\".format(df['Content'][sample][:767]))\n"
   ]
  },
  {
   "cell_type": "code",
   "execution_count": 11,
   "id": "7b0d5144",
   "metadata": {},
   "outputs": [
    {
     "name": "stdout",
     "output_type": "stream",
     "text": [
      "('Title:REGION DE BRUXELLES-CAPITALE\\n'\n",
      " 'REGION DE BRUXELLES-CAPITALE\\n'\n",
      " '15 JUILLET 2021. - Arrêté du Gouvernement de la Région de Bruxelles-Capitale '\n",
      " 'relatif à une aide aux organisations culturelles et créatives à caractère '\n",
      " 'non lucratif dans le cadre de la crise sanitaire du COVID-19, p. 82965.')\n",
      "('Content:publicatie numac  federale overheidsdienst werkgelegenheid arbeid en '\n",
      " 'sociaal overleg   maart  koninklijk besluit tot verlenging van diverse '\n",
      " 'maatregelen genomen op vlak van tijdelijke werkloosheid in het kader van de '\n",
      " 'strijd tegen de verspreiding van het coronavirus covid naar aanleiding van '\n",
      " 'de oorlog in oekrane en tot wijziging van artikel  van de wet van  december  '\n",
      " 'houdende tijdelijke ondersteuningsmaatregelen ten gevolge van de '\n",
      " 'covidpandemie filip koning der belgen aan allen die nu zijn en hierna wezen '\n",
      " 'zullen onze groetgelet op de grondwet artikel  gelet op de besluitwet van  '\n",
      " 'december  betreffende de maatschappelijke zekerheid der arbeiders artikel    '\n",
      " 'derde lid i vervangen bij de wet van  februari   septies ingevoegd bij wet '\n",
      " 'van  april  en  octies ingevoeg')\n"
     ]
    },
    {
     "data": {
      "text/plain": [
       "[]"
      ]
     },
     "execution_count": 11,
     "metadata": {},
     "output_type": "execute_result"
    }
   ],
   "source": [
    "from nltk.corpus import stopwords\n",
    "from nltk.stem.wordnet import WordNetLemmatizer\n",
    "\n",
    "stop_words = set(stopwords.words('dutch'))\n",
    "## a list of Dutch stopwords\n",
    "new_words = [\"aan\",\"af\",\"al\",\"als\",\"bij\",\"dan\",\"dat\",\"die\",\"dit\",\"een\",\"en\",\"er\",\"had\",\"heb\",\"hem\",\"het\",\"hij\",\"hoe\",\"hun\",\n",
    "             \"ik\",\"in\",\"is\",\"je\",\"kan\",\"me\",\"men\",\"met\",\"mij\",\"nog\",\"nu\",\"of\",\"ons\",\"ook\",\"te\",\"tot\",\"uit\",\"van\",\"was\",\"wat\",\n",
    "             \"we\",\"wel\",\"wij\",\"zal\",\"ze\",\"zei\",\"zij\",\"zo\",\"zou\",\"aangaande\",\"aangezien\",\"achter\",\"achterna\",\"afgelopen\",\n",
    "             \"aldaar\",\"aldus\",\"alhoewel\",\"alias\",\"alle\",\"allebei\",\"alleen\",\"alsnog\",\"altijd\",\"altoos\",\"ander\",\"andere\",\n",
    "             \"anders\",\"anderszins\",\"behalve\",\"behoudens\",\"beide\",\"beiden\",\"ben\",\"beneden\",\"bent\",\"bepaald\",\"betreffende\",\n",
    "             \"binnen\",\"binnenin\",\"boven\",\"bovenal\",\"bovendien\",\"bovengenoemd\",\"bovenstaand\",\"bovenvermeld\",\"buiten\",\"daar\",\n",
    "             \"daarheen\",\"daarin\",\"daarna\",\"daarnet\",\"daarom\",\"daarop\",\"daarvanlangs\",\"de\",\"dikwijls\",\"door\",\"doorgaand\",\"dus\",\n",
    "             \"echter\",\"eer\",\"eerdat\",\"eerder\",\"eerlang\",\"eerst\",\"elk\",\"elke\",\"enig\",\"enigszins\",\"enkel\",\"erdoor\",\"even\",\"eveneens\",\n",
    "             \"evenwel\",\"gauw\",\"gedurende\",\"geen\",\"gehad\",\"gekund\",\"geleden\",\"gelijk\",\"gemoeten\",\"gemogen\",\"geweest\",\"gewoon\",\"gewoonweg\",\n",
    "             \"haar\",\"hadden\",\"hare\",\"hebben\",\"hebt\",\"heeft\",\"hen\",\"hierbeneden\",\"hierboven\",\"hoewel\",\"hunne\",\"ikzelf\",\"inmiddels\",\"inzake\",\n",
    "             \"jezelf\",\"jij\",\"jijzelf\",\"jou\",\"jouw\",\"jouwe\",\"juist\",\"jullie\",\"klaar\",\"kon\",\"konden\",\"krachtens\",\"kunnen\",\"kunt\",\"later\",\"liever\",\n",
    "             \"maar\",\"mag\",\"meer\",\"mezelf\",\"mijn\",\"mijnent\",\"mijner\",\"mijzelf\",\"misschien\",\"mocht\",\"mochten\",\"moest\",\"moesten\",\"moet\",\"moeten\",\"mogen\",\n",
    "             \"na\",\"naar\",\"nadat\",\"net\",\"niet\",\"noch\",\"nogal\",\"ofschoon\",\"om\",\"omdat\",\"omhoog\",\"omlaag\",\"omstreeks\",\"omtrent\",\"omver\",\"onder\",\n",
    "             \"ondertussen\",\"ongeveer\",\"onszelf\",\"onze\",\"op\",\"opnieuw\",\"opzij\",\"over\",\"overeind\",\"overigens\",\"pas\",\"precies\",\"reeds\",\"rond\",\n",
    "             \"rondom\",\"sedert\",\"sinds\",\"sindsdien\",\"slechts\",\"sommige\",\"spoedig\",\"steeds\",\"tamelijk\",\"tenzij\",\"terwijl\",\"thans\",\"tijdens\",\n",
    "             \"toch\",\"toen\",\"toenmaals\",\"toenmalig\",\"totdat\",\"tussen\",\"uitgezonderd\",\"vaakwat\",\"vandaan\",\"vanuit\",\"vanwege\",\"veeleer\",\"verder\",\n",
    "             \"vervolgens\",\"vol\",\"volgens\",\"voor\",\"vooraf\",\"vooral\",\"vooralsnog\",\"voorbij\",\"voordat\",\"voordezen\",\"voordien\",\"voorheen\",\"voorop\",\n",
    "             \"vooruit\",\"vrij\",\"vroeg\",\"waar\",\"waarom\",\"wanneer\",\"want\",\"waren\",\"weer\",\"weg\",\"wegens\",\"weldra\",\"welk\",\"welke\",\"wie\",\"wiens\",\"wier\",\n",
    "             \"wijzelf\",\"zelfs\",\"zichzelf\",\"zijn\",\"zijne\",\"zodra\",\"zonder\",\"zouden\",\"zowat\",\"zulke\",\"zullen\",\"zult\"]\n",
    "\n",
    "stop_words = list(stop_words.union(new_words))\n",
    "\n",
    "def process(text):\n",
    "    \n",
    "    text = [word for word in text if word not in stop_words]\n",
    "\n",
    "    # remove words less than three letters\n",
    "    text = [word for word in text if len(word) >= 2]\n",
    "\n",
    "    # lemmatize\n",
    "    lmtzr = WordNetLemmatizer()\n",
    "    text = [lmtzr.lemmatize(word) for word in text]\n",
    "    \n",
    "    return text\n",
    "\n",
    "pprint.pprint(\"Title:{}\".format(df2['Title'][sample]))\n",
    "pprint.pprint(\"Content:{}\".format(df['Content'][sample][:767]))\n",
    "\n",
    "\n",
    "\n",
    "df['Content'] = df2['Title']\n",
    "df['Content'] = df['Content'].apply(lambda x:process(x))\n",
    "\n",
    "\n",
    "df['Content'][2]"
   ]
  },
  {
   "cell_type": "code",
   "execution_count": 18,
   "id": "fce0651c",
   "metadata": {},
   "outputs": [
    {
     "name": "stdout",
     "output_type": "stream",
     "text": [
      "CPU times: total: 0 ns\n",
      "Wall time: 1 ms\n"
     ]
    }
   ],
   "source": [
    "%%time\n",
    "from sklearn.feature_extraction.text import CountVectorizer\n",
    "\n",
    "#create a vocabulary of words \n",
    "cv=CountVectorizer(max_df=0.95,         \n",
    "                   max_features=10000,  \n",
    "                   ngram_range=(1,3)    \n",
    "                  )\n",
    "word_count_vector=cv.fit_transform(df)"
   ]
  },
  {
   "cell_type": "code",
   "execution_count": null,
   "id": "ecd9b9f7",
   "metadata": {},
   "outputs": [],
   "source": []
  }
 ],
 "metadata": {
  "interpreter": {
   "hash": "4abe8f0d43810da8e0599c92fa77ff1bc3ba49df42db1369ea5b9c66bb667179"
  },
  "kernelspec": {
   "display_name": "Python 3.9.1 64-bit",
   "language": "python",
   "name": "python3"
  },
  "language_info": {
   "codemirror_mode": {
    "name": "ipython",
    "version": 3
   },
   "file_extension": ".py",
   "mimetype": "text/x-python",
   "name": "python",
   "nbconvert_exporter": "python",
   "pygments_lexer": "ipython3",
   "version": "3.9.1"
  },
  "papermill": {
   "default_parameters": {},
   "duration": 583.455352,
   "end_time": "2022-04-01T11:38:04.057255",
   "environment_variables": {},
   "exception": null,
   "input_path": "__notebook__.ipynb",
   "output_path": "__notebook__.ipynb",
   "parameters": {},
   "start_time": "2022-04-01T11:28:20.601903",
   "version": "2.3.3"
  }
 },
 "nbformat": 4,
 "nbformat_minor": 5
}
