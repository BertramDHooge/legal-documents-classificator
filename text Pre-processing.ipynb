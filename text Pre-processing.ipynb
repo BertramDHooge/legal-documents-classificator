{
 "cells": [
  {
   "cell_type": "code",
   "execution_count": 1,
   "id": "534493ef",
   "metadata": {},
   "outputs": [],
   "source": [
    "import pandas as pd\n",
    "import numpy as np\n",
    "import os\n",
    "import re"
   ]
  },
  {
   "cell_type": "code",
   "execution_count": 2,
   "id": "ae445fb1",
   "metadata": {},
   "outputs": [
    {
     "data": {
      "text/html": [
       "<div><div id=03096614-e99b-46c9-9466-43ef10178819 style=\"display:none; background-color:#9D6CFF; color:white; width:200px; height:30px; padding-left:5px; border-radius:4px; flex-direction:row; justify-content:space-around; align-items:center;\" onmouseover=\"this.style.backgroundColor='#BA9BF8'\" onmouseout=\"this.style.backgroundColor='#9D6CFF'\" onclick=\"window.commands?.execute('create-mitosheet-from-dataframe-output');\">See Full Dataframe in Mito</div> <script> if (window.commands?.hasCommand('create-mitosheet-from-dataframe-output')) document.getElementById('03096614-e99b-46c9-9466-43ef10178819').style.display = 'flex' </script> <table border=\"1\" class=\"dataframe\">\n",
       "  <thead>\n",
       "    <tr style=\"text-align: right;\">\n",
       "      <th></th>\n",
       "      <th>Date</th>\n",
       "      <th>Title</th>\n",
       "      <th>Numac</th>\n",
       "      <th>Link NL</th>\n",
       "    </tr>\n",
       "  </thead>\n",
       "  <tbody>\n",
       "    <tr>\n",
       "      <th>0</th>\n",
       "      <td>1/14/2020</td>\n",
       "      <td>REGION DE BRUXELLES-CAPITALE\\nREGION DE BRUXELLES-CAPITALE\\n8 JANVIER 2020. - Arrêté ministériel établissant les modèles de formulaire visé à l'article 8,  §  1er, de l'arrêté du Gouvernement de la Région de Bruxelles-Capitale du 19 janvier 2017 établissant les modalités du régime préférentiel applicable aux droits de succession en cas de transmission des entreprises familiales et des sociétés familiales, p. 997.</td>\n",
       "      <td>2.020010e+09</td>\n",
       "      <td>http://www.ejustice.just.fgov.be/cgi/article.pl?language=nl&amp;pub_date=2020-01-14&amp;caller=list&amp;numac=2020010053</td>\n",
       "    </tr>\n",
       "    <tr>\n",
       "      <th>1</th>\n",
       "      <td>1/16/2020</td>\n",
       "      <td>SERVICE PUBLIC FEDERAL INTERIEUR\\n10 DECEMBRE 2017. - Arrêté royal modifiant l'arrêté royal n°  20 du 20 juillet 1970, fixant les taux de la taxe sur la valeur ajoutée et déterminant la répartition des biens et des services selon ces taux en ce qui concerne certains produits destinés à la protection hygiénique intime et les défibrillateurs externes. - Traduction allemande, p. 1296.</td>\n",
       "      <td>2.020010e+09</td>\n",
       "      <td>http://www.ejustice.just.fgov.be/cgi/article.pl?language=nl&amp;pub_date=2020-01-16&amp;caller=list&amp;numac=2020010044</td>\n",
       "    </tr>\n",
       "    <tr>\n",
       "      <th>2</th>\n",
       "      <td>1/16/2020</td>\n",
       "      <td>SERVICE PUBLIC FEDERAL FINANCES\\n7 DECEMBRE 2018. - Arrêté royal modifiant l'AR/CIR 92, en ce qui concerne les avantages de toute nature résultant de la disposition gratuite d'immeubles ou de parties d'immeubles. - Traduction allemande, p. 1297.</td>\n",
       "      <td>2.020040e+09</td>\n",
       "      <td>http://www.ejustice.just.fgov.be/cgi/article.pl?language=nl&amp;pub_date=2020-01-16&amp;caller=list&amp;numac=2020040052</td>\n",
       "    </tr>\n",
       "  </tbody>\n",
       "</table></div>"
      ],
      "text/plain": [
       "        Date                                              Title         Numac  \\\n",
       "0  1/14/2020  REGION DE BRUXELLES-CAPITALE\\nREGION DE BRUXEL...  2.020010e+09   \n",
       "1  1/16/2020  SERVICE PUBLIC FEDERAL INTERIEUR\\n10 DECEMBRE ...  2.020010e+09   \n",
       "2  1/16/2020  SERVICE PUBLIC FEDERAL FINANCES\\n7 DECEMBRE 20...  2.020040e+09   \n",
       "\n",
       "                                             Link NL  \n",
       "0  http://www.ejustice.just.fgov.be/cgi/article.p...  \n",
       "1  http://www.ejustice.just.fgov.be/cgi/article.p...  \n",
       "2  http://www.ejustice.just.fgov.be/cgi/article.p...  "
      ]
     },
     "execution_count": 2,
     "metadata": {},
     "output_type": "execute_result"
    }
   ],
   "source": [
    "km = pd.read_csv('./input/KPMG Tax Case - Data Set.csv')\n",
    "km.head(3)"
   ]
  },
  {
   "cell_type": "code",
   "execution_count": 3,
   "id": "bf2c641b",
   "metadata": {},
   "outputs": [],
   "source": [
    "# Drop all columns except for the title\n",
    "km.drop(['Date','Link NL'], axis=1,  inplace=True)"
   ]
  },
  {
   "cell_type": "code",
   "execution_count": 4,
   "id": "a2b9102f",
   "metadata": {},
   "outputs": [],
   "source": [
    "km1 = km.sort_values(by ='Numac' )"
   ]
  },
  {
   "cell_type": "code",
   "execution_count": 5,
   "id": "a1d1d58e",
   "metadata": {},
   "outputs": [],
   "source": [
    "km1.drop([0,923], axis=0, inplace=True)"
   ]
  },
  {
   "cell_type": "code",
   "execution_count": 6,
   "id": "af096280",
   "metadata": {},
   "outputs": [],
   "source": [
    "km2 = km1.copy()\n",
    "# km2.head(3)"
   ]
  },
  {
   "cell_type": "code",
   "execution_count": 7,
   "id": "aa5f2c80",
   "metadata": {},
   "outputs": [],
   "source": [
    "def preprocess(document_path):\n",
    "    with open(document_path, 'r') as file:\n",
    "        document = file.read().split('\\n')\n",
    "    return \" \".join(document).lower()"
   ]
  },
  {
   "cell_type": "code",
   "execution_count": 8,
   "id": "88da2df1",
   "metadata": {},
   "outputs": [],
   "source": [
    "\n",
    "Data = []\n",
    "for dirname, _, filenames in os.walk('./data/'):\n",
    "    for filename in filenames:\n",
    "        doc_num = filename\n",
    "        cont = preprocess(os.path.join(dirname, filename))\n",
    "\n",
    "        cont = re.sub('_______',' ',cont)\n",
    "        cont = cont.replace(':','').replace('-','').replace('  ',' ').replace('.','')\n",
    "        cont = cont.replace('§','').replace('آ°','').replace('آ','').replace('أ©','').replace('»',\n",
    "                '').replace('أ¯','').replace('أ¶','ö').replace('‰','é').replace('أ©أ©','éé')\n",
    "        cont = cont.replace(',','').replace(';',' ').replace('c)','').replace('b)','').replace('(','')\n",
    "        cont = cont.replace(\"ذگ\",\"\").replace(\"رڈ\",\"ï\").replace(\"أ³أ³\",\"óó\").replace(\"أں\",\n",
    "               \"ß\").replace(\"أ¼\",\"ü\").replace(\"أœ\",\"Ü\").replace('«','').replace(')','').replace('(','')\n",
    "        cont = re.sub(r'[0-9]',\"\", cont)\n",
    "        cont = re.sub(r'[/]',\"\", cont)\n",
    "        cont = re.sub('[a-z]*@','ABC@', cont)\n",
    "\n",
    "        num = doc_num.replace(\".txt\",\"\")\n",
    "        \n",
    "        Data.append([num ,cont])\n",
    "\n",
    "df = pd.DataFrame (Data, columns = ['Num','Content'])\n",
    "# df.head(3)"
   ]
  },
  {
   "cell_type": "code",
   "execution_count": 9,
   "id": "4c968e9a",
   "metadata": {},
   "outputs": [],
   "source": [
    "summar = []\n",
    "for dirnam, _, filename in os.walk('./summaries_txt/'):\n",
    "    for filenam in filename:\n",
    "        doc_num1 = filenam\n",
    "        cont1 = preprocess(os.path.join(dirnam, filenam))\n",
    "\n",
    "        cont1 = cont.replace(':','').replace('-','')\n",
    "        cont1 = re.sub(r'[0-9]',\"\", cont1)\n",
    "        cont1 = re.sub(r'[/]',\"\", cont1)\n",
    "        cont1 = re.sub('[a-z]*@','ABC@', cont1)\n",
    "\n",
    "        numm = doc_num1.replace(\".txt\",\"\")\n",
    "        \n",
    "        summar.append([numm ,cont1])\n",
    "\n",
    "df_s = pd.DataFrame (summar, columns = ['NumTxt','Summary'])\n",
    "# df_s.head(3)"
   ]
  },
  {
   "cell_type": "code",
   "execution_count": 10,
   "id": "da8a3466",
   "metadata": {},
   "outputs": [
    {
     "name": "stdout",
     "output_type": "stream",
     "text": [
      "<class 'pandas.core.frame.DataFrame'>\n",
      "RangeIndex: 768 entries, 0 to 767\n",
      "Data columns (total 2 columns):\n",
      " #   Column   Non-Null Count  Dtype \n",
      "---  ------   --------------  ----- \n",
      " 0   Num      768 non-null    object\n",
      " 1   Content  768 non-null    object\n",
      "dtypes: object(2)\n",
      "memory usage: 12.1+ KB\n",
      "df None\n",
      "****************************************\n",
      "<class 'pandas.core.frame.DataFrame'>\n",
      "RangeIndex: 926 entries, 0 to 925\n",
      "Data columns (total 2 columns):\n",
      " #   Column  Non-Null Count  Dtype  \n",
      "---  ------  --------------  -----  \n",
      " 0   Title   926 non-null    object \n",
      " 1   Numac   910 non-null    float64\n",
      "dtypes: float64(1), object(1)\n",
      "memory usage: 14.6+ KB\n",
      "km None\n"
     ]
    }
   ],
   "source": [
    "print('df',df.info())\n",
    "print('**'*20)\n",
    "print('km',km.info())"
   ]
  },
  {
   "cell_type": "code",
   "execution_count": 11,
   "id": "304ed71e",
   "metadata": {},
   "outputs": [],
   "source": [
    "df2 = df.join(df_s)\n",
    "# df1.sample(3)"
   ]
  },
  {
   "cell_type": "code",
   "execution_count": 12,
   "id": "a85c6602",
   "metadata": {},
   "outputs": [],
   "source": [
    "df2.drop(['NumTxt'], axis=1,  inplace=True)"
   ]
  },
  {
   "cell_type": "code",
   "execution_count": 13,
   "id": "a35b6bbf",
   "metadata": {},
   "outputs": [
    {
     "data": {
      "text/plain": [
       "Num        768\n",
       "Content    768\n",
       "Summary    768\n",
       "dtype: int64"
      ]
     },
     "execution_count": 13,
     "metadata": {},
     "output_type": "execute_result"
    }
   ],
   "source": [
    "df2.count()"
   ]
  },
  {
   "cell_type": "code",
   "execution_count": 14,
   "id": "729b04dd",
   "metadata": {},
   "outputs": [
    {
     "data": {
      "text/html": [
       "<div><div id=7fa39afe-0eea-442b-82b9-8709270ff643 style=\"display:none; background-color:#9D6CFF; color:white; width:200px; height:30px; padding-left:5px; border-radius:4px; flex-direction:row; justify-content:space-around; align-items:center;\" onmouseover=\"this.style.backgroundColor='#BA9BF8'\" onmouseout=\"this.style.backgroundColor='#9D6CFF'\" onclick=\"window.commands?.execute('create-mitosheet-from-dataframe-output');\">See Full Dataframe in Mito</div> <script> if (window.commands?.hasCommand('create-mitosheet-from-dataframe-output')) document.getElementById('7fa39afe-0eea-442b-82b9-8709270ff643').style.display = 'flex' </script> <table border=\"1\" class=\"dataframe\">\n",
       "  <thead>\n",
       "    <tr style=\"text-align: right;\">\n",
       "      <th></th>\n",
       "      <th>Num</th>\n",
       "      <th>Content</th>\n",
       "      <th>Summary</th>\n",
       "    </tr>\n",
       "  </thead>\n",
       "  <tbody>\n",
       "    <tr>\n",
       "      <th>432</th>\n",
       "      <td>2021021049</td>\n",
       "      <td>publicatie numac  federale overheidsdienst beleid en ondersteuning   mei  koninklijk besluit houdende vierde verdeling van het provisioneel krediet ingeschreven in het programma  van de wet van  december  houdende de algemene uitgavenbegroting voor het begrotingsjaar  en bestemd tot het dekken van de uitgaven betreffende de versterking van de genomen maatregelen alsook de nieuwe initiatieven inzake de strijd tegen het covid filip koning der belgen aan allen die nu zijn en hierna wezen zullen onze groetgelet op de wet van  december  houdende de algemene uitgavenbegroting voor het begrotingsjaar  gewijzigd door de wet van  april  en de wet van  april  artikel  gelet op het advies van de inspecteur van financiأn gegeven op  mei  overwegende dat op het programma  van de wet van  december  houdende de algemene uitgavenbegroting voor het begrotingsjaar  een provisioneel vastleggingskrediet en een provisioneel vereffeningskrediet van  euro is ingeschreven bestemd tot het dekken van de uitgaven betreffende de versterking van de genomen maatregelen alsook de nieuwe initiatieven inzake de strijd tegen het covid  virus overwegende dat op de sectie  fod sociale zekerheid van de wet van  december  houdende de algemene uitgavenbegroting voor het begrotingsjaar  geen enkel krediet is uitgetrokken om de uitgaven te dekken in verband met de strijd tegen het coronavirus covid op de voordracht van de staatssecretaris voor begrotinghebben wij besloten en besluiten wij artikel  een vastleggingskrediet van  euro en een vereffeningskrediet van  euro worden afgenomen van het provisioneel krediet ingeschreven op het programma  basisallocatie  van de wet van  december  houdende de algemene uitgavenbegroting voor het begrotingsjaar  en wordt verdeeld overeenkomstig de bijgevoegde tabelde in deze tabel vermelde bedragen worden gevoegd bij de kredieten die onder de betrokken programma's en basisallocaties zijn uitgetrokken voor het begrotingsjaar art  dit besluit treedt in werking de dag waarop het in het belgisch staatsblad wordt bekendgemaaktart  de staatssecretaris bevoegd voor begroting is belast met de uitvoering van dit besluitgegeven te brussel  mei filipvan koningswege de staatssecretaris voor begrotinge de bleeker voor de raadpleging van de tabel zie beeld gezien om te worden gevoegd bij ons besluit van  mei filipvan koningswege de staatssecretaris voor begrotinge de bleeker</td>\n",
       "      <td>publicatie numac  federale overheidsdienst werkgelegenheid arbeid en sociaal overleg   maart  koninklijk besluit tot verlenging van diverse maatregelen genomen op vlak van tijdelijke werkloosheid in het kader van de strijd tegen de verspreiding van het coronavirus covid naar aanleiding van de oorlog in oekrane en tot wijziging van artikel  van de wet van  december  houdende tijdelijke ondersteuningsmaatregelen ten gevolge van de covidpandemie filip koning der belgen aan allen die nu zijn en hierna wezen zullen onze groetgelet op de grondwet artikel  gelet op de besluitwet van  december  betreffende de maatschappelijke zekerheid der arbeiders artikel    derde lid i vervangen bij de wet van  februari   septies ingevoegd bij wet van  april  en  octies ingevoegd bij wet van  april  gelet op de wet van  juni  tot invoering van een recht op uitkeringen bij tijdelijke werkloosheid van gepensioneerden van  jaar omwille van het covidvirus artikel  gelet op de wet van  december  houdende tijdelijke ondersteuningsmaatregelen ten gevolge van de covidpandemie artikel  gelet op het koninklijk besluit van  november  houdende de werkloosheidsreglementering gelet op het koninklijk besluit van  maart  tot aanpassing van de procedures in het kader van tijdelijke werkloosheid omwille van het covidvirus en tot wijziging van artikel  van het koninklijk besluit van  mei  tot wijziging van de artikelen   bis   en  van het koninklijk besluit van  november  houdende de werkloosheidsreglementering en tot invoeging van de artikelen sexies bis en bis in hetzelfde besluit gelet op het koninklijk besluit van  juni  betreffende diverse tijdelijke maatregelen in de werkloosheidsreglementering omwille van het covidvirus en tot wijziging van de artikelen  en  van het koninklijk besluit van  maart  tot aanpassing van de procedures in het kader van tijdelijke werkloosheid omwille van het covidvirus en tot wijziging van artikel  van het koninklijk besluit van  mei  tot wijziging van de artikelen   bis   en  van het koninklijk besluit van  november  houdende de werkloosheidsreglementering en tot invoeging van de artikelen sexies bis en bis in hetzelfde besluit gelet op het koninklijk besluit van  juli  tot verlenging van de maatregelen genomen op vlak van werkloosheid in het kader van de strijd tegen de verspreiding van het coronavirus covid i gelet op het koninklijk besluit van  juli  tot verlenging van de maatregelen genomen op vlak van werkloosheid in het kader van de strijd tegen de verspreiding van het coronavirus covid ii gelet op het koninklijk besluit van  december  tot uitbreiding en verlenging van de maatregelen genomen op vlak van werkloosheid in het kader van de strijd tegen de verspreiding van het coronavirus covid gelet op het koninklijk besluit van  mei  tot verlenging van diverse maatregelen genomen op vlak van werkloosheid in het kader van de strijd tegen de verspreiding van het coronavirus covid en tot wijziging van het koninklijk besluit van  januari  betreffende het toekennen van een toeslag voor werknemers die in  tijdelijk werkloos werden gesteld gelet op het koninklijk besluit van  juli  tot verlenging van diverse maatregelen genomen op vlak van werkloosheid in het kader van de strijd tegen de verspreiding van het coronavirus covid gelet op het koninklijk besluit van  november  tot verlenging van diverse maatregelen genomen op vlak van tijdelijke werkloosheid in het kader van de strijd tegen de verspreiding van het coronavirus covid gelet op het koninklijk besluit van  januari  tot verlenging van diverse maatregelen genomen op vlak van tijdelijke werkloosheid in het kader van de strijd tegen de verspreiding van het coronavirus covid gelet op de wet van  april  betreffende het beheer van de instellingen van openbaar nut voor sociale zekerheid en sociale voorzorg artikel  eerste en derde lid gelet op het advies van de inspecteur van financiأn gegeven op  maart  gelet op het akkoord van de staatssecretaris voor begroting gegeven op  maart  gelet op artikel    van de wet van  december  houdende diverse bepalingen inzake administratieve vereenvoudiging is dit besluit uitgezonderd van de regelgevingsimpactanalyse gelet op advies  van de raad van state gegeven op  maart  met toepassing van artikel    eerste lid  van de gecoördineerde wetten op de raad van state gelet op de dringende noodzakelijkheid gemotiveerd door het feit dat de economische situatie als gevolg van de covid pandemie nog steeds niet is genormaliseerd en bovendien thans onverwacht in zeer ongunstige zin wordt benvloed door het gewelddadig conflict tussen rusland en oekrane wat zich inzonderheid manifesteert door nog een verhoging van de schaarste aan grondstoffen abnormaal hoge energieprijzen en een daling van het consumentenvertrouwen dat het nodig is om op te treden in de werkloosheidsreglementering teneinde het mogelijk te maken om te reageren op de moeilijkheden tot tewerkstelling en het aanhouden van de werkloosheid in de nasleep van de coronavirus covidpandemie en de actuele onvoorzienbare economische context en de gevolgen ervan op te vangen en teneinde verder snel maatregelen te kunnen nemen dat de voormelde wetten van  december  houdende tijdelijke ondersteuningsmaatregelen ten gevolge van de covidpandemie en van  juni  tot invoering van een recht op uitkeringen bij tijdelijke werkloosheid van gepensioneerden van  jaar omwille van het covidvirus evenals de voormelde koninklijke besluiten van  maart  en  juni  onder meer maatregelen bevatten om werknemers toe te laten afwezig te blijven van het werk voor de opvang van een kind dat omwille van sanitaire maatregelen niet naar een school een kinderdagverblijf of een centrum voor opvang van personen met een handicap kan gaan en om de procedures voor het aanvragen van uitkeringen als tijdelijk werkloze vereenvoudigen dat de situatie van dien aard blijft dat het verantwoord is om voor de betrokken werknemers die tijdelijk werkloos moeten worden gesteld verder in deze maatregelen te voorzien tot  juni  dat het nemen van deze maatregelen dringend is teneinde de betrokken tijdelijk werkloze werknemers de nodige rechtszekerheid te bieden op de voordracht van de minister van werkhebben wij besloten en besluiten wij artikel  in artikel  eerste lid van de wet van  december  houdende tijdelijke ondersteuningsmaatregelen ten gevolge van de covidpandemie wordt de datum \" maart \" vervangen door de datum \" juni \"art  in artikel  van het koninklijk besluit van  maart  tot aanpassing van de procedures in het kader van tijdelijke werkloosheid omwille van het covidvirus en tot wijziging van artikel  van het koninklijk besluit van  mei  tot wijziging van de artikelen   bis   en  van het koninklijk besluit van  november  houdende de werkloosheidsreglementering en tot invoeging van de artikelen sexies bis en bis in hetzelfde besluit gewijzigd bij koninklijke besluiten van  juni   juli   december   mei   juli   november  en  januari  worden de volgende wijzigingen aangebracht in het tweede lid worden de woorden \"maart \" vervangen door de woorden \"juni \"  in het derde lid worden de woorden \"  eerste lid \" vervangen door het woord \"en\" en worden de woorden \"maart \" vervangen door de woorden \"juni \"  in het vierde lid wordt de datum \" maart \" vervangen door de datum \" juni \"  tussen het vierde en het vijfde lid wordt een nieuw lid ingevoegd dat luidt als volgt \"de artikelen  eerste lid en  van dit besluit zijn van toepassing op de toekenning van de werkloosheidsuitkeringen die betrekking hebben op de maanden februari  tot maart \"art  in artikel  van het koninklijk besluit van  juni  betreffende diverse tijdelijke maatregelen in de werkloosheidsreglementering omwille van het covidvirus en tot wijziging van de artikelen  en  van het koninklijk besluit van  maart  tot aanpassing van de procedures in het kader van tijdelijke werkloosheid omwille van het covidvirus en tot wijziging van artikel  van het koninklijk besluit van  mei  tot wijziging van de artikelen   bis   en  van het koninklijk besluit van  november  houdende de werkloosheidsreglementering en tot invoeging van de artikelen sexies bis en bis in hetzelfde besluit gewijzigd bij de koninklijke besluiten van  juli   december   mei   juli   november  en  januari  wordt de datum \" maart \" vervangen door de datum \" juni \" art  in artikel  van hetzelfde koninklijk besluit van  juni  gewijzigd bij de koninklijke besluiten van  juli   december   mei   juli   november  en  januari  wordt de datum \" maart \" vervangen door de datum \" juni \" art  in artikel  van het koninklijk besluit van  juli  tot verlenging van de maatregelen genomen op vlak van werkloosheid in het kader van de strijd tegen de verspreiding van het coronavirus covid i gewijzigd bij de koninklijke besluiten van  december   mei   juli   november  en  januari  wordt de datum \" maart \" vervangen door de datum \" juni \" art  dit besluit heeft uitwerking met ingang van  maart  art  de minister bevoegd voor werk is belast met de uitvoering van dit besluitgegeven te brussel  maart  filipvan koningswege  de minister van werkpy dermagne</td>\n",
       "    </tr>\n",
       "    <tr>\n",
       "      <th>666</th>\n",
       "      <td>2021042174</td>\n",
       "      <td>publicatie numac  federale overheidsdienst financien   juni  koninklijk besluit houdende uitvoering van de wet houdende dringende diverse fiscale en fraudebestrijding bepalingen verslag aan de koningsirein een ingebrekestelling van de europese commissie van  juli  gericht aan belgiأ met betrekking tot de mogelijke onverenigbaarheid van de omzetting in belgisch recht van richtlijn eu  van  juli  tot vaststelling van regels ter bestrijding van belastingontwijkingspraktijken welke rechtstreeks van invloed zijn op de werking van de interne markt had de commissie opgemerkt dat in artikel    tweede lid tweede streepje wib  projecten van publiekprivate samenwerking worden vermeld terwijl artikel  lid  onder  van richtlijn  betrekking heeft op langlopende openbareinfrastructuurprojectenten gevolge van deze ingebrekestelling heeft de wetgever middels de wet van  december  houdende dringende diverse fiscale en fraudebestrijding bepalingen in artikel  van het wetboek van de inkomstenbelastingen  wib  de verwijzingen naar een project van publiekprivate samenwerking vervangen in een verwijzing naar een langlopend openbaar infrastructuurproject in de toelichting verklaarde de wetgever dat er werd beoogd om terug te grijpen naar de definitie uit richtlijn  aangezien u de modaliteiten bepaalt waaraan de belastingplichtige die de toepassing wenst van artikel    tweede lid wib  moet voldoen is het noodzakelijk om in uitvoering van de door de wetgever gewenste wijziging eveneens artikel  van het kbwib  te herzien aangezien hierin de modaliteiten waren vastgelegd die betrekking hadden op de belastingplichtigen die de financieringskosten niet in aanmerking wensen te nemen van leningen die betrekking hebben op een project van publiekprivate samenwerking in dit artikel zullen immers voortaan de modaliteiten worden vastgelegd die van toepassing zijn op de belastingplichtigen die de financieringskosten niet in aanmerking wensen te nemen van leningen die betrekking hebben op een langlopend openbaar infrastructuurprojectvervolgens werd in de voormelde wet van  december  beoogd om een gelijk speelveld te creأren tussen enerzijds de vennootschappen die behalve langlopende openbareinfrastructuurprojecten ook andere projecten realiseren en die zich beroepen op de uitsluiting die is voorzien in artikel    tweede lid tweede streepje wib  en waarbij u al over de bevoegdheid beschikt om de nodige modaliteiten te bepalen en anderzijds de vennootschappen waarvan de enige activiteit bestaat in de uitvoering van een langlopend openbaar infrastructuurproject en die zich beroepen op de uitsluiting die is voorzien in artikel    eerste lid  wib  en waarvoor u nog niet over de bevoegdheid beschikt om de nodige modaliteiten te bepalen door in artikel    tweede lid wib  ook voor deze tweede categorie een delegatie te voorzien is het mogelijk om te garanderen dat de in artikel  kbwib  bedoelde modaliteiten voortaan op beide soorten vennootschappen van toepassing zijndit ontwerp heeft geenszins de bedoeling om ten aanzien van deze belastingplichtigen bijkomende voorwaarden te stellen dan deze die bij wet of in richtlijn  zijn vastgelegd dit ontwerp heeft dan ook enkel de bedoeling om de voorwaarden te verduidelijken waaraan de belastingplichtigen moeten voldoen bij het leveren van het bewijs dat een of meerdere leningen werden gesloten in uitvoering van een langlopend openbaar infrastructuurproject waarbij de uitvoerder van het project de financieringskosten de activa en de winst zich allemaal in de europese unie bevindenhet bewijs wordt in twee stappen geleverd bij de aangifte wordt door middel van een opgave waarvan geen model bestaat waardoor de vorm ervan door de belastingplichtige zelf mag worden bepaald de nodige informatie verstrekt over de lening en het langlopende openbare infrastructuurproject daarnaast verzamelt de belastingplichtige de bewijsstukken die de via de opgave verstrekte gegevens moeten staven deze bewijsstukken moeten ter beschikking van de administratie worden gehouden en op eenvoudig verzoek worden voorgelegdin artikel  lid  tweede alinea van richtlijn  wordt verduidelijkt dat onder een langlopend openbaar infrastructuurproject een project moet worden verstaan dat bedoeld is om een grootschalig actief dat door een lidstaat wordt beschouwd als zijnde van algemeen belang te leveren te verbeteren te exploiteren enof te onderhoudende door de belastingplichtige op te stellen opgave heeft dan ook in de eerste plaats tot doel om dit grootschalig actief dat door dit langlopend openbare infrastructuurproject wordt opgeleverd verbeterd geأxploiteerd of onderhouden te identificeren en te omschrijvenvervolgens moet in deze opgave het openbare karakter van dit infrastructuurproject worden aangetoond hierbij is het niet nodig dat het infrastructuurproject wordt gefinancierd met publieke middelen om aan deze voorwaarde te voldoen al kan de aanwezigheid van publieke financiering wel element zijn bij de beoordeling van het openbare karakter ervan de beoordeling van het openbare karakter is in principe een feitenkwestie die door de fiscale administratie geval per geval zal moeten worden beoordeeld de vermelding in de opgave van een verwijzing naar een officiأle notificatie van een federale gewestelijke gemeenschaps provinciale of gemeentelijke overheid of een soortgelijke buitenlandse overheid waaruit het algemene belang van het infrastructuurproject blijkt kan ook een element zijn bij de beoordeling van het openbare karakter ervan het loutere feit dat er voor het infrastructuurproject de noodzakelijke vergunningen wordt geleverd is uiteraard niet relevant bij de beoordeling van het openbare karakter van het infrastructuurprojectzonder exhaustief te zijn kan worden vermeld dat transportinfrastructuur wegen bruggen tunnels sporen kanalen die gelegen is in een voor het publiek toegankelijke locatie energieproductie en distributieinfrastructuur energieinfrastructuur zoals bedoeld in artikel  punt  van verordening eu nr  van de commissie van  juni  waarbij bepaalde categorieأn steun op grond van de artikelen  en  van het verdrag met de interne markt verenigbaar worden verklaard of infrastructuur die beoogt een positief effect te hebben op het leefmilieu of de biodiversiteit en die verder gaat dan wat de toepasselijke regelgeving minimaal voorschrijft activa zijn die van algemeen belang zijnindien het infrastructuurproject niet kan worden ondergebracht onder n van de hierboven genoemde categorieأn zal de fiscale administratie het actief toetsen aan de volgende criteria de toegankelijkheid de meerwaarde voor de omgeving en maatschappij de mate waarin anderen dan de investeerder er gebruik van kunnen maken het argument dat het infrastructuurproject bijdraagt aan het vergroten van het aanbod aan werkgelegenheid in een bepaalde regio is niet pertinent bij de beoordeling van het openbare karakter ervandaarnaast wordt gevraagd om in de opgave de verwachte of daadwerkelijke duurtijd van de effectieve werkzaamheden aan het in het eerste lid eerste streepje bedoelde infrastructuurproject te vermelden dit heeft tot doel om de administratie toe te laten om het langlopende karakter van het project te beoordelen hoewel dit niet wordt gevraagd staat het de belastingplichtige vrij om het langlopende karakter van het project aan de hand van specifieke elementen te onderbouwenteneinde de fiscale administratie toe te laten om te beoordelen of het actief zich in de europese unie bevindt moet in de opgave de plaats worden vermeld waar het in het eerste lid eerste streepje bedoelde project en de activa die ten gevolge van dit project werden gerealiseerd zich in het desbetreffende belastbare tijdperk bevindenvoor de toepassing van dit artikel wordt de winst van het infrastructuurproject geacht zich te bevinden bij de investeerder van dit project in geval het infrastructuurproject met overheidsmiddelen wordt gefinancierd wordt de overheid geacht de investeerder te zijn en moet de identiteit van de investeerder niet in de opgave worden vermeld in het geval het investeringsproject niet met overheidsmiddelen wordt gefinancierd bijvoorbeeld in het geval van een project van publiek private samenwerking wordt de investeerder geacht de persoon of personen te zijn die het economisch risico van het project dragen in dat geval moet de naam en plaats van vestiging van deze personen in de opgave worden vermeldteneinde de fiscale administratie toe te laten om te beoordelen of de financieringskosten zich in de europese unie bevinden moet in de opgave ook de naam en plaats van vestiging van de persoon of personen die ingevolge de uitvoering van het eerste lid eerste streepje bedoelde project interesten of kosten die overeenkomstig artikel  kbwib  economisch gelijkwaardig zijn aan interesten verkrijgen worden vermeldvervolgens wordt artikel  kbwib  aangepast in uitvoering van de voormelde wet van  december  die de inleidende zin van artikel    tweede lid wib  heeft gewijzigd zodat verduidelijkt wordt dat de in dat lid bedoelde uitsluiting niet enkel betrekking heeft op de interesten maar ook op de kosten en opbrengsten die economisch gelijkwaardig zijn aan interestenomwille van het feit dat de wijzigingen aan de artikelen  en  kbwib  louter uitvoering geven aan de voormelde wet van  december  die op  december  in werking is getreden zijn deze artikelen van toepassing vanaf aanslagjaar  ongeacht of het belastbare tijdperk dat daarmee verbonden is werd afgesloten op of tussen  december  en de dag waarop dit besluit in het belgisch staatsblad wordt bekendgemaakt of op een belastbaar tijdperk dat erna wordt afgeslotentot slot wordt er nog een correctie uitgevoerd in artikel    kbwib  dit artikel beoogt om de kosten of opbrengsten die verschuldigd zijn aan of door een binnenlandse vennootschap of belgische inrichting die tijdens het hele belastbaar tijdperk deel heeft uitgemaakt van een groep van vennootschappen en die niet is uitgesloten van de toepassing van artikel  wib  buiten beschouwing te laten bij de vaststelling van de ebitda van de belastingplichtige artikel    tweede en derde lid kbwib  slaagt niet helemaal in die opzet doordat er enkel een correctie wordt doorgevoerd voor intragroepskosten en intragroepsopbrengsten die geen intragroepsfinancieringskosten of intragroepsfinancieringsopbrengsten zijn gelet op de betrachting van de wetgever om over de hele groep bekeken tot een gelijk resultaat te bekomen als wanneer het resultaat van de groep geconsolideerd zou worden benaderd is het dus nodig om alle intragroepstransacties op een correcte wijze te corrigeren het onderscheid dat in artikel    tweede en derde lid kbwib  wordt gemaakt tussen enerzijds intragroepskosten en intragroepsopbrengsten die geen intragroepsfinancieringskosten of intragroepsfinancieringsopbrengsten zijn en anderzijds de intragroepsfinancieringskosten of intragroepsfinancieringsopbrengsten maakt dat de intragroepstransacties niet correct worden geneutraliseerd om tot een correct en neutraal resultaat te komen waarin alle intragroepstransacties worden uitgezuiverd moeten alle intragroepskosten en intragroepsopbrengsten worden gecorrigeerd ongeacht of deze kosten of opbrengsten intragroepsfinancieringskosten of intragroepsfinancieringsopbrengsten zijn de in artikel  a en b van dit ontwerp opgenomen wijzigingen beogen dit resultaat te bekomenteneinde te garanderen dat de toepassing van de bepalingen van artikel    kbwib  over de hele groep bekeken neutraal blijft wordt bovendien voortaan expliciet voorzien dat een vennootschap of inrichting die deel uitmaakt van de belgische groep krachtens het tweede lid de ebitda slechts kan verhogen indien deze verhoging op eenzelfde wijze gecompenseerd wordt door de toepassing van het derde lid bij een andere vennootschap of inrichting die deel uitmaakt van deze groepdeze laatste wijziging zal in werking treden vanaf aanslagjaar ik heb de eer te zijnsirevan uwe majesteitde zeer eerbiedige en zeer getrouwe dienaarde minister van financiأnv van peteghemadvies  van  mei  over een ontwerp van koninklijk besluit \"houdende uitvoering van de wet houdende dringende diverse fiscale en fraudebestrijding bepalingen\"op  april  is de raad van state afdeling wetgeving door de minister van financiأn verzocht binnen een termijn van dertig dagen een advies te verstrekken over een ontwerp van koninklijk besluit \"houdende uitvoering van de wet houdende dringende diverse fiscale en fraudebestrijding bepalingen\"het ontwerp is door de derde kamer onderzocht op  mei   de kamer was samengesteld uit wilfried van vaerenbergh kamervoorzitter jeroen van nieuwenhove en koen muylle staatsraden bruno peeters assessor en astrid truyens griffierhet verslag is uitgebracht door frdric vanneste eerste auditeurhet advies is gegeven op  mei  met toepassing van artikel    eerste lid van de wetten op de raad van state gecoördineerd op  januari  heeft de afdeling wetgeving zich beperkt tot het onderzoek van de bevoegdheid van de steller van de handeling van de rechtsgrond alsmede van de vraag of aan de te vervullen vormvereisten is voldaandat onderzoek geeft geen aanleiding tot opmerkingende griffier  de voorzitter a truyens  w van vaerenbergh juni  koninklijk besluit houdende uitvoering van de wet houdende dringende diverse fiscale en fraudebestrijding bepalingenfilip koning der belgen aan allen die nu zijn en hierna wezen zullen onze groetgelet op het wetboek van de inkomstenbelastingen  artikel    tweede lid ingevoegd bij de wet van  december  gewijzigd bij de wet van  december   artikel    vierde lid ingevoegd bij de wet van  mei   artikel    tweede lid ingevoegd bij de wet van  december  gelet op het kbwib  overwegende richtlijn eu  van de raad van  juli  tot vaststelling van regels ter bestrijding van belastingontwijkingspraktijken welke rechtstreeks van invloed zijn op de werking van de interne markt gelet op het advies van de inspecteur van financiأn gegeven op  maart  gelet op het akkoord van de minister van begroting gegeven op  april  gelet op het advies nr  van de raad van state gegeven op  mei  met toepassing van artikel    eerste lid  van de wetten op de raad van state gecoördineerd op  januari  op de voordracht van de minister van financiأnhebben wij besloten en besluiten wij artikel  dit koninklijke besluit heeft de gedeeltelijke omzetting tot doel van richtlijn eu  van de raad van  juli  tot vaststelling van regels ter bestrijding van belastingontwijkingspraktijken welke rechtstreeks van invloed zijn op de werking van de interne marktart  in het opschrift van onderafdeling  van afdeling xxviibis van hoofdstuk i van het kbwib  ingevoegd bij het koninklijk besluit van  december  worden de woorden \"een project van publiekprivate samenwerking\" vervangen door de woorden \"een langlopend openbaar infrastructuurproject\"art  in artikel  eerste lid van hetzelfde besluit ingevoegd bij het koninklijk besluit van  december  worden de woorden \"de interesten van deze leningen\" vervangen door de woorden \"de interesten of kosten of opbrengsten die overeenkomstig artikel  economisch gelijkwaardig zijn aan interesten van deze leningen\"art  artikel  van hetzelfde besluit ingevoegd bij het koninklijk besluit van  december  wordt vervangen als volgt\"wanneer de belastingplichtige verzoekt om de interesten of kosten of opbrengsten die overeenkomstig artikel  economisch gelijkwaardig zijn aan interesten van de in artikel    tweede lid tweede streepje van hetzelfde wetboek bedoelde leningen niet in aanmerking te nemen voor de vaststelling van het financieringskostensurplus of wanneer hij om de toepassing van artikel      van hetzelfde wetboek verzoekt voegt hij bij de aangifte een opgave die betrekking heeft op deze leningen en waarin per leningsovereenkomst de volgende gegevens worden opgenomen de identificatie en omschrijving van het grootschalig actief dat door het in artikel    tweede lid tweede streepje van hetzelfde wetboek bedoelde openbare infrastructuurproject wordt opgeleverd verbeterd geأxploiteerd of onderhouden  een omschrijving van het openbare karakter enof n of meerdere verwijzingen naar notulen beslissingen of andere documenten van een overheid waaruit het algemene belang of openbare karakter van het in het eerste streepje bedoelde infrastructuurproject blijkt  de verwachte of daadwerkelijke duurtijd van de effectieve werkzaamheden aan het in het eerste streepje bedoelde infrastructuurproject te vermelden  de plaats waar het in het eerste streepje bedoelde project en de activa die ten gevolge van dit project werden gerealiseerd zich bevinden  behalve wanneer de investeerder van het project een overheid is de naam en plaats van vestiging van de persoon of personen die het economisch risico van het project dragen  de naam en plaats van vestiging van de persoon of personen die ingevolge een met de investeerder gesloten overeenkomst verantwoordelijk zijn voor de uitvoering van het in het eerste streepje bedoelde project  de naam en plaats van vestiging van de persoon of personen die ingevolge de uitvoering van het in het eerste streepje bedoelde project interesten of opbrengsten die overeenkomstig artikel  economisch gelijkwaardig zijn aan interesten verkrijgen  behalve wanneer de belastingplichtige om de toepassing van artikel     van hetzelfde wetboek verzoekt het bedrag van de in artikel    eerste lid van hetzelfde wetboek bedoelde interesten en kosten die overeenkomstig artikel  economisch gelijkwaardig zijn aan interesten die in uitvoering van deze overeenkomst in de loop van het belastbare tijdperk door de belastingplichtige werden verkregen of betaaldde toepassing van artikel     van hetzelfde wetboek kan enkel worden gevraagd wanneer aan de aangifte een verklaring op eer wordt toegevoegd waarin wordt verklaard dat de belastingplichtige geen activiteit uitoefent die niet verbonden is met de in het eerste lid eerste streepje bedoelde infrastructuurprojectde belastingplichtige houdt alle overeenkomsten of andere bewijsstukken die betrekking hebben op deze leningen en in voorkomend geval op de wijzigingen die deze leningen hebben ondergaan ter beschikking van de administratie en legt deze op eenvoudig verzoek voorde belastingplichtige verzamelt eveneens de volgende bewijsstukken houdt deze ter beschikking van de administratie en legt deze op eenvoudig verzoek voor in voorkomend geval een kopie van de in het eerste lid tweede streepje bedoelde notulen beslissingen of andere documenten van een overheid waaruit het openbare karakter of algemene belang van het in het eerste lid eerste streepje bedoelde infrastructuurproject blijkt  documenten die de lokalisatie van het in het eerste lid eerste streepje bedoelde project en van de activa die ten gevolge van dit project werden gerealiseerd kunnen bevestigen  documenten die het economische en juridische kader van het openbare infrastructuurproject uiteenzetten en waarin alle partijen worden gedentificeerd die bij de totstandkoming van dit project zijn betrokken\"art  in artikel    van hetzelfde besluit ingevoegd bij het koninklijk besluit van  december  worden de volgende wijzigingen aangebrachta in het tweede lid worden de woorden \"die geen in artikel    van hetzelfde wetboek bedoelde interesten of kosten die economisch gelijkwaardig zijn aan interesten zijn\" vervangen door de woorden \"in de mate dat de belastingplichtige heeft aangetoond dat deze kosten bij de verkrijger ervan worden aangemerkt als inkomsten die in toepassing van het derde lid uit de ebitda worden geneutraliseerd\"  in het derde lid worden de woorden \"en deze inkomsten geen in artikel    van hetzelfde wetboek bedoelde interesten of opbrengsten die economisch gelijkwaardig aan interesten zijn\" opgeheven  in het vierde lid tweede streepje worden de woorden \"in uitvoering van een project van publiekprivate samenwerking gegund na inmededingingstelling overeenkomstig de reglementering inzake overheidsopdrachten\" vervangen door de woorden \"in uitvoering van een langlopend openbaar infrastructuurproject\"art  de artikelen   en  c zijn van toepassing vanaf aanslagjaar art  de overige bepalingen van artikel  zijn van toepassing vanaf aanslagjaar art  de minister bevoegd voor financiأn is belast met de uitvoering van dit besluitgegeven te brussel  juni philippepar le roi de minister van financiأnv van peteghem</td>\n",
       "      <td>publicatie numac  federale overheidsdienst werkgelegenheid arbeid en sociaal overleg   maart  koninklijk besluit tot verlenging van diverse maatregelen genomen op vlak van tijdelijke werkloosheid in het kader van de strijd tegen de verspreiding van het coronavirus covid naar aanleiding van de oorlog in oekrane en tot wijziging van artikel  van de wet van  december  houdende tijdelijke ondersteuningsmaatregelen ten gevolge van de covidpandemie filip koning der belgen aan allen die nu zijn en hierna wezen zullen onze groetgelet op de grondwet artikel  gelet op de besluitwet van  december  betreffende de maatschappelijke zekerheid der arbeiders artikel    derde lid i vervangen bij de wet van  februari   septies ingevoegd bij wet van  april  en  octies ingevoegd bij wet van  april  gelet op de wet van  juni  tot invoering van een recht op uitkeringen bij tijdelijke werkloosheid van gepensioneerden van  jaar omwille van het covidvirus artikel  gelet op de wet van  december  houdende tijdelijke ondersteuningsmaatregelen ten gevolge van de covidpandemie artikel  gelet op het koninklijk besluit van  november  houdende de werkloosheidsreglementering gelet op het koninklijk besluit van  maart  tot aanpassing van de procedures in het kader van tijdelijke werkloosheid omwille van het covidvirus en tot wijziging van artikel  van het koninklijk besluit van  mei  tot wijziging van de artikelen   bis   en  van het koninklijk besluit van  november  houdende de werkloosheidsreglementering en tot invoeging van de artikelen sexies bis en bis in hetzelfde besluit gelet op het koninklijk besluit van  juni  betreffende diverse tijdelijke maatregelen in de werkloosheidsreglementering omwille van het covidvirus en tot wijziging van de artikelen  en  van het koninklijk besluit van  maart  tot aanpassing van de procedures in het kader van tijdelijke werkloosheid omwille van het covidvirus en tot wijziging van artikel  van het koninklijk besluit van  mei  tot wijziging van de artikelen   bis   en  van het koninklijk besluit van  november  houdende de werkloosheidsreglementering en tot invoeging van de artikelen sexies bis en bis in hetzelfde besluit gelet op het koninklijk besluit van  juli  tot verlenging van de maatregelen genomen op vlak van werkloosheid in het kader van de strijd tegen de verspreiding van het coronavirus covid i gelet op het koninklijk besluit van  juli  tot verlenging van de maatregelen genomen op vlak van werkloosheid in het kader van de strijd tegen de verspreiding van het coronavirus covid ii gelet op het koninklijk besluit van  december  tot uitbreiding en verlenging van de maatregelen genomen op vlak van werkloosheid in het kader van de strijd tegen de verspreiding van het coronavirus covid gelet op het koninklijk besluit van  mei  tot verlenging van diverse maatregelen genomen op vlak van werkloosheid in het kader van de strijd tegen de verspreiding van het coronavirus covid en tot wijziging van het koninklijk besluit van  januari  betreffende het toekennen van een toeslag voor werknemers die in  tijdelijk werkloos werden gesteld gelet op het koninklijk besluit van  juli  tot verlenging van diverse maatregelen genomen op vlak van werkloosheid in het kader van de strijd tegen de verspreiding van het coronavirus covid gelet op het koninklijk besluit van  november  tot verlenging van diverse maatregelen genomen op vlak van tijdelijke werkloosheid in het kader van de strijd tegen de verspreiding van het coronavirus covid gelet op het koninklijk besluit van  januari  tot verlenging van diverse maatregelen genomen op vlak van tijdelijke werkloosheid in het kader van de strijd tegen de verspreiding van het coronavirus covid gelet op de wet van  april  betreffende het beheer van de instellingen van openbaar nut voor sociale zekerheid en sociale voorzorg artikel  eerste en derde lid gelet op het advies van de inspecteur van financiأn gegeven op  maart  gelet op het akkoord van de staatssecretaris voor begroting gegeven op  maart  gelet op artikel    van de wet van  december  houdende diverse bepalingen inzake administratieve vereenvoudiging is dit besluit uitgezonderd van de regelgevingsimpactanalyse gelet op advies  van de raad van state gegeven op  maart  met toepassing van artikel    eerste lid  van de gecoördineerde wetten op de raad van state gelet op de dringende noodzakelijkheid gemotiveerd door het feit dat de economische situatie als gevolg van de covid pandemie nog steeds niet is genormaliseerd en bovendien thans onverwacht in zeer ongunstige zin wordt benvloed door het gewelddadig conflict tussen rusland en oekrane wat zich inzonderheid manifesteert door nog een verhoging van de schaarste aan grondstoffen abnormaal hoge energieprijzen en een daling van het consumentenvertrouwen dat het nodig is om op te treden in de werkloosheidsreglementering teneinde het mogelijk te maken om te reageren op de moeilijkheden tot tewerkstelling en het aanhouden van de werkloosheid in de nasleep van de coronavirus covidpandemie en de actuele onvoorzienbare economische context en de gevolgen ervan op te vangen en teneinde verder snel maatregelen te kunnen nemen dat de voormelde wetten van  december  houdende tijdelijke ondersteuningsmaatregelen ten gevolge van de covidpandemie en van  juni  tot invoering van een recht op uitkeringen bij tijdelijke werkloosheid van gepensioneerden van  jaar omwille van het covidvirus evenals de voormelde koninklijke besluiten van  maart  en  juni  onder meer maatregelen bevatten om werknemers toe te laten afwezig te blijven van het werk voor de opvang van een kind dat omwille van sanitaire maatregelen niet naar een school een kinderdagverblijf of een centrum voor opvang van personen met een handicap kan gaan en om de procedures voor het aanvragen van uitkeringen als tijdelijk werkloze vereenvoudigen dat de situatie van dien aard blijft dat het verantwoord is om voor de betrokken werknemers die tijdelijk werkloos moeten worden gesteld verder in deze maatregelen te voorzien tot  juni  dat het nemen van deze maatregelen dringend is teneinde de betrokken tijdelijk werkloze werknemers de nodige rechtszekerheid te bieden op de voordracht van de minister van werkhebben wij besloten en besluiten wij artikel  in artikel  eerste lid van de wet van  december  houdende tijdelijke ondersteuningsmaatregelen ten gevolge van de covidpandemie wordt de datum \" maart \" vervangen door de datum \" juni \"art  in artikel  van het koninklijk besluit van  maart  tot aanpassing van de procedures in het kader van tijdelijke werkloosheid omwille van het covidvirus en tot wijziging van artikel  van het koninklijk besluit van  mei  tot wijziging van de artikelen   bis   en  van het koninklijk besluit van  november  houdende de werkloosheidsreglementering en tot invoeging van de artikelen sexies bis en bis in hetzelfde besluit gewijzigd bij koninklijke besluiten van  juni   juli   december   mei   juli   november  en  januari  worden de volgende wijzigingen aangebracht in het tweede lid worden de woorden \"maart \" vervangen door de woorden \"juni \"  in het derde lid worden de woorden \"  eerste lid \" vervangen door het woord \"en\" en worden de woorden \"maart \" vervangen door de woorden \"juni \"  in het vierde lid wordt de datum \" maart \" vervangen door de datum \" juni \"  tussen het vierde en het vijfde lid wordt een nieuw lid ingevoegd dat luidt als volgt \"de artikelen  eerste lid en  van dit besluit zijn van toepassing op de toekenning van de werkloosheidsuitkeringen die betrekking hebben op de maanden februari  tot maart \"art  in artikel  van het koninklijk besluit van  juni  betreffende diverse tijdelijke maatregelen in de werkloosheidsreglementering omwille van het covidvirus en tot wijziging van de artikelen  en  van het koninklijk besluit van  maart  tot aanpassing van de procedures in het kader van tijdelijke werkloosheid omwille van het covidvirus en tot wijziging van artikel  van het koninklijk besluit van  mei  tot wijziging van de artikelen   bis   en  van het koninklijk besluit van  november  houdende de werkloosheidsreglementering en tot invoeging van de artikelen sexies bis en bis in hetzelfde besluit gewijzigd bij de koninklijke besluiten van  juli   december   mei   juli   november  en  januari  wordt de datum \" maart \" vervangen door de datum \" juni \" art  in artikel  van hetzelfde koninklijk besluit van  juni  gewijzigd bij de koninklijke besluiten van  juli   december   mei   juli   november  en  januari  wordt de datum \" maart \" vervangen door de datum \" juni \" art  in artikel  van het koninklijk besluit van  juli  tot verlenging van de maatregelen genomen op vlak van werkloosheid in het kader van de strijd tegen de verspreiding van het coronavirus covid i gewijzigd bij de koninklijke besluiten van  december   mei   juli   november  en  januari  wordt de datum \" maart \" vervangen door de datum \" juni \" art  dit besluit heeft uitwerking met ingang van  maart  art  de minister bevoegd voor werk is belast met de uitvoering van dit besluitgegeven te brussel  maart  filipvan koningswege  de minister van werkpy dermagne</td>\n",
       "    </tr>\n",
       "  </tbody>\n",
       "</table></div>"
      ],
      "text/plain": [
       "            Num                                            Content  \\\n",
       "432  2021021049  publicatie numac  federale overheidsdienst bel...   \n",
       "666  2021042174  publicatie numac  federale overheidsdienst fin...   \n",
       "\n",
       "                                               Summary  \n",
       "432  publicatie numac  federale overheidsdienst wer...  \n",
       "666  publicatie numac  federale overheidsdienst wer...  "
      ]
     },
     "execution_count": 14,
     "metadata": {},
     "output_type": "execute_result"
    }
   ],
   "source": [
    "df2.sample(2)"
   ]
  },
  {
   "cell_type": "markdown",
   "id": "eb52a12e",
   "metadata": {},
   "source": [
    "### Pre-processing"
   ]
  },
  {
   "cell_type": "code",
   "execution_count": 15,
   "id": "5fc3c37b",
   "metadata": {},
   "outputs": [],
   "source": [
    "import pprint\n",
    "\n",
    "# df2 = pd.read_csv('./input/Data_with_summary.csv')\n",
    "# df2.head(2)"
   ]
  },
  {
   "cell_type": "code",
   "execution_count": 18,
   "id": "6d245579",
   "metadata": {},
   "outputs": [
    {
     "name": "stdout",
     "output_type": "stream",
     "text": [
      "('Summary:REGION DE BRUXELLES-CAPITALE\\n'\n",
      " 'REGION DE BRUXELLES-CAPITALE\\n'\n",
      " '15 JUILLET 2021. - Arrêté du Gouvernement de la Région de Bruxelles-Capitale '\n",
      " 'relatif à une aide aux organisations culturelles et créatives à caractère '\n",
      " 'non lucratif dans le cadre de la crise sanitaire du COVID-19, p. 82965.')\n",
      "('Content:publicatie numac  federale overheidsdienst werkgelegenheid arbeid en '\n",
      " 'sociaal overleg   maart  koninklijk besluit tot verlenging van diverse '\n",
      " 'maatregelen genomen op vlak van tijdelijke werkloosheid in het kader van de '\n",
      " 'strijd tegen de verspreiding van het coronavirus covid naar aanleiding van '\n",
      " 'de oorlog in oekrane en tot wijziging van artikel  van de wet van  december  '\n",
      " 'houdende tijdelijke ondersteuningsmaatregelen ten gevolge van de '\n",
      " 'covidpandemie filip koning der belgen aan allen die nu zijn en hierna wezen '\n",
      " 'zullen onze groetgelet op de grondwet artikel  gelet op de besluitwet van  '\n",
      " 'december  betreffende de maatschappelijke zekerheid der arbeiders artikel    '\n",
      " 'derde lid i vervangen bij de wet van  februari   septies ingevoegd bij wet '\n",
      " 'van  april  en  octies ingevoeg')\n"
     ]
    }
   ],
   "source": [
    "sample = 767\n",
    "pprint.pprint(\"Summary:{}\".format(km['Title'][sample]))\n",
    "pprint.pprint(\"Content:{}\".format(df2['Summary'][sample][:767]))\n"
   ]
  },
  {
   "cell_type": "code",
   "execution_count": 19,
   "id": "7b0d5144",
   "metadata": {},
   "outputs": [
    {
     "name": "stdout",
     "output_type": "stream",
     "text": [
      "('Title:REGION DE BRUXELLES-CAPITALE\\n'\n",
      " 'REGION DE BRUXELLES-CAPITALE\\n'\n",
      " '15 JUILLET 2021. - Arrêté du Gouvernement de la Région de Bruxelles-Capitale '\n",
      " 'relatif à une aide aux organisations culturelles et créatives à caractère '\n",
      " 'non lucratif dans le cadre de la crise sanitaire du COVID-19, p. 82965.')\n",
      "('Summary:publicatie numac  federale overheidsdienst werkgelegenheid arbeid en '\n",
      " 'sociaal overleg   maart  koninklijk besluit tot verlenging van diverse '\n",
      " 'maatregelen genomen op vlak van tijdelijke werkloosheid in het kader van de '\n",
      " 'strijd tegen de verspreiding van het coronavirus covid naar aanleiding van '\n",
      " 'de oorlog in oekrane en tot wijziging van artikel  van de wet van  december  '\n",
      " 'houdende tijdelijke ondersteuningsmaatregelen ten gevolge van de '\n",
      " 'covidpandemie filip koning der belgen aan allen die nu zijn en hierna wezen '\n",
      " 'zullen onze groetgelet op de grondwet artikel  gelet op de besluitwet van  '\n",
      " 'december  betreffende de maatschappelijke zekerheid der arbeiders artikel    '\n",
      " 'derde lid i vervangen bij de wet van  februari   septies ingevoegd bij wet '\n",
      " 'van  april  en  octies ingevoeg')\n"
     ]
    },
    {
     "data": {
      "text/plain": [
       "[]"
      ]
     },
     "execution_count": 19,
     "metadata": {},
     "output_type": "execute_result"
    }
   ],
   "source": [
    "from nltk.corpus import stopwords\n",
    "from nltk.stem.wordnet import WordNetLemmatizer\n",
    "\n",
    "stop_words = set(stopwords.words('dutch'))\n",
    "## a list of Dutch stopwords\n",
    "new_words = [\"aan\",\"af\",\"al\",\"als\",\"bij\",\"dan\",\"dat\",\"die\",\"dit\",\"een\",\"en\",\"er\",\"had\",\"heb\",\"hem\",\"het\",\"hij\",\"hoe\",\"hun\",\n",
    "             \"ik\",\"in\",\"is\",\"je\",\"kan\",\"me\",\"men\",\"met\",\"mij\",\"nog\",\"nu\",\"of\",\"ons\",\"ook\",\"te\",\"tot\",\"uit\",\"van\",\"was\",\"wat\",\n",
    "             \"we\",\"wel\",\"wij\",\"zal\",\"ze\",\"zei\",\"zij\",\"zo\",\"zou\",\"aangaande\",\"aangezien\",\"achter\",\"achterna\",\"afgelopen\",\n",
    "             \"aldaar\",\"aldus\",\"alhoewel\",\"alias\",\"alle\",\"allebei\",\"alleen\",\"alsnog\",\"altijd\",\"altoos\",\"ander\",\"andere\",\n",
    "             \"anders\",\"anderszins\",\"behalve\",\"behoudens\",\"beide\",\"beiden\",\"ben\",\"beneden\",\"bent\",\"bepaald\",\"betreffende\",\n",
    "             \"binnen\",\"binnenin\",\"boven\",\"bovenal\",\"bovendien\",\"bovengenoemd\",\"bovenstaand\",\"bovenvermeld\",\"buiten\",\"daar\",\n",
    "             \"daarheen\",\"daarin\",\"daarna\",\"daarnet\",\"daarom\",\"daarop\",\"daarvanlangs\",\"de\",\"dikwijls\",\"door\",\"doorgaand\",\"dus\",\n",
    "             \"echter\",\"eer\",\"eerdat\",\"eerder\",\"eerlang\",\"eerst\",\"elk\",\"elke\",\"enig\",\"enigszins\",\"enkel\",\"erdoor\",\"even\",\"eveneens\",\n",
    "             \"evenwel\",\"gauw\",\"gedurende\",\"geen\",\"gehad\",\"gekund\",\"geleden\",\"gelijk\",\"gemoeten\",\"gemogen\",\"geweest\",\"gewoon\",\"gewoonweg\",\n",
    "             \"haar\",\"hadden\",\"hare\",\"hebben\",\"hebt\",\"heeft\",\"hen\",\"hierbeneden\",\"hierboven\",\"hoewel\",\"hunne\",\"ikzelf\",\"inmiddels\",\"inzake\",\n",
    "             \"jezelf\",\"jij\",\"jijzelf\",\"jou\",\"jouw\",\"jouwe\",\"juist\",\"jullie\",\"klaar\",\"kon\",\"konden\",\"krachtens\",\"kunnen\",\"kunt\",\"later\",\"liever\",\n",
    "             \"maar\",\"mag\",\"meer\",\"mezelf\",\"mijn\",\"mijnent\",\"mijner\",\"mijzelf\",\"misschien\",\"mocht\",\"mochten\",\"moest\",\"moesten\",\"moet\",\"moeten\",\"mogen\",\n",
    "             \"na\",\"naar\",\"nadat\",\"net\",\"niet\",\"noch\",\"nogal\",\"ofschoon\",\"om\",\"omdat\",\"omhoog\",\"omlaag\",\"omstreeks\",\"omtrent\",\"omver\",\"onder\",\n",
    "             \"ondertussen\",\"ongeveer\",\"onszelf\",\"onze\",\"op\",\"opnieuw\",\"opzij\",\"over\",\"overeind\",\"overigens\",\"pas\",\"precies\",\"reeds\",\"rond\",\n",
    "             \"rondom\",\"sedert\",\"sinds\",\"sindsdien\",\"slechts\",\"sommige\",\"spoedig\",\"steeds\",\"tamelijk\",\"tenzij\",\"terwijl\",\"thans\",\"tijdens\",\n",
    "             \"toch\",\"toen\",\"toenmaals\",\"toenmalig\",\"totdat\",\"tussen\",\"uitgezonderd\",\"vaakwat\",\"vandaan\",\"vanuit\",\"vanwege\",\"veeleer\",\"verder\",\n",
    "             \"vervolgens\",\"vol\",\"volgens\",\"voor\",\"vooraf\",\"vooral\",\"vooralsnog\",\"voorbij\",\"voordat\",\"voordezen\",\"voordien\",\"voorheen\",\"voorop\",\n",
    "             \"vooruit\",\"vrij\",\"vroeg\",\"waar\",\"waarom\",\"wanneer\",\"want\",\"waren\",\"weer\",\"weg\",\"wegens\",\"weldra\",\"welk\",\"welke\",\"wie\",\"wiens\",\"wier\",\n",
    "             \"wijzelf\",\"zelfs\",\"zichzelf\",\"zijn\",\"zijne\",\"zodra\",\"zonder\",\"zouden\",\"zowat\",\"zulke\",\"zullen\",\"zult\"]\n",
    "\n",
    "stop_words = list(stop_words.union(new_words))\n",
    "\n",
    "def process(text):\n",
    "    \n",
    "    text = [word for word in text if word not in stop_words]\n",
    "\n",
    "    # remove words less than three letters\n",
    "    text = [word for word in text if len(word) >= 2]\n",
    "\n",
    "    # lemmatize\n",
    "    lmtzr = WordNetLemmatizer()\n",
    "    text = [lmtzr.lemmatize(word) for word in text]\n",
    "    \n",
    "    return text\n",
    "\n",
    "pprint.pprint(\"Title:{}\".format(km['Title'][sample]))\n",
    "pprint.pprint(\"Summary:{}\".format(df2['Summary'][sample][:767]))\n",
    "\n",
    "\n",
    "\n",
    "km['Title'] = km['Title']\n",
    "df['Summary'] = df2['Summary'].apply(lambda x:process(x))\n",
    "\n",
    "\n",
    "df['Summary'][2]"
   ]
  },
  {
   "cell_type": "code",
   "execution_count": 20,
   "id": "fce0651c",
   "metadata": {},
   "outputs": [
    {
     "name": "stdout",
     "output_type": "stream",
     "text": [
      "CPU times: total: 0 ns\n",
      "Wall time: 2 ms\n"
     ]
    }
   ],
   "source": [
    "%%time\n",
    "from sklearn.feature_extraction.text import CountVectorizer\n",
    "\n",
    "#create a vocabulary of words \n",
    "cv = CountVectorizer(max_df=0.95,         \n",
    "                   max_features=10000,  \n",
    "                   ngram_range=(1,3)    \n",
    "                  )\n",
    "word_count_vector=cv.fit_transform(df2)"
   ]
  },
  {
   "cell_type": "code",
   "execution_count": 22,
   "id": "2c438347",
   "metadata": {},
   "outputs": [
    {
     "data": {
      "text/plain": [
       "Index(['Num', 'Content', 'Summary'], dtype='object')"
      ]
     },
     "execution_count": 22,
     "metadata": {},
     "output_type": "execute_result"
    }
   ],
   "source": [
    "df2.columns"
   ]
  },
  {
   "cell_type": "code",
   "execution_count": null,
   "id": "2097e477",
   "metadata": {},
   "outputs": [],
   "source": []
  }
 ],
 "metadata": {
  "interpreter": {
   "hash": "4abe8f0d43810da8e0599c92fa77ff1bc3ba49df42db1369ea5b9c66bb667179"
  },
  "kernelspec": {
   "display_name": "Python 3.9.1 64-bit",
   "language": "python",
   "name": "python3"
  },
  "language_info": {
   "codemirror_mode": {
    "name": "ipython",
    "version": 3
   },
   "file_extension": ".py",
   "mimetype": "text/x-python",
   "name": "python",
   "nbconvert_exporter": "python",
   "pygments_lexer": "ipython3",
   "version": "3.9.1"
  },
  "papermill": {
   "default_parameters": {},
   "duration": 583.455352,
   "end_time": "2022-04-01T11:38:04.057255",
   "environment_variables": {},
   "exception": null,
   "input_path": "__notebook__.ipynb",
   "output_path": "__notebook__.ipynb",
   "parameters": {},
   "start_time": "2022-04-01T11:28:20.601903",
   "version": "2.3.3"
  }
 },
 "nbformat": 4,
 "nbformat_minor": 5
}
