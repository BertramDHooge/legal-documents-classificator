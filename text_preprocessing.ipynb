{
 "cells": [
  {
   "cell_type": "code",
   "execution_count": 1,
   "metadata": {},
   "outputs": [
    {
     "name": "stderr",
     "output_type": "stream",
     "text": [
      "[nltk_data] Downloading package stopwords to\n",
      "[nltk_data]     /home/bertram/nltk_data...\n",
      "[nltk_data]   Package stopwords is already up-to-date!\n",
      "[nltk_data] Downloading package punkt to /home/bertram/nltk_data...\n",
      "[nltk_data]   Package punkt is already up-to-date!\n",
      "[nltk_data] Downloading package wordnet to /home/bertram/nltk_data...\n",
      "[nltk_data]   Package wordnet is already up-to-date!\n",
      "[nltk_data] Downloading package omw-1.4 to /home/bertram/nltk_data...\n",
      "[nltk_data]   Package omw-1.4 is already up-to-date!\n"
     ]
    }
   ],
   "source": [
    "# data visualisation and manipulation\n",
    "import numpy as np\n",
    "import pandas as pd\n",
    "import matplotlib.pyplot as plt\n",
    "from matplotlib import style\n",
    "import seaborn as sns\n",
    "#configure\n",
    "# sets matplotlib to inline and displays graphs below the corressponding cell.\n",
    "%matplotlib inline  \n",
    "style.use('fivethirtyeight')\n",
    "sns.set(style='whitegrid',color_codes=True)\n",
    "\n",
    "#import nltk\n",
    "import nltk\n",
    "nltk.download(\"stopwords\")\n",
    "nltk.download('punkt')\n",
    "nltk.download('wordnet')\n",
    "nltk.download('omw-1.4')\n",
    "from nltk.corpus import stopwords\n",
    "from nltk.tokenize import word_tokenize,sent_tokenize\n",
    "\n",
    "#preprocessing\n",
    "from nltk.corpus import stopwords  #stopwords\n",
    "from nltk import word_tokenize,sent_tokenize # tokenizing\n",
    "from nltk.stem import PorterStemmer,LancasterStemmer  # using the Porter Stemmer and Lancaster Stemmer and others\n",
    "from nltk.stem.snowball import SnowballStemmer\n",
    "from nltk.stem import WordNetLemmatizer  # lammatizer from WordNet\n",
    "\n",
    "# for named entity recognition (NER)\n",
    "from nltk import ne_chunk\n",
    "\n",
    "# vectorizers for creating the document-term-matrix (DTM)\n",
    "from sklearn.feature_extraction.text import TfidfVectorizer,CountVectorizer\n",
    "\n",
    "#stop-words\n",
    "stop_words_nl=set(nltk.corpus.stopwords.words('dutch'))\n",
    "stop_words_en=set(nltk.corpus.stopwords.words('english'))\n"
   ]
  },
  {
   "cell_type": "code",
   "execution_count": 19,
   "metadata": {},
   "outputs": [
    {
     "name": "stdout",
     "output_type": "stream",
     "text": [
      "768\n"
     ]
    }
   ],
   "source": [
    "import os\n",
    "import re\n",
    "\n",
    "texts = []\n",
    "\n",
    "for file in os.listdir(\"data\"):\n",
    "    if re.match(r\"\\d*\\.txt\", file):\n",
    "        with open(f\"data/{file}\") as text:\n",
    "            texts.append(text.read())\n",
    "\n",
    "print(len(texts))"
   ]
  },
  {
   "cell_type": "code",
   "execution_count": 3,
   "metadata": {},
   "outputs": [],
   "source": [
    "import spacy\n",
    "\n",
    "nlp = spacy.load(\"nl_core_news_sm\")\n",
    "\n",
    "def lemmatizer(texts):\n",
    "    texts = [text.replace(\"\\n\", \" \").strip() for text in texts]\n",
    "    texts = [text.replace(\";\", \" \").strip() for text in texts]\n",
    "    texts = [text.replace(\",\", \" \").strip() for text in texts]\n",
    "    docs = nlp.pipe(texts)\n",
    "    cleaned_lemmas = [[t.lemma_ for t in doc if t.lemma_ not in stop_words_nl \n",
    "                       and t.lemma_ not in stop_words_en \n",
    "                       and len(t)>3] for doc in docs]\n",
    "\n",
    "    return cleaned_lemmas"
   ]
  },
  {
   "cell_type": "code",
   "execution_count": 29,
   "metadata": {},
   "outputs": [
    {
     "name": "stdout",
     "output_type": "stream",
     "text": [
      "100\n",
      "['Publicatie', '2020-04-24Numac', '2020030602', 'FEDERALE', 'OVERHEIDSDIENST', 'BINNENLANDSE', 'ZAKEN', 'APRIL', '2019', 'wijziging', 'koninklijk', 'besluit', 'juli', '1970', 'vaststelling', 'tarief', 'belasting', 'toegevoegde', 'waarde', 'indeling', 'goed', 'dienst', 'tarief', 'bepalen', 'publicatie', 'betreffen', 'Duits', 'vertaling', 'hierna', 'volgen', 'tekst', 'Duits', 'vertaling', 'april', '2019', 'wijziging', 'koninklijk', 'besluit', 'juli', '1970', 'vaststelling', 'tarief', 'belasting', 'toegevoegde', 'waarde', 'indeling', 'goed', 'dienst', 'tarief', 'bepalen', 'publicatie', 'betreffen', 'Belgisch', 'Staatsblad', 'april', '2019).Deze', 'vertaling', 'op_maken', 'centraal', 'dienst', 'Duits', 'vertaling', 'Malmedy', 'FÖDERALER', 'ÖFFENTLICHER', 'DIENST', 'FINANZEN13', 'APRIL', '2019', 'Gesetz', 'Abänderung', 'hinsichtlich', 'bestimmter', 'Veröffentlichungen', 'Königlichen', 'Erlasses', 'Juli', '1970', 'Festlegung', 'Mehrwertsteuersätze', 'Einteilung', 'Güter', 'Dienstleistungen', 'nach', 'dies', 'SätzenPHILIPPE', 'Konig', 'Belgier', 'Allen', 'Gegenwartigen', 'Zukunftigen', 'Unser', 'Gruß', 'Abgeordnetenkammer', 'Folgende', 'angenommen', 'sanktionieren', 'artikel', 'Vorliegendes', 'gesetz', 'regelen', 'eine', 'artikel', 'Verfassung', 'erwähnte', 'angelegenheit', 'Art.', 'artikel', 'Königlichen', 'Erlasses', 'Juli', '1970', 'Festlegung', 'Mehrwertsteuersätze', 'Einteilung', 'Güter', 'Dienstleistungen', 'nach', 'dies', 'Sätzen', 'ersetzt', 'durch', 'Programmgesetz', 'dezember', '2006', 'wird', 'durch', 'einen', 'Buchstaben', 'folgendem', 'Wortlaut', 'ergänzt:\"c', 'prozent', 'Tabelle', 'Anlage', 'vorliegendem', 'Erlass', 'aufgezählten', 'Güter', 'dienstleistungen.\"Art', 'Tabelle', 'Rubrik', 'Anlage', 'demselben', 'Erlass', 'ersetzt', 'Durch', 'Königlichen', 'Erlass', 'dezember', '1992', 'wird', 'folgen', 'ersetzt:\"XIX', 'zeitungen', 'zeitschriften', 'BücherDer', 'ermäßigte', 'Steuersatz', 'anwendbar', 'auf:1', 'Bücher', 'Broschüren', 'Prospekte', 'ähnlich', 'Veröffentlichung', 'einschließlich', 'Atlanten,2', 'zeitungen', 'zeitschriften', 'auch', 'illustriert', 'Tabelle', 'Rubrik', 'erwähnten', 'ermäßigte', 'Steuersatz', 'prozent', 'nicht', 'anwendbar', 'ist,3', 'Bilderalben', 'Bilderbücher', 'Zeichen-', 'od', 'Malbücher', 'Kinder,4', 'Partituren', 'auch', 'Illustrationen', 'ermäßigte', 'Steuersatz', 'Absatz', 'erwähnt', 'Veröffentlichungen', 'anwend_bar', 'ganz', 'gleich', 'welcher', 'Form', 'Leser', 'Verfügung', 'gestellt', 'werden:1', 'Papier', 'oder', 'Pappe', 'oder', 'einem', 'ander', 'physischen', 'Träger,2', 'elektronischem', 'Wege', 'dieser', 'Rubrik', 'ausgeschlossen', 'sind', 'Veröffentlichung', 'die:1', 'vollständig', 'oder', 'Wesentlichen', 'Werbezwecken', 'dienen,2', 'vollständig', 'oder', 'Wesentlichen', 'Videoinhalten', 'od', 'hörbarer', 'Musik', 'bestehen.\"Art', 'Anlage', 'demselben', 'Erlass', 'zuletzt', 'abgeändren', 'durch', 'Gesetz', 'Februar', '2019', 'wird', 'eine', 'Tabelle', 'folgendem', 'Wortlaut', 'eingefügt:\"TABELLE', 'CDem_', 'Satz', 'Prozent', 'unterliegende', 'Güter', 'dienstleistungenI.', 'Periodisch', 'Veröffentlichungen§', 'ermäßigte', 'Steuersatz', 'gedruckte', 'periodisch', 'Veröffentlichung', 'anwend_bar', 'die:1', 'unter', 'Berücksichtigung', 'Themen', 'Weise', 'diese', 'behandelen', 'breite', 'Öffentlichkeit', 'bestimmt', 'sind,2', 'nicht', 'vollständig', 'oder', 'Wesentlichen', 'Werbezwecken', 'dienen,3', 'zusammenhängende', 'Ganzes', 'Presseartikeln', 'umfassen', 'urheberrechtlich', 'geschützt', 'sind', 'verfassen', 'zusammengestellt', 'unte', 'letztendlichen', 'Verantwortung', 'einer', 'professionellen', 'Redaktion', 'Hauptsächlich', 'Journalisten', 'besteht', 'die:-', 'gemäß', 'Gesetz', 'Dezember', '1963', 'über', 'Anerkennung', 'Schutz', 'Titel', 'Berufsjournalisten', 'Titel', 'eines', 'Berufsjournalisten', 'trag', 'dürfen', 'od', 'gemäß', 'Königlichen', 'Erlass', 'April', '1965', 'Einführung', 'Identifizierungsdokumenten', 'Identifikationsabzeichen', 'mitglieder', 'perio_disch', 'Presse', 'Fachinformationen', 'Titel', 'eines', 'Berufsjournalisten', 'tragen', 'dürfen', 'insofern', 'belgisch', 'periodisch', 'Veröffentlichung', 'geht,-', 'Berufsjournalist', 'akkreditiren', 'sind', 'insofern', 'ausländisch', 'periodisch', 'Veröffentlichung', 'geht,4', 'ohne', 'zeitliche', 'Begrenzung', 'regelmäßig', 'vorab', 'festgelegt', 'Abständen', 'mindestens', 'achtundvierzig', 'Jahr', 'unteren', 'Einer', 'gemeinsamen', 'Bezeichnung', 'deutlichem', 'vermerk', 'ihrer', 'Periodizitäterscheinen.§', 'ermäßigte', 'Steuersatz', 'nicht', 'folgenen', 'Kategorien', 'gedruckt', 'periodischen', 'Veröffentlichung', 'anwendbar:1', 'Veröffentlichung', 'hauptsäch_lich', 'einen', 'vollständigen', 'Roman', 'eine', 'vollständig', 'Erzählung', 'oder', 'vollständige', 'Werk', 'gleich', 'we_lcher', 'oder', 'Fortsetzungen', 'davon', 'enthalt', 'Form', 'eines', 'Textes', 'od', 'ohne', 'Illustrationen', 'oder', 'Form', 'einer', 'Bildergeschichte', 'od', 'ohne', 'Bildtext,2', 'Fortsetzungen', 'veröffentlichte', 'Werke', 'deer', 'Erscheinen', 'einen', 'fesat', 'zeitraum', 'beschränken', 'oder', 'eine', 'Ergänzung', 'oder', 'Fortschreibung', 'bereits', 'erschienener', 'Werke', 'darstellen,3', 'anzeigenblätter', 'Prospekte', 'Kataloge', 'Almanache', 'Preislisten', 'Kursblätter', 'Seeverkehrsinformationen', 'notar_iel', 'Meldungen', 'Fahrpläne,4', 'Fachpublikationen', 'gewerblichen', 'Nutzung,5', 'Veröffentlichungen', 'Denkspiele', 'enthalten,6', 'Veröffentlichungen', 'unter', 'Namen', 'eines', 'Industrie-', 'Finanz-', 'Handels-', 'od', 'ander', 'Unternehmens', 'herausgegeben', 'Auch', 'wenn', 'ausschließlich', 'Text', 'oder', 'Illustrationen', 'allgemeinen', 'Interesse', 'ohne', 'direkken', 'Werbung', 'enthalten,7', 'Veröffentlichungen', 'deren', 'Hauptzweck', 'Industrie-', 'Finanz-', 'Handels-', 'od', 'ander', 'Geschäfte', 'suchen', 'fortzuführen', 'oder', 'ausz_uweit', 'Unternehmen', 'werbemittel', 'darstellen,8', 'Veröffentlichungen', 'nach', 'Ablauf', 'einer', 'Frist', 'einem', 'Jahr', 'ihrem', 'Erscheinungsdatum', 'gelieferen', 'innergemeinschaftlich', 'erworben', 'od', 'eingeführt', 'werden,9', 'Veröffentlichungen', 'vollständig', 'od', 'unvollständig', 'sammlung', 'unter', 'demselben', 'Einband', 'od', 'perio_disch', 'oder', 'nicht', 'perio_disch', 'alben', 'vereinigen', 'sind,10', 'Veröffentlichung', 'vollständig', 'oder', 'Wesentlichen', 'Videoinhalten', 'od', 'hörbarer', 'Musik', 'bestehen,11', 'Veröffentlichung', 'Altpapier', 'od', 'alte', 'Pappe', 'verkauft', 'werden.§', 'ermäßigte', 'Steuersatz', 'digitaal', 'Veröffentlichung', 'anwendbar', 'die:1', 'erwähnt', 'Bedingungen', 'erfüllen,2', 'erwähnt', 'Bedingung', 'erfüllen', 'oder', 'Regelmäßig', 'ausreichen', 'fortgeschrieben', 'neuest', 'Stand', 'gehalten', 'insbesonad', 'durch', 'Hinzufügen', 'neuer', 'Presseartikel.§', 'ermäßigte', 'Steuersatz', 'nicht', 'digitaal', 'Veröffentlichung', 'erwähnt', 'anwendbar.\"Art', 'Vorliegendes', 'Gesetz', 'wird', 'wirksam', 'April', '2019.Wir', 'fertig', 'vorliegen', 'Gesetz', 'ordnen', 'dass', 'Staatssiegel', 'versehen', 'durch', 'Belgisch', 'Staatsblatt', 'veröffentlicht', 'wird', 'Gegeben', 'Brüssel', 'April', '2019PHILIPPEVon', 'Königs', 'weg', 'Vizepremierminister', 'minister', 'FinanzenA.', 'CROOMit', 'Staatssiegel', 'versehen', 'minister', 'Justiz', 'GEENS']\n"
     ]
    }
   ],
   "source": [
    "cleaned = lemmatizer(texts[0:100])\n",
    "print(len(cleaned))\n",
    "print(cleaned[0])"
   ]
  },
  {
   "cell_type": "code",
   "execution_count": 30,
   "metadata": {},
   "outputs": [],
   "source": [
    "vect = TfidfVectorizer(stop_words=stop_words_nl,max_features=100)"
   ]
  },
  {
   "cell_type": "code",
   "execution_count": 31,
   "metadata": {},
   "outputs": [
    {
     "data": {
      "text/plain": [
       "array(['19', '2019', '2020', '2021', 'aantal', 'activiteit', 'advies',\n",
       "       'algemeen', 'ander', 'april', 'art', 'artikel', 'bedoelen',\n",
       "       'bedrag', 'belgisch', 'bepalen', 'bepaling', 'beperken', 'besluit',\n",
       "       'betreffen', 'betrekking', 'bevoegd', 'bijzonder', 'brussel',\n",
       "       'brussels', 'coronavirus', 'covid', 'datum', 'december', 'decreet',\n",
       "       'dienst', 'drie', 'dringend', 'financiën', 'gelet', 'gemeenschap',\n",
       "       'geval', 'geven', 'gevolg', 'hetzelfde', 'hoofdstedelijk',\n",
       "       'houden', 'indien', 'instelling', 'inzake', 'jaar', 'januari',\n",
       "       'juli', 'juni', 'kader', 'koninklijk', 'lijst', 'maart',\n",
       "       'maatregel', 'maken', 'minister', 'ministerieel', 'moeten',\n",
       "       'mogelijk', 'nemen', 'november', 'oktober', 'onderneming',\n",
       "       'openbaar', 'overeenkomstig', 'overwegende', 'pandemie', 'patiënt',\n",
       "       'periode', 'persoon', 'raad', 'regering', 'september', 'sociaal',\n",
       "       'state', 'subsidie', 'termijn', 'tijdelijk', 'tijdens',\n",
       "       'toepassing', 'tussen', 'twee', 'uitvoering', 'vermelden',\n",
       "       'verspreiding', 'verstrekking', 'vervangen', 'videocommunicatie',\n",
       "       'vlaams', 'vlaamse', 'volgen', 'voorkomen', 'voorwaarde',\n",
       "       'voorzien', 'wijzigen', 'wijziging', 'woord', 'zoals', 'zorg',\n",
       "       'één'], dtype=object)"
      ]
     },
     "execution_count": 31,
     "metadata": {},
     "output_type": "execute_result"
    }
   ],
   "source": [
    "cleaned_joined = [\" \".join(words) for words in cleaned]\n",
    "vectorised = vect.fit_transform(cleaned_joined)\n",
    "vect.get_feature_names_out()"
   ]
  },
  {
   "cell_type": "code",
   "execution_count": 32,
   "metadata": {},
   "outputs": [
    {
     "name": "stdout",
     "output_type": "stream",
     "text": [
      "artikel videocommunicatie\n"
     ]
    }
   ],
   "source": [
    "idf=vect.idf_\n",
    "dd=dict(zip(vect.get_feature_names_out(), idf))\n",
    "l=sorted(dd, key=(dd).get)\n",
    "# print(l)\n",
    "print(l[0],l[-1])"
   ]
  },
  {
   "cell_type": "code",
   "execution_count": 35,
   "metadata": {},
   "outputs": [],
   "source": [
    "from sklearn.decomposition import LatentDirichletAllocation\n",
    "lda_model=LatentDirichletAllocation(n_components=20,learning_method='online',random_state=42,max_iter=1) \n",
    "\n",
    "lda_top=lda_model.fit_transform(vectorised)"
   ]
  },
  {
   "cell_type": "code",
   "execution_count": 36,
   "metadata": {},
   "outputs": [
    {
     "name": "stdout",
     "output_type": "stream",
     "text": [
      "Topic 0: \n",
      "persoon vlaams artikel decreet 19 vlaamse twee 2021 woord covid \n",
      "\n",
      "Topic 1: \n",
      "decreet gelet maart maatregel voorkomen besluit 19 brussels overwegende artikel \n",
      "\n",
      "Topic 2: \n",
      "bijzonder gemeenschap 2020 juni kader decreet maart vlaams raad minister \n",
      "\n",
      "Topic 3: \n",
      "gemeenschap koninklijk artikel besluit 2020 maatregel houden uitvoering betreffen minister \n",
      "\n",
      "Topic 4: \n",
      "onderneming besluit covid 2020 tijdelijk één artikel bedrag regering decreet \n",
      "\n",
      "Topic 5: \n",
      "art vlaams besluit algemeen 2020 decreet datum volgen oktober vermelden \n",
      "\n",
      "Topic 6: \n",
      "artikel hoofdstedelijk brussels juni 2020 bedoelen 2021 maart art indien \n",
      "\n",
      "Topic 7: \n",
      "artikel 2019 lijst april houden wijziging betrekking voorwaarde openbaar 2020 \n",
      "\n",
      "Topic 8: \n",
      "artikel subsidie moeten regering gemeenschap vermelden 2021 koninklijk minister mogelijk \n",
      "\n",
      "Topic 9: \n",
      "jaar subsidie 2020 dienst bevoegd koninklijk bepalen voorzien maart videocommunicatie \n",
      "\n",
      "Topic 10: \n",
      "2021 geval art wijzigen 2019 19 zoals artikel moeten twee \n",
      "\n",
      "Topic 11: \n",
      "artikel bedoelen 2020 besluit covid voorzien toepassing 19 oktober woord \n",
      "\n",
      "Topic 12: \n",
      "19 mogelijk bijzonder september drie brussels juni coronavirus geven overwegende \n",
      "\n",
      "Topic 13: \n",
      "één gelet uitvoering gemeenschap besluit bedrag instelling juni kader sociaal \n",
      "\n",
      "Topic 14: \n",
      "besluit instelling 2021 artikel decreet aantal ministerieel vermelden één gevolg \n",
      "\n",
      "Topic 15: \n",
      "hoofdstedelijk brussels 2021 besluit minister gelet volgen decreet 2020 regering \n",
      "\n",
      "Topic 16: \n",
      "2020 financiën zoals artikel juli besluit 19 2021 moeten minister \n",
      "\n",
      "Topic 17: \n",
      "2021 koninklijk lijst zorg zoals openbaar artikel brussels januari nemen \n",
      "\n",
      "Topic 18: \n",
      "2021 bevoegd overeenkomstig pandemie jaar indien ander hetzelfde april mogelijk \n",
      "\n",
      "Topic 19: \n",
      "gelet één belgisch bevoegd 19 aantal juni kader besluit jaar \n",
      "\n"
     ]
    }
   ],
   "source": [
    "# most important words for each topic\n",
    "vocab = vect.get_feature_names()\n",
    "\n",
    "for i, comp in enumerate(lda_model.components_):\n",
    "    vocab_comp = zip(vocab, comp)\n",
    "    sorted_words = sorted(vocab_comp, key= lambda x:x[1], reverse=True)[:10]\n",
    "    print(\"Topic \"+str(i)+\": \")\n",
    "    for t in sorted_words:\n",
    "        print(t[0],end=\" \")\n",
    "    print(\"\\n\")"
   ]
  }
 ],
 "metadata": {
  "kernelspec": {
   "display_name": "Python 3",
   "language": "python",
   "name": "python3"
  },
  "language_info": {
   "codemirror_mode": {
    "name": "ipython",
    "version": 3
   },
   "file_extension": ".py",
   "mimetype": "text/x-python",
   "name": "python",
   "nbconvert_exporter": "python",
   "pygments_lexer": "ipython3",
   "version": "3.8.10"
  }
 },
 "nbformat": 4,
 "nbformat_minor": 4
}
