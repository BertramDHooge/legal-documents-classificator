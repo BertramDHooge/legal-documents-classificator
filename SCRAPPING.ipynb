{
 "cells": [
  {
   "cell_type": "code",
   "execution_count": 1,
   "metadata": {},
   "outputs": [],
   "source": [
    "import requests\n",
    "from bs4 import BeautifulSoup"
   ]
  },
  {
   "cell_type": "markdown",
   "metadata": {},
   "source": [
    "## Web Scrapping for URL"
   ]
  },
  {
   "cell_type": "code",
   "execution_count": 2,
   "metadata": {},
   "outputs": [],
   "source": [
    "url='https://www.ejustice.just.fgov.be/cgi/article_body.pl?language=nl&pub_date=2020-06-03&caller=list&numac=2020041538'     ### extract  url from site"
   ]
  },
  {
   "cell_type": "code",
   "execution_count": 3,
   "metadata": {},
   "outputs": [
    {
     "data": {
      "text/plain": [
       "<Response [200]>"
      ]
     },
     "execution_count": 3,
     "metadata": {},
     "output_type": "execute_result"
    }
   ],
   "source": [
    "res=requests.get(url)             #request to access\n",
    "res"
   ]
  },
  {
   "cell_type": "code",
   "execution_count": 4,
   "metadata": {},
   "outputs": [
    {
     "data": {
      "text/plain": [
       "requests.models.Response"
      ]
     },
     "execution_count": 4,
     "metadata": {},
     "output_type": "execute_result"
    }
   ],
   "source": [
    "type(res)"
   ]
  },
  {
   "cell_type": "code",
   "execution_count": 5,
   "metadata": {},
   "outputs": [
    {
     "data": {
      "text/plain": [
       "'<HTML VERSION=\".//IETF//DTD HTML 3.0//EN\">\\n<HEAD><TITLE>Moniteur Belge - Belgisch Staatsblad</TITLE>\\n<script language=\"javascript\">\\n<!--  hide jvscr code for old browsers \\n function NxtHit () { \\n      window.status=\"volgende woord\"; \\n      setTimeout (\"window.status=\\' \\'\",6000);} \\n function PrvHit () { \\n      window.status=\"Vorige woord\"; \\n      setTimeout (\"window.status=\\' \\'\",6000);} \\n function FirstHit () { \\n      window.status=\"Eerste gevonden woord\"; \\n      setTimeout (\"window.status=\\' \\'\",6000);} \\n function LastHit () { \\n      window.status=\"Laatste gevonden woord\"; \\n      setTimeout (\"window.status=\\' \\'\",6000);} \\n// end hiding jvsrc code  --></script>\\n<link href=\"/doc/mon.css\" rel=\"stylesheet\" type=\"text/css\">\\n<meta name=\"ROBOTS\" content=\"NOINDEX,NOFOLLOW\">\\n</HEAD>\\n<BODY background=/img_mbs/back.jpg alink=#ff00ff vlink=#ff0000>\\n<table bgcolor=#EAEAEA border=\"0\" cellpadding=\"0\" cellspacing=\"0\" class=\"fedmenu\"><tr><td><img alt=\"\" height=\"29\" src=\"/img_mbs/opt.gif\" width=\"1\">\\n</td>\\n<td><img alt=\"\" height=\"20\" src=\"/img_mbs/opt.gif\" width=\"10\" /></td><td class=\"fedmenu\"><span class=\"activelang2\"><img alt=\"\" height=\"8\" src=\"/img_mbs/opt.gif\" width=\"2\">NL<img alt=\"\" height=\"8\" src=\"/img_mbs/opt.gif\" width=\"2\"></span>\\n<img alt=\"\" height=\"9\" src=\"/img_mbs/itemsplitter.gif\" width=\"3\">\\n<a href=\"article_body.pl?language=fr&pub_date=2020-06-03&caller=list&numac=2020041538\" title=\"Version fran&ccedil;aise\">FR</a>\\n<img alt=\"\" height=\"9\" src=\"/img_mbs/itemsplitter.gif\" width=\"3\">\\n<a href=\"\" ></a>\\n</td>\\n</table>   <FORM name=set_urlpdf>\\n   <INPUT type=hidden name=urlpdf value=\"/mopdf/2020/06/03_2_2.pdf#Page968 \">\\n   </FORM>\\n<font color=black><b>belgiëlex.be &nbsp;&nbsp;-&nbsp;&nbsp;Kruispuntbank Wetgeving</b></font><table border=1 cellspacing=5><tr><td bgcolor=white> <a href=\"http://reflex.raadvst-consetat.be/reflex/?page=chrono&c=detail_get&d=detail&docid=144261&tab=chrono\" target=_blank > Raad van State</a> </table><A name=\"top\"> </A> \\n<A name=\"hit0\"> </A><BR> \\n<TABLE border=0 width=100%><TR align=center>\\n<TD width=20% align=center>    <A HREF=\"#end\" TARGET=\"_self\">einde</A></TD>\\n<TD width=1%></TD>\\n<TD width=20% align=center>\\n   <A HREF=\"#hit1\" TARGET=\"_self\"  onmouseover=\"FirstHit();return true;\">eerste woord</A></TD> \\n<TD width=20% align=center>\\n   <A HREF=\"#end\" TARGET=\"_self\"  onmouseover=\"LastHit();return true;\">laatste woord</A></TD> \\n<TD width=1%></TD>\\n<TD width=38% align=center> \\n<h3><font color=Red>Publicatie : 2020-06-03<br>Numac : 2020041538</font></h3></td></tr></table><center><table><tr><TD width=100% align=center>\\n<font>FEDERALE OVERHEIDSDIENST BELEID EN ONDERSTEUNING </font></TD></TR></TABLE></center>\\n<H3><CENTER><U> 27 MEI 2020. - Omzendbrief nr. 682 - Richtlijnen in het kader van de bijzondere maatregelen voor de personeelsleden van het federaal openbaar ambt met een startbaanovereenkomst in het kader van de gezondheidscrisis ten gevolge van het coronavirus COVID-19 </U></CENTER></H3><BR> \\n\\n\\n<BR>Aan de federale overheidsdiensten en de diensten die \\nervan afhangen, het Ministerie van Defensie en de instellingen van openbaar nut die behoren tot het federaal \\nadministratief openbaar ambt zoals bepaald in artikel 1 van de wet van 22 juli 1993 houdende bepaalde \\nmaatregelen inzake ambtenarenzaken. <BR>Geachte collega\\'s,<BR>Geachte mevrouw,<BR>Geachte \\nheer,<BR>Overwegende dat de vergelijkende wervingsselecties werden opgeschort tijdens de periode \\nvan 18 maart 2020 tot 24 mei 2020 ten gevolge van de gezondheidscrisis. <BR>Overwegende dat het \\nniet organiseren van deze selecties met name als gevolg heeft dat een personeelslid met een startbaanovereenkomst \\n(&quot;Rosettacontract&quot;) van wie de overeenkomst verloopt wegens zijn leeftijd niet kan worden toegelaten \\ntot de stage of geen arbeidsovereenkomst kan krijgen in toepassing van het koninklijk besluit van 25 \\napril 2005 tot vaststelling van de voorwaarden voor de indienstneming bij arbeidsovereenkomst in sommige \\noverheidsdiensten als hij slaagt voor de vergelijkende selectie. <BR>Overwegende dat daaruit volgt \\ndat de arbeidsrelatie met het personeelslid met een Rosettacontract in dit geval automatisch zou moeten \\neindigen.<BR>Overwegende echter dat de continuïteit van de dienstverlening moet worden verzekerd. \\n<BR>In deze context regelt deze omzendbrief de problematiek in de hierna aangeduide zin.<BR>De \\njonge werknemers met een startbaanovereenkomst die de leeftijd van 26 jaar hebben bereikt in het eerste \\nkwartaal van 2020 of deze leeftijd van 26 jaar zullen bereiken in de loop van het tweede kwartaal van \\n2020 kunnen een arbeidsovereenkomst van bepaalde duur van maximum 3 maanden krijgen die 1 keer kan worden \\nhernieuwd, zelfs als ze niet voldoen aan de voorwaarde bedoeld in artikel 2, 4°  van het voormelde koninklijk \\nbesluit van 25 april 2005, voor zover :<BR>-de overeenkomst afgesloten wordt in dezelfde functie \\nals deze uitgeoefend in het kader van het vorige Rosettacontract en onder dezelfde voorwaarden; <BR>- \\nhet afsluiten van de overeenkomst aan een uitzonderlijke en tijdelijke personeelsbehoefte of aan een \\nbijkomende/specifieke taak tegemoetkomt. <BR>Een arbeidsovereenkomst voor bepaalde duur kan op \\nbasis van deze omzendbrief in geen enkel geval aanleiding geven tot een arbeidsovereenkomst voor onbepaalde \\nduur.<BR>Deze omzendbrief is van toepassing onverminderd de bepalingen met betrekking tot de administratieve \\nen begrotingscontrole.<BR>De Minister van Ambtenarenzaken,<BR>D. CLARINVAL<BR><A name=\"end\"> </A><BR><A name=\"hit1\"> </A><BR><TABLE border=0 width=100%><TR align=center>\\n<TD width=20% align=center>   <A HREF=\"#top\" TARGET=\"_self\">begin</A></TD>\\n<TD width=1%></TD>\\n<TD width=20% align=center>   <A HREF=\"#hit1\" TARGET=\"_self\"  onmouseover=\"FirstHit();return true;\">eerste woord</A></TD> \\n<TD width=20% align=center>   <A HREF=\"#hit0\" TARGET=\"_self\"  onmouseover=\"LastHit();return true;\">laatste woord</A></TD> \\n<TD width=1%></TD>\\n<TD width=38% align=center> \\n<h3><font color=Red>Publicatie : 2020-06-03<br>Numac : 2020041538</font></h3></td></tr></TD> \\n</TR></TABLE><BR>\\n</BODY></HTML>\\n'"
      ]
     },
     "execution_count": 5,
     "metadata": {},
     "output_type": "execute_result"
    }
   ],
   "source": [
    "data=res.text            # text\n",
    "data"
   ]
  },
  {
   "cell_type": "code",
   "execution_count": 6,
   "metadata": {},
   "outputs": [],
   "source": [
    "soup= BeautifulSoup(res.content, \"lxml\")   #xmlx            "
   ]
  },
  {
   "cell_type": "code",
   "execution_count": 7,
   "metadata": {},
   "outputs": [
    {
     "data": {
      "text/plain": [
       "<html version=\".//IETF//DTD HTML 3.0//EN\">\n",
       "<head><title>Moniteur Belge - Belgisch Staatsblad</title>\n",
       "<script language=\"javascript\">\n",
       "<!--  hide jvscr code for old browsers \n",
       " function NxtHit () { \n",
       "      window.status=\"volgende woord\"; \n",
       "      setTimeout (\"window.status=' '\",6000);} \n",
       " function PrvHit () { \n",
       "      window.status=\"Vorige woord\"; \n",
       "      setTimeout (\"window.status=' '\",6000);} \n",
       " function FirstHit () { \n",
       "      window.status=\"Eerste gevonden woord\"; \n",
       "      setTimeout (\"window.status=' '\",6000);} \n",
       " function LastHit () { \n",
       "      window.status=\"Laatste gevonden woord\"; \n",
       "      setTimeout (\"window.status=' '\",6000);} \n",
       "// end hiding jvsrc code  --></script>\n",
       "<link href=\"/doc/mon.css\" rel=\"stylesheet\" type=\"text/css\"/>\n",
       "<meta content=\"NOINDEX,NOFOLLOW\" name=\"ROBOTS\"/>\n",
       "</head>\n",
       "<body alink=\"#ff00ff\" background=\"/img_mbs/back.jpg\" vlink=\"#ff0000\">\n",
       "<table bgcolor=\"#EAEAEA\" border=\"0\" cellpadding=\"0\" cellspacing=\"0\" class=\"fedmenu\"><tr><td><img alt=\"\" height=\"29\" src=\"/img_mbs/opt.gif\" width=\"1\"/>\n",
       "</td>\n",
       "<td><img alt=\"\" height=\"20\" src=\"/img_mbs/opt.gif\" width=\"10\"/></td><td class=\"fedmenu\"><span class=\"activelang2\"><img alt=\"\" height=\"8\" src=\"/img_mbs/opt.gif\" width=\"2\"/>NL<img alt=\"\" height=\"8\" src=\"/img_mbs/opt.gif\" width=\"2\"/></span>\n",
       "<img alt=\"\" height=\"9\" src=\"/img_mbs/itemsplitter.gif\" width=\"3\"/>\n",
       "<a href=\"article_body.pl?language=fr&amp;pub_date=2020-06-03&amp;caller=list&amp;numac=2020041538\" title=\"Version française\">FR</a>\n",
       "<img alt=\"\" height=\"9\" src=\"/img_mbs/itemsplitter.gif\" width=\"3\"/>\n",
       "<a href=\"\"></a>\n",
       "</td>\n",
       "</tr></table> <form name=\"set_urlpdf\">\n",
       "<input name=\"urlpdf\" type=\"hidden\" value=\"/mopdf/2020/06/03_2_2.pdf#Page968 \"/>\n",
       "</form>\n",
       "<font color=\"black\"><b>belgiëlex.be   -  Kruispuntbank Wetgeving</b></font><table border=\"1\" cellspacing=\"5\"><tr><td bgcolor=\"white\"> <a href=\"http://reflex.raadvst-consetat.be/reflex/?page=chrono&amp;c=detail_get&amp;d=detail&amp;docid=144261&amp;tab=chrono\" target=\"_blank\"> Raad van State</a> </td></tr></table><a name=\"top\"> </a>\n",
       "<a name=\"hit0\"> </a><br/>\n",
       "<table border=\"0\" width=\"100%\"><tr align=\"center\">\n",
       "<td align=\"center\" width=\"20%\"> <a href=\"#end\" target=\"_self\">einde</a></td>\n",
       "<td width=\"1%\"></td>\n",
       "<td align=\"center\" width=\"20%\">\n",
       "<a href=\"#hit1\" onmouseover=\"FirstHit();return true;\" target=\"_self\">eerste woord</a></td>\n",
       "<td align=\"center\" width=\"20%\">\n",
       "<a href=\"#end\" onmouseover=\"LastHit();return true;\" target=\"_self\">laatste woord</a></td>\n",
       "<td width=\"1%\"></td>\n",
       "<td align=\"center\" width=\"38%\">\n",
       "<h3><font color=\"Red\">Publicatie : 2020-06-03<br/>Numac : 2020041538</font></h3></td></tr></table><center><table><tr><td align=\"center\" width=\"100%\">\n",
       "<font>FEDERALE OVERHEIDSDIENST BELEID EN ONDERSTEUNING </font></td></tr></table></center>\n",
       "<h3><center><u> 27 MEI 2020. - Omzendbrief nr. 682 - Richtlijnen in het kader van de bijzondere maatregelen voor de personeelsleden van het federaal openbaar ambt met een startbaanovereenkomst in het kader van de gezondheidscrisis ten gevolge van het coronavirus COVID-19 </u></center></h3><br/>\n",
       "<br/>Aan de federale overheidsdiensten en de diensten die \n",
       "ervan afhangen, het Ministerie van Defensie en de instellingen van openbaar nut die behoren tot het federaal \n",
       "administratief openbaar ambt zoals bepaald in artikel 1 van de wet van 22 juli 1993 houdende bepaalde \n",
       "maatregelen inzake ambtenarenzaken. <br/>Geachte collega's,<br/>Geachte mevrouw,<br/>Geachte \n",
       "heer,<br/>Overwegende dat de vergelijkende wervingsselecties werden opgeschort tijdens de periode \n",
       "van 18 maart 2020 tot 24 mei 2020 ten gevolge van de gezondheidscrisis. <br/>Overwegende dat het \n",
       "niet organiseren van deze selecties met name als gevolg heeft dat een personeelslid met een startbaanovereenkomst \n",
       "(\"Rosettacontract\") van wie de overeenkomst verloopt wegens zijn leeftijd niet kan worden toegelaten \n",
       "tot de stage of geen arbeidsovereenkomst kan krijgen in toepassing van het koninklijk besluit van 25 \n",
       "april 2005 tot vaststelling van de voorwaarden voor de indienstneming bij arbeidsovereenkomst in sommige \n",
       "overheidsdiensten als hij slaagt voor de vergelijkende selectie. <br/>Overwegende dat daaruit volgt \n",
       "dat de arbeidsrelatie met het personeelslid met een Rosettacontract in dit geval automatisch zou moeten \n",
       "eindigen.<br/>Overwegende echter dat de continuïteit van de dienstverlening moet worden verzekerd. \n",
       "<br/>In deze context regelt deze omzendbrief de problematiek in de hierna aangeduide zin.<br/>De \n",
       "jonge werknemers met een startbaanovereenkomst die de leeftijd van 26 jaar hebben bereikt in het eerste \n",
       "kwartaal van 2020 of deze leeftijd van 26 jaar zullen bereiken in de loop van het tweede kwartaal van \n",
       "2020 kunnen een arbeidsovereenkomst van bepaalde duur van maximum 3 maanden krijgen die 1 keer kan worden \n",
       "hernieuwd, zelfs als ze niet voldoen aan de voorwaarde bedoeld in artikel 2, 4°  van het voormelde koninklijk \n",
       "besluit van 25 april 2005, voor zover :<br/>-de overeenkomst afgesloten wordt in dezelfde functie \n",
       "als deze uitgeoefend in het kader van het vorige Rosettacontract en onder dezelfde voorwaarden; <br/>- \n",
       "het afsluiten van de overeenkomst aan een uitzonderlijke en tijdelijke personeelsbehoefte of aan een \n",
       "bijkomende/specifieke taak tegemoetkomt. <br/>Een arbeidsovereenkomst voor bepaalde duur kan op \n",
       "basis van deze omzendbrief in geen enkel geval aanleiding geven tot een arbeidsovereenkomst voor onbepaalde \n",
       "duur.<br/>Deze omzendbrief is van toepassing onverminderd de bepalingen met betrekking tot de administratieve \n",
       "en begrotingscontrole.<br/>De Minister van Ambtenarenzaken,<br/>D. CLARINVAL<br/><a name=\"end\"> </a><br/><a name=\"hit1\"> </a><br/><table border=\"0\" width=\"100%\"><tr align=\"center\">\n",
       "<td align=\"center\" width=\"20%\"> <a href=\"#top\" target=\"_self\">begin</a></td>\n",
       "<td width=\"1%\"></td>\n",
       "<td align=\"center\" width=\"20%\"> <a href=\"#hit1\" onmouseover=\"FirstHit();return true;\" target=\"_self\">eerste woord</a></td>\n",
       "<td align=\"center\" width=\"20%\"> <a href=\"#hit0\" onmouseover=\"LastHit();return true;\" target=\"_self\">laatste woord</a></td>\n",
       "<td width=\"1%\"></td>\n",
       "<td align=\"center\" width=\"38%\">\n",
       "<h3><font color=\"Red\">Publicatie : 2020-06-03<br/>Numac : 2020041538</font></h3></td></tr>\n",
       "</table><br/>\n",
       "</body></html>"
      ]
     },
     "execution_count": 7,
     "metadata": {},
     "output_type": "execute_result"
    }
   ],
   "source": [
    "soup"
   ]
  },
  {
   "cell_type": "code",
   "execution_count": 8,
   "metadata": {},
   "outputs": [],
   "source": [
    "tags=soup.body\n"
   ]
  },
  {
   "cell_type": "code",
   "execution_count": 9,
   "metadata": {},
   "outputs": [
    {
     "name": "stdout",
     "output_type": "stream",
     "text": [
      "['NL', 'FR', 'belgiëlex.be \\xa0\\xa0-\\xa0\\xa0Kruispuntbank Wetgeving', 'Raad van State', 'einde', 'eerste woord', 'laatste woord', 'Publicatie : 2020-06-03', 'Numac : 2020041538', 'FEDERALE OVERHEIDSDIENST BELEID EN ONDERSTEUNING', '27 MEI 2020. - Omzendbrief nr. 682 - Richtlijnen in het kader van de bijzondere maatregelen voor de personeelsleden van het federaal openbaar ambt met een startbaanovereenkomst in het kader van de gezondheidscrisis ten gevolge van het coronavirus COVID-19', 'Aan de federale overheidsdiensten en de diensten die \\nervan afhangen, het Ministerie van Defensie en de instellingen van openbaar nut die behoren tot het federaal \\nadministratief openbaar ambt zoals bepaald in artikel 1 van de wet van 22 juli 1993 houdende bepaalde \\nmaatregelen inzake ambtenarenzaken.', \"Geachte collega's,\", 'Geachte mevrouw,', 'Geachte \\nheer,', 'Overwegende dat de vergelijkende wervingsselecties werden opgeschort tijdens de periode \\nvan 18 maart 2020 tot 24 mei 2020 ten gevolge van de gezondheidscrisis.', 'Overwegende dat het \\nniet organiseren van deze selecties met name als gevolg heeft dat een personeelslid met een startbaanovereenkomst \\n(\"Rosettacontract\") van wie de overeenkomst verloopt wegens zijn leeftijd niet kan worden toegelaten \\ntot de stage of geen arbeidsovereenkomst kan krijgen in toepassing van het koninklijk besluit van 25 \\napril 2005 tot vaststelling van de voorwaarden voor de indienstneming bij arbeidsovereenkomst in sommige \\noverheidsdiensten als hij slaagt voor de vergelijkende selectie.', 'Overwegende dat daaruit volgt \\ndat de arbeidsrelatie met het personeelslid met een Rosettacontract in dit geval automatisch zou moeten \\neindigen.', 'Overwegende echter dat de continuïteit van de dienstverlening moet worden verzekerd.', 'In deze context regelt deze omzendbrief de problematiek in de hierna aangeduide zin.', 'De \\njonge werknemers met een startbaanovereenkomst die de leeftijd van 26 jaar hebben bereikt in het eerste \\nkwartaal van 2020 of deze leeftijd van 26 jaar zullen bereiken in de loop van het tweede kwartaal van \\n2020 kunnen een arbeidsovereenkomst van bepaalde duur van maximum 3 maanden krijgen die 1 keer kan worden \\nhernieuwd, zelfs als ze niet voldoen aan de voorwaarde bedoeld in artikel 2, 4°  van het voormelde koninklijk \\nbesluit van 25 april 2005, voor zover :', '-de overeenkomst afgesloten wordt in dezelfde functie \\nals deze uitgeoefend in het kader van het vorige Rosettacontract en onder dezelfde voorwaarden;', '- \\nhet afsluiten van de overeenkomst aan een uitzonderlijke en tijdelijke personeelsbehoefte of aan een \\nbijkomende/specifieke taak tegemoetkomt.', 'Een arbeidsovereenkomst voor bepaalde duur kan op \\nbasis van deze omzendbrief in geen enkel geval aanleiding geven tot een arbeidsovereenkomst voor onbepaalde \\nduur.', 'Deze omzendbrief is van toepassing onverminderd de bepalingen met betrekking tot de administratieve \\nen begrotingscontrole.', 'De Minister van Ambtenarenzaken,', 'D. CLARINVAL', 'begin', 'eerste woord', 'laatste woord', 'Publicatie : 2020-06-03', 'Numac : 2020041538']\n"
     ]
    }
   ],
   "source": [
    "text = []\n",
    "\n",
    "for tag in tags.stripped_strings:\n",
    "    text.append(tag)\n",
    "print(text)           "
   ]
  },
  {
   "cell_type": "code",
   "execution_count": null,
   "metadata": {},
   "outputs": [],
   "source": []
  }
 ],
 "metadata": {
  "interpreter": {
   "hash": "4abe8f0d43810da8e0599c92fa77ff1bc3ba49df42db1369ea5b9c66bb667179"
  },
  "kernelspec": {
   "display_name": "Python 3.9.1 64-bit",
   "language": "python",
   "name": "python3"
  },
  "language_info": {
   "codemirror_mode": {
    "name": "ipython",
    "version": 3
   },
   "file_extension": ".py",
   "mimetype": "text/x-python",
   "name": "python",
   "nbconvert_exporter": "python",
   "pygments_lexer": "ipython3",
   "version": "3.9.1"
  }
 },
 "nbformat": 4,
 "nbformat_minor": 2
}
