{
 "cells": [
  {
   "cell_type": "code",
   "execution_count": null,
   "metadata": {},
   "outputs": [],
   "source": [
    "import os\n",
    "import pandas as pd\n",
    "\n",
    "df = pd.read_csv('data/translated.csv')\n",
    "\n",
    "directory = \"translations/\"\n",
    "\n",
    "for index, row in df.iterrows():\n",
    "    translation = row['Translation']\n",
    "    name = row['File']\n",
    "\n",
    "    with open(directory + name, 'w') as f:\n",
    "        f.write(translation)\n",
    "        print(name)"
   ]
  }
 ],
 "metadata": {
  "language_info": {
   "name": "python"
  },
  "orig_nbformat": 4
 },
 "nbformat": 4,
 "nbformat_minor": 2
}
