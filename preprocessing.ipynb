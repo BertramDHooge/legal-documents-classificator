{
 "cells": [
  {
   "cell_type": "code",
   "execution_count": 2,
   "metadata": {},
   "outputs": [],
   "source": [
    "text = (\"De Minister van de Brusselse Hoofdstedelijke Regering, belast met Financiën en Begroting, Gelet op het Wetboek der Successierechten, artikel 60bis/2, § 1, ingevoegd door de ordonnantie van 12 december 2016 houdende het tweede deel van de fiscale hervorming; Gelet op het besluit van de Brusselse Hoofdstedelijke Regering van 19 januari 2017 tot vaststelling van de modaliteiten van het gunstregime toepasselijk op de successierechten bij overdracht van familiale ondernemingen en familiale vennootschappen, artikel 8; Gelet op de gelijkekansentest uitgevoerd in toepassing van artikel 2 van de ordonnantie van 4 oktober 2018 tot invoering van de gelijkekansentest; Overwegende dat artikel 8 van bovengenoemd besluit stelt dat de Minister van de Brusselse Hoofdstedelijke Regering, belast met Financiën en Begroting, bevoegd is om het formulier dat bedoeld is om na te gaan of de voorwaarden voor het behoud van de het fiscale gunstregime, dat werd bekomen in het kader van de overdracht van een familiale onderneming of een familiale vennootschap, vervuld zijn gebleven tot het einde van de driejarige periode die aanving bij het overlijden van de decujus, zoals bedoeld in artikel 60bis/2, § 1, van het Wetboek der Successierechten; Overwegende dat dit ministerieel besluit geen reglementaire voorschriften bevat in de zin van artikel 3, § 1, eerste lid, van de gecoördineerde wetten van de Raad van State van 12 januari 1973, is het niet onderworpen aan het advies van de Raad van State, afdeling Wetgeving, Besluit : Artikel 1. Het formulier dat bedoeld is om na te gaan of de voorwaarden voor het behoud van de het fiscale gunstregime, dat werd bekomen in het kader van de overdracht van een familiale onderneming, vervuld zijn gebleven tot het einde van de driejarige periode die aanving bij het overlijden van de decujus, zoals bedoeld in artikel 60bis/2, § 1 van het Wetboek der Successierechten, is hernomen in bijlage 1 van dit besluit. Art. 2. Het formulier dat bedoeld is om na te gaan of de voorwaarden voor het behoud van het fiscale gunstregime, dat werd bekomen in het kader van het overdracht van een familiale vennootschap, vervuld zijn gebleven tot het einde van de driejarige periode die aanving bij het overlijden van de decujus, zoals bedoeld in artikel 60bis/2, § 1 van het Wetboek der Successierechten, is hernomen in bijlage 2 bij dit besluit. Art. 3. Dit besluit heeft uitwerking met ingang van 1 januari 2020. Brussel, 8 januari 2020. De Minister van de Brusselse Hoofdstedelijke Regering, belast met Financiën, Begroting, Openbaar ambt en de Promotie van Meertaligheid, S. GATZ\")"
   ]
  },
  {
   "cell_type": "code",
   "execution_count": 3,
   "metadata": {},
   "outputs": [],
   "source": [
    "import spacy\n",
    "# Load English tokenizer, tagger, parser and NER\n",
    "nlp = spacy.load(\"nl_core_news_sm\")\n",
    "\n",
    "# Process whole documents\n",
    "doc = nlp(text)"
   ]
  },
  {
   "cell_type": "code",
   "execution_count": 4,
   "metadata": {},
   "outputs": [
    {
     "data": {
      "text/plain": [
       "(96,)"
      ]
     },
     "execution_count": 4,
     "metadata": {},
     "output_type": "execute_result"
    }
   ],
   "source": [
    "doc.vector.shape"
   ]
  },
  {
   "cell_type": "code",
   "execution_count": 5,
   "metadata": {},
   "outputs": [],
   "source": [
    "import numpy as np\n",
    "\n",
    "# Get all word vectors into a list\n",
    "vectors = []\n",
    "for i in doc:\n",
    "    vectors.append(i.vector)"
   ]
  },
  {
   "cell_type": "code",
   "execution_count": 6,
   "metadata": {},
   "outputs": [],
   "source": [
    "# Stacked embedding\n",
    "from flair.embeddings import FlairEmbeddings, WordEmbeddings\n",
    "from flair.embeddings import StackedEmbeddings\n",
    "# flair embeddings\n",
    "forward_flair_embedding= FlairEmbeddings('news-forward-fast')\n",
    "backward_flair_embedding= FlairEmbeddings('news-backward-fast')\n",
    "  \n",
    "# glove embedding\n",
    "GloVe_embedding = WordEmbeddings('glove')\n",
    "  \n",
    "# create a object which combines the two embeddings\n",
    "stacked_embeddings = StackedEmbeddings([forward_flair_embedding,\n",
    "                                        backward_flair_embedding,\n",
    "                                        GloVe_embedding,])"
   ]
  },
  {
   "cell_type": "code",
   "execution_count": 1,
   "metadata": {},
   "outputs": [
    {
     "ename": "NameError",
     "evalue": "name 'stacked_embeddings' is not defined",
     "output_type": "error",
     "traceback": [
      "\u001b[1;31m---------------------------------------------------------------------------\u001b[0m",
      "\u001b[1;31mNameError\u001b[0m                                 Traceback (most recent call last)",
      "\u001b[1;32m~\\AppData\\Local\\Temp/ipykernel_19696/1620218442.py\u001b[0m in \u001b[0;36m<module>\u001b[1;34m\u001b[0m\n\u001b[0;32m      1\u001b[0m \u001b[1;31m# embed the input sentence with the stacked embedding\u001b[0m\u001b[1;33m\u001b[0m\u001b[1;33m\u001b[0m\u001b[0m\n\u001b[1;32m----> 2\u001b[1;33m \u001b[0mstacked_embeddings\u001b[0m\u001b[1;33m.\u001b[0m\u001b[0membed\u001b[0m\u001b[1;33m(\u001b[0m\u001b[0mtext\u001b[0m\u001b[1;33m)\u001b[0m\u001b[1;33m\u001b[0m\u001b[1;33m\u001b[0m\u001b[0m\n\u001b[0m\u001b[0;32m      3\u001b[0m \u001b[1;33m\u001b[0m\u001b[0m\n\u001b[0;32m      4\u001b[0m \u001b[1;31m# print the embedded tokens\u001b[0m\u001b[1;33m\u001b[0m\u001b[1;33m\u001b[0m\u001b[0m\n\u001b[0;32m      5\u001b[0m \u001b[1;32mfor\u001b[0m \u001b[0mtoken\u001b[0m \u001b[1;32min\u001b[0m \u001b[0mtext\u001b[0m\u001b[1;33m:\u001b[0m\u001b[1;33m\u001b[0m\u001b[1;33m\u001b[0m\u001b[0m\n",
      "\u001b[1;31mNameError\u001b[0m: name 'stacked_embeddings' is not defined"
     ]
    }
   ],
   "source": [
    "# embed the input sentence with the stacked embedding\n",
    "stacked_embeddings.embed(text)\n",
    "  \n",
    "# print the embedded tokens\n",
    "for token in text:\n",
    "    print(token)\n",
    "    print(token.embedding.shape)"
   ]
  }
 ],
 "metadata": {
  "interpreter": {
   "hash": "573c5f8e4a9de4a29cc2c43f44bd7d1acbfa6c8b3e00d78238142f0788ca6380"
  },
  "kernelspec": {
   "display_name": "Python 3.9.7 ('base')",
   "language": "python",
   "name": "python3"
  },
  "language_info": {
   "codemirror_mode": {
    "name": "ipython",
    "version": 3
   },
   "file_extension": ".py",
   "mimetype": "text/x-python",
   "name": "python",
   "nbconvert_exporter": "python",
   "pygments_lexer": "ipython3",
   "version": "3.9.7"
  },
  "orig_nbformat": 4
 },
 "nbformat": 4,
 "nbformat_minor": 2
}
