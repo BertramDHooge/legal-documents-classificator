{
 "cells": [
  {
   "cell_type": "code",
   "execution_count": 2,
   "metadata": {},
   "outputs": [],
   "source": [
    "import os\n",
    "import pandas as pd\n",
    "import googletrans\n",
    "from googletrans import Translator\n",
    "translator = Translator()"
   ]
  },
  {
   "cell_type": "code",
   "execution_count": 7,
   "metadata": {},
   "outputs": [],
   "source": [
    "#short 2020015064.txt\n",
    "#long 2019041722.txt"
   ]
  },
  {
   "cell_type": "code",
   "execution_count": 9,
   "metadata": {},
   "outputs": [
    {
     "name": "stdout",
     "output_type": "stream",
     "text": [
      "27196\n"
     ]
    }
   ],
   "source": [
    "number_of_characters = 0\n",
    "remove_n = []\n",
    "\n",
    "with open(\"data/2019041722.txt\", 'r') as f:\n",
    "        lines = f.readlines()\n",
    "        for line in lines:\n",
    "                number_of_characters = number_of_characters + len(line)\n",
    "                remove_n.append(line.strip())\n",
    "\n",
    "joined_lines = ''.join(remove_n)\n",
    "# print(joined_lines)\n",
    "print(number_of_characters)"
   ]
  },
  {
   "cell_type": "code",
   "execution_count": 10,
   "metadata": {},
   "outputs": [],
   "source": [
    "# the text may be too long, so we will break it into chunks\n",
    "\n",
    "def get_chunks(s, maxlength):\n",
    "    start = 0\n",
    "    end = 0\n",
    "    while start + maxlength  < len(s) and end != -1:\n",
    "        end = s.rfind(\".\", start, start + maxlength + 1)\n",
    "        yield s[start:end]\n",
    "        start = end +1\n",
    "    yield s[start:]"
   ]
  },
  {
   "cell_type": "code",
   "execution_count": 11,
   "metadata": {},
   "outputs": [],
   "source": [
    "output = \"\"\n",
    "if number_of_characters > 5000:\n",
    "    for group in get_chunks(joined_lines, 5000):\n",
    "        # print(len(group))\n",
    "        group = translator.translate(group)\n",
    "        # print(type(group))\n",
    "        #Make list with line lengths:\n",
    "        # [(n, len(n)) for n in chunks]\n",
    "        output = output + group.text\n",
    "        \n",
    "else:\n",
    "    output = translator.translate(joined_lines)\n",
    "    output = output.text"
   ]
  },
  {
   "cell_type": "code",
   "execution_count": 13,
   "metadata": {},
   "outputs": [
    {
     "name": "stdout",
     "output_type": "stream",
     "text": [
      "24035\n"
     ]
    }
   ],
   "source": [
    "print(len(output))"
   ]
  }
 ],
 "metadata": {
  "interpreter": {
   "hash": "573c5f8e4a9de4a29cc2c43f44bd7d1acbfa6c8b3e00d78238142f0788ca6380"
  },
  "kernelspec": {
   "display_name": "Python 3.9.7 ('base')",
   "language": "python",
   "name": "python3"
  },
  "language_info": {
   "codemirror_mode": {
    "name": "ipython",
    "version": 3
   },
   "file_extension": ".py",
   "mimetype": "text/x-python",
   "name": "python",
   "nbconvert_exporter": "python",
   "pygments_lexer": "ipython3",
   "version": "3.9.7"
  },
  "orig_nbformat": 4
 },
 "nbformat": 4,
 "nbformat_minor": 2
}
