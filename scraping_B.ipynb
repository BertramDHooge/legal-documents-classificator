{
 "cells": [
  {
   "cell_type": "code",
   "execution_count": 69,
   "metadata": {},
   "outputs": [],
   "source": [
    "import requests\n",
    "import lxml.html\n",
    "import bs4\n",
    "from bs4 import BeautifulSoup\n",
    "\n",
    "import json\n",
    "import pandas as pd\n",
    "import re\n",
    "import os\n",
    "\n",
    "import random\n",
    "import time\n",
    "\n",
    "import logging\n",
    "import collections\n",
    "\n",
    "import selenium\n",
    "\n",
    "from selenium import webdriver\n",
    "from selenium.webdriver.support.ui import WebDriverWait\n",
    "from selenium.webdriver.support import expected_conditions as EC\n",
    "from selenium.common.exceptions import TimeoutException\n",
    "from selenium.webdriver.common.by import By"
   ]
  },
  {
   "cell_type": "code",
   "execution_count": 62,
   "metadata": {},
   "outputs": [
    {
     "data": {
      "text/plain": [
       "0    2020010053\n",
       "1    2020010044\n",
       "2    2020040052\n",
       "3    2020010214\n",
       "4    2020040138\n",
       "Name: Numac, dtype: object"
      ]
     },
     "execution_count": 62,
     "metadata": {},
     "output_type": "execute_result"
    }
   ],
   "source": [
    "files = pd.read_csv(\"data/KPMG Tax Case - Data Set.csv\")\n",
    "files.Numac.astype(\"int64\").astype(\"object\")"
   ]
  },
  {
   "cell_type": "code",
   "execution_count": 63,
   "metadata": {},
   "outputs": [],
   "source": [
    "files.dropna(inplace=True)\n",
    "\n",
    "files[\"Numac\"] = files.Numac.astype(\"int64\").astype(\"object\")"
   ]
  },
  {
   "cell_type": "code",
   "execution_count": 64,
   "metadata": {},
   "outputs": [],
   "source": [
    "links = []\n",
    "for link in files[\"Link NL\"]:\n",
    "    links.append(link.replace(\"article\", \"article_body\"))"
   ]
  },
  {
   "cell_type": "code",
   "execution_count": 65,
   "metadata": {},
   "outputs": [],
   "source": [
    "files[\"Link NL\"] = links"
   ]
  },
  {
   "cell_type": "code",
   "execution_count": null,
   "metadata": {},
   "outputs": [],
   "source": [
    "url = \"http://www.ejustice.just.fgov.be/cgi/article_body.pl?language=nl&pub_date=2020-01-14&caller=list&numac=2020010053\"\n",
    "  \n",
    "driver = webdriver.Firefox()\n",
    "driver.implicitly_wait(2)\n",
    "driver.get(url)\n",
    "\n",
    "soup = BeautifulSoup(driver.page_source)\n",
    "\n",
    "driver.close()\n",
    "text = soup.get_text()\n",
    "relevant_text = re.search(r\"laatste woord([\\s\\S]*)\\n begin\\n\", text).group(1).strip()\n",
    "\n",
    "print(relevant_text)"
   ]
  },
  {
   "cell_type": "code",
   "execution_count": 75,
   "metadata": {},
   "outputs": [
    {
     "name": "stdout",
     "output_type": "stream",
     "text": [
      "40002126\n",
      "http://www.ejustice.just.fgov.be/cgi/article_body.pl?language=nl&pub_date=2022-04-04&caller=list&numac=40002126\n"
     ]
    }
   ],
   "source": [
    "# http://www.ejustice.just.fgov.be/cgi/article.pl?language=nl&pub_date=2020-01-14&caller=list&numac=2020010053\n",
    "for idx, row in files.iterrows():\n",
    "    if f\"{row.Numac}.txt\" not in os.listdir(\"data\"):        \n",
    "        #driver = webdriver.Firefox()\n",
    "        #driver.implicitly_wait(2)\n",
    "        #driver.get(row[\"Link NL\"])\n",
    "        website = requests.get(row[\"Link NL\"])\n",
    "\n",
    "        soup = BeautifulSoup(website.content)\n",
    "\n",
    "        #driver.close()\n",
    "        text = soup.get_text()\n",
    "        relevant_text = re.search(r\"laatste woord([\\s\\S]*)\\n begin\\n\", text)\n",
    "        \n",
    "        if relevant_text != None:\n",
    "            file = open(f'data/{row.Numac}.txt', 'w')\n",
    "            file.write(relevant_text.group(1).strip())\n",
    "            file.close()\n",
    "        #text = re.search(r\"Numac:([\\s\\S]*)<a name=\\\"end\\\">\" ,soup.get_text())\n",
    "\n",
    "        #time.sleep(random.uniform(1.0, 2.0))"
   ]
  },
  {
   "cell_type": "code",
   "execution_count": 76,
   "metadata": {},
   "outputs": [
    {
     "name": "stdout",
     "output_type": "stream",
     "text": [
      "Moniteur Belge - Belgisch Staatsblad\n",
      "\n",
      "\n",
      "\n",
      "\n",
      "\n",
      "\n",
      "\n",
      "NL\n",
      "\n",
      "FR\n",
      "\n",
      "\n",
      "\n",
      " \n",
      "\n",
      "\n",
      "belgiëlex.be   -  Kruispuntbank Wetgeving  Raad van State ELI - Navigatie systeem via een Europese identificatiecode voor wetgevinghttp://www.ejustice.just.fgov.be/eli/besluit/2020/01/08/2020010053/staatsblad \n",
      " \n",
      "\n",
      " einde\n",
      "\n",
      "\n",
      "eerste woord\n",
      "\n",
      "laatste woord\n",
      "\n",
      "\n",
      "Publicatie : 2020-01-14Numac : 2020010053\n",
      "BRUSSELS HOOFDSTEDELIJK GEWEST\n",
      " 8 JANUARI 2020. - Ministerieel besluit tot vaststelling van de modellen van formulier bedoeld in artikel 8, § 1 van het besluit van de Brusselse Hoofdstedelijke Regering van 19 januari 2017 tot vaststelling van de modaliteiten van het gunstregime toepasselijk op de successierechten bij overdracht van familiale ondernemingen en familiale vennootschappen \n",
      "De Minister van de Brusselse Hoofdstedelijke Regering, \n",
      "belast met Financiën en Begroting,Gelet op het Wetboek der Successierechten, artikel 60bis/2, \n",
      "§ 1, ingevoegd door de ordonnantie van 12 december 2016 houdende het tweede deel van de fiscale \n",
      "hervorming;Gelet op het besluit van de Brusselse Hoofdstedelijke Regering van 19 januari 2017 \n",
      "tot vaststelling van de modaliteiten van het gunstregime toepasselijk op de successierechten bij overdracht \n",
      "van familiale ondernemingen en familiale vennootschappen, artikel 8;Gelet op de gelijkekansentest \n",
      "uitgevoerd in toepassing van artikel 2 van de ordonnantie van 4 oktober 2018 tot invoering van de gelijkekansentest;Overwegende \n",
      "dat artikel 8 van bovengenoemd besluit stelt dat de Minister van de Brusselse Hoofdstedelijke Regering, \n",
      "belast met Financiën en Begroting, bevoegd is om het formulier dat bedoeld is om na te gaan of de voorwaarden \n",
      "voor het behoud van de het fiscale gunstregime, dat werd bekomen in het kader van de overdracht van een \n",
      "familiale onderneming of een familiale vennootschap, vervuld zijn gebleven tot het einde van de driejarige \n",
      "periode die aanving bij het overlijden van de decujus, zoals bedoeld in artikel 60bis/2, § 1, \n",
      "van het Wetboek der Successierechten;Overwegende dat dit ministerieel besluit geen reglementaire \n",
      "voorschriften bevat in de zin van artikel 3, § 1, eerste lid, van de gecoördineerde wetten van \n",
      "de Raad van State van 12 januari 1973, is het niet onderworpen aan het advies van de Raad van State, \n",
      "afdeling Wetgeving,Besluit :Artikel 1. Het formulier dat bedoeld is om na te gaan \n",
      "of de voorwaarden voor het behoud van de het fiscale gunstregime, dat werd bekomen in het kader van de \n",
      "overdracht van een familiale onderneming, vervuld zijn gebleven tot het einde van de driejarige periode \n",
      "die aanving bij het overlijden van de decujus, zoals bedoeld in artikel 60bis/2, § 1 van het Wetboek \n",
      "der Successierechten, is hernomen in bijlage 1 van dit besluit.Art. 2. Het formulier dat bedoeld \n",
      "is om na te gaan of de voorwaarden voor het behoud van het fiscale gunstregime, dat werd bekomen in het \n",
      "kader van het overdracht van een familiale vennootschap, vervuld zijn gebleven tot het einde van de driejarige \n",
      "periode die aanving bij het overlijden van de decujus, zoals bedoeld in artikel 60bis/2, § 1 van \n",
      "het Wetboek der Successierechten, is hernomen in bijlage 2 bij dit besluit.Art. 3. Dit besluit \n",
      "heeft uitwerking met ingang van 1 januari 2020.Brussel, 8 januari 2020.De Minister \n",
      "van de Brusselse Hoofdstedelijke Regering, belast met Financiën, Begroting, Openbaar ambt en de Promotie \n",
      "van Meertaligheid,S. GATZ Voor de raadpleging van \n",
      "de tabel, zie beeld    \n",
      " begin\n",
      "\n",
      " eerste woord\n",
      " laatste woord\n",
      "\n",
      "\n",
      "Publicatie : 2020-01-14Numac : 2020010053\n",
      "\n",
      "\n"
     ]
    }
   ],
   "source": [
    "url = \"http://www.ejustice.just.fgov.be/cgi/article_body.pl?language=nl&pub_date=2020-01-14&caller=list&numac=2020010053\"\n",
    "  \n",
    "driver = webdriver.Firefox()\n",
    "driver.implicitly_wait(2)\n",
    "driver.get(url)\n",
    "\n",
    "soup = BeautifulSoup(driver.page_source)\n",
    "\n",
    "driver.close()\n",
    "text = soup.get_text()\n",
    "relevant_text = re.search(r\"laatste woord([\\s\\S]*)\\n begin\\n\", text).group(1).strip()\n",
    "\n",
    "print(text)"
   ]
  }
 ],
 "metadata": {
  "kernelspec": {
   "display_name": "Python 3",
   "language": "python",
   "name": "python3"
  },
  "language_info": {
   "codemirror_mode": {
    "name": "ipython",
    "version": 3
   },
   "file_extension": ".py",
   "mimetype": "text/x-python",
   "name": "python",
   "nbconvert_exporter": "python",
   "pygments_lexer": "ipython3",
   "version": "3.8.10"
  }
 },
 "nbformat": 4,
 "nbformat_minor": 4
}
