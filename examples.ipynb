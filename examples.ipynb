{
 "cells": [
  {
   "cell_type": "code",
   "execution_count": 1,
   "metadata": {},
   "outputs": [
    {
     "name": "stderr",
     "output_type": "stream",
     "text": [
      "[nltk_data] Downloading package stopwords to\n",
      "[nltk_data]     /home/bertram/nltk_data...\n",
      "[nltk_data]   Package stopwords is already up-to-date!\n",
      "[nltk_data] Downloading package punkt to /home/bertram/nltk_data...\n",
      "[nltk_data]   Package punkt is already up-to-date!\n",
      "[nltk_data] Downloading package wordnet to /home/bertram/nltk_data...\n",
      "[nltk_data]   Package wordnet is already up-to-date!\n",
      "[nltk_data] Downloading package omw-1.4 to /home/bertram/nltk_data...\n",
      "[nltk_data]   Package omw-1.4 is already up-to-date!\n",
      "[nltk_data] Downloading package words to /home/bertram/nltk_data...\n",
      "[nltk_data]   Package words is already up-to-date!\n"
     ]
    }
   ],
   "source": [
    "from model import juridIQ\n",
    "from preprocessing import lemmatization\n",
    "import scraping\n",
    "\n",
    "import os\n",
    "import re\n",
    "import numpy as np\n",
    "import pandas as pd"
   ]
  },
  {
   "cell_type": "code",
   "execution_count": 2,
   "metadata": {},
   "outputs": [
    {
     "data": {
      "text/html": [
       "<div>\n",
       "<style scoped>\n",
       "    .dataframe tbody tr th:only-of-type {\n",
       "        vertical-align: middle;\n",
       "    }\n",
       "\n",
       "    .dataframe tbody tr th {\n",
       "        vertical-align: top;\n",
       "    }\n",
       "\n",
       "    .dataframe thead th {\n",
       "        text-align: right;\n",
       "    }\n",
       "</style>\n",
       "<table border=\"1\" class=\"dataframe\">\n",
       "  <thead>\n",
       "    <tr style=\"text-align: right;\">\n",
       "      <th></th>\n",
       "      <th>Date</th>\n",
       "      <th>Title</th>\n",
       "      <th>Numac</th>\n",
       "      <th>Link FR</th>\n",
       "      <th>Link NL</th>\n",
       "    </tr>\n",
       "  </thead>\n",
       "  <tbody>\n",
       "    <tr>\n",
       "      <th>0</th>\n",
       "      <td>1/14/2020</td>\n",
       "      <td>REGION DE BRUXELLES-CAPITALE\\r\\nREGION DE BRUX...</td>\n",
       "      <td>2020010053</td>\n",
       "      <td>http://www.ejustice.just.fgov.be/cgi/article.p...</td>\n",
       "      <td>http://www.ejustice.just.fgov.be/cgi/article.p...</td>\n",
       "    </tr>\n",
       "    <tr>\n",
       "      <th>1</th>\n",
       "      <td>1/16/2020</td>\n",
       "      <td>SERVICE PUBLIC FEDERAL INTERIEUR\\r\\n10 DECEMBR...</td>\n",
       "      <td>2020010044</td>\n",
       "      <td>http://www.ejustice.just.fgov.be/cgi/article.p...</td>\n",
       "      <td>http://www.ejustice.just.fgov.be/cgi/article.p...</td>\n",
       "    </tr>\n",
       "    <tr>\n",
       "      <th>2</th>\n",
       "      <td>1/16/2020</td>\n",
       "      <td>SERVICE PUBLIC FEDERAL FINANCES\\r\\n7 DECEMBRE ...</td>\n",
       "      <td>2020040052</td>\n",
       "      <td>http://www.ejustice.just.fgov.be/cgi/article.p...</td>\n",
       "      <td>http://www.ejustice.just.fgov.be/cgi/article.p...</td>\n",
       "    </tr>\n",
       "    <tr>\n",
       "      <th>3</th>\n",
       "      <td>1/24/2020</td>\n",
       "      <td>MINISTERE DE LA COMMUNAUTE FRANCAISE\\r\\n20 DEC...</td>\n",
       "      <td>2020010214</td>\n",
       "      <td>http://www.ejustice.just.fgov.be/cgi/article.p...</td>\n",
       "      <td>http://www.ejustice.just.fgov.be/cgi/article.p...</td>\n",
       "    </tr>\n",
       "    <tr>\n",
       "      <th>4</th>\n",
       "      <td>1/28/2020</td>\n",
       "      <td>SERVICE PUBLIC FEDERAL FINANCES\\r\\n20 JANVIER ...</td>\n",
       "      <td>2020040138</td>\n",
       "      <td>http://www.ejustice.just.fgov.be/cgi/article.p...</td>\n",
       "      <td>http://www.ejustice.just.fgov.be/cgi/article.p...</td>\n",
       "    </tr>\n",
       "  </tbody>\n",
       "</table>\n",
       "</div>"
      ],
      "text/plain": [
       "        Date                                              Title       Numac  \\\n",
       "0  1/14/2020  REGION DE BRUXELLES-CAPITALE\\r\\nREGION DE BRUX...  2020010053   \n",
       "1  1/16/2020  SERVICE PUBLIC FEDERAL INTERIEUR\\r\\n10 DECEMBR...  2020010044   \n",
       "2  1/16/2020  SERVICE PUBLIC FEDERAL FINANCES\\r\\n7 DECEMBRE ...  2020040052   \n",
       "3  1/24/2020  MINISTERE DE LA COMMUNAUTE FRANCAISE\\r\\n20 DEC...  2020010214   \n",
       "4  1/28/2020  SERVICE PUBLIC FEDERAL FINANCES\\r\\n20 JANVIER ...  2020040138   \n",
       "\n",
       "                                             Link FR  \\\n",
       "0  http://www.ejustice.just.fgov.be/cgi/article.p...   \n",
       "1  http://www.ejustice.just.fgov.be/cgi/article.p...   \n",
       "2  http://www.ejustice.just.fgov.be/cgi/article.p...   \n",
       "3  http://www.ejustice.just.fgov.be/cgi/article.p...   \n",
       "4  http://www.ejustice.just.fgov.be/cgi/article.p...   \n",
       "\n",
       "                                             Link NL  \n",
       "0  http://www.ejustice.just.fgov.be/cgi/article.p...  \n",
       "1  http://www.ejustice.just.fgov.be/cgi/article.p...  \n",
       "2  http://www.ejustice.just.fgov.be/cgi/article.p...  \n",
       "3  http://www.ejustice.just.fgov.be/cgi/article.p...  \n",
       "4  http://www.ejustice.just.fgov.be/cgi/article.p...  "
      ]
     },
     "execution_count": 2,
     "metadata": {},
     "output_type": "execute_result"
    }
   ],
   "source": [
    "files = pd.read_csv(\"data/KPMG Tax Case - Data Set.csv\")\n",
    "\n",
    "files.dropna(inplace=True)\n",
    "files.drop_duplicates(inplace=True)\n",
    "\n",
    "files[\"Numac\"] = files.Numac.astype(\"int64\").astype(\"object\")\n",
    "\n",
    "files.head()"
   ]
  },
  {
   "cell_type": "code",
   "execution_count": 3,
   "metadata": {},
   "outputs": [
    {
     "data": {
      "text/plain": [
       "(770, 5)"
      ]
     },
     "execution_count": 3,
     "metadata": {},
     "output_type": "execute_result"
    }
   ],
   "source": [
    "files.shape"
   ]
  },
  {
   "cell_type": "code",
   "execution_count": 4,
   "metadata": {},
   "outputs": [
    {
     "data": {
      "text/plain": [
       "(769, 5)"
      ]
     },
     "execution_count": 4,
     "metadata": {},
     "output_type": "execute_result"
    }
   ],
   "source": [
    "saved_numacs = []\n",
    "\n",
    "for file in os.listdir(\"data\"):\n",
    "    if file.endswith(\".txt\"):\n",
    "        saved_numacs.append(file.split(\".\")[0])\n",
    "\n",
    "files = files[files[\"Numac\"].astype(\"string\").isin(saved_numacs)]\n",
    "files.shape"
   ]
  },
  {
   "cell_type": "code",
   "execution_count": 5,
   "metadata": {},
   "outputs": [
    {
     "data": {
      "text/plain": [
       "769"
      ]
     },
     "execution_count": 5,
     "metadata": {},
     "output_type": "execute_result"
    }
   ],
   "source": [
    "texts = []\n",
    "\n",
    "for numac in files.Numac:\n",
    "    with open(f\"Translation/translations_txt/{numac}.txt\") as article:\n",
    "        texts.append(article.read())\n",
    "        \n",
    "len(texts)"
   ]
  },
  {
   "cell_type": "code",
   "execution_count": 6,
   "metadata": {
    "scrolled": true
   },
   "outputs": [],
   "source": [
    "texts = lemmatization.lemmatizer(texts[20:], batchsize=5)"
   ]
  },
  {
   "cell_type": "code",
   "execution_count": 7,
   "metadata": {},
   "outputs": [
    {
     "data": {
      "application/vnd.jupyter.widget-view+json": {
       "model_id": "ba034b20bc7144ae8b1ea5d4562eb594",
       "version_major": 2,
       "version_minor": 0
      },
      "text/plain": [
       "Batches:   0%|          | 0/24 [00:00<?, ?it/s]"
      ]
     },
     "metadata": {},
     "output_type": "display_data"
    },
    {
     "name": "stderr",
     "output_type": "stream",
     "text": [
      "2022-06-16 11:33:15,172 - BERTopic - Transformed documents to Embeddings\n",
      "2022-06-16 11:33:24,013 - BERTopic - Reduced dimensionality\n",
      "2022-06-16 11:33:24,138 - BERTopic - Clustered reduced embeddings\n"
     ]
    },
    {
     "data": {
      "application/vnd.jupyter.widget-view+json": {
       "model_id": "aaf12352da8c4edc8ff5739d11e1e0dc",
       "version_major": 2,
       "version_minor": 0
      },
      "text/plain": [
       "Batches:   0%|          | 0/24 [00:00<?, ?it/s]"
      ]
     },
     "metadata": {},
     "output_type": "display_data"
    },
    {
     "name": "stderr",
     "output_type": "stream",
     "text": [
      "2022-06-16 11:34:42,247 - BERTopic - Reduced dimensionality\n",
      "2022-06-16 11:34:42,441 - BERTopic - Calculated probabilities with HDBSCAN\n",
      "2022-06-16 11:34:42,442 - BERTopic - Predicted clusters\n"
     ]
    },
    {
     "data": {
      "text/plain": [
       "749"
      ]
     },
     "execution_count": 7,
     "metadata": {},
     "output_type": "execute_result"
    }
   ],
   "source": [
    "juridiq = juridIQ.JuridIQ(\"new\")\n",
    "\n",
    "topics = juridiq.get_topics(texts)\n",
    "len(topics)"
   ]
  },
  {
   "cell_type": "code",
   "execution_count": 9,
   "metadata": {},
   "outputs": [],
   "source": [
    "sep = \", \"\n",
    "\n",
    "topics_as_string = []\n",
    "\n",
    "for topic in topics:\n",
    "    temp = [str(prob) for prob in topic]\n",
    "    topics_as_string.append(f\"[{sep.join(temp)}]\")\n",
    "\n",
    "#topics_as_string = [re.sub(' +', ', ', str(topic)).replace(\".,\", \",\").replace(\".]\", \"]\") for topic in topics]\n",
    "\n",
    "files = files.iloc[20:]\n",
    "\n",
    "files[\"Topics\"] = topics_as_string"
   ]
  },
  {
   "cell_type": "code",
   "execution_count": 10,
   "metadata": {},
   "outputs": [],
   "source": [
    "import json\n",
    "\n",
    "topics_as_list = [json.loads(topic) for topic in files[\"Topics\"]]"
   ]
  },
  {
   "cell_type": "code",
   "execution_count": 11,
   "metadata": {
    "scrolled": true
   },
   "outputs": [],
   "source": [
    "files.to_csv(\"KPMG_with_topics.csv\")"
   ]
  },
  {
   "cell_type": "code",
   "execution_count": 12,
   "metadata": {},
   "outputs": [],
   "source": [
    "files_from_csv = pd.read_csv(\"KPMG_with_topics.csv\").drop(\"Unnamed: 0\", axis=1)\n",
    "#files_from_csv.Topics.astype(\"Sparse\")"
   ]
  },
  {
   "cell_type": "code",
   "execution_count": 13,
   "metadata": {},
   "outputs": [
    {
     "data": {
      "text/html": [
       "<div>\n",
       "<style scoped>\n",
       "    .dataframe tbody tr th:only-of-type {\n",
       "        vertical-align: middle;\n",
       "    }\n",
       "\n",
       "    .dataframe tbody tr th {\n",
       "        vertical-align: top;\n",
       "    }\n",
       "\n",
       "    .dataframe thead th {\n",
       "        text-align: right;\n",
       "    }\n",
       "</style>\n",
       "<table border=\"1\" class=\"dataframe\">\n",
       "  <thead>\n",
       "    <tr style=\"text-align: right;\">\n",
       "      <th></th>\n",
       "      <th>Date</th>\n",
       "      <th>Title</th>\n",
       "      <th>Numac</th>\n",
       "      <th>Link FR</th>\n",
       "      <th>Link NL</th>\n",
       "      <th>Topics</th>\n",
       "    </tr>\n",
       "  </thead>\n",
       "  <tbody>\n",
       "    <tr>\n",
       "      <th>0</th>\n",
       "      <td>3/6/2020</td>\n",
       "      <td>SERVICE PUBLIC FEDERAL INTERIEUR\\r\\n11 FEVRIER...</td>\n",
       "      <td>2020040437</td>\n",
       "      <td>http://www.ejustice.just.fgov.be/cgi/article.p...</td>\n",
       "      <td>http://www.ejustice.just.fgov.be/cgi/article.p...</td>\n",
       "      <td>[0.9999998949906659, 2.1300252244975015e-09, 3...</td>\n",
       "    </tr>\n",
       "    <tr>\n",
       "      <th>1</th>\n",
       "      <td>3/6/2020</td>\n",
       "      <td>SERVICE PUBLIC FEDERAL FINANCES\\r\\n17 MARS 201...</td>\n",
       "      <td>2020020270</td>\n",
       "      <td>http://www.ejustice.just.fgov.be/cgi/article.p...</td>\n",
       "      <td>http://www.ejustice.just.fgov.be/cgi/article.p...</td>\n",
       "      <td>[0.24620416751460983, 0.005365887287729386, 0....</td>\n",
       "    </tr>\n",
       "    <tr>\n",
       "      <th>2</th>\n",
       "      <td>3/6/2020</td>\n",
       "      <td>SERVICE PUBLIC FEDERAL FINANCES\\r\\n23 MARS 201...</td>\n",
       "      <td>2020020271</td>\n",
       "      <td>http://www.ejustice.just.fgov.be/cgi/article.p...</td>\n",
       "      <td>http://www.ejustice.just.fgov.be/cgi/article.p...</td>\n",
       "      <td>[0.9999999979317818, 0.0, 0.0, 0.0, 0.0, 0.0, ...</td>\n",
       "    </tr>\n",
       "    <tr>\n",
       "      <th>3</th>\n",
       "      <td>3/10/2020</td>\n",
       "      <td>SERVICE PUBLIC FEDERAL FINANCES\\r\\n11 FEVRIER ...</td>\n",
       "      <td>2020020495</td>\n",
       "      <td>http://www.ejustice.just.fgov.be/cgi/article.p...</td>\n",
       "      <td>http://www.ejustice.just.fgov.be/cgi/article.p...</td>\n",
       "      <td>[0.07527632215927113, 0.006072397949579861, 0....</td>\n",
       "    </tr>\n",
       "    <tr>\n",
       "      <th>4</th>\n",
       "      <td>3/12/2020</td>\n",
       "      <td>SERVICE PUBLIC FEDERAL FINANCES\\r\\n21 FEVRIER ...</td>\n",
       "      <td>2020020502</td>\n",
       "      <td>http://www.ejustice.just.fgov.be/cgi/article.p...</td>\n",
       "      <td>http://www.ejustice.just.fgov.be/cgi/article.p...</td>\n",
       "      <td>[0.07358741920367345, 0.006046967206458651, 0....</td>\n",
       "    </tr>\n",
       "  </tbody>\n",
       "</table>\n",
       "</div>"
      ],
      "text/plain": [
       "        Date                                              Title       Numac  \\\n",
       "0   3/6/2020  SERVICE PUBLIC FEDERAL INTERIEUR\\r\\n11 FEVRIER...  2020040437   \n",
       "1   3/6/2020  SERVICE PUBLIC FEDERAL FINANCES\\r\\n17 MARS 201...  2020020270   \n",
       "2   3/6/2020  SERVICE PUBLIC FEDERAL FINANCES\\r\\n23 MARS 201...  2020020271   \n",
       "3  3/10/2020  SERVICE PUBLIC FEDERAL FINANCES\\r\\n11 FEVRIER ...  2020020495   \n",
       "4  3/12/2020  SERVICE PUBLIC FEDERAL FINANCES\\r\\n21 FEVRIER ...  2020020502   \n",
       "\n",
       "                                             Link FR  \\\n",
       "0  http://www.ejustice.just.fgov.be/cgi/article.p...   \n",
       "1  http://www.ejustice.just.fgov.be/cgi/article.p...   \n",
       "2  http://www.ejustice.just.fgov.be/cgi/article.p...   \n",
       "3  http://www.ejustice.just.fgov.be/cgi/article.p...   \n",
       "4  http://www.ejustice.just.fgov.be/cgi/article.p...   \n",
       "\n",
       "                                             Link NL  \\\n",
       "0  http://www.ejustice.just.fgov.be/cgi/article.p...   \n",
       "1  http://www.ejustice.just.fgov.be/cgi/article.p...   \n",
       "2  http://www.ejustice.just.fgov.be/cgi/article.p...   \n",
       "3  http://www.ejustice.just.fgov.be/cgi/article.p...   \n",
       "4  http://www.ejustice.just.fgov.be/cgi/article.p...   \n",
       "\n",
       "                                              Topics  \n",
       "0  [0.9999998949906659, 2.1300252244975015e-09, 3...  \n",
       "1  [0.24620416751460983, 0.005365887287729386, 0....  \n",
       "2  [0.9999999979317818, 0.0, 0.0, 0.0, 0.0, 0.0, ...  \n",
       "3  [0.07527632215927113, 0.006072397949579861, 0....  \n",
       "4  [0.07358741920367345, 0.006046967206458651, 0....  "
      ]
     },
     "execution_count": 13,
     "metadata": {},
     "output_type": "execute_result"
    }
   ],
   "source": [
    "files_from_csv.head()"
   ]
  },
  {
   "cell_type": "code",
   "execution_count": 16,
   "metadata": {},
   "outputs": [
    {
     "name": "stdout",
     "output_type": "stream",
     "text": [
      "60\n"
     ]
    }
   ],
   "source": [
    "import json\n",
    "\n",
    "topics_as_list = [json.loads(topic) for topic in files_from_csv[\"Topics\"]]\n",
    "\n",
    "indexes = juridIQ.get_similar(topics_as_list[0], topics_as_list)\n",
    "\n",
    "links_nl = []\n",
    "links_fr = []\n",
    "\n",
    "for index in indexes:\n",
    "    links_nl.append(files_from_csv[\"Link NL\"][index])\n",
    "    \n",
    "    links_fr.append(files_from_csv[\"Link FR\"][index])\n",
    "    \n",
    "print(len(links_nl))"
   ]
  },
  {
   "cell_type": "code",
   "execution_count": 17,
   "metadata": {},
   "outputs": [
    {
     "ename": "NameError",
     "evalue": "name 'translated_text' is not defined",
     "output_type": "error",
     "traceback": [
      "\u001b[0;31m---------------------------------------------------------------------------\u001b[0m",
      "\u001b[0;31mNameError\u001b[0m                                 Traceback (most recent call last)",
      "\u001b[0;32m<ipython-input-17-f47ba5470cae>\u001b[0m in \u001b[0;36m<module>\u001b[0;34m\u001b[0m\n\u001b[0;32m----> 1\u001b[0;31m \u001b[0mlemmatization\u001b[0m\u001b[0;34m.\u001b[0m\u001b[0mlemmatizer\u001b[0m\u001b[0;34m(\u001b[0m\u001b[0;34m[\u001b[0m\u001b[0mtranslated_text\u001b[0m\u001b[0;34m]\u001b[0m\u001b[0;34m)\u001b[0m\u001b[0;34m\u001b[0m\u001b[0;34m\u001b[0m\u001b[0m\n\u001b[0m",
      "\u001b[0;31mNameError\u001b[0m: name 'translated_text' is not defined"
     ]
    }
   ],
   "source": [
    "lemmatization.lemmatizer([translated_text])"
   ]
  },
  {
   "cell_type": "code",
   "execution_count": 19,
   "metadata": {},
   "outputs": [],
   "source": [
    "juridiq.save_model()"
   ]
  }
 ],
 "metadata": {
  "kernelspec": {
   "display_name": "Python 3",
   "language": "python",
   "name": "python3"
  },
  "language_info": {
   "codemirror_mode": {
    "name": "ipython",
    "version": 3
   },
   "file_extension": ".py",
   "mimetype": "text/x-python",
   "name": "python",
   "nbconvert_exporter": "python",
   "pygments_lexer": "ipython3",
   "version": "3.8.10"
  }
 },
 "nbformat": 4,
 "nbformat_minor": 4
}
